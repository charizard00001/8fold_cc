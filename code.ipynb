{
 "cells": [
  {
   "cell_type": "markdown",
   "metadata": {},
   "source": [
    "# AI-Powered Resumes and Recommendations Screening\n"
   ]
  },
  {
   "cell_type": "markdown",
   "metadata": {},
   "source": [
    "# 1. Fraud Detection"
   ]
  },
  {
   "cell_type": "markdown",
   "metadata": {},
   "source": [
    "Text Similarity"
   ]
  },
  {
   "cell_type": "code",
   "execution_count": 1,
   "metadata": {},
   "outputs": [
    {
     "name": "stderr",
     "output_type": "stream",
     "text": [
      "s:\\LLM\\Gemini\\enviro1\\lib\\site-packages\\sentence_transformers\\cross_encoder\\CrossEncoder.py:13: TqdmWarning: IProgress not found. Please update jupyter and ipywidgets. See https://ipywidgets.readthedocs.io/en/stable/user_install.html\n",
      "  from tqdm.autonotebook import tqdm, trange\n"
     ]
    }
   ],
   "source": [
    "import os\n",
    "import pandas as pd\n",
    "from sentence_transformers import SentenceTransformer, util\n",
    "import PyPDF2\n",
    "from PyPDF2.errors import PdfReadError\n",
    "import logging\n",
    "import chardet  # Optional: If you choose to implement encoding detection"
   ]
  },
  {
   "cell_type": "code",
   "execution_count": 2,
   "metadata": {},
   "outputs": [
    {
     "name": "stdout",
     "output_type": "stream",
     "text": [
      "Loading Sentence-BERT model...\n"
     ]
    },
    {
     "name": "stderr",
     "output_type": "stream",
     "text": [
      "s:\\LLM\\Gemini\\enviro1\\lib\\site-packages\\transformers\\tokenization_utils_base.py:1617: FutureWarning: `clean_up_tokenization_spaces` was not set. It will be set to `True` by default. This behavior will be deprecated in transformers v4.45, and will be then set to `False` by default. For more details check this issue: https://github.com/huggingface/transformers/issues/31884\n",
      "  warnings.warn(\n"
     ]
    },
    {
     "name": "stdout",
     "output_type": "stream",
     "text": [
      "Model loaded successfully.\n",
      "\n",
      "Processing resumes and recommendation letters...\n",
      "Found 1000 file(s) in 'Final_Resumes'.\n",
      "\n",
      "Processing resume file: 'Resume_of_ID_0.pdf'\n",
      "Extracted resume ID: '0'\n"
     ]
    },
    {
     "name": "stderr",
     "output_type": "stream",
     "text": [
      "Batches: 100%|██████████| 1/1 [00:00<00:00,  2.84it/s]\n",
      "Batches: 100%|██████████| 1/1 [00:00<00:00, 10.33it/s]\n"
     ]
    },
    {
     "name": "stdout",
     "output_type": "stream",
     "text": [
      "Computed similarity for 'ID_0': 0.7417\n",
      "\n",
      "Processing resume file: 'Resume_of_ID_1.pdf'\n",
      "Extracted resume ID: '1'\n"
     ]
    },
    {
     "name": "stderr",
     "output_type": "stream",
     "text": [
      "Batches: 100%|██████████| 1/1 [00:00<00:00,  7.89it/s]\n",
      "Batches: 100%|██████████| 1/1 [00:00<00:00,  9.24it/s]\n"
     ]
    },
    {
     "name": "stdout",
     "output_type": "stream",
     "text": [
      "Computed similarity for 'ID_1': 0.7324\n",
      "\n",
      "Processing resume file: 'Resume_of_ID_10.pdf'\n",
      "Extracted resume ID: '10'\n"
     ]
    },
    {
     "name": "stderr",
     "output_type": "stream",
     "text": [
      "Batches: 100%|██████████| 1/1 [00:00<00:00, 12.01it/s]\n",
      "Batches: 100%|██████████| 1/1 [00:00<00:00, 13.49it/s]\n"
     ]
    },
    {
     "name": "stdout",
     "output_type": "stream",
     "text": [
      "Computed similarity for 'ID_10': 0.6594\n",
      "\n",
      "Processing resume file: 'Resume_of_ID_100.pdf'\n",
      "Extracted resume ID: '100'\n"
     ]
    },
    {
     "name": "stderr",
     "output_type": "stream",
     "text": [
      "Batches: 100%|██████████| 1/1 [00:00<00:00,  9.84it/s]\n",
      "Batches: 100%|██████████| 1/1 [00:00<00:00, 14.92it/s]\n"
     ]
    },
    {
     "name": "stdout",
     "output_type": "stream",
     "text": [
      "Computed similarity for 'ID_100': 0.4572\n",
      "\n",
      "Processing resume file: 'Resume_of_ID_101.pdf'\n",
      "Extracted resume ID: '101'\n"
     ]
    },
    {
     "name": "stderr",
     "output_type": "stream",
     "text": [
      "Batches: 100%|██████████| 1/1 [00:00<00:00, 10.00it/s]\n",
      "Batches: 100%|██████████| 1/1 [00:00<00:00, 11.97it/s]\n"
     ]
    },
    {
     "name": "stdout",
     "output_type": "stream",
     "text": [
      "Computed similarity for 'ID_101': 0.4889\n",
      "\n",
      "Processing resume file: 'Resume_of_ID_102.pdf'\n",
      "Extracted resume ID: '102'\n"
     ]
    },
    {
     "name": "stderr",
     "output_type": "stream",
     "text": [
      "Batches: 100%|██████████| 1/1 [00:00<00:00, 13.20it/s]\n",
      "Batches: 100%|██████████| 1/1 [00:00<00:00,  9.66it/s]\n"
     ]
    },
    {
     "name": "stdout",
     "output_type": "stream",
     "text": [
      "Computed similarity for 'ID_102': 0.6944\n",
      "\n",
      "Processing resume file: 'Resume_of_ID_103.pdf'\n",
      "Extracted resume ID: '103'\n"
     ]
    },
    {
     "name": "stderr",
     "output_type": "stream",
     "text": [
      "Batches: 100%|██████████| 1/1 [00:00<00:00,  8.55it/s]\n",
      "Batches: 100%|██████████| 1/1 [00:00<00:00, 11.07it/s]\n"
     ]
    },
    {
     "name": "stdout",
     "output_type": "stream",
     "text": [
      "Computed similarity for 'ID_103': 0.6464\n",
      "\n",
      "Processing resume file: 'Resume_of_ID_104.pdf'\n",
      "Extracted resume ID: '104'\n"
     ]
    },
    {
     "name": "stderr",
     "output_type": "stream",
     "text": [
      "Batches: 100%|██████████| 1/1 [00:00<00:00,  8.82it/s]\n",
      "Batches: 100%|██████████| 1/1 [00:00<00:00, 10.48it/s]\n"
     ]
    },
    {
     "name": "stdout",
     "output_type": "stream",
     "text": [
      "Computed similarity for 'ID_104': 0.6247\n",
      "\n",
      "Processing resume file: 'Resume_of_ID_105.pdf'\n",
      "Extracted resume ID: '105'\n"
     ]
    },
    {
     "name": "stderr",
     "output_type": "stream",
     "text": [
      "Batches: 100%|██████████| 1/1 [00:00<00:00,  7.81it/s]\n",
      "Batches: 100%|██████████| 1/1 [00:00<00:00, 12.50it/s]\n"
     ]
    },
    {
     "name": "stdout",
     "output_type": "stream",
     "text": [
      "Computed similarity for 'ID_105': 0.7586\n",
      "\n",
      "Processing resume file: 'Resume_of_ID_106.pdf'\n",
      "Extracted resume ID: '106'\n"
     ]
    },
    {
     "name": "stderr",
     "output_type": "stream",
     "text": [
      "Batches: 100%|██████████| 1/1 [00:00<00:00, 11.99it/s]\n",
      "Batches: 100%|██████████| 1/1 [00:00<00:00, 10.02it/s]\n"
     ]
    },
    {
     "name": "stdout",
     "output_type": "stream",
     "text": [
      "Computed similarity for 'ID_106': 0.5832\n",
      "\n",
      "Processing resume file: 'Resume_of_ID_107.pdf'\n",
      "Extracted resume ID: '107'\n"
     ]
    },
    {
     "name": "stderr",
     "output_type": "stream",
     "text": [
      "Batches: 100%|██████████| 1/1 [00:00<00:00,  8.29it/s]\n",
      "Batches: 100%|██████████| 1/1 [00:00<00:00, 10.49it/s]\n"
     ]
    },
    {
     "name": "stdout",
     "output_type": "stream",
     "text": [
      "Computed similarity for 'ID_107': 0.7321\n",
      "\n",
      "Processing resume file: 'Resume_of_ID_108.pdf'\n",
      "Extracted resume ID: '108'\n"
     ]
    },
    {
     "name": "stderr",
     "output_type": "stream",
     "text": [
      "Batches: 100%|██████████| 1/1 [00:00<00:00,  9.53it/s]\n",
      "Batches: 100%|██████████| 1/1 [00:00<00:00, 10.44it/s]\n"
     ]
    },
    {
     "name": "stdout",
     "output_type": "stream",
     "text": [
      "Computed similarity for 'ID_108': 0.7533\n",
      "\n",
      "Processing resume file: 'Resume_of_ID_109.pdf'\n",
      "Extracted resume ID: '109'\n"
     ]
    },
    {
     "name": "stderr",
     "output_type": "stream",
     "text": [
      "Batches: 100%|██████████| 1/1 [00:00<00:00,  8.01it/s]\n",
      "Batches: 100%|██████████| 1/1 [00:00<00:00,  9.52it/s]\n"
     ]
    },
    {
     "name": "stdout",
     "output_type": "stream",
     "text": [
      "Computed similarity for 'ID_109': 0.6703\n",
      "\n",
      "Processing resume file: 'Resume_of_ID_11.pdf'\n",
      "Extracted resume ID: '11'\n"
     ]
    },
    {
     "name": "stderr",
     "output_type": "stream",
     "text": [
      "Batches: 100%|██████████| 1/1 [00:00<00:00,  9.80it/s]\n",
      "Batches: 100%|██████████| 1/1 [00:00<00:00, 13.26it/s]\n"
     ]
    },
    {
     "name": "stdout",
     "output_type": "stream",
     "text": [
      "Computed similarity for 'ID_11': 0.6276\n",
      "\n",
      "Processing resume file: 'Resume_of_ID_110.pdf'\n",
      "Extracted resume ID: '110'\n"
     ]
    },
    {
     "name": "stderr",
     "output_type": "stream",
     "text": [
      "Batches: 100%|██████████| 1/1 [00:00<00:00,  9.98it/s]\n",
      "Batches: 100%|██████████| 1/1 [00:00<00:00, 12.37it/s]\n"
     ]
    },
    {
     "name": "stdout",
     "output_type": "stream",
     "text": [
      "Computed similarity for 'ID_110': 0.3655\n",
      "\n",
      "Processing resume file: 'Resume_of_ID_111.pdf'\n",
      "Extracted resume ID: '111'\n"
     ]
    },
    {
     "name": "stderr",
     "output_type": "stream",
     "text": [
      "Batches: 100%|██████████| 1/1 [00:00<00:00,  8.25it/s]\n",
      "Batches: 100%|██████████| 1/1 [00:00<00:00, 12.75it/s]\n"
     ]
    },
    {
     "name": "stdout",
     "output_type": "stream",
     "text": [
      "Computed similarity for 'ID_111': 0.7335\n",
      "\n",
      "Processing resume file: 'Resume_of_ID_112.pdf'\n",
      "Extracted resume ID: '112'\n"
     ]
    },
    {
     "name": "stderr",
     "output_type": "stream",
     "text": [
      "Batches: 100%|██████████| 1/1 [00:00<00:00, 10.00it/s]\n",
      "Batches: 100%|██████████| 1/1 [00:00<00:00, 10.86it/s]\n"
     ]
    },
    {
     "name": "stdout",
     "output_type": "stream",
     "text": [
      "Computed similarity for 'ID_112': 0.7141\n",
      "\n",
      "Processing resume file: 'Resume_of_ID_113.pdf'\n",
      "Extracted resume ID: '113'\n"
     ]
    },
    {
     "name": "stderr",
     "output_type": "stream",
     "text": [
      "Batches: 100%|██████████| 1/1 [00:00<00:00, 10.57it/s]\n",
      "Batches: 100%|██████████| 1/1 [00:00<00:00, 11.39it/s]\n"
     ]
    },
    {
     "name": "stdout",
     "output_type": "stream",
     "text": [
      "Computed similarity for 'ID_113': 0.5379\n",
      "\n",
      "Processing resume file: 'Resume_of_ID_114.pdf'\n",
      "Extracted resume ID: '114'\n"
     ]
    },
    {
     "name": "stderr",
     "output_type": "stream",
     "text": [
      "Batches: 100%|██████████| 1/1 [00:00<00:00,  9.52it/s]\n",
      "Batches: 100%|██████████| 1/1 [00:00<00:00, 12.77it/s]\n"
     ]
    },
    {
     "name": "stdout",
     "output_type": "stream",
     "text": [
      "Computed similarity for 'ID_114': 0.5762\n",
      "\n",
      "Processing resume file: 'Resume_of_ID_115.pdf'\n",
      "Extracted resume ID: '115'\n"
     ]
    },
    {
     "name": "stderr",
     "output_type": "stream",
     "text": [
      "Batches: 100%|██████████| 1/1 [00:00<00:00, 10.54it/s]\n",
      "Batches: 100%|██████████| 1/1 [00:00<00:00, 10.84it/s]\n"
     ]
    },
    {
     "name": "stdout",
     "output_type": "stream",
     "text": [
      "Computed similarity for 'ID_115': 0.7111\n",
      "\n",
      "Processing resume file: 'Resume_of_ID_116.pdf'\n",
      "Extracted resume ID: '116'\n"
     ]
    },
    {
     "name": "stderr",
     "output_type": "stream",
     "text": [
      "Batches: 100%|██████████| 1/1 [00:00<00:00,  8.30it/s]\n",
      "Batches: 100%|██████████| 1/1 [00:00<00:00,  8.78it/s]\n"
     ]
    },
    {
     "name": "stdout",
     "output_type": "stream",
     "text": [
      "Computed similarity for 'ID_116': 0.6806\n",
      "\n",
      "Processing resume file: 'Resume_of_ID_117.pdf'\n",
      "Extracted resume ID: '117'\n"
     ]
    },
    {
     "name": "stderr",
     "output_type": "stream",
     "text": [
      "Batches: 100%|██████████| 1/1 [00:00<00:00,  9.49it/s]\n",
      "Batches: 100%|██████████| 1/1 [00:00<00:00, 11.94it/s]\n"
     ]
    },
    {
     "name": "stdout",
     "output_type": "stream",
     "text": [
      "Computed similarity for 'ID_117': 0.6388\n",
      "\n",
      "Processing resume file: 'Resume_of_ID_118.pdf'\n",
      "Extracted resume ID: '118'\n"
     ]
    },
    {
     "name": "stderr",
     "output_type": "stream",
     "text": [
      "Batches: 100%|██████████| 1/1 [00:00<00:00,  9.82it/s]\n",
      "Batches: 100%|██████████| 1/1 [00:00<00:00, 10.62it/s]\n"
     ]
    },
    {
     "name": "stdout",
     "output_type": "stream",
     "text": [
      "Computed similarity for 'ID_118': 0.6838\n",
      "\n",
      "Processing resume file: 'Resume_of_ID_119.pdf'\n",
      "Extracted resume ID: '119'\n"
     ]
    },
    {
     "name": "stderr",
     "output_type": "stream",
     "text": [
      "Batches: 100%|██████████| 1/1 [00:00<00:00,  7.84it/s]\n",
      "Batches: 100%|██████████| 1/1 [00:00<00:00, 10.18it/s]\n"
     ]
    },
    {
     "name": "stdout",
     "output_type": "stream",
     "text": [
      "Computed similarity for 'ID_119': 0.6821\n",
      "\n",
      "Processing resume file: 'Resume_of_ID_12.pdf'\n",
      "Extracted resume ID: '12'\n"
     ]
    },
    {
     "name": "stderr",
     "output_type": "stream",
     "text": [
      "Batches: 100%|██████████| 1/1 [00:00<00:00,  9.69it/s]\n",
      "Batches: 100%|██████████| 1/1 [00:00<00:00, 11.96it/s]\n"
     ]
    },
    {
     "name": "stdout",
     "output_type": "stream",
     "text": [
      "Computed similarity for 'ID_12': 0.7257\n",
      "\n",
      "Processing resume file: 'Resume_of_ID_120.pdf'\n",
      "Extracted resume ID: '120'\n"
     ]
    },
    {
     "name": "stderr",
     "output_type": "stream",
     "text": [
      "Batches: 100%|██████████| 1/1 [00:00<00:00,  9.62it/s]\n",
      "Batches: 100%|██████████| 1/1 [00:00<00:00, 11.21it/s]\n"
     ]
    },
    {
     "name": "stdout",
     "output_type": "stream",
     "text": [
      "Computed similarity for 'ID_120': 0.6082\n",
      "\n",
      "Processing resume file: 'Resume_of_ID_121.pdf'\n",
      "Extracted resume ID: '121'\n"
     ]
    },
    {
     "name": "stderr",
     "output_type": "stream",
     "text": [
      "Batches: 100%|██████████| 1/1 [00:00<00:00,  8.54it/s]\n",
      "Batches: 100%|██████████| 1/1 [00:00<00:00, 11.87it/s]\n"
     ]
    },
    {
     "name": "stdout",
     "output_type": "stream",
     "text": [
      "Computed similarity for 'ID_121': 0.5321\n",
      "\n",
      "Processing resume file: 'Resume_of_ID_122.pdf'\n",
      "Extracted resume ID: '122'\n"
     ]
    },
    {
     "name": "stderr",
     "output_type": "stream",
     "text": [
      "Batches: 100%|██████████| 1/1 [00:00<00:00,  9.69it/s]\n",
      "Batches: 100%|██████████| 1/1 [00:00<00:00, 11.34it/s]\n"
     ]
    },
    {
     "name": "stdout",
     "output_type": "stream",
     "text": [
      "Computed similarity for 'ID_122': 0.6979\n",
      "\n",
      "Processing resume file: 'Resume_of_ID_123.pdf'\n",
      "Extracted resume ID: '123'\n"
     ]
    },
    {
     "name": "stderr",
     "output_type": "stream",
     "text": [
      "Batches: 100%|██████████| 1/1 [00:00<00:00, 10.68it/s]\n",
      "Batches: 100%|██████████| 1/1 [00:00<00:00, 20.64it/s]\n"
     ]
    },
    {
     "name": "stdout",
     "output_type": "stream",
     "text": [
      "Computed similarity for 'ID_123': 0.7536\n",
      "\n",
      "Processing resume file: 'Resume_of_ID_124.pdf'\n",
      "Extracted resume ID: '124'\n"
     ]
    },
    {
     "name": "stderr",
     "output_type": "stream",
     "text": [
      "Batches: 100%|██████████| 1/1 [00:00<00:00,  9.23it/s]\n",
      "Batches: 100%|██████████| 1/1 [00:00<00:00, 10.03it/s]\n"
     ]
    },
    {
     "name": "stdout",
     "output_type": "stream",
     "text": [
      "Computed similarity for 'ID_124': 0.5999\n",
      "\n",
      "Processing resume file: 'Resume_of_ID_125.pdf'\n",
      "Extracted resume ID: '125'\n"
     ]
    },
    {
     "name": "stderr",
     "output_type": "stream",
     "text": [
      "Batches: 100%|██████████| 1/1 [00:00<00:00,  9.18it/s]\n",
      "Batches: 100%|██████████| 1/1 [00:00<00:00, 10.91it/s]\n"
     ]
    },
    {
     "name": "stdout",
     "output_type": "stream",
     "text": [
      "Computed similarity for 'ID_125': 0.5472\n",
      "\n",
      "Processing resume file: 'Resume_of_ID_126.pdf'\n",
      "Extracted resume ID: '126'\n"
     ]
    },
    {
     "name": "stderr",
     "output_type": "stream",
     "text": [
      "Batches: 100%|██████████| 1/1 [00:00<00:00, 10.85it/s]\n",
      "Batches: 100%|██████████| 1/1 [00:00<00:00,  8.61it/s]\n"
     ]
    },
    {
     "name": "stdout",
     "output_type": "stream",
     "text": [
      "Computed similarity for 'ID_126': 0.6574\n",
      "\n",
      "Processing resume file: 'Resume_of_ID_127.pdf'\n",
      "Extracted resume ID: '127'\n"
     ]
    },
    {
     "name": "stderr",
     "output_type": "stream",
     "text": [
      "Batches: 100%|██████████| 1/1 [00:00<00:00,  9.99it/s]\n",
      "Batches: 100%|██████████| 1/1 [00:00<00:00,  8.61it/s]\n"
     ]
    },
    {
     "name": "stdout",
     "output_type": "stream",
     "text": [
      "Computed similarity for 'ID_127': 0.508\n",
      "\n",
      "Processing resume file: 'Resume_of_ID_128.pdf'\n",
      "Extracted resume ID: '128'\n"
     ]
    },
    {
     "name": "stderr",
     "output_type": "stream",
     "text": [
      "Batches: 100%|██████████| 1/1 [00:00<00:00,  9.96it/s]\n",
      "Batches: 100%|██████████| 1/1 [00:00<00:00, 17.10it/s]\n"
     ]
    },
    {
     "name": "stdout",
     "output_type": "stream",
     "text": [
      "Computed similarity for 'ID_128': 0.698\n",
      "\n",
      "Processing resume file: 'Resume_of_ID_129.pdf'\n",
      "Extracted resume ID: '129'\n"
     ]
    },
    {
     "name": "stderr",
     "output_type": "stream",
     "text": [
      "Batches: 100%|██████████| 1/1 [00:00<00:00, 11.94it/s]\n",
      "Batches: 100%|██████████| 1/1 [00:00<00:00, 10.95it/s]\n"
     ]
    },
    {
     "name": "stdout",
     "output_type": "stream",
     "text": [
      "Computed similarity for 'ID_129': 0.3216\n",
      "\n",
      "Processing resume file: 'Resume_of_ID_13.pdf'\n",
      "Extracted resume ID: '13'\n"
     ]
    },
    {
     "name": "stderr",
     "output_type": "stream",
     "text": [
      "Batches: 100%|██████████| 1/1 [00:00<00:00,  9.07it/s]\n",
      "Batches: 100%|██████████| 1/1 [00:00<00:00, 11.98it/s]\n"
     ]
    },
    {
     "name": "stdout",
     "output_type": "stream",
     "text": [
      "Computed similarity for 'ID_13': 0.728\n",
      "\n",
      "Processing resume file: 'Resume_of_ID_130.pdf'\n",
      "Extracted resume ID: '130'\n"
     ]
    },
    {
     "name": "stderr",
     "output_type": "stream",
     "text": [
      "Batches: 100%|██████████| 1/1 [00:00<00:00,  8.04it/s]\n",
      "Batches: 100%|██████████| 1/1 [00:00<00:00, 10.01it/s]\n"
     ]
    },
    {
     "name": "stdout",
     "output_type": "stream",
     "text": [
      "Computed similarity for 'ID_130': 0.6251\n",
      "\n",
      "Processing resume file: 'Resume_of_ID_131.pdf'\n",
      "Extracted resume ID: '131'\n"
     ]
    },
    {
     "name": "stderr",
     "output_type": "stream",
     "text": [
      "Batches: 100%|██████████| 1/1 [00:00<00:00,  8.60it/s]\n",
      "Batches: 100%|██████████| 1/1 [00:00<00:00, 10.86it/s]\n"
     ]
    },
    {
     "name": "stdout",
     "output_type": "stream",
     "text": [
      "Computed similarity for 'ID_131': 0.562\n",
      "\n",
      "Processing resume file: 'Resume_of_ID_132.pdf'\n",
      "Extracted resume ID: '132'\n",
      "Skipping similarity computation for '132' due to empty recommendation letters.\n",
      "\n",
      "Processing resume file: 'Resume_of_ID_133.pdf'\n",
      "Extracted resume ID: '133'\n"
     ]
    },
    {
     "name": "stderr",
     "output_type": "stream",
     "text": [
      "Batches: 100%|██████████| 1/1 [00:00<00:00,  9.53it/s]\n",
      "Batches: 100%|██████████| 1/1 [00:00<00:00, 12.10it/s]\n"
     ]
    },
    {
     "name": "stdout",
     "output_type": "stream",
     "text": [
      "Computed similarity for 'ID_133': 0.6992\n",
      "\n",
      "Processing resume file: 'Resume_of_ID_134.pdf'\n",
      "Extracted resume ID: '134'\n"
     ]
    },
    {
     "name": "stderr",
     "output_type": "stream",
     "text": [
      "Batches: 100%|██████████| 1/1 [00:00<00:00,  9.29it/s]\n",
      "Batches: 100%|██████████| 1/1 [00:00<00:00, 10.01it/s]\n"
     ]
    },
    {
     "name": "stdout",
     "output_type": "stream",
     "text": [
      "Computed similarity for 'ID_134': 0.6072\n",
      "\n",
      "Processing resume file: 'Resume_of_ID_135.pdf'\n",
      "Extracted resume ID: '135'\n"
     ]
    },
    {
     "name": "stderr",
     "output_type": "stream",
     "text": [
      "Batches: 100%|██████████| 1/1 [00:00<00:00,  9.13it/s]\n",
      "Batches: 100%|██████████| 1/1 [00:00<00:00,  9.41it/s]\n"
     ]
    },
    {
     "name": "stdout",
     "output_type": "stream",
     "text": [
      "Computed similarity for 'ID_135': 0.4713\n",
      "\n",
      "Processing resume file: 'Resume_of_ID_136.pdf'\n",
      "Extracted resume ID: '136'\n"
     ]
    },
    {
     "name": "stderr",
     "output_type": "stream",
     "text": [
      "Batches: 100%|██████████| 1/1 [00:00<00:00, 12.07it/s]\n",
      "Batches: 100%|██████████| 1/1 [00:00<00:00, 10.87it/s]\n"
     ]
    },
    {
     "name": "stdout",
     "output_type": "stream",
     "text": [
      "Computed similarity for 'ID_136': 0.7012\n",
      "\n",
      "Processing resume file: 'Resume_of_ID_137.pdf'\n",
      "Extracted resume ID: '137'\n"
     ]
    },
    {
     "name": "stderr",
     "output_type": "stream",
     "text": [
      "Batches: 100%|██████████| 1/1 [00:00<00:00,  9.94it/s]\n",
      "Batches: 100%|██████████| 1/1 [00:00<00:00, 10.07it/s]\n"
     ]
    },
    {
     "name": "stdout",
     "output_type": "stream",
     "text": [
      "Computed similarity for 'ID_137': 0.7357\n",
      "\n",
      "Processing resume file: 'Resume_of_ID_138.pdf'\n",
      "Extracted resume ID: '138'\n"
     ]
    },
    {
     "name": "stderr",
     "output_type": "stream",
     "text": [
      "Batches: 100%|██████████| 1/1 [00:00<00:00,  9.74it/s]\n",
      "Batches: 100%|██████████| 1/1 [00:00<00:00, 10.59it/s]\n"
     ]
    },
    {
     "name": "stdout",
     "output_type": "stream",
     "text": [
      "Computed similarity for 'ID_138': 0.5143\n",
      "\n",
      "Processing resume file: 'Resume_of_ID_139.pdf'\n",
      "Extracted resume ID: '139'\n"
     ]
    },
    {
     "name": "stderr",
     "output_type": "stream",
     "text": [
      "Batches: 100%|██████████| 1/1 [00:00<00:00,  7.52it/s]\n",
      "Batches: 100%|██████████| 1/1 [00:00<00:00, 13.21it/s]\n"
     ]
    },
    {
     "name": "stdout",
     "output_type": "stream",
     "text": [
      "Computed similarity for 'ID_139': 0.7479\n",
      "\n",
      "Processing resume file: 'Resume_of_ID_14.pdf'\n",
      "Extracted resume ID: '14'\n"
     ]
    },
    {
     "name": "stderr",
     "output_type": "stream",
     "text": [
      "Batches: 100%|██████████| 1/1 [00:00<00:00,  8.56it/s]\n",
      "Batches: 100%|██████████| 1/1 [00:00<00:00, 10.12it/s]\n"
     ]
    },
    {
     "name": "stdout",
     "output_type": "stream",
     "text": [
      "Computed similarity for 'ID_14': 0.7292\n",
      "\n",
      "Processing resume file: 'Resume_of_ID_140.pdf'\n",
      "Extracted resume ID: '140'\n"
     ]
    },
    {
     "name": "stderr",
     "output_type": "stream",
     "text": [
      "Batches: 100%|██████████| 1/1 [00:00<00:00,  8.84it/s]\n",
      "Batches: 100%|██████████| 1/1 [00:00<00:00,  9.21it/s]\n"
     ]
    },
    {
     "name": "stdout",
     "output_type": "stream",
     "text": [
      "Computed similarity for 'ID_140': 0.7101\n",
      "\n",
      "Processing resume file: 'Resume_of_ID_141.pdf'\n",
      "Extracted resume ID: '141'\n",
      "Skipping similarity computation for '141' due to empty recommendation letters.\n",
      "\n",
      "Processing resume file: 'Resume_of_ID_142.pdf'\n",
      "Extracted resume ID: '142'\n"
     ]
    },
    {
     "name": "stderr",
     "output_type": "stream",
     "text": [
      "Batches: 100%|██████████| 1/1 [00:00<00:00,  9.21it/s]\n",
      "Batches: 100%|██████████| 1/1 [00:00<00:00,  9.93it/s]\n"
     ]
    },
    {
     "name": "stdout",
     "output_type": "stream",
     "text": [
      "Computed similarity for 'ID_142': 0.7379\n",
      "\n",
      "Processing resume file: 'Resume_of_ID_143.pdf'\n",
      "Extracted resume ID: '143'\n"
     ]
    },
    {
     "name": "stderr",
     "output_type": "stream",
     "text": [
      "Batches: 100%|██████████| 1/1 [00:00<00:00, 10.79it/s]\n",
      "Batches: 100%|██████████| 1/1 [00:00<00:00, 10.77it/s]\n"
     ]
    },
    {
     "name": "stdout",
     "output_type": "stream",
     "text": [
      "Computed similarity for 'ID_143': 0.7427\n",
      "\n",
      "Processing resume file: 'Resume_of_ID_144.pdf'\n",
      "Extracted resume ID: '144'\n"
     ]
    },
    {
     "name": "stderr",
     "output_type": "stream",
     "text": [
      "Batches: 100%|██████████| 1/1 [00:00<00:00,  8.57it/s]\n",
      "Batches: 100%|██████████| 1/1 [00:00<00:00,  9.91it/s]\n"
     ]
    },
    {
     "name": "stdout",
     "output_type": "stream",
     "text": [
      "Computed similarity for 'ID_144': 0.5022\n",
      "\n",
      "Processing resume file: 'Resume_of_ID_145.pdf'\n",
      "Extracted resume ID: '145'\n"
     ]
    },
    {
     "name": "stderr",
     "output_type": "stream",
     "text": [
      "Batches: 100%|██████████| 1/1 [00:00<00:00,  9.31it/s]\n",
      "Batches: 100%|██████████| 1/1 [00:00<00:00, 11.98it/s]\n"
     ]
    },
    {
     "name": "stdout",
     "output_type": "stream",
     "text": [
      "Computed similarity for 'ID_145': 0.6145\n",
      "\n",
      "Processing resume file: 'Resume_of_ID_146.pdf'\n",
      "Extracted resume ID: '146'\n"
     ]
    },
    {
     "name": "stderr",
     "output_type": "stream",
     "text": [
      "Batches: 100%|██████████| 1/1 [00:00<00:00,  8.55it/s]\n",
      "Batches: 100%|██████████| 1/1 [00:00<00:00,  9.99it/s]\n"
     ]
    },
    {
     "name": "stdout",
     "output_type": "stream",
     "text": [
      "Computed similarity for 'ID_146': 0.6099\n",
      "\n",
      "Processing resume file: 'Resume_of_ID_147.pdf'\n",
      "Extracted resume ID: '147'\n"
     ]
    },
    {
     "name": "stderr",
     "output_type": "stream",
     "text": [
      "Batches: 100%|██████████| 1/1 [00:00<00:00, 10.07it/s]\n",
      "Batches: 100%|██████████| 1/1 [00:00<00:00, 10.72it/s]\n"
     ]
    },
    {
     "name": "stdout",
     "output_type": "stream",
     "text": [
      "Computed similarity for 'ID_147': 0.6041\n",
      "\n",
      "Processing resume file: 'Resume_of_ID_148.pdf'\n",
      "Extracted resume ID: '148'\n"
     ]
    },
    {
     "name": "stderr",
     "output_type": "stream",
     "text": [
      "Batches: 100%|██████████| 1/1 [00:00<00:00, 10.04it/s]\n",
      "Batches: 100%|██████████| 1/1 [00:00<00:00, 10.09it/s]\n"
     ]
    },
    {
     "name": "stdout",
     "output_type": "stream",
     "text": [
      "Computed similarity for 'ID_148': 0.6362\n",
      "\n",
      "Processing resume file: 'Resume_of_ID_149.pdf'\n",
      "Extracted resume ID: '149'\n"
     ]
    },
    {
     "name": "stderr",
     "output_type": "stream",
     "text": [
      "Batches: 100%|██████████| 1/1 [00:00<00:00, 10.90it/s]\n",
      "Batches: 100%|██████████| 1/1 [00:00<00:00, 10.02it/s]\n"
     ]
    },
    {
     "name": "stdout",
     "output_type": "stream",
     "text": [
      "Computed similarity for 'ID_149': 0.6513\n",
      "\n",
      "Processing resume file: 'Resume_of_ID_15.pdf'\n",
      "Extracted resume ID: '15'\n"
     ]
    },
    {
     "name": "stderr",
     "output_type": "stream",
     "text": [
      "Batches: 100%|██████████| 1/1 [00:00<00:00,  8.52it/s]\n",
      "Batches: 100%|██████████| 1/1 [00:00<00:00,  8.85it/s]\n"
     ]
    },
    {
     "name": "stdout",
     "output_type": "stream",
     "text": [
      "Computed similarity for 'ID_15': 0.5958\n",
      "\n",
      "Processing resume file: 'Resume_of_ID_150.pdf'\n",
      "Extracted resume ID: '150'\n"
     ]
    },
    {
     "name": "stderr",
     "output_type": "stream",
     "text": [
      "Batches: 100%|██████████| 1/1 [00:00<00:00, 10.89it/s]\n",
      "Batches: 100%|██████████| 1/1 [00:00<00:00, 10.97it/s]\n"
     ]
    },
    {
     "name": "stdout",
     "output_type": "stream",
     "text": [
      "Computed similarity for 'ID_150': 0.6878\n",
      "\n",
      "Processing resume file: 'Resume_of_ID_151.pdf'\n",
      "Extracted resume ID: '151'\n"
     ]
    },
    {
     "name": "stderr",
     "output_type": "stream",
     "text": [
      "Batches: 100%|██████████| 1/1 [00:00<00:00,  9.24it/s]\n",
      "Batches: 100%|██████████| 1/1 [00:00<00:00, 10.96it/s]\n"
     ]
    },
    {
     "name": "stdout",
     "output_type": "stream",
     "text": [
      "Computed similarity for 'ID_151': 0.5345\n",
      "\n",
      "Processing resume file: 'Resume_of_ID_152.pdf'\n",
      "Extracted resume ID: '152'\n"
     ]
    },
    {
     "name": "stderr",
     "output_type": "stream",
     "text": [
      "Batches: 100%|██████████| 1/1 [00:00<00:00, 10.88it/s]\n",
      "Batches: 100%|██████████| 1/1 [00:00<00:00, 13.33it/s]\n"
     ]
    },
    {
     "name": "stdout",
     "output_type": "stream",
     "text": [
      "Computed similarity for 'ID_152': 0.6826\n",
      "\n",
      "Processing resume file: 'Resume_of_ID_153.pdf'\n",
      "Extracted resume ID: '153'\n"
     ]
    },
    {
     "name": "stderr",
     "output_type": "stream",
     "text": [
      "Batches: 100%|██████████| 1/1 [00:00<00:00,  9.15it/s]\n",
      "Batches: 100%|██████████| 1/1 [00:00<00:00,  8.57it/s]\n"
     ]
    },
    {
     "name": "stdout",
     "output_type": "stream",
     "text": [
      "Computed similarity for 'ID_153': 0.6073\n",
      "\n",
      "Processing resume file: 'Resume_of_ID_154.pdf'\n",
      "Extracted resume ID: '154'\n"
     ]
    },
    {
     "name": "stderr",
     "output_type": "stream",
     "text": [
      "Batches: 100%|██████████| 1/1 [00:00<00:00,  7.49it/s]\n",
      "Batches: 100%|██████████| 1/1 [00:00<00:00, 17.13it/s]\n"
     ]
    },
    {
     "name": "stdout",
     "output_type": "stream",
     "text": [
      "Computed similarity for 'ID_154': 0.6499\n",
      "\n",
      "Processing resume file: 'Resume_of_ID_155.pdf'\n",
      "Extracted resume ID: '155'\n"
     ]
    },
    {
     "name": "stderr",
     "output_type": "stream",
     "text": [
      "Batches: 100%|██████████| 1/1 [00:00<00:00,  9.24it/s]\n",
      "Batches: 100%|██████████| 1/1 [00:00<00:00,  9.19it/s]\n"
     ]
    },
    {
     "name": "stdout",
     "output_type": "stream",
     "text": [
      "Computed similarity for 'ID_155': 0.4639\n",
      "\n",
      "Processing resume file: 'Resume_of_ID_156.pdf'\n",
      "Extracted resume ID: '156'\n"
     ]
    },
    {
     "name": "stderr",
     "output_type": "stream",
     "text": [
      "Batches: 100%|██████████| 1/1 [00:00<00:00,  8.39it/s]\n",
      "Batches: 100%|██████████| 1/1 [00:00<00:00, 13.84it/s]\n"
     ]
    },
    {
     "name": "stdout",
     "output_type": "stream",
     "text": [
      "Computed similarity for 'ID_156': 0.7693\n",
      "\n",
      "Processing resume file: 'Resume_of_ID_157.pdf'\n",
      "Extracted resume ID: '157'\n"
     ]
    },
    {
     "name": "stderr",
     "output_type": "stream",
     "text": [
      "Batches: 100%|██████████| 1/1 [00:00<00:00,  8.00it/s]\n",
      "Batches: 100%|██████████| 1/1 [00:00<00:00, 10.03it/s]\n"
     ]
    },
    {
     "name": "stdout",
     "output_type": "stream",
     "text": [
      "Computed similarity for 'ID_157': 0.7012\n",
      "\n",
      "Processing resume file: 'Resume_of_ID_158.pdf'\n",
      "Extracted resume ID: '158'\n"
     ]
    },
    {
     "name": "stderr",
     "output_type": "stream",
     "text": [
      "Batches: 100%|██████████| 1/1 [00:00<00:00,  9.27it/s]\n",
      "Batches: 100%|██████████| 1/1 [00:00<00:00, 10.01it/s]\n"
     ]
    },
    {
     "name": "stdout",
     "output_type": "stream",
     "text": [
      "Computed similarity for 'ID_158': 0.6681\n",
      "\n",
      "Processing resume file: 'Resume_of_ID_159.pdf'\n",
      "Extracted resume ID: '159'\n"
     ]
    },
    {
     "name": "stderr",
     "output_type": "stream",
     "text": [
      "Batches: 100%|██████████| 1/1 [00:00<00:00,  8.01it/s]\n",
      "Batches: 100%|██████████| 1/1 [00:00<00:00, 10.01it/s]\n"
     ]
    },
    {
     "name": "stdout",
     "output_type": "stream",
     "text": [
      "Computed similarity for 'ID_159': 0.7269\n",
      "\n",
      "Processing resume file: 'Resume_of_ID_16.pdf'\n",
      "Extracted resume ID: '16'\n"
     ]
    },
    {
     "name": "stderr",
     "output_type": "stream",
     "text": [
      "Batches: 100%|██████████| 1/1 [00:00<00:00,  8.40it/s]\n",
      "Batches: 100%|██████████| 1/1 [00:00<00:00,  8.58it/s]\n"
     ]
    },
    {
     "name": "stdout",
     "output_type": "stream",
     "text": [
      "Computed similarity for 'ID_16': 0.6092\n",
      "\n",
      "Processing resume file: 'Resume_of_ID_160.pdf'\n",
      "Extracted resume ID: '160'\n"
     ]
    },
    {
     "name": "stderr",
     "output_type": "stream",
     "text": [
      "Batches: 100%|██████████| 1/1 [00:00<00:00, 13.52it/s]\n",
      "Batches: 100%|██████████| 1/1 [00:00<00:00, 12.71it/s]\n"
     ]
    },
    {
     "name": "stdout",
     "output_type": "stream",
     "text": [
      "Computed similarity for 'ID_160': 0.5919\n",
      "\n",
      "Processing resume file: 'Resume_of_ID_161.pdf'\n",
      "Extracted resume ID: '161'\n"
     ]
    },
    {
     "name": "stderr",
     "output_type": "stream",
     "text": [
      "Batches: 100%|██████████| 1/1 [00:00<00:00,  9.27it/s]\n",
      "Batches: 100%|██████████| 1/1 [00:00<00:00, 10.01it/s]\n"
     ]
    },
    {
     "name": "stdout",
     "output_type": "stream",
     "text": [
      "Computed similarity for 'ID_161': 0.7871\n",
      "\n",
      "Processing resume file: 'Resume_of_ID_162.pdf'\n",
      "Extracted resume ID: '162'\n"
     ]
    },
    {
     "name": "stderr",
     "output_type": "stream",
     "text": [
      "Batches: 100%|██████████| 1/1 [00:00<00:00,  9.27it/s]\n",
      "Batches: 100%|██████████| 1/1 [00:00<00:00, 10.88it/s]\n"
     ]
    },
    {
     "name": "stdout",
     "output_type": "stream",
     "text": [
      "Computed similarity for 'ID_162': 0.7278\n",
      "\n",
      "Processing resume file: 'Resume_of_ID_163.pdf'\n",
      "Extracted resume ID: '163'\n"
     ]
    },
    {
     "name": "stderr",
     "output_type": "stream",
     "text": [
      "Batches: 100%|██████████| 1/1 [00:00<00:00,  9.16it/s]\n",
      "Batches: 100%|██████████| 1/1 [00:00<00:00, 11.04it/s]\n"
     ]
    },
    {
     "name": "stdout",
     "output_type": "stream",
     "text": [
      "Computed similarity for 'ID_163': 0.6368\n",
      "\n",
      "Processing resume file: 'Resume_of_ID_164.pdf'\n",
      "Extracted resume ID: '164'\n"
     ]
    },
    {
     "name": "stderr",
     "output_type": "stream",
     "text": [
      "Batches: 100%|██████████| 1/1 [00:00<00:00,  8.62it/s]\n",
      "Batches: 100%|██████████| 1/1 [00:00<00:00,  8.58it/s]\n"
     ]
    },
    {
     "name": "stdout",
     "output_type": "stream",
     "text": [
      "Computed similarity for 'ID_164': 0.6575\n",
      "\n",
      "Processing resume file: 'Resume_of_ID_165.pdf'\n",
      "Extracted resume ID: '165'\n"
     ]
    },
    {
     "name": "stderr",
     "output_type": "stream",
     "text": [
      "Batches: 100%|██████████| 1/1 [00:00<00:00,  8.74it/s]\n",
      "Batches: 100%|██████████| 1/1 [00:00<00:00,  9.97it/s]\n"
     ]
    },
    {
     "name": "stdout",
     "output_type": "stream",
     "text": [
      "Computed similarity for 'ID_165': 0.7097\n",
      "\n",
      "Processing resume file: 'Resume_of_ID_166.pdf'\n",
      "Extracted resume ID: '166'\n"
     ]
    },
    {
     "name": "stderr",
     "output_type": "stream",
     "text": [
      "Batches: 100%|██████████| 1/1 [00:00<00:00,  9.13it/s]\n",
      "Batches: 100%|██████████| 1/1 [00:00<00:00, 12.50it/s]\n"
     ]
    },
    {
     "name": "stdout",
     "output_type": "stream",
     "text": [
      "Computed similarity for 'ID_166': 0.654\n",
      "\n",
      "Processing resume file: 'Resume_of_ID_167.pdf'\n",
      "Extracted resume ID: '167'\n"
     ]
    },
    {
     "name": "stderr",
     "output_type": "stream",
     "text": [
      "Batches: 100%|██████████| 1/1 [00:00<00:00,  7.97it/s]\n",
      "Batches: 100%|██████████| 1/1 [00:00<00:00,  9.95it/s]\n"
     ]
    },
    {
     "name": "stdout",
     "output_type": "stream",
     "text": [
      "Computed similarity for 'ID_167': 0.6415\n",
      "\n",
      "Processing resume file: 'Resume_of_ID_168.pdf'\n",
      "Extracted resume ID: '168'\n"
     ]
    },
    {
     "name": "stderr",
     "output_type": "stream",
     "text": [
      "Batches: 100%|██████████| 1/1 [00:00<00:00,  9.97it/s]\n",
      "Batches: 100%|██████████| 1/1 [00:00<00:00, 10.01it/s]\n"
     ]
    },
    {
     "name": "stdout",
     "output_type": "stream",
     "text": [
      "Computed similarity for 'ID_168': 0.7207\n",
      "\n",
      "Processing resume file: 'Resume_of_ID_169.pdf'\n",
      "Extracted resume ID: '169'\n"
     ]
    },
    {
     "name": "stderr",
     "output_type": "stream",
     "text": [
      "Batches: 100%|██████████| 1/1 [00:00<00:00,  8.62it/s]\n",
      "Batches: 100%|██████████| 1/1 [00:00<00:00,  9.17it/s]\n"
     ]
    },
    {
     "name": "stdout",
     "output_type": "stream",
     "text": [
      "Computed similarity for 'ID_169': 0.3918\n",
      "\n",
      "Processing resume file: 'Resume_of_ID_17.pdf'\n",
      "Extracted resume ID: '17'\n"
     ]
    },
    {
     "name": "stderr",
     "output_type": "stream",
     "text": [
      "Batches: 100%|██████████| 1/1 [00:00<00:00, 10.55it/s]\n",
      "Batches: 100%|██████████| 1/1 [00:00<00:00, 16.48it/s]\n"
     ]
    },
    {
     "name": "stdout",
     "output_type": "stream",
     "text": [
      "Computed similarity for 'ID_17': 0.4319\n",
      "\n",
      "Processing resume file: 'Resume_of_ID_170.pdf'\n",
      "Extracted resume ID: '170'\n"
     ]
    },
    {
     "name": "stderr",
     "output_type": "stream",
     "text": [
      "Batches: 100%|██████████| 1/1 [00:00<00:00,  9.97it/s]\n",
      "Batches: 100%|██████████| 1/1 [00:00<00:00, 10.93it/s]\n"
     ]
    },
    {
     "name": "stdout",
     "output_type": "stream",
     "text": [
      "Computed similarity for 'ID_170': 0.5722\n",
      "\n",
      "Processing resume file: 'Resume_of_ID_171.pdf'\n",
      "Extracted resume ID: '171'\n"
     ]
    },
    {
     "name": "stderr",
     "output_type": "stream",
     "text": [
      "Batches: 100%|██████████| 1/1 [00:00<00:00, 10.05it/s]\n",
      "Batches: 100%|██████████| 1/1 [00:00<00:00, 12.07it/s]\n"
     ]
    },
    {
     "name": "stdout",
     "output_type": "stream",
     "text": [
      "Computed similarity for 'ID_171': 0.6273\n",
      "\n",
      "Processing resume file: 'Resume_of_ID_172.pdf'\n",
      "Extracted resume ID: '172'\n"
     ]
    },
    {
     "name": "stderr",
     "output_type": "stream",
     "text": [
      "Batches: 100%|██████████| 1/1 [00:00<00:00,  9.19it/s]\n",
      "Batches: 100%|██████████| 1/1 [00:00<00:00, 12.01it/s]\n"
     ]
    },
    {
     "name": "stdout",
     "output_type": "stream",
     "text": [
      "Computed similarity for 'ID_172': 0.6296\n",
      "\n",
      "Processing resume file: 'Resume_of_ID_173.pdf'\n",
      "Extracted resume ID: '173'\n"
     ]
    },
    {
     "name": "stderr",
     "output_type": "stream",
     "text": [
      "Batches: 100%|██████████| 1/1 [00:00<00:00, 12.04it/s]\n",
      "Batches: 100%|██████████| 1/1 [00:00<00:00, 12.10it/s]\n"
     ]
    },
    {
     "name": "stdout",
     "output_type": "stream",
     "text": [
      "Computed similarity for 'ID_173': 0.6501\n",
      "\n",
      "Processing resume file: 'Resume_of_ID_174.pdf'\n",
      "Extracted resume ID: '174'\n"
     ]
    },
    {
     "name": "stderr",
     "output_type": "stream",
     "text": [
      "Batches: 100%|██████████| 1/1 [00:00<00:00,  9.08it/s]\n",
      "Batches: 100%|██████████| 1/1 [00:00<00:00, 10.00it/s]\n"
     ]
    },
    {
     "name": "stdout",
     "output_type": "stream",
     "text": [
      "Computed similarity for 'ID_174': 0.7249\n",
      "\n",
      "Processing resume file: 'Resume_of_ID_175.pdf'\n",
      "Extracted resume ID: '175'\n"
     ]
    },
    {
     "name": "stderr",
     "output_type": "stream",
     "text": [
      "Batches: 100%|██████████| 1/1 [00:00<00:00,  9.48it/s]\n",
      "Batches: 100%|██████████| 1/1 [00:00<00:00, 12.66it/s]\n"
     ]
    },
    {
     "name": "stdout",
     "output_type": "stream",
     "text": [
      "Computed similarity for 'ID_175': 0.6115\n",
      "\n",
      "Processing resume file: 'Resume_of_ID_176.pdf'\n",
      "Extracted resume ID: '176'\n"
     ]
    },
    {
     "name": "stderr",
     "output_type": "stream",
     "text": [
      "Batches: 100%|██████████| 1/1 [00:00<00:00,  8.64it/s]\n",
      "Batches: 100%|██████████| 1/1 [00:00<00:00, 10.00it/s]\n"
     ]
    },
    {
     "name": "stdout",
     "output_type": "stream",
     "text": [
      "Computed similarity for 'ID_176': 0.4749\n",
      "\n",
      "Processing resume file: 'Resume_of_ID_177.pdf'\n",
      "Extracted resume ID: '177'\n"
     ]
    },
    {
     "name": "stderr",
     "output_type": "stream",
     "text": [
      "Batches: 100%|██████████| 1/1 [00:00<00:00,  8.54it/s]\n",
      "Batches: 100%|██████████| 1/1 [00:00<00:00, 10.00it/s]\n"
     ]
    },
    {
     "name": "stdout",
     "output_type": "stream",
     "text": [
      "Computed similarity for 'ID_177': 0.6497\n",
      "\n",
      "Processing resume file: 'Resume_of_ID_178.pdf'\n",
      "Extracted resume ID: '178'\n"
     ]
    },
    {
     "name": "stderr",
     "output_type": "stream",
     "text": [
      "Batches: 100%|██████████| 1/1 [00:00<00:00,  9.20it/s]\n",
      "Batches: 100%|██████████| 1/1 [00:00<00:00, 10.94it/s]\n"
     ]
    },
    {
     "name": "stdout",
     "output_type": "stream",
     "text": [
      "Computed similarity for 'ID_178': 0.6954\n",
      "\n",
      "Processing resume file: 'Resume_of_ID_179.pdf'\n",
      "Extracted resume ID: '179'\n"
     ]
    },
    {
     "name": "stderr",
     "output_type": "stream",
     "text": [
      "Batches: 100%|██████████| 1/1 [00:00<00:00,  9.20it/s]\n",
      "Batches: 100%|██████████| 1/1 [00:00<00:00, 12.38it/s]\n"
     ]
    },
    {
     "name": "stdout",
     "output_type": "stream",
     "text": [
      "Computed similarity for 'ID_179': 0.6546\n",
      "\n",
      "Processing resume file: 'Resume_of_ID_18.pdf'\n",
      "Extracted resume ID: '18'\n"
     ]
    },
    {
     "name": "stderr",
     "output_type": "stream",
     "text": [
      "Batches: 100%|██████████| 1/1 [00:00<00:00,  9.45it/s]\n",
      "Batches: 100%|██████████| 1/1 [00:00<00:00, 13.22it/s]\n"
     ]
    },
    {
     "name": "stdout",
     "output_type": "stream",
     "text": [
      "Computed similarity for 'ID_18': 0.7384\n",
      "\n",
      "Processing resume file: 'Resume_of_ID_180.pdf'\n",
      "Extracted resume ID: '180'\n"
     ]
    },
    {
     "name": "stderr",
     "output_type": "stream",
     "text": [
      "Batches: 100%|██████████| 1/1 [00:00<00:00,  8.97it/s]\n",
      "Batches: 100%|██████████| 1/1 [00:00<00:00,  9.87it/s]\n"
     ]
    },
    {
     "name": "stdout",
     "output_type": "stream",
     "text": [
      "Computed similarity for 'ID_180': 0.6631\n",
      "\n",
      "Processing resume file: 'Resume_of_ID_181.pdf'\n",
      "Extracted resume ID: '181'\n"
     ]
    },
    {
     "name": "stderr",
     "output_type": "stream",
     "text": [
      "Batches: 100%|██████████| 1/1 [00:00<00:00,  9.23it/s]\n",
      "Batches: 100%|██████████| 1/1 [00:00<00:00, 11.96it/s]\n"
     ]
    },
    {
     "name": "stdout",
     "output_type": "stream",
     "text": [
      "Computed similarity for 'ID_181': 0.7337\n",
      "\n",
      "Processing resume file: 'Resume_of_ID_182.pdf'\n",
      "Extracted resume ID: '182'\n"
     ]
    },
    {
     "name": "stderr",
     "output_type": "stream",
     "text": [
      "Batches: 100%|██████████| 1/1 [00:00<00:00,  8.54it/s]\n",
      "Batches: 100%|██████████| 1/1 [00:00<00:00,  9.38it/s]\n"
     ]
    },
    {
     "name": "stdout",
     "output_type": "stream",
     "text": [
      "Computed similarity for 'ID_182': 0.5829\n",
      "\n",
      "Processing resume file: 'Resume_of_ID_183.pdf'\n",
      "Extracted resume ID: '183'\n"
     ]
    },
    {
     "name": "stderr",
     "output_type": "stream",
     "text": [
      "Batches: 100%|██████████| 1/1 [00:00<00:00, 10.09it/s]\n",
      "Batches: 100%|██████████| 1/1 [00:00<00:00, 10.00it/s]\n"
     ]
    },
    {
     "name": "stdout",
     "output_type": "stream",
     "text": [
      "Computed similarity for 'ID_183': 0.6259\n",
      "\n",
      "Processing resume file: 'Resume_of_ID_184.pdf'\n",
      "Extracted resume ID: '184'\n"
     ]
    },
    {
     "name": "stderr",
     "output_type": "stream",
     "text": [
      "Batches: 100%|██████████| 1/1 [00:00<00:00, 10.95it/s]\n",
      "Batches: 100%|██████████| 1/1 [00:00<00:00, 13.92it/s]\n"
     ]
    },
    {
     "name": "stdout",
     "output_type": "stream",
     "text": [
      "Computed similarity for 'ID_184': 0.395\n",
      "\n",
      "Processing resume file: 'Resume_of_ID_185.pdf'\n",
      "Extracted resume ID: '185'\n"
     ]
    },
    {
     "name": "stderr",
     "output_type": "stream",
     "text": [
      "Batches: 100%|██████████| 1/1 [00:00<00:00, 10.03it/s]\n",
      "Batches: 100%|██████████| 1/1 [00:00<00:00, 10.09it/s]\n"
     ]
    },
    {
     "name": "stdout",
     "output_type": "stream",
     "text": [
      "Computed similarity for 'ID_185': 0.7955\n",
      "\n",
      "Processing resume file: 'Resume_of_ID_186.pdf'\n",
      "Extracted resume ID: '186'\n"
     ]
    },
    {
     "name": "stderr",
     "output_type": "stream",
     "text": [
      "Batches: 100%|██████████| 1/1 [00:00<00:00,  8.47it/s]\n",
      "Batches: 100%|██████████| 1/1 [00:00<00:00,  9.22it/s]\n"
     ]
    },
    {
     "name": "stdout",
     "output_type": "stream",
     "text": [
      "Computed similarity for 'ID_186': 0.6601\n",
      "\n",
      "Processing resume file: 'Resume_of_ID_187.pdf'\n",
      "Extracted resume ID: '187'\n"
     ]
    },
    {
     "name": "stderr",
     "output_type": "stream",
     "text": [
      "Batches: 100%|██████████| 1/1 [00:00<00:00,  9.21it/s]\n",
      "Batches: 100%|██████████| 1/1 [00:00<00:00, 10.64it/s]\n"
     ]
    },
    {
     "name": "stdout",
     "output_type": "stream",
     "text": [
      "Computed similarity for 'ID_187': 0.6617\n",
      "\n",
      "Processing resume file: 'Resume_of_ID_188.pdf'\n",
      "Extracted resume ID: '188'\n",
      "Skipping similarity computation for '188' due to empty recommendation letters.\n",
      "\n",
      "Processing resume file: 'Resume_of_ID_189.pdf'\n",
      "Extracted resume ID: '189'\n"
     ]
    },
    {
     "name": "stderr",
     "output_type": "stream",
     "text": [
      "Batches: 100%|██████████| 1/1 [00:00<00:00,  9.28it/s]\n",
      "Batches: 100%|██████████| 1/1 [00:00<00:00, 10.94it/s]\n"
     ]
    },
    {
     "name": "stdout",
     "output_type": "stream",
     "text": [
      "Computed similarity for 'ID_189': 0.7473\n",
      "\n",
      "Processing resume file: 'Resume_of_ID_19.pdf'\n",
      "Extracted resume ID: '19'\n"
     ]
    },
    {
     "name": "stderr",
     "output_type": "stream",
     "text": [
      "Batches: 100%|██████████| 1/1 [00:00<00:00,  9.74it/s]\n",
      "Batches: 100%|██████████| 1/1 [00:00<00:00, 11.93it/s]\n"
     ]
    },
    {
     "name": "stdout",
     "output_type": "stream",
     "text": [
      "Computed similarity for 'ID_19': 0.5073\n",
      "\n",
      "Processing resume file: 'Resume_of_ID_190.pdf'\n",
      "Extracted resume ID: '190'\n"
     ]
    },
    {
     "name": "stderr",
     "output_type": "stream",
     "text": [
      "Batches: 100%|██████████| 1/1 [00:00<00:00,  9.98it/s]\n",
      "Batches: 100%|██████████| 1/1 [00:00<00:00, 10.01it/s]\n"
     ]
    },
    {
     "name": "stdout",
     "output_type": "stream",
     "text": [
      "Computed similarity for 'ID_190': 0.7797\n",
      "\n",
      "Processing resume file: 'Resume_of_ID_191.pdf'\n",
      "Extracted resume ID: '191'\n"
     ]
    },
    {
     "name": "stderr",
     "output_type": "stream",
     "text": [
      "Batches: 100%|██████████| 1/1 [00:00<00:00, 10.95it/s]\n",
      "Batches: 100%|██████████| 1/1 [00:00<00:00, 10.00it/s]\n"
     ]
    },
    {
     "name": "stdout",
     "output_type": "stream",
     "text": [
      "Computed similarity for 'ID_191': 0.6615\n",
      "\n",
      "Processing resume file: 'Resume_of_ID_192.pdf'\n",
      "Extracted resume ID: '192'\n"
     ]
    },
    {
     "name": "stderr",
     "output_type": "stream",
     "text": [
      "Batches: 100%|██████████| 1/1 [00:00<00:00,  9.20it/s]\n",
      "Batches: 100%|██████████| 1/1 [00:00<00:00, 12.02it/s]\n"
     ]
    },
    {
     "name": "stdout",
     "output_type": "stream",
     "text": [
      "Computed similarity for 'ID_192': 0.2435\n",
      "\n",
      "Processing resume file: 'Resume_of_ID_193.pdf'\n",
      "Extracted resume ID: '193'\n"
     ]
    },
    {
     "name": "stderr",
     "output_type": "stream",
     "text": [
      "Batches: 100%|██████████| 1/1 [00:00<00:00, 10.95it/s]\n",
      "Batches: 100%|██████████| 1/1 [00:00<00:00, 13.37it/s]\n"
     ]
    },
    {
     "name": "stdout",
     "output_type": "stream",
     "text": [
      "Computed similarity for 'ID_193': 0.7661\n",
      "\n",
      "Processing resume file: 'Resume_of_ID_194.pdf'\n",
      "Extracted resume ID: '194'\n"
     ]
    },
    {
     "name": "stderr",
     "output_type": "stream",
     "text": [
      "Batches: 100%|██████████| 1/1 [00:00<00:00,  8.55it/s]\n",
      "Batches: 100%|██████████| 1/1 [00:00<00:00, 10.06it/s]\n"
     ]
    },
    {
     "name": "stdout",
     "output_type": "stream",
     "text": [
      "Computed similarity for 'ID_194': 0.595\n",
      "\n",
      "Processing resume file: 'Resume_of_ID_195.pdf'\n",
      "Extracted resume ID: '195'\n"
     ]
    },
    {
     "name": "stderr",
     "output_type": "stream",
     "text": [
      "Batches: 100%|██████████| 1/1 [00:00<00:00,  8.60it/s]\n",
      "Batches: 100%|██████████| 1/1 [00:00<00:00, 10.96it/s]\n"
     ]
    },
    {
     "name": "stdout",
     "output_type": "stream",
     "text": [
      "Computed similarity for 'ID_195': 0.5922\n",
      "\n",
      "Processing resume file: 'Resume_of_ID_196.pdf'\n",
      "Extracted resume ID: '196'\n",
      "Skipping similarity computation for '196' due to empty recommendation letters.\n",
      "\n",
      "Processing resume file: 'Resume_of_ID_197.pdf'\n",
      "Extracted resume ID: '197'\n"
     ]
    },
    {
     "name": "stderr",
     "output_type": "stream",
     "text": [
      "Batches: 100%|██████████| 1/1 [00:00<00:00, 10.88it/s]\n",
      "Batches: 100%|██████████| 1/1 [00:00<00:00, 10.01it/s]\n"
     ]
    },
    {
     "name": "stdout",
     "output_type": "stream",
     "text": [
      "Computed similarity for 'ID_197': 0.738\n",
      "\n",
      "Processing resume file: 'Resume_of_ID_198.pdf'\n",
      "Extracted resume ID: '198'\n"
     ]
    },
    {
     "name": "stderr",
     "output_type": "stream",
     "text": [
      "Batches: 100%|██████████| 1/1 [00:00<00:00, 10.90it/s]\n",
      "Batches: 100%|██████████| 1/1 [00:00<00:00, 10.89it/s]\n"
     ]
    },
    {
     "name": "stdout",
     "output_type": "stream",
     "text": [
      "Computed similarity for 'ID_198': 0.7571\n",
      "\n",
      "Processing resume file: 'Resume_of_ID_199.pdf'\n",
      "Extracted resume ID: '199'\n"
     ]
    },
    {
     "name": "stderr",
     "output_type": "stream",
     "text": [
      "Batches: 100%|██████████| 1/1 [00:00<00:00, 10.03it/s]\n",
      "Batches: 100%|██████████| 1/1 [00:00<00:00, 10.98it/s]\n"
     ]
    },
    {
     "name": "stdout",
     "output_type": "stream",
     "text": [
      "Computed similarity for 'ID_199': 0.7046\n",
      "\n",
      "Processing resume file: 'Resume_of_ID_2.pdf'\n",
      "Extracted resume ID: '2'\n"
     ]
    },
    {
     "name": "stderr",
     "output_type": "stream",
     "text": [
      "Batches: 100%|██████████| 1/1 [00:00<00:00, 10.93it/s]\n",
      "Batches: 100%|██████████| 1/1 [00:00<00:00,  9.22it/s]\n"
     ]
    },
    {
     "name": "stdout",
     "output_type": "stream",
     "text": [
      "Computed similarity for 'ID_2': 0.6331\n",
      "\n",
      "Processing resume file: 'Resume_of_ID_20.pdf'\n",
      "Extracted resume ID: '20'\n"
     ]
    },
    {
     "name": "stderr",
     "output_type": "stream",
     "text": [
      "Batches: 100%|██████████| 1/1 [00:00<00:00,  8.04it/s]\n",
      "Batches: 100%|██████████| 1/1 [00:00<00:00,  8.63it/s]\n"
     ]
    },
    {
     "name": "stdout",
     "output_type": "stream",
     "text": [
      "Computed similarity for 'ID_20': 0.6795\n",
      "\n",
      "Processing resume file: 'Resume_of_ID_200.pdf'\n",
      "Extracted resume ID: '200'\n"
     ]
    },
    {
     "name": "stderr",
     "output_type": "stream",
     "text": [
      "Batches: 100%|██████████| 1/1 [00:00<00:00,  9.15it/s]\n",
      "Batches: 100%|██████████| 1/1 [00:00<00:00, 10.10it/s]\n"
     ]
    },
    {
     "name": "stdout",
     "output_type": "stream",
     "text": [
      "Computed similarity for 'ID_200': 0.6954\n",
      "\n",
      "Processing resume file: 'Resume_of_ID_201.pdf'\n",
      "Extracted resume ID: '201'\n"
     ]
    },
    {
     "name": "stderr",
     "output_type": "stream",
     "text": [
      "Batches: 100%|██████████| 1/1 [00:00<00:00,  9.20it/s]\n",
      "Batches: 100%|██████████| 1/1 [00:00<00:00, 12.11it/s]\n"
     ]
    },
    {
     "name": "stdout",
     "output_type": "stream",
     "text": [
      "Computed similarity for 'ID_201': 0.7148\n",
      "\n",
      "Processing resume file: 'Resume_of_ID_202.pdf'\n",
      "Extracted resume ID: '202'\n"
     ]
    },
    {
     "name": "stderr",
     "output_type": "stream",
     "text": [
      "Batches: 100%|██████████| 1/1 [00:00<00:00,  8.59it/s]\n",
      "Batches: 100%|██████████| 1/1 [00:00<00:00, 10.97it/s]\n"
     ]
    },
    {
     "name": "stdout",
     "output_type": "stream",
     "text": [
      "Computed similarity for 'ID_202': 0.7247\n",
      "\n",
      "Processing resume file: 'Resume_of_ID_203.pdf'\n",
      "Extracted resume ID: '203'\n"
     ]
    },
    {
     "name": "stderr",
     "output_type": "stream",
     "text": [
      "Batches: 100%|██████████| 1/1 [00:00<00:00,  8.57it/s]\n",
      "Batches: 100%|██████████| 1/1 [00:00<00:00, 10.85it/s]\n"
     ]
    },
    {
     "name": "stdout",
     "output_type": "stream",
     "text": [
      "Computed similarity for 'ID_203': 0.5786\n",
      "\n",
      "Processing resume file: 'Resume_of_ID_204.pdf'\n",
      "Extracted resume ID: '204'\n"
     ]
    },
    {
     "name": "stderr",
     "output_type": "stream",
     "text": [
      "Batches: 100%|██████████| 1/1 [00:00<00:00,  9.92it/s]\n",
      "Batches: 100%|██████████| 1/1 [00:00<00:00, 11.36it/s]\n"
     ]
    },
    {
     "name": "stdout",
     "output_type": "stream",
     "text": [
      "Computed similarity for 'ID_204': 0.6295\n",
      "\n",
      "Processing resume file: 'Resume_of_ID_205.pdf'\n",
      "Extracted resume ID: '205'\n"
     ]
    },
    {
     "name": "stderr",
     "output_type": "stream",
     "text": [
      "Batches: 100%|██████████| 1/1 [00:00<00:00, 11.24it/s]\n",
      "Batches: 100%|██████████| 1/1 [00:00<00:00, 11.07it/s]\n"
     ]
    },
    {
     "name": "stdout",
     "output_type": "stream",
     "text": [
      "Computed similarity for 'ID_205': 0.6218\n",
      "\n",
      "Processing resume file: 'Resume_of_ID_206.pdf'\n",
      "Extracted resume ID: '206'\n"
     ]
    },
    {
     "name": "stderr",
     "output_type": "stream",
     "text": [
      "Batches: 100%|██████████| 1/1 [00:00<00:00,  9.91it/s]\n",
      "Batches: 100%|██████████| 1/1 [00:00<00:00, 11.45it/s]\n"
     ]
    },
    {
     "name": "stdout",
     "output_type": "stream",
     "text": [
      "Computed similarity for 'ID_206': 0.6461\n",
      "\n",
      "Processing resume file: 'Resume_of_ID_207.pdf'\n",
      "Extracted resume ID: '207'\n"
     ]
    },
    {
     "name": "stderr",
     "output_type": "stream",
     "text": [
      "Batches: 100%|██████████| 1/1 [00:00<00:00,  8.57it/s]\n",
      "Batches: 100%|██████████| 1/1 [00:00<00:00, 11.93it/s]\n"
     ]
    },
    {
     "name": "stdout",
     "output_type": "stream",
     "text": [
      "Computed similarity for 'ID_207': 0.5975\n",
      "\n",
      "Processing resume file: 'Resume_of_ID_208.pdf'\n",
      "Extracted resume ID: '208'\n"
     ]
    },
    {
     "name": "stderr",
     "output_type": "stream",
     "text": [
      "Batches: 100%|██████████| 1/1 [00:00<00:00,  9.22it/s]\n",
      "Batches: 100%|██████████| 1/1 [00:00<00:00,  9.97it/s]\n"
     ]
    },
    {
     "name": "stdout",
     "output_type": "stream",
     "text": [
      "Computed similarity for 'ID_208': 0.7146\n",
      "\n",
      "Processing resume file: 'Resume_of_ID_209.pdf'\n",
      "Extracted resume ID: '209'\n"
     ]
    },
    {
     "name": "stderr",
     "output_type": "stream",
     "text": [
      "Batches: 100%|██████████| 1/1 [00:00<00:00, 10.80it/s]\n",
      "Batches: 100%|██████████| 1/1 [00:00<00:00,  9.99it/s]\n"
     ]
    },
    {
     "name": "stdout",
     "output_type": "stream",
     "text": [
      "Computed similarity for 'ID_209': 0.6503\n",
      "\n",
      "Processing resume file: 'Resume_of_ID_21.pdf'\n",
      "Extracted resume ID: '21'\n"
     ]
    },
    {
     "name": "stderr",
     "output_type": "stream",
     "text": [
      "Batches: 100%|██████████| 1/1 [00:00<00:00,  8.63it/s]\n",
      "Batches: 100%|██████████| 1/1 [00:00<00:00, 10.01it/s]\n"
     ]
    },
    {
     "name": "stdout",
     "output_type": "stream",
     "text": [
      "Computed similarity for 'ID_21': 0.7312\n",
      "\n",
      "Processing resume file: 'Resume_of_ID_210.pdf'\n",
      "Extracted resume ID: '210'\n"
     ]
    },
    {
     "name": "stderr",
     "output_type": "stream",
     "text": [
      "Batches: 100%|██████████| 1/1 [00:00<00:00, 10.99it/s]\n",
      "Batches: 100%|██████████| 1/1 [00:00<00:00, 17.90it/s]\n"
     ]
    },
    {
     "name": "stdout",
     "output_type": "stream",
     "text": [
      "Computed similarity for 'ID_210': 0.4898\n",
      "\n",
      "Processing resume file: 'Resume_of_ID_211.pdf'\n",
      "Extracted resume ID: '211'\n",
      "Skipping similarity computation for '211' due to empty recommendation letters.\n",
      "\n",
      "Processing resume file: 'Resume_of_ID_212.pdf'\n",
      "Extracted resume ID: '212'\n"
     ]
    },
    {
     "name": "stderr",
     "output_type": "stream",
     "text": [
      "Batches: 100%|██████████| 1/1 [00:00<00:00,  9.22it/s]\n",
      "Batches: 100%|██████████| 1/1 [00:00<00:00, 10.01it/s]\n"
     ]
    },
    {
     "name": "stdout",
     "output_type": "stream",
     "text": [
      "Computed similarity for 'ID_212': 0.6461\n",
      "\n",
      "Processing resume file: 'Resume_of_ID_213.pdf'\n",
      "Extracted resume ID: '213'\n"
     ]
    },
    {
     "name": "stderr",
     "output_type": "stream",
     "text": [
      "Batches: 100%|██████████| 1/1 [00:00<00:00,  8.59it/s]\n",
      "Batches: 100%|██████████| 1/1 [00:00<00:00,  9.94it/s]\n"
     ]
    },
    {
     "name": "stdout",
     "output_type": "stream",
     "text": [
      "Computed similarity for 'ID_213': 0.6126\n",
      "\n",
      "Processing resume file: 'Resume_of_ID_214.pdf'\n",
      "Extracted resume ID: '214'\n"
     ]
    },
    {
     "name": "stderr",
     "output_type": "stream",
     "text": [
      "Batches: 100%|██████████| 1/1 [00:00<00:00, 10.06it/s]\n",
      "Batches: 100%|██████████| 1/1 [00:00<00:00, 10.08it/s]\n"
     ]
    },
    {
     "name": "stdout",
     "output_type": "stream",
     "text": [
      "Computed similarity for 'ID_214': 0.5882\n",
      "\n",
      "Processing resume file: 'Resume_of_ID_215.pdf'\n",
      "Extracted resume ID: '215'\n"
     ]
    },
    {
     "name": "stderr",
     "output_type": "stream",
     "text": [
      "Batches: 100%|██████████| 1/1 [00:00<00:00, 10.90it/s]\n",
      "Batches: 100%|██████████| 1/1 [00:00<00:00, 14.10it/s]\n"
     ]
    },
    {
     "name": "stdout",
     "output_type": "stream",
     "text": [
      "Computed similarity for 'ID_215': 0.6078\n",
      "\n",
      "Processing resume file: 'Resume_of_ID_216.pdf'\n",
      "Extracted resume ID: '216'\n"
     ]
    },
    {
     "name": "stderr",
     "output_type": "stream",
     "text": [
      "Batches: 100%|██████████| 1/1 [00:00<00:00,  9.15it/s]\n",
      "Batches: 100%|██████████| 1/1 [00:00<00:00,  9.26it/s]\n"
     ]
    },
    {
     "name": "stdout",
     "output_type": "stream",
     "text": [
      "Computed similarity for 'ID_216': 0.7479\n",
      "\n",
      "Processing resume file: 'Resume_of_ID_217.pdf'\n",
      "Extracted resume ID: '217'\n"
     ]
    },
    {
     "name": "stderr",
     "output_type": "stream",
     "text": [
      "Batches: 100%|██████████| 1/1 [00:00<00:00,  9.36it/s]\n",
      "Batches: 100%|██████████| 1/1 [00:00<00:00,  9.99it/s]\n"
     ]
    },
    {
     "name": "stdout",
     "output_type": "stream",
     "text": [
      "Computed similarity for 'ID_217': 0.5303\n",
      "\n",
      "Processing resume file: 'Resume_of_ID_218.pdf'\n",
      "Extracted resume ID: '218'\n"
     ]
    },
    {
     "name": "stderr",
     "output_type": "stream",
     "text": [
      "Batches: 100%|██████████| 1/1 [00:00<00:00,  8.02it/s]\n",
      "Batches: 100%|██████████| 1/1 [00:00<00:00,  9.23it/s]\n"
     ]
    },
    {
     "name": "stdout",
     "output_type": "stream",
     "text": [
      "Computed similarity for 'ID_218': 0.6917\n",
      "\n",
      "Processing resume file: 'Resume_of_ID_219.pdf'\n",
      "Extracted resume ID: '219'\n"
     ]
    },
    {
     "name": "stderr",
     "output_type": "stream",
     "text": [
      "Batches: 100%|██████████| 1/1 [00:00<00:00, 11.02it/s]\n",
      "Batches: 100%|██████████| 1/1 [00:00<00:00, 12.01it/s]\n"
     ]
    },
    {
     "name": "stdout",
     "output_type": "stream",
     "text": [
      "Computed similarity for 'ID_219': 0.7589\n",
      "\n",
      "Processing resume file: 'Resume_of_ID_22.pdf'\n",
      "Extracted resume ID: '22'\n"
     ]
    },
    {
     "name": "stderr",
     "output_type": "stream",
     "text": [
      "Batches: 100%|██████████| 1/1 [00:00<00:00,  9.13it/s]\n",
      "Batches: 100%|██████████| 1/1 [00:00<00:00, 16.15it/s]\n"
     ]
    },
    {
     "name": "stdout",
     "output_type": "stream",
     "text": [
      "Computed similarity for 'ID_22': 0.6477\n",
      "\n",
      "Processing resume file: 'Resume_of_ID_220.pdf'\n",
      "Extracted resume ID: '220'\n"
     ]
    },
    {
     "name": "stderr",
     "output_type": "stream",
     "text": [
      "Batches: 100%|██████████| 1/1 [00:00<00:00,  8.58it/s]\n",
      "Batches: 100%|██████████| 1/1 [00:00<00:00,  8.62it/s]\n"
     ]
    },
    {
     "name": "stdout",
     "output_type": "stream",
     "text": [
      "Computed similarity for 'ID_220': 0.537\n",
      "\n",
      "Processing resume file: 'Resume_of_ID_221.pdf'\n",
      "Extracted resume ID: '221'\n"
     ]
    },
    {
     "name": "stderr",
     "output_type": "stream",
     "text": [
      "Batches: 100%|██████████| 1/1 [00:00<00:00, 11.01it/s]\n",
      "Batches: 100%|██████████| 1/1 [00:00<00:00, 10.92it/s]\n"
     ]
    },
    {
     "name": "stdout",
     "output_type": "stream",
     "text": [
      "Computed similarity for 'ID_221': 0.604\n",
      "\n",
      "Processing resume file: 'Resume_of_ID_222.pdf'\n",
      "Extracted resume ID: '222'\n"
     ]
    },
    {
     "name": "stderr",
     "output_type": "stream",
     "text": [
      "Batches: 100%|██████████| 1/1 [00:00<00:00,  8.54it/s]\n",
      "Batches: 100%|██████████| 1/1 [00:00<00:00, 10.97it/s]\n"
     ]
    },
    {
     "name": "stdout",
     "output_type": "stream",
     "text": [
      "Computed similarity for 'ID_222': 0.718\n",
      "\n",
      "Processing resume file: 'Resume_of_ID_223.pdf'\n",
      "Extracted resume ID: '223'\n"
     ]
    },
    {
     "name": "stderr",
     "output_type": "stream",
     "text": [
      "Batches: 100%|██████████| 1/1 [00:00<00:00,  9.23it/s]\n",
      "Batches: 100%|██████████| 1/1 [00:00<00:00, 10.84it/s]\n"
     ]
    },
    {
     "name": "stdout",
     "output_type": "stream",
     "text": [
      "Computed similarity for 'ID_223': 0.6469\n",
      "\n",
      "Processing resume file: 'Resume_of_ID_224.pdf'\n",
      "Extracted resume ID: '224'\n"
     ]
    },
    {
     "name": "stderr",
     "output_type": "stream",
     "text": [
      "Batches: 100%|██████████| 1/1 [00:00<00:00, 10.95it/s]\n",
      "Batches: 100%|██████████| 1/1 [00:00<00:00, 12.80it/s]\n"
     ]
    },
    {
     "name": "stdout",
     "output_type": "stream",
     "text": [
      "Computed similarity for 'ID_224': 0.4893\n",
      "\n",
      "Processing resume file: 'Resume_of_ID_225.pdf'\n",
      "Extracted resume ID: '225'\n"
     ]
    },
    {
     "name": "stderr",
     "output_type": "stream",
     "text": [
      "Batches: 100%|██████████| 1/1 [00:00<00:00, 10.00it/s]\n",
      "Batches: 100%|██████████| 1/1 [00:00<00:00,  9.22it/s]\n"
     ]
    },
    {
     "name": "stdout",
     "output_type": "stream",
     "text": [
      "Computed similarity for 'ID_225': 0.761\n",
      "\n",
      "Processing resume file: 'Resume_of_ID_226.pdf'\n",
      "Extracted resume ID: '226'\n"
     ]
    },
    {
     "name": "stderr",
     "output_type": "stream",
     "text": [
      "Batches: 100%|██████████| 1/1 [00:00<00:00, 10.01it/s]\n",
      "Batches: 100%|██████████| 1/1 [00:00<00:00, 12.02it/s]\n"
     ]
    },
    {
     "name": "stdout",
     "output_type": "stream",
     "text": [
      "Computed similarity for 'ID_226': 0.8124\n",
      "\n",
      "Processing resume file: 'Resume_of_ID_227.pdf'\n",
      "Extracted resume ID: '227'\n"
     ]
    },
    {
     "name": "stderr",
     "output_type": "stream",
     "text": [
      "Batches: 100%|██████████| 1/1 [00:00<00:00,  9.90it/s]\n",
      "Batches: 100%|██████████| 1/1 [00:00<00:00,  9.24it/s]\n"
     ]
    },
    {
     "name": "stdout",
     "output_type": "stream",
     "text": [
      "Computed similarity for 'ID_227': 0.782\n",
      "\n",
      "Processing resume file: 'Resume_of_ID_228.pdf'\n",
      "Extracted resume ID: '228'\n"
     ]
    },
    {
     "name": "stderr",
     "output_type": "stream",
     "text": [
      "Batches: 100%|██████████| 1/1 [00:00<00:00,  9.24it/s]\n",
      "Batches: 100%|██████████| 1/1 [00:00<00:00,  9.86it/s]\n"
     ]
    },
    {
     "name": "stdout",
     "output_type": "stream",
     "text": [
      "Computed similarity for 'ID_228': 0.7033\n",
      "\n",
      "Processing resume file: 'Resume_of_ID_229.pdf'\n",
      "Extracted resume ID: '229'\n"
     ]
    },
    {
     "name": "stderr",
     "output_type": "stream",
     "text": [
      "Batches: 100%|██████████| 1/1 [00:00<00:00,  9.51it/s]\n",
      "Batches: 100%|██████████| 1/1 [00:00<00:00, 12.57it/s]\n"
     ]
    },
    {
     "name": "stdout",
     "output_type": "stream",
     "text": [
      "Computed similarity for 'ID_229': 0.763\n",
      "\n",
      "Processing resume file: 'Resume_of_ID_23.pdf'\n",
      "Extracted resume ID: '23'\n"
     ]
    },
    {
     "name": "stderr",
     "output_type": "stream",
     "text": [
      "Batches: 100%|██████████| 1/1 [00:00<00:00,  8.55it/s]\n",
      "Batches: 100%|██████████| 1/1 [00:00<00:00,  9.99it/s]\n"
     ]
    },
    {
     "name": "stdout",
     "output_type": "stream",
     "text": [
      "Computed similarity for 'ID_23': 0.6557\n",
      "\n",
      "Processing resume file: 'Resume_of_ID_230.pdf'\n",
      "Extracted resume ID: '230'\n"
     ]
    },
    {
     "name": "stderr",
     "output_type": "stream",
     "text": [
      "Batches: 100%|██████████| 1/1 [00:00<00:00, 11.99it/s]\n",
      "Batches: 100%|██████████| 1/1 [00:00<00:00, 10.85it/s]\n"
     ]
    },
    {
     "name": "stdout",
     "output_type": "stream",
     "text": [
      "Computed similarity for 'ID_230': 0.5688\n",
      "\n",
      "Processing resume file: 'Resume_of_ID_231.pdf'\n",
      "Extracted resume ID: '231'\n",
      "Skipping similarity computation for '231' due to empty recommendation letters.\n",
      "\n",
      "Processing resume file: 'Resume_of_ID_232.pdf'\n",
      "Extracted resume ID: '232'\n"
     ]
    },
    {
     "name": "stderr",
     "output_type": "stream",
     "text": [
      "Batches: 100%|██████████| 1/1 [00:00<00:00,  8.24it/s]\n",
      "Batches: 100%|██████████| 1/1 [00:00<00:00, 10.82it/s]\n"
     ]
    },
    {
     "name": "stdout",
     "output_type": "stream",
     "text": [
      "Computed similarity for 'ID_232': 0.7323\n",
      "\n",
      "Processing resume file: 'Resume_of_ID_233.pdf'\n",
      "Extracted resume ID: '233'\n"
     ]
    },
    {
     "name": "stderr",
     "output_type": "stream",
     "text": [
      "Batches: 100%|██████████| 1/1 [00:00<00:00,  9.13it/s]\n",
      "Batches: 100%|██████████| 1/1 [00:00<00:00, 13.36it/s]\n"
     ]
    },
    {
     "name": "stdout",
     "output_type": "stream",
     "text": [
      "Computed similarity for 'ID_233': 0.6356\n",
      "\n",
      "Processing resume file: 'Resume_of_ID_234.pdf'\n",
      "Extracted resume ID: '234'\n"
     ]
    },
    {
     "name": "stderr",
     "output_type": "stream",
     "text": [
      "Batches: 100%|██████████| 1/1 [00:00<00:00,  9.16it/s]\n",
      "Batches: 100%|██████████| 1/1 [00:00<00:00,  9.22it/s]\n"
     ]
    },
    {
     "name": "stdout",
     "output_type": "stream",
     "text": [
      "Computed similarity for 'ID_234': 0.8036\n",
      "\n",
      "Processing resume file: 'Resume_of_ID_235.pdf'\n",
      "Extracted resume ID: '235'\n"
     ]
    },
    {
     "name": "stderr",
     "output_type": "stream",
     "text": [
      "Batches: 100%|██████████| 1/1 [00:00<00:00,  9.15it/s]\n",
      "Batches: 100%|██████████| 1/1 [00:00<00:00, 12.04it/s]\n"
     ]
    },
    {
     "name": "stdout",
     "output_type": "stream",
     "text": [
      "Computed similarity for 'ID_235': 0.6512\n",
      "\n",
      "Processing resume file: 'Resume_of_ID_236.pdf'\n",
      "Extracted resume ID: '236'\n"
     ]
    },
    {
     "name": "stderr",
     "output_type": "stream",
     "text": [
      "Batches: 100%|██████████| 1/1 [00:00<00:00, 10.00it/s]\n",
      "Batches: 100%|██████████| 1/1 [00:00<00:00, 11.03it/s]\n"
     ]
    },
    {
     "name": "stdout",
     "output_type": "stream",
     "text": [
      "Computed similarity for 'ID_236': 0.6275\n",
      "\n",
      "Processing resume file: 'Resume_of_ID_237.pdf'\n",
      "Extracted resume ID: '237'\n"
     ]
    },
    {
     "name": "stderr",
     "output_type": "stream",
     "text": [
      "Batches: 100%|██████████| 1/1 [00:00<00:00,  9.06it/s]\n",
      "Batches: 100%|██████████| 1/1 [00:00<00:00, 10.88it/s]\n"
     ]
    },
    {
     "name": "stdout",
     "output_type": "stream",
     "text": [
      "Computed similarity for 'ID_237': 0.389\n",
      "\n",
      "Processing resume file: 'Resume_of_ID_238.pdf'\n",
      "Extracted resume ID: '238'\n"
     ]
    },
    {
     "name": "stderr",
     "output_type": "stream",
     "text": [
      "Batches: 100%|██████████| 1/1 [00:00<00:00, 10.77it/s]\n",
      "Batches: 100%|██████████| 1/1 [00:00<00:00, 13.38it/s]\n"
     ]
    },
    {
     "name": "stdout",
     "output_type": "stream",
     "text": [
      "Computed similarity for 'ID_238': 0.7025\n",
      "\n",
      "Processing resume file: 'Resume_of_ID_239.pdf'\n",
      "Extracted resume ID: '239'\n"
     ]
    },
    {
     "name": "stderr",
     "output_type": "stream",
     "text": [
      "Batches: 100%|██████████| 1/1 [00:00<00:00,  8.57it/s]\n",
      "Batches: 100%|██████████| 1/1 [00:00<00:00, 10.03it/s]\n"
     ]
    },
    {
     "name": "stdout",
     "output_type": "stream",
     "text": [
      "Computed similarity for 'ID_239': 0.621\n",
      "\n",
      "Processing resume file: 'Resume_of_ID_24.pdf'\n",
      "Extracted resume ID: '24'\n"
     ]
    },
    {
     "name": "stderr",
     "output_type": "stream",
     "text": [
      "Batches: 100%|██████████| 1/1 [00:00<00:00,  8.61it/s]\n",
      "Batches: 100%|██████████| 1/1 [00:00<00:00, 11.93it/s]\n"
     ]
    },
    {
     "name": "stdout",
     "output_type": "stream",
     "text": [
      "Computed similarity for 'ID_24': 0.6716\n",
      "\n",
      "Processing resume file: 'Resume_of_ID_240.pdf'\n",
      "Extracted resume ID: '240'\n"
     ]
    },
    {
     "name": "stderr",
     "output_type": "stream",
     "text": [
      "Batches: 100%|██████████| 1/1 [00:00<00:00,  9.93it/s]\n",
      "Batches: 100%|██████████| 1/1 [00:00<00:00, 11.03it/s]\n"
     ]
    },
    {
     "name": "stdout",
     "output_type": "stream",
     "text": [
      "Computed similarity for 'ID_240': 0.8019\n",
      "\n",
      "Processing resume file: 'Resume_of_ID_241.pdf'\n",
      "Extracted resume ID: '241'\n"
     ]
    },
    {
     "name": "stderr",
     "output_type": "stream",
     "text": [
      "Batches: 100%|██████████| 1/1 [00:00<00:00, 10.56it/s]\n",
      "Batches: 100%|██████████| 1/1 [00:00<00:00, 11.08it/s]\n"
     ]
    },
    {
     "name": "stdout",
     "output_type": "stream",
     "text": [
      "Computed similarity for 'ID_241': 0.7247\n",
      "\n",
      "Processing resume file: 'Resume_of_ID_242.pdf'\n",
      "Extracted resume ID: '242'\n"
     ]
    },
    {
     "name": "stderr",
     "output_type": "stream",
     "text": [
      "Batches: 100%|██████████| 1/1 [00:00<00:00,  9.23it/s]\n",
      "Batches: 100%|██████████| 1/1 [00:00<00:00, 10.01it/s]\n"
     ]
    },
    {
     "name": "stdout",
     "output_type": "stream",
     "text": [
      "Computed similarity for 'ID_242': 0.7318\n",
      "\n",
      "Processing resume file: 'Resume_of_ID_243.pdf'\n",
      "Extracted resume ID: '243'\n"
     ]
    },
    {
     "name": "stderr",
     "output_type": "stream",
     "text": [
      "Batches: 100%|██████████| 1/1 [00:00<00:00,  9.20it/s]\n",
      "Batches: 100%|██████████| 1/1 [00:00<00:00,  8.63it/s]\n"
     ]
    },
    {
     "name": "stdout",
     "output_type": "stream",
     "text": [
      "Computed similarity for 'ID_243': 0.7166\n",
      "\n",
      "Processing resume file: 'Resume_of_ID_244.pdf'\n",
      "Extracted resume ID: '244'\n"
     ]
    },
    {
     "name": "stderr",
     "output_type": "stream",
     "text": [
      "Batches: 100%|██████████| 1/1 [00:00<00:00,  9.26it/s]\n",
      "Batches: 100%|██████████| 1/1 [00:00<00:00,  9.25it/s]\n"
     ]
    },
    {
     "name": "stdout",
     "output_type": "stream",
     "text": [
      "Computed similarity for 'ID_244': 0.6696\n",
      "\n",
      "Processing resume file: 'Resume_of_ID_245.pdf'\n",
      "Extracted resume ID: '245'\n"
     ]
    },
    {
     "name": "stderr",
     "output_type": "stream",
     "text": [
      "Batches: 100%|██████████| 1/1 [00:00<00:00,  9.20it/s]\n",
      "Batches: 100%|██████████| 1/1 [00:00<00:00, 10.89it/s]\n"
     ]
    },
    {
     "name": "stdout",
     "output_type": "stream",
     "text": [
      "Computed similarity for 'ID_245': 0.6045\n",
      "\n",
      "Processing resume file: 'Resume_of_ID_246.pdf'\n",
      "Extracted resume ID: '246'\n"
     ]
    },
    {
     "name": "stderr",
     "output_type": "stream",
     "text": [
      "Batches: 100%|██████████| 1/1 [00:00<00:00,  8.55it/s]\n",
      "Batches: 100%|██████████| 1/1 [00:00<00:00, 10.98it/s]\n"
     ]
    },
    {
     "name": "stdout",
     "output_type": "stream",
     "text": [
      "Computed similarity for 'ID_246': 0.6563\n",
      "\n",
      "Processing resume file: 'Resume_of_ID_247.pdf'\n",
      "Extracted resume ID: '247'\n"
     ]
    },
    {
     "name": "stderr",
     "output_type": "stream",
     "text": [
      "Batches: 100%|██████████| 1/1 [00:00<00:00, 10.01it/s]\n",
      "Batches: 100%|██████████| 1/1 [00:00<00:00, 16.97it/s]\n"
     ]
    },
    {
     "name": "stdout",
     "output_type": "stream",
     "text": [
      "Computed similarity for 'ID_247': 0.471\n",
      "\n",
      "Processing resume file: 'Resume_of_ID_248.pdf'\n",
      "Extracted resume ID: '248'\n"
     ]
    },
    {
     "name": "stderr",
     "output_type": "stream",
     "text": [
      "Batches: 100%|██████████| 1/1 [00:00<00:00,  8.22it/s]\n",
      "Batches: 100%|██████████| 1/1 [00:00<00:00, 10.00it/s]\n"
     ]
    },
    {
     "name": "stdout",
     "output_type": "stream",
     "text": [
      "Computed similarity for 'ID_248': 0.6806\n",
      "\n",
      "Processing resume file: 'Resume_of_ID_249.pdf'\n",
      "Extracted resume ID: '249'\n"
     ]
    },
    {
     "name": "stderr",
     "output_type": "stream",
     "text": [
      "Batches: 100%|██████████| 1/1 [00:00<00:00, 10.02it/s]\n",
      "Batches: 100%|██████████| 1/1 [00:00<00:00, 10.83it/s]\n"
     ]
    },
    {
     "name": "stdout",
     "output_type": "stream",
     "text": [
      "Computed similarity for 'ID_249': 0.5276\n",
      "\n",
      "Processing resume file: 'Resume_of_ID_25.pdf'\n",
      "Extracted resume ID: '25'\n"
     ]
    },
    {
     "name": "stderr",
     "output_type": "stream",
     "text": [
      "Batches: 100%|██████████| 1/1 [00:00<00:00, 10.24it/s]\n",
      "Batches: 100%|██████████| 1/1 [00:00<00:00, 17.34it/s]\n"
     ]
    },
    {
     "name": "stdout",
     "output_type": "stream",
     "text": [
      "Computed similarity for 'ID_25': 0.5751\n",
      "\n",
      "Processing resume file: 'Resume_of_ID_250.pdf'\n",
      "Extracted resume ID: '250'\n"
     ]
    },
    {
     "name": "stderr",
     "output_type": "stream",
     "text": [
      "Batches: 100%|██████████| 1/1 [00:00<00:00,  9.95it/s]\n",
      "Batches: 100%|██████████| 1/1 [00:00<00:00, 13.36it/s]\n"
     ]
    },
    {
     "name": "stdout",
     "output_type": "stream",
     "text": [
      "Computed similarity for 'ID_250': 0.5878\n",
      "\n",
      "Processing resume file: 'Resume_of_ID_251.pdf'\n",
      "Extracted resume ID: '251'\n"
     ]
    },
    {
     "name": "stderr",
     "output_type": "stream",
     "text": [
      "Batches: 100%|██████████| 1/1 [00:00<00:00,  8.65it/s]\n",
      "Batches: 100%|██████████| 1/1 [00:00<00:00, 13.46it/s]\n"
     ]
    },
    {
     "name": "stdout",
     "output_type": "stream",
     "text": [
      "Computed similarity for 'ID_251': 0.5193\n",
      "\n",
      "Processing resume file: 'Resume_of_ID_252.pdf'\n",
      "Extracted resume ID: '252'\n"
     ]
    },
    {
     "name": "stderr",
     "output_type": "stream",
     "text": [
      "Batches: 100%|██████████| 1/1 [00:00<00:00,  8.52it/s]\n",
      "Batches: 100%|██████████| 1/1 [00:00<00:00, 10.95it/s]\n"
     ]
    },
    {
     "name": "stdout",
     "output_type": "stream",
     "text": [
      "Computed similarity for 'ID_252': 0.6761\n",
      "\n",
      "Processing resume file: 'Resume_of_ID_253.pdf'\n",
      "Extracted resume ID: '253'\n"
     ]
    },
    {
     "name": "stderr",
     "output_type": "stream",
     "text": [
      "Batches: 100%|██████████| 1/1 [00:00<00:00,  8.51it/s]\n",
      "Batches: 100%|██████████| 1/1 [00:00<00:00, 10.05it/s]\n"
     ]
    },
    {
     "name": "stdout",
     "output_type": "stream",
     "text": [
      "Computed similarity for 'ID_253': 0.611\n",
      "\n",
      "Processing resume file: 'Resume_of_ID_254.pdf'\n",
      "Extracted resume ID: '254'\n"
     ]
    },
    {
     "name": "stderr",
     "output_type": "stream",
     "text": [
      "Batches: 100%|██████████| 1/1 [00:00<00:00,  9.26it/s]\n",
      "Batches: 100%|██████████| 1/1 [00:00<00:00, 13.36it/s]\n"
     ]
    },
    {
     "name": "stdout",
     "output_type": "stream",
     "text": [
      "Computed similarity for 'ID_254': 0.4417\n",
      "\n",
      "Processing resume file: 'Resume_of_ID_255.pdf'\n",
      "Extracted resume ID: '255'\n"
     ]
    },
    {
     "name": "stderr",
     "output_type": "stream",
     "text": [
      "Batches: 100%|██████████| 1/1 [00:00<00:00,  8.01it/s]\n",
      "Batches: 100%|██████████| 1/1 [00:00<00:00, 14.80it/s]\n"
     ]
    },
    {
     "name": "stdout",
     "output_type": "stream",
     "text": [
      "Computed similarity for 'ID_255': 0.6937\n",
      "\n",
      "Processing resume file: 'Resume_of_ID_256.pdf'\n",
      "Extracted resume ID: '256'\n"
     ]
    },
    {
     "name": "stderr",
     "output_type": "stream",
     "text": [
      "Batches: 100%|██████████| 1/1 [00:00<00:00,  8.52it/s]\n",
      "Batches: 100%|██████████| 1/1 [00:00<00:00, 13.32it/s]\n"
     ]
    },
    {
     "name": "stdout",
     "output_type": "stream",
     "text": [
      "Computed similarity for 'ID_256': 0.7455\n",
      "\n",
      "Processing resume file: 'Resume_of_ID_257.pdf'\n",
      "Extracted resume ID: '257'\n"
     ]
    },
    {
     "name": "stderr",
     "output_type": "stream",
     "text": [
      "Batches: 100%|██████████| 1/1 [00:00<00:00,  9.25it/s]\n",
      "Batches: 100%|██████████| 1/1 [00:00<00:00,  9.90it/s]\n"
     ]
    },
    {
     "name": "stdout",
     "output_type": "stream",
     "text": [
      "Computed similarity for 'ID_257': 0.6998\n",
      "\n",
      "Processing resume file: 'Resume_of_ID_258.pdf'\n",
      "Extracted resume ID: '258'\n"
     ]
    },
    {
     "name": "stderr",
     "output_type": "stream",
     "text": [
      "Batches: 100%|██████████| 1/1 [00:00<00:00,  9.21it/s]\n",
      "Batches: 100%|██████████| 1/1 [00:00<00:00, 12.00it/s]\n"
     ]
    },
    {
     "name": "stdout",
     "output_type": "stream",
     "text": [
      "Computed similarity for 'ID_258': 0.6869\n",
      "\n",
      "Processing resume file: 'Resume_of_ID_259.pdf'\n",
      "Extracted resume ID: '259'\n"
     ]
    },
    {
     "name": "stderr",
     "output_type": "stream",
     "text": [
      "Batches: 100%|██████████| 1/1 [00:00<00:00, 12.04it/s]\n",
      "Batches: 100%|██████████| 1/1 [00:00<00:00, 11.94it/s]\n"
     ]
    },
    {
     "name": "stdout",
     "output_type": "stream",
     "text": [
      "Computed similarity for 'ID_259': 0.6237\n",
      "\n",
      "Processing resume file: 'Resume_of_ID_26.pdf'\n",
      "Extracted resume ID: '26'\n"
     ]
    },
    {
     "name": "stderr",
     "output_type": "stream",
     "text": [
      "Batches: 100%|██████████| 1/1 [00:00<00:00, 10.00it/s]\n",
      "Batches: 100%|██████████| 1/1 [00:00<00:00, 15.42it/s]\n"
     ]
    },
    {
     "name": "stdout",
     "output_type": "stream",
     "text": [
      "Computed similarity for 'ID_26': 0.6723\n",
      "\n",
      "Processing resume file: 'Resume_of_ID_260.pdf'\n",
      "Extracted resume ID: '260'\n"
     ]
    },
    {
     "name": "stderr",
     "output_type": "stream",
     "text": [
      "Batches: 100%|██████████| 1/1 [00:00<00:00,  8.84it/s]\n",
      "Batches: 100%|██████████| 1/1 [00:00<00:00, 10.85it/s]\n"
     ]
    },
    {
     "name": "stdout",
     "output_type": "stream",
     "text": [
      "Computed similarity for 'ID_260': 0.6018\n",
      "\n",
      "Processing resume file: 'Resume_of_ID_261.pdf'\n",
      "Extracted resume ID: '261'\n"
     ]
    },
    {
     "name": "stderr",
     "output_type": "stream",
     "text": [
      "Batches: 100%|██████████| 1/1 [00:00<00:00,  9.24it/s]\n",
      "Batches: 100%|██████████| 1/1 [00:00<00:00, 10.03it/s]\n"
     ]
    },
    {
     "name": "stdout",
     "output_type": "stream",
     "text": [
      "Computed similarity for 'ID_261': 0.6248\n",
      "\n",
      "Processing resume file: 'Resume_of_ID_262.pdf'\n",
      "Extracted resume ID: '262'\n"
     ]
    },
    {
     "name": "stderr",
     "output_type": "stream",
     "text": [
      "Batches: 100%|██████████| 1/1 [00:00<00:00, 10.44it/s]\n",
      "Batches: 100%|██████████| 1/1 [00:00<00:00, 14.09it/s]\n"
     ]
    },
    {
     "name": "stdout",
     "output_type": "stream",
     "text": [
      "Computed similarity for 'ID_262': 0.6965\n",
      "\n",
      "Processing resume file: 'Resume_of_ID_263.pdf'\n",
      "Extracted resume ID: '263'\n"
     ]
    },
    {
     "name": "stderr",
     "output_type": "stream",
     "text": [
      "Batches: 100%|██████████| 1/1 [00:00<00:00, 10.84it/s]\n",
      "Batches: 100%|██████████| 1/1 [00:00<00:00, 13.32it/s]\n"
     ]
    },
    {
     "name": "stdout",
     "output_type": "stream",
     "text": [
      "Computed similarity for 'ID_263': 0.5487\n",
      "\n",
      "Processing resume file: 'Resume_of_ID_264.pdf'\n",
      "Extracted resume ID: '264'\n"
     ]
    },
    {
     "name": "stderr",
     "output_type": "stream",
     "text": [
      "Batches: 100%|██████████| 1/1 [00:00<00:00,  8.51it/s]\n",
      "Batches: 100%|██████████| 1/1 [00:00<00:00, 14.29it/s]\n"
     ]
    },
    {
     "name": "stdout",
     "output_type": "stream",
     "text": [
      "Computed similarity for 'ID_264': 0.6429\n",
      "\n",
      "Processing resume file: 'Resume_of_ID_265.pdf'\n",
      "Extracted resume ID: '265'\n"
     ]
    },
    {
     "name": "stderr",
     "output_type": "stream",
     "text": [
      "Batches: 100%|██████████| 1/1 [00:00<00:00,  9.67it/s]\n",
      "Batches: 100%|██████████| 1/1 [00:00<00:00, 10.97it/s]\n"
     ]
    },
    {
     "name": "stdout",
     "output_type": "stream",
     "text": [
      "Computed similarity for 'ID_265': 0.5979\n",
      "\n",
      "Processing resume file: 'Resume_of_ID_266.pdf'\n",
      "Extracted resume ID: '266'\n"
     ]
    },
    {
     "name": "stderr",
     "output_type": "stream",
     "text": [
      "Batches: 100%|██████████| 1/1 [00:00<00:00,  8.55it/s]\n",
      "Batches: 100%|██████████| 1/1 [00:00<00:00,  9.97it/s]\n"
     ]
    },
    {
     "name": "stdout",
     "output_type": "stream",
     "text": [
      "Computed similarity for 'ID_266': 0.6647\n",
      "\n",
      "Processing resume file: 'Resume_of_ID_267.pdf'\n",
      "Extracted resume ID: '267'\n"
     ]
    },
    {
     "name": "stderr",
     "output_type": "stream",
     "text": [
      "Batches: 100%|██████████| 1/1 [00:00<00:00,  9.25it/s]\n",
      "Batches: 100%|██████████| 1/1 [00:00<00:00, 13.28it/s]\n"
     ]
    },
    {
     "name": "stdout",
     "output_type": "stream",
     "text": [
      "Computed similarity for 'ID_267': 0.7174\n",
      "\n",
      "Processing resume file: 'Resume_of_ID_268.pdf'\n",
      "Extracted resume ID: '268'\n"
     ]
    },
    {
     "name": "stderr",
     "output_type": "stream",
     "text": [
      "Batches: 100%|██████████| 1/1 [00:00<00:00,  9.30it/s]\n",
      "Batches: 100%|██████████| 1/1 [00:00<00:00, 11.87it/s]\n"
     ]
    },
    {
     "name": "stdout",
     "output_type": "stream",
     "text": [
      "Computed similarity for 'ID_268': 0.5345\n",
      "\n",
      "Processing resume file: 'Resume_of_ID_269.pdf'\n",
      "Extracted resume ID: '269'\n"
     ]
    },
    {
     "name": "stderr",
     "output_type": "stream",
     "text": [
      "Batches: 100%|██████████| 1/1 [00:00<00:00, 10.77it/s]\n",
      "Batches: 100%|██████████| 1/1 [00:00<00:00, 16.15it/s]\n"
     ]
    },
    {
     "name": "stdout",
     "output_type": "stream",
     "text": [
      "Computed similarity for 'ID_269': 0.6321\n",
      "\n",
      "Processing resume file: 'Resume_of_ID_27.pdf'\n",
      "Extracted resume ID: '27'\n"
     ]
    },
    {
     "name": "stderr",
     "output_type": "stream",
     "text": [
      "Batches: 100%|██████████| 1/1 [00:00<00:00,  9.98it/s]\n",
      "Batches: 100%|██████████| 1/1 [00:00<00:00,  9.10it/s]\n"
     ]
    },
    {
     "name": "stdout",
     "output_type": "stream",
     "text": [
      "Computed similarity for 'ID_27': 0.6136\n",
      "\n",
      "Processing resume file: 'Resume_of_ID_270.pdf'\n",
      "Extracted resume ID: '270'\n"
     ]
    },
    {
     "name": "stderr",
     "output_type": "stream",
     "text": [
      "Batches: 100%|██████████| 1/1 [00:00<00:00,  9.98it/s]\n",
      "Batches: 100%|██████████| 1/1 [00:00<00:00, 10.89it/s]\n"
     ]
    },
    {
     "name": "stdout",
     "output_type": "stream",
     "text": [
      "Computed similarity for 'ID_270': 0.7033\n",
      "\n",
      "Processing resume file: 'Resume_of_ID_271.pdf'\n",
      "Extracted resume ID: '271'\n"
     ]
    },
    {
     "name": "stderr",
     "output_type": "stream",
     "text": [
      "Batches: 100%|██████████| 1/1 [00:00<00:00,  9.23it/s]\n",
      "Batches: 100%|██████████| 1/1 [00:00<00:00, 10.89it/s]\n"
     ]
    },
    {
     "name": "stdout",
     "output_type": "stream",
     "text": [
      "Computed similarity for 'ID_271': 0.5708\n",
      "\n",
      "Processing resume file: 'Resume_of_ID_272.pdf'\n",
      "Extracted resume ID: '272'\n"
     ]
    },
    {
     "name": "stderr",
     "output_type": "stream",
     "text": [
      "Batches: 100%|██████████| 1/1 [00:00<00:00, 12.02it/s]\n",
      "Batches: 100%|██████████| 1/1 [00:00<00:00, 11.95it/s]\n"
     ]
    },
    {
     "name": "stdout",
     "output_type": "stream",
     "text": [
      "Computed similarity for 'ID_272': 0.7052\n",
      "\n",
      "Processing resume file: 'Resume_of_ID_273.pdf'\n",
      "Extracted resume ID: '273'\n"
     ]
    },
    {
     "name": "stderr",
     "output_type": "stream",
     "text": [
      "Batches: 100%|██████████| 1/1 [00:00<00:00,  9.98it/s]\n",
      "Batches: 100%|██████████| 1/1 [00:00<00:00, 10.87it/s]\n"
     ]
    },
    {
     "name": "stdout",
     "output_type": "stream",
     "text": [
      "Computed similarity for 'ID_273': 0.6657\n",
      "\n",
      "Processing resume file: 'Resume_of_ID_274.pdf'\n",
      "Extracted resume ID: '274'\n"
     ]
    },
    {
     "name": "stderr",
     "output_type": "stream",
     "text": [
      "Batches: 100%|██████████| 1/1 [00:00<00:00,  8.66it/s]\n",
      "Batches: 100%|██████████| 1/1 [00:00<00:00, 12.00it/s]\n"
     ]
    },
    {
     "name": "stdout",
     "output_type": "stream",
     "text": [
      "Computed similarity for 'ID_274': 0.7999\n",
      "\n",
      "Processing resume file: 'Resume_of_ID_275.pdf'\n",
      "Extracted resume ID: '275'\n"
     ]
    },
    {
     "name": "stderr",
     "output_type": "stream",
     "text": [
      "Batches: 100%|██████████| 1/1 [00:00<00:00, 10.18it/s]\n",
      "Batches: 100%|██████████| 1/1 [00:00<00:00, 10.01it/s]\n"
     ]
    },
    {
     "name": "stdout",
     "output_type": "stream",
     "text": [
      "Computed similarity for 'ID_275': 0.721\n",
      "\n",
      "Processing resume file: 'Resume_of_ID_276.pdf'\n",
      "Extracted resume ID: '276'\n"
     ]
    },
    {
     "name": "stderr",
     "output_type": "stream",
     "text": [
      "Batches: 100%|██████████| 1/1 [00:00<00:00,  8.71it/s]\n",
      "Batches: 100%|██████████| 1/1 [00:00<00:00, 11.93it/s]\n"
     ]
    },
    {
     "name": "stdout",
     "output_type": "stream",
     "text": [
      "Computed similarity for 'ID_276': 0.7484\n",
      "\n",
      "Processing resume file: 'Resume_of_ID_277.pdf'\n",
      "Extracted resume ID: '277'\n"
     ]
    },
    {
     "name": "stderr",
     "output_type": "stream",
     "text": [
      "Batches: 100%|██████████| 1/1 [00:00<00:00,  9.96it/s]\n",
      "Batches: 100%|██████████| 1/1 [00:00<00:00, 10.98it/s]\n"
     ]
    },
    {
     "name": "stdout",
     "output_type": "stream",
     "text": [
      "Computed similarity for 'ID_277': 0.779\n",
      "\n",
      "Processing resume file: 'Resume_of_ID_278.pdf'\n",
      "Extracted resume ID: '278'\n",
      "Skipping similarity computation for '278' due to empty recommendation letters.\n",
      "\n",
      "Processing resume file: 'Resume_of_ID_279.pdf'\n",
      "Extracted resume ID: '279'\n"
     ]
    },
    {
     "name": "stderr",
     "output_type": "stream",
     "text": [
      "Batches: 100%|██████████| 1/1 [00:00<00:00,  9.26it/s]\n",
      "Batches: 100%|██████████| 1/1 [00:00<00:00,  9.26it/s]\n"
     ]
    },
    {
     "name": "stdout",
     "output_type": "stream",
     "text": [
      "Computed similarity for 'ID_279': 0.4361\n",
      "\n",
      "Processing resume file: 'Resume_of_ID_28.pdf'\n",
      "Extracted resume ID: '28'\n"
     ]
    },
    {
     "name": "stderr",
     "output_type": "stream",
     "text": [
      "Batches: 100%|██████████| 1/1 [00:00<00:00,  8.58it/s]\n",
      "Batches: 100%|██████████| 1/1 [00:00<00:00, 10.03it/s]\n"
     ]
    },
    {
     "name": "stdout",
     "output_type": "stream",
     "text": [
      "Computed similarity for 'ID_28': 0.477\n",
      "\n",
      "Processing resume file: 'Resume_of_ID_280.pdf'\n",
      "Extracted resume ID: '280'\n"
     ]
    },
    {
     "name": "stderr",
     "output_type": "stream",
     "text": [
      "Batches: 100%|██████████| 1/1 [00:00<00:00,  9.42it/s]\n",
      "Batches: 100%|██████████| 1/1 [00:00<00:00, 10.86it/s]\n"
     ]
    },
    {
     "name": "stdout",
     "output_type": "stream",
     "text": [
      "Computed similarity for 'ID_280': 0.6494\n",
      "\n",
      "Processing resume file: 'Resume_of_ID_281.pdf'\n",
      "Extracted resume ID: '281'\n"
     ]
    },
    {
     "name": "stderr",
     "output_type": "stream",
     "text": [
      "Batches: 100%|██████████| 1/1 [00:00<00:00, 10.95it/s]\n",
      "Batches: 100%|██████████| 1/1 [00:00<00:00, 10.02it/s]\n"
     ]
    },
    {
     "name": "stdout",
     "output_type": "stream",
     "text": [
      "Computed similarity for 'ID_281': 0.6645\n",
      "\n",
      "Processing resume file: 'Resume_of_ID_282.pdf'\n",
      "Extracted resume ID: '282'\n"
     ]
    },
    {
     "name": "stderr",
     "output_type": "stream",
     "text": [
      "Batches: 100%|██████████| 1/1 [00:00<00:00,  9.07it/s]\n",
      "Batches: 100%|██████████| 1/1 [00:00<00:00, 13.04it/s]\n"
     ]
    },
    {
     "name": "stdout",
     "output_type": "stream",
     "text": [
      "Computed similarity for 'ID_282': 0.7266\n",
      "\n",
      "Processing resume file: 'Resume_of_ID_283.pdf'\n",
      "Extracted resume ID: '283'\n"
     ]
    },
    {
     "name": "stderr",
     "output_type": "stream",
     "text": [
      "Batches: 100%|██████████| 1/1 [00:00<00:00, 10.01it/s]\n",
      "Batches: 100%|██████████| 1/1 [00:00<00:00, 11.09it/s]\n"
     ]
    },
    {
     "name": "stdout",
     "output_type": "stream",
     "text": [
      "Computed similarity for 'ID_283': 0.5776\n",
      "\n",
      "Processing resume file: 'Resume_of_ID_284.pdf'\n",
      "Extracted resume ID: '284'\n"
     ]
    },
    {
     "name": "stderr",
     "output_type": "stream",
     "text": [
      "Batches: 100%|██████████| 1/1 [00:00<00:00,  9.20it/s]\n",
      "Batches: 100%|██████████| 1/1 [00:00<00:00,  9.98it/s]\n"
     ]
    },
    {
     "name": "stdout",
     "output_type": "stream",
     "text": [
      "Computed similarity for 'ID_284': 0.786\n",
      "\n",
      "Processing resume file: 'Resume_of_ID_285.pdf'\n",
      "Extracted resume ID: '285'\n"
     ]
    },
    {
     "name": "stderr",
     "output_type": "stream",
     "text": [
      "Batches: 100%|██████████| 1/1 [00:00<00:00,  9.90it/s]\n",
      "Batches: 100%|██████████| 1/1 [00:00<00:00, 10.88it/s]\n"
     ]
    },
    {
     "name": "stdout",
     "output_type": "stream",
     "text": [
      "Computed similarity for 'ID_285': 0.5373\n",
      "\n",
      "Processing resume file: 'Resume_of_ID_286.pdf'\n",
      "Extracted resume ID: '286'\n"
     ]
    },
    {
     "name": "stderr",
     "output_type": "stream",
     "text": [
      "Batches: 100%|██████████| 1/1 [00:00<00:00,  9.22it/s]\n",
      "Batches: 100%|██████████| 1/1 [00:00<00:00, 10.90it/s]\n"
     ]
    },
    {
     "name": "stdout",
     "output_type": "stream",
     "text": [
      "Computed similarity for 'ID_286': 0.7583\n",
      "\n",
      "Processing resume file: 'Resume_of_ID_287.pdf'\n",
      "Extracted resume ID: '287'\n"
     ]
    },
    {
     "name": "stderr",
     "output_type": "stream",
     "text": [
      "Batches: 100%|██████████| 1/1 [00:00<00:00, 10.00it/s]\n",
      "Batches: 100%|██████████| 1/1 [00:00<00:00, 10.94it/s]\n"
     ]
    },
    {
     "name": "stdout",
     "output_type": "stream",
     "text": [
      "Computed similarity for 'ID_287': 0.4912\n",
      "\n",
      "Processing resume file: 'Resume_of_ID_288.pdf'\n",
      "Extracted resume ID: '288'\n"
     ]
    },
    {
     "name": "stderr",
     "output_type": "stream",
     "text": [
      "Batches: 100%|██████████| 1/1 [00:00<00:00, 10.02it/s]\n",
      "Batches: 100%|██████████| 1/1 [00:00<00:00, 11.79it/s]\n"
     ]
    },
    {
     "name": "stdout",
     "output_type": "stream",
     "text": [
      "Computed similarity for 'ID_288': 0.7095\n",
      "\n",
      "Processing resume file: 'Resume_of_ID_289.pdf'\n",
      "Extracted resume ID: '289'\n"
     ]
    },
    {
     "name": "stderr",
     "output_type": "stream",
     "text": [
      "Batches: 100%|██████████| 1/1 [00:00<00:00, 10.82it/s]\n",
      "Batches: 100%|██████████| 1/1 [00:00<00:00, 12.02it/s]\n"
     ]
    },
    {
     "name": "stdout",
     "output_type": "stream",
     "text": [
      "Computed similarity for 'ID_289': 0.6901\n",
      "\n",
      "Processing resume file: 'Resume_of_ID_29.pdf'\n",
      "Extracted resume ID: '29'\n"
     ]
    },
    {
     "name": "stderr",
     "output_type": "stream",
     "text": [
      "Batches: 100%|██████████| 1/1 [00:00<00:00,  8.62it/s]\n",
      "Batches: 100%|██████████| 1/1 [00:00<00:00, 17.19it/s]\n"
     ]
    },
    {
     "name": "stdout",
     "output_type": "stream",
     "text": [
      "Computed similarity for 'ID_29': 0.7701\n",
      "\n",
      "Processing resume file: 'Resume_of_ID_290.pdf'\n",
      "Extracted resume ID: '290'\n"
     ]
    },
    {
     "name": "stderr",
     "output_type": "stream",
     "text": [
      "Batches: 100%|██████████| 1/1 [00:00<00:00, 10.95it/s]\n",
      "Batches: 100%|██████████| 1/1 [00:00<00:00,  9.99it/s]\n"
     ]
    },
    {
     "name": "stdout",
     "output_type": "stream",
     "text": [
      "Computed similarity for 'ID_290': 0.5822\n",
      "\n",
      "Processing resume file: 'Resume_of_ID_291.pdf'\n",
      "Extracted resume ID: '291'\n"
     ]
    },
    {
     "name": "stderr",
     "output_type": "stream",
     "text": [
      "Batches: 100%|██████████| 1/1 [00:00<00:00,  9.11it/s]\n",
      "Batches: 100%|██████████| 1/1 [00:00<00:00,  9.98it/s]\n"
     ]
    },
    {
     "name": "stdout",
     "output_type": "stream",
     "text": [
      "Computed similarity for 'ID_291': 0.7901\n",
      "\n",
      "Processing resume file: 'Resume_of_ID_292.pdf'\n",
      "Extracted resume ID: '292'\n"
     ]
    },
    {
     "name": "stderr",
     "output_type": "stream",
     "text": [
      "Batches: 100%|██████████| 1/1 [00:00<00:00,  8.58it/s]\n",
      "Batches: 100%|██████████| 1/1 [00:00<00:00, 11.24it/s]\n"
     ]
    },
    {
     "name": "stdout",
     "output_type": "stream",
     "text": [
      "Computed similarity for 'ID_292': 0.6842\n",
      "\n",
      "Processing resume file: 'Resume_of_ID_293.pdf'\n",
      "Extracted resume ID: '293'\n"
     ]
    },
    {
     "name": "stderr",
     "output_type": "stream",
     "text": [
      "Batches: 100%|██████████| 1/1 [00:00<00:00, 12.17it/s]\n",
      "Batches: 100%|██████████| 1/1 [00:00<00:00, 10.89it/s]\n"
     ]
    },
    {
     "name": "stdout",
     "output_type": "stream",
     "text": [
      "Computed similarity for 'ID_293': 0.5947\n",
      "\n",
      "Processing resume file: 'Resume_of_ID_294.pdf'\n",
      "Extracted resume ID: '294'\n"
     ]
    },
    {
     "name": "stderr",
     "output_type": "stream",
     "text": [
      "Batches: 100%|██████████| 1/1 [00:00<00:00,  8.58it/s]\n",
      "Batches: 100%|██████████| 1/1 [00:00<00:00, 11.89it/s]\n"
     ]
    },
    {
     "name": "stdout",
     "output_type": "stream",
     "text": [
      "Computed similarity for 'ID_294': 0.489\n",
      "\n",
      "Processing resume file: 'Resume_of_ID_295.pdf'\n",
      "Extracted resume ID: '295'\n"
     ]
    },
    {
     "name": "stderr",
     "output_type": "stream",
     "text": [
      "Batches: 100%|██████████| 1/1 [00:00<00:00,  9.29it/s]\n",
      "Batches: 100%|██████████| 1/1 [00:00<00:00, 11.92it/s]\n"
     ]
    },
    {
     "name": "stdout",
     "output_type": "stream",
     "text": [
      "Computed similarity for 'ID_295': 0.5714\n",
      "\n",
      "Processing resume file: 'Resume_of_ID_296.pdf'\n",
      "Extracted resume ID: '296'\n"
     ]
    },
    {
     "name": "stderr",
     "output_type": "stream",
     "text": [
      "Batches: 100%|██████████| 1/1 [00:00<00:00,  9.94it/s]\n",
      "Batches: 100%|██████████| 1/1 [00:00<00:00, 13.26it/s]\n"
     ]
    },
    {
     "name": "stdout",
     "output_type": "stream",
     "text": [
      "Computed similarity for 'ID_296': 0.5915\n",
      "\n",
      "Processing resume file: 'Resume_of_ID_297.pdf'\n",
      "Extracted resume ID: '297'\n"
     ]
    },
    {
     "name": "stderr",
     "output_type": "stream",
     "text": [
      "Batches: 100%|██████████| 1/1 [00:00<00:00,  8.53it/s]\n",
      "Batches: 100%|██████████| 1/1 [00:00<00:00, 10.02it/s]\n"
     ]
    },
    {
     "name": "stdout",
     "output_type": "stream",
     "text": [
      "Computed similarity for 'ID_297': 0.6914\n",
      "\n",
      "Processing resume file: 'Resume_of_ID_298.pdf'\n",
      "Extracted resume ID: '298'\n"
     ]
    },
    {
     "name": "stderr",
     "output_type": "stream",
     "text": [
      "Batches: 100%|██████████| 1/1 [00:00<00:00, 11.55it/s]\n",
      "Batches: 100%|██████████| 1/1 [00:00<00:00, 11.96it/s]\n"
     ]
    },
    {
     "name": "stdout",
     "output_type": "stream",
     "text": [
      "Computed similarity for 'ID_298': 0.6044\n",
      "\n",
      "Processing resume file: 'Resume_of_ID_299.pdf'\n",
      "Extracted resume ID: '299'\n"
     ]
    },
    {
     "name": "stderr",
     "output_type": "stream",
     "text": [
      "Batches: 100%|██████████| 1/1 [00:00<00:00,  8.57it/s]\n",
      "Batches: 100%|██████████| 1/1 [00:00<00:00,  9.32it/s]\n"
     ]
    },
    {
     "name": "stdout",
     "output_type": "stream",
     "text": [
      "Computed similarity for 'ID_299': 0.8019\n",
      "\n",
      "Processing resume file: 'Resume_of_ID_3.pdf'\n",
      "Extracted resume ID: '3'\n"
     ]
    },
    {
     "name": "stderr",
     "output_type": "stream",
     "text": [
      "Batches: 100%|██████████| 1/1 [00:00<00:00,  8.71it/s]\n",
      "Batches: 100%|██████████| 1/1 [00:00<00:00, 11.88it/s]\n"
     ]
    },
    {
     "name": "stdout",
     "output_type": "stream",
     "text": [
      "Computed similarity for 'ID_3': 0.693\n",
      "\n",
      "Processing resume file: 'Resume_of_ID_30.pdf'\n",
      "Extracted resume ID: '30'\n"
     ]
    },
    {
     "name": "stderr",
     "output_type": "stream",
     "text": [
      "Batches: 100%|██████████| 1/1 [00:00<00:00, 11.36it/s]\n",
      "Batches: 100%|██████████| 1/1 [00:00<00:00, 12.06it/s]\n"
     ]
    },
    {
     "name": "stdout",
     "output_type": "stream",
     "text": [
      "Computed similarity for 'ID_30': 0.7792\n",
      "\n",
      "Processing resume file: 'Resume_of_ID_300.pdf'\n",
      "Extracted resume ID: '300'\n"
     ]
    },
    {
     "name": "stderr",
     "output_type": "stream",
     "text": [
      "Batches: 100%|██████████| 1/1 [00:00<00:00,  8.52it/s]\n",
      "Batches: 100%|██████████| 1/1 [00:00<00:00, 10.05it/s]\n"
     ]
    },
    {
     "name": "stdout",
     "output_type": "stream",
     "text": [
      "Computed similarity for 'ID_300': 0.6469\n",
      "\n",
      "Processing resume file: 'Resume_of_ID_301.pdf'\n",
      "Extracted resume ID: '301'\n"
     ]
    },
    {
     "name": "stderr",
     "output_type": "stream",
     "text": [
      "Batches: 100%|██████████| 1/1 [00:00<00:00, 11.48it/s]\n",
      "Batches: 100%|██████████| 1/1 [00:00<00:00, 11.74it/s]\n"
     ]
    },
    {
     "name": "stdout",
     "output_type": "stream",
     "text": [
      "Computed similarity for 'ID_301': 0.6529\n",
      "\n",
      "Processing resume file: 'Resume_of_ID_302.pdf'\n",
      "Extracted resume ID: '302'\n"
     ]
    },
    {
     "name": "stderr",
     "output_type": "stream",
     "text": [
      "Batches: 100%|██████████| 1/1 [00:00<00:00,  9.25it/s]\n",
      "Batches: 100%|██████████| 1/1 [00:00<00:00, 10.76it/s]\n"
     ]
    },
    {
     "name": "stdout",
     "output_type": "stream",
     "text": [
      "Computed similarity for 'ID_302': 0.6143\n",
      "\n",
      "Processing resume file: 'Resume_of_ID_303.pdf'\n",
      "Extracted resume ID: '303'\n"
     ]
    },
    {
     "name": "stderr",
     "output_type": "stream",
     "text": [
      "Batches: 100%|██████████| 1/1 [00:00<00:00,  8.61it/s]\n",
      "Batches: 100%|██████████| 1/1 [00:00<00:00, 10.07it/s]\n"
     ]
    },
    {
     "name": "stdout",
     "output_type": "stream",
     "text": [
      "Computed similarity for 'ID_303': 0.6902\n",
      "\n",
      "Processing resume file: 'Resume_of_ID_304.pdf'\n",
      "Extracted resume ID: '304'\n"
     ]
    },
    {
     "name": "stderr",
     "output_type": "stream",
     "text": [
      "Batches: 100%|██████████| 1/1 [00:00<00:00,  9.23it/s]\n",
      "Batches: 100%|██████████| 1/1 [00:00<00:00, 10.96it/s]\n"
     ]
    },
    {
     "name": "stdout",
     "output_type": "stream",
     "text": [
      "Computed similarity for 'ID_304': 0.6261\n",
      "\n",
      "Processing resume file: 'Resume_of_ID_305.pdf'\n",
      "Extracted resume ID: '305'\n"
     ]
    },
    {
     "name": "stderr",
     "output_type": "stream",
     "text": [
      "Batches: 100%|██████████| 1/1 [00:00<00:00, 10.05it/s]\n",
      "Batches: 100%|██████████| 1/1 [00:00<00:00, 24.42it/s]\n"
     ]
    },
    {
     "name": "stdout",
     "output_type": "stream",
     "text": [
      "Computed similarity for 'ID_305': 0.6519\n",
      "\n",
      "Processing resume file: 'Resume_of_ID_306.pdf'\n",
      "Extracted resume ID: '306'\n"
     ]
    },
    {
     "name": "stderr",
     "output_type": "stream",
     "text": [
      "Batches: 100%|██████████| 1/1 [00:00<00:00,  9.16it/s]\n",
      "Batches: 100%|██████████| 1/1 [00:00<00:00, 10.94it/s]\n"
     ]
    },
    {
     "name": "stdout",
     "output_type": "stream",
     "text": [
      "Computed similarity for 'ID_306': 0.7142\n",
      "\n",
      "Processing resume file: 'Resume_of_ID_307.pdf'\n",
      "Extracted resume ID: '307'\n"
     ]
    },
    {
     "name": "stderr",
     "output_type": "stream",
     "text": [
      "Batches: 100%|██████████| 1/1 [00:00<00:00,  9.26it/s]\n",
      "Batches: 100%|██████████| 1/1 [00:00<00:00, 10.84it/s]\n"
     ]
    },
    {
     "name": "stdout",
     "output_type": "stream",
     "text": [
      "Computed similarity for 'ID_307': 0.6628\n",
      "\n",
      "Processing resume file: 'Resume_of_ID_308.pdf'\n",
      "Extracted resume ID: '308'\n"
     ]
    },
    {
     "name": "stderr",
     "output_type": "stream",
     "text": [
      "Batches: 100%|██████████| 1/1 [00:00<00:00,  9.16it/s]\n",
      "Batches: 100%|██████████| 1/1 [00:00<00:00, 10.98it/s]\n"
     ]
    },
    {
     "name": "stdout",
     "output_type": "stream",
     "text": [
      "Computed similarity for 'ID_308': 0.7387\n",
      "\n",
      "Processing resume file: 'Resume_of_ID_309.pdf'\n",
      "Extracted resume ID: '309'\n"
     ]
    },
    {
     "name": "stderr",
     "output_type": "stream",
     "text": [
      "Batches: 100%|██████████| 1/1 [00:00<00:00, 10.39it/s]\n",
      "Batches: 100%|██████████| 1/1 [00:00<00:00, 12.05it/s]\n"
     ]
    },
    {
     "name": "stdout",
     "output_type": "stream",
     "text": [
      "Computed similarity for 'ID_309': 0.6703\n",
      "\n",
      "Processing resume file: 'Resume_of_ID_31.pdf'\n",
      "Extracted resume ID: '31'\n"
     ]
    },
    {
     "name": "stderr",
     "output_type": "stream",
     "text": [
      "Batches: 100%|██████████| 1/1 [00:00<00:00, 10.38it/s]\n",
      "Batches: 100%|██████████| 1/1 [00:00<00:00, 12.06it/s]\n"
     ]
    },
    {
     "name": "stdout",
     "output_type": "stream",
     "text": [
      "Computed similarity for 'ID_31': 0.6331\n",
      "\n",
      "Processing resume file: 'Resume_of_ID_310.pdf'\n",
      "Extracted resume ID: '310'\n"
     ]
    },
    {
     "name": "stderr",
     "output_type": "stream",
     "text": [
      "Batches: 100%|██████████| 1/1 [00:00<00:00, 10.02it/s]\n",
      "Batches: 100%|██████████| 1/1 [00:00<00:00, 11.01it/s]\n"
     ]
    },
    {
     "name": "stdout",
     "output_type": "stream",
     "text": [
      "Computed similarity for 'ID_310': 0.564\n",
      "\n",
      "Processing resume file: 'Resume_of_ID_311.pdf'\n",
      "Extracted resume ID: '311'\n"
     ]
    },
    {
     "name": "stderr",
     "output_type": "stream",
     "text": [
      "Batches: 100%|██████████| 1/1 [00:00<00:00,  9.19it/s]\n",
      "Batches: 100%|██████████| 1/1 [00:00<00:00, 10.91it/s]\n"
     ]
    },
    {
     "name": "stdout",
     "output_type": "stream",
     "text": [
      "Computed similarity for 'ID_311': 0.7584\n",
      "\n",
      "Processing resume file: 'Resume_of_ID_312.pdf'\n",
      "Extracted resume ID: '312'\n"
     ]
    },
    {
     "name": "stderr",
     "output_type": "stream",
     "text": [
      "Batches: 100%|██████████| 1/1 [00:00<00:00, 10.00it/s]\n",
      "Batches: 100%|██████████| 1/1 [00:00<00:00,  9.29it/s]\n"
     ]
    },
    {
     "name": "stdout",
     "output_type": "stream",
     "text": [
      "Computed similarity for 'ID_312': 0.5229\n",
      "\n",
      "Processing resume file: 'Resume_of_ID_313.pdf'\n",
      "Extracted resume ID: '313'\n"
     ]
    },
    {
     "name": "stderr",
     "output_type": "stream",
     "text": [
      "Batches: 100%|██████████| 1/1 [00:00<00:00, 10.02it/s]\n",
      "Batches: 100%|██████████| 1/1 [00:00<00:00, 10.86it/s]\n"
     ]
    },
    {
     "name": "stdout",
     "output_type": "stream",
     "text": [
      "Computed similarity for 'ID_313': 0.5182\n",
      "\n",
      "Processing resume file: 'Resume_of_ID_314.pdf'\n",
      "Extracted resume ID: '314'\n"
     ]
    },
    {
     "name": "stderr",
     "output_type": "stream",
     "text": [
      "Batches: 100%|██████████| 1/1 [00:00<00:00,  8.45it/s]\n",
      "Batches: 100%|██████████| 1/1 [00:00<00:00, 10.77it/s]\n"
     ]
    },
    {
     "name": "stdout",
     "output_type": "stream",
     "text": [
      "Computed similarity for 'ID_314': 0.3732\n",
      "\n",
      "Processing resume file: 'Resume_of_ID_315.pdf'\n",
      "Extracted resume ID: '315'\n"
     ]
    },
    {
     "name": "stderr",
     "output_type": "stream",
     "text": [
      "Batches: 100%|██████████| 1/1 [00:00<00:00,  9.26it/s]\n",
      "Batches: 100%|██████████| 1/1 [00:00<00:00, 10.10it/s]\n"
     ]
    },
    {
     "name": "stdout",
     "output_type": "stream",
     "text": [
      "Computed similarity for 'ID_315': 0.5443\n",
      "\n",
      "Processing resume file: 'Resume_of_ID_316.pdf'\n",
      "Extracted resume ID: '316'\n"
     ]
    },
    {
     "name": "stderr",
     "output_type": "stream",
     "text": [
      "Batches: 100%|██████████| 1/1 [00:00<00:00,  9.36it/s]\n",
      "Batches: 100%|██████████| 1/1 [00:00<00:00, 12.03it/s]\n"
     ]
    },
    {
     "name": "stdout",
     "output_type": "stream",
     "text": [
      "Computed similarity for 'ID_316': 0.492\n",
      "\n",
      "Processing resume file: 'Resume_of_ID_317.pdf'\n",
      "Extracted resume ID: '317'\n"
     ]
    },
    {
     "name": "stderr",
     "output_type": "stream",
     "text": [
      "Batches: 100%|██████████| 1/1 [00:00<00:00,  9.29it/s]\n",
      "Batches: 100%|██████████| 1/1 [00:00<00:00, 11.92it/s]\n"
     ]
    },
    {
     "name": "stdout",
     "output_type": "stream",
     "text": [
      "Computed similarity for 'ID_317': 0.5264\n",
      "\n",
      "Processing resume file: 'Resume_of_ID_318.pdf'\n",
      "Extracted resume ID: '318'\n"
     ]
    },
    {
     "name": "stderr",
     "output_type": "stream",
     "text": [
      "Batches: 100%|██████████| 1/1 [00:00<00:00, 11.72it/s]\n",
      "Batches: 100%|██████████| 1/1 [00:00<00:00, 17.12it/s]\n"
     ]
    },
    {
     "name": "stdout",
     "output_type": "stream",
     "text": [
      "Computed similarity for 'ID_318': 0.634\n",
      "\n",
      "Processing resume file: 'Resume_of_ID_319.pdf'\n",
      "Extracted resume ID: '319'\n"
     ]
    },
    {
     "name": "stderr",
     "output_type": "stream",
     "text": [
      "Batches: 100%|██████████| 1/1 [00:00<00:00,  9.96it/s]\n",
      "Batches: 100%|██████████| 1/1 [00:00<00:00, 11.91it/s]\n"
     ]
    },
    {
     "name": "stdout",
     "output_type": "stream",
     "text": [
      "Computed similarity for 'ID_319': 0.6899\n",
      "\n",
      "Processing resume file: 'Resume_of_ID_32.pdf'\n",
      "Extracted resume ID: '32'\n"
     ]
    },
    {
     "name": "stderr",
     "output_type": "stream",
     "text": [
      "Batches: 100%|██████████| 1/1 [00:00<00:00,  8.53it/s]\n",
      "Batches: 100%|██████████| 1/1 [00:00<00:00,  9.32it/s]\n"
     ]
    },
    {
     "name": "stdout",
     "output_type": "stream",
     "text": [
      "Computed similarity for 'ID_32': 0.5608\n",
      "\n",
      "Processing resume file: 'Resume_of_ID_320.pdf'\n",
      "Extracted resume ID: '320'\n"
     ]
    },
    {
     "name": "stderr",
     "output_type": "stream",
     "text": [
      "Batches: 100%|██████████| 1/1 [00:00<00:00,  9.16it/s]\n",
      "Batches: 100%|██████████| 1/1 [00:00<00:00, 10.01it/s]\n"
     ]
    },
    {
     "name": "stdout",
     "output_type": "stream",
     "text": [
      "Computed similarity for 'ID_320': 0.6122\n",
      "\n",
      "Processing resume file: 'Resume_of_ID_321.pdf'\n",
      "Extracted resume ID: '321'\n"
     ]
    },
    {
     "name": "stderr",
     "output_type": "stream",
     "text": [
      "Batches: 100%|██████████| 1/1 [00:00<00:00,  9.98it/s]\n",
      "Batches: 100%|██████████| 1/1 [00:00<00:00, 11.97it/s]\n"
     ]
    },
    {
     "name": "stdout",
     "output_type": "stream",
     "text": [
      "Computed similarity for 'ID_321': 0.6292\n",
      "\n",
      "Processing resume file: 'Resume_of_ID_322.pdf'\n",
      "Extracted resume ID: '322'\n"
     ]
    },
    {
     "name": "stderr",
     "output_type": "stream",
     "text": [
      "Batches: 100%|██████████| 1/1 [00:00<00:00,  9.38it/s]\n",
      "Batches: 100%|██████████| 1/1 [00:00<00:00,  9.22it/s]\n"
     ]
    },
    {
     "name": "stdout",
     "output_type": "stream",
     "text": [
      "Computed similarity for 'ID_322': 0.6432\n",
      "\n",
      "Processing resume file: 'Resume_of_ID_323.pdf'\n",
      "Extracted resume ID: '323'\n"
     ]
    },
    {
     "name": "stderr",
     "output_type": "stream",
     "text": [
      "Batches: 100%|██████████| 1/1 [00:00<00:00,  8.51it/s]\n",
      "Batches: 100%|██████████| 1/1 [00:00<00:00, 12.35it/s]\n"
     ]
    },
    {
     "name": "stdout",
     "output_type": "stream",
     "text": [
      "Computed similarity for 'ID_323': 0.7285\n",
      "\n",
      "Processing resume file: 'Resume_of_ID_324.pdf'\n",
      "Extracted resume ID: '324'\n"
     ]
    },
    {
     "name": "stderr",
     "output_type": "stream",
     "text": [
      "Batches: 100%|██████████| 1/1 [00:00<00:00,  9.97it/s]\n",
      "Batches: 100%|██████████| 1/1 [00:00<00:00,  9.29it/s]\n"
     ]
    },
    {
     "name": "stdout",
     "output_type": "stream",
     "text": [
      "Computed similarity for 'ID_324': 0.6426\n",
      "\n",
      "Processing resume file: 'Resume_of_ID_325.pdf'\n",
      "Extracted resume ID: '325'\n"
     ]
    },
    {
     "name": "stderr",
     "output_type": "stream",
     "text": [
      "Batches: 100%|██████████| 1/1 [00:00<00:00,  9.24it/s]\n",
      "Batches: 100%|██████████| 1/1 [00:00<00:00,  9.95it/s]\n"
     ]
    },
    {
     "name": "stdout",
     "output_type": "stream",
     "text": [
      "Computed similarity for 'ID_325': 0.5567\n",
      "\n",
      "Processing resume file: 'Resume_of_ID_326.pdf'\n",
      "Extracted resume ID: '326'\n"
     ]
    },
    {
     "name": "stderr",
     "output_type": "stream",
     "text": [
      "Batches: 100%|██████████| 1/1 [00:00<00:00,  9.27it/s]\n",
      "Batches: 100%|██████████| 1/1 [00:00<00:00, 13.34it/s]\n"
     ]
    },
    {
     "name": "stdout",
     "output_type": "stream",
     "text": [
      "Computed similarity for 'ID_326': 0.742\n",
      "\n",
      "Processing resume file: 'Resume_of_ID_327.pdf'\n",
      "Extracted resume ID: '327'\n"
     ]
    },
    {
     "name": "stderr",
     "output_type": "stream",
     "text": [
      "Batches: 100%|██████████| 1/1 [00:00<00:00, 10.00it/s]\n",
      "Batches: 100%|██████████| 1/1 [00:00<00:00, 11.00it/s]\n"
     ]
    },
    {
     "name": "stdout",
     "output_type": "stream",
     "text": [
      "Computed similarity for 'ID_327': 0.5802\n",
      "\n",
      "Processing resume file: 'Resume_of_ID_328.pdf'\n",
      "Extracted resume ID: '328'\n"
     ]
    },
    {
     "name": "stderr",
     "output_type": "stream",
     "text": [
      "Batches: 100%|██████████| 1/1 [00:00<00:00,  8.49it/s]\n",
      "Batches: 100%|██████████| 1/1 [00:00<00:00, 12.12it/s]\n"
     ]
    },
    {
     "name": "stdout",
     "output_type": "stream",
     "text": [
      "Computed similarity for 'ID_328': 0.7645\n",
      "\n",
      "Processing resume file: 'Resume_of_ID_329.pdf'\n",
      "Extracted resume ID: '329'\n"
     ]
    },
    {
     "name": "stderr",
     "output_type": "stream",
     "text": [
      "Batches: 100%|██████████| 1/1 [00:00<00:00,  9.22it/s]\n",
      "Batches: 100%|██████████| 1/1 [00:00<00:00,  9.23it/s]\n"
     ]
    },
    {
     "name": "stdout",
     "output_type": "stream",
     "text": [
      "Computed similarity for 'ID_329': 0.7245\n",
      "\n",
      "Processing resume file: 'Resume_of_ID_33.pdf'\n",
      "Extracted resume ID: '33'\n"
     ]
    },
    {
     "name": "stderr",
     "output_type": "stream",
     "text": [
      "Batches: 100%|██████████| 1/1 [00:00<00:00,  9.32it/s]\n",
      "Batches: 100%|██████████| 1/1 [00:00<00:00, 10.88it/s]\n"
     ]
    },
    {
     "name": "stdout",
     "output_type": "stream",
     "text": [
      "Computed similarity for 'ID_33': 0.5859\n",
      "\n",
      "Processing resume file: 'Resume_of_ID_330.pdf'\n",
      "Extracted resume ID: '330'\n"
     ]
    },
    {
     "name": "stderr",
     "output_type": "stream",
     "text": [
      "Batches: 100%|██████████| 1/1 [00:00<00:00,  9.18it/s]\n",
      "Batches: 100%|██████████| 1/1 [00:00<00:00, 11.58it/s]\n"
     ]
    },
    {
     "name": "stdout",
     "output_type": "stream",
     "text": [
      "Computed similarity for 'ID_330': 0.6512\n",
      "\n",
      "Processing resume file: 'Resume_of_ID_331.pdf'\n",
      "Extracted resume ID: '331'\n"
     ]
    },
    {
     "name": "stderr",
     "output_type": "stream",
     "text": [
      "Batches: 100%|██████████| 1/1 [00:00<00:00, 10.06it/s]\n",
      "Batches: 100%|██████████| 1/1 [00:00<00:00, 10.97it/s]\n"
     ]
    },
    {
     "name": "stdout",
     "output_type": "stream",
     "text": [
      "Computed similarity for 'ID_331': 0.7358\n",
      "\n",
      "Processing resume file: 'Resume_of_ID_332.pdf'\n",
      "Extracted resume ID: '332'\n"
     ]
    },
    {
     "name": "stderr",
     "output_type": "stream",
     "text": [
      "Batches: 100%|██████████| 1/1 [00:00<00:00, 13.34it/s]\n",
      "Batches: 100%|██████████| 1/1 [00:00<00:00,  9.97it/s]\n"
     ]
    },
    {
     "name": "stdout",
     "output_type": "stream",
     "text": [
      "Computed similarity for 'ID_332': 0.6185\n",
      "\n",
      "Processing resume file: 'Resume_of_ID_333.pdf'\n",
      "Extracted resume ID: '333'\n"
     ]
    },
    {
     "name": "stderr",
     "output_type": "stream",
     "text": [
      "Batches: 100%|██████████| 1/1 [00:00<00:00,  8.56it/s]\n",
      "Batches: 100%|██████████| 1/1 [00:00<00:00, 10.94it/s]\n"
     ]
    },
    {
     "name": "stdout",
     "output_type": "stream",
     "text": [
      "Computed similarity for 'ID_333': 0.8249\n",
      "\n",
      "Processing resume file: 'Resume_of_ID_334.pdf'\n",
      "Extracted resume ID: '334'\n"
     ]
    },
    {
     "name": "stderr",
     "output_type": "stream",
     "text": [
      "Batches: 100%|██████████| 1/1 [00:00<00:00, 10.01it/s]\n",
      "Batches: 100%|██████████| 1/1 [00:00<00:00, 13.38it/s]\n"
     ]
    },
    {
     "name": "stdout",
     "output_type": "stream",
     "text": [
      "Computed similarity for 'ID_334': 0.5845\n",
      "\n",
      "Processing resume file: 'Resume_of_ID_335.pdf'\n",
      "Extracted resume ID: '335'\n"
     ]
    },
    {
     "name": "stderr",
     "output_type": "stream",
     "text": [
      "Batches: 100%|██████████| 1/1 [00:00<00:00,  9.92it/s]\n",
      "Batches: 100%|██████████| 1/1 [00:00<00:00, 11.44it/s]\n"
     ]
    },
    {
     "name": "stdout",
     "output_type": "stream",
     "text": [
      "Computed similarity for 'ID_335': 0.6261\n",
      "\n",
      "Processing resume file: 'Resume_of_ID_336.pdf'\n",
      "Extracted resume ID: '336'\n"
     ]
    },
    {
     "name": "stderr",
     "output_type": "stream",
     "text": [
      "Batches: 100%|██████████| 1/1 [00:00<00:00,  9.61it/s]\n",
      "Batches: 100%|██████████| 1/1 [00:00<00:00, 12.07it/s]\n"
     ]
    },
    {
     "name": "stdout",
     "output_type": "stream",
     "text": [
      "Computed similarity for 'ID_336': 0.6767\n",
      "\n",
      "Processing resume file: 'Resume_of_ID_337.pdf'\n",
      "Extracted resume ID: '337'\n"
     ]
    },
    {
     "name": "stderr",
     "output_type": "stream",
     "text": [
      "Batches: 100%|██████████| 1/1 [00:00<00:00,  8.08it/s]\n",
      "Batches: 100%|██████████| 1/1 [00:00<00:00,  9.08it/s]\n"
     ]
    },
    {
     "name": "stdout",
     "output_type": "stream",
     "text": [
      "Computed similarity for 'ID_337': 0.5524\n",
      "\n",
      "Processing resume file: 'Resume_of_ID_338.pdf'\n",
      "Extracted resume ID: '338'\n"
     ]
    },
    {
     "name": "stderr",
     "output_type": "stream",
     "text": [
      "Batches: 100%|██████████| 1/1 [00:00<00:00,  9.88it/s]\n",
      "Batches: 100%|██████████| 1/1 [00:00<00:00, 10.03it/s]\n"
     ]
    },
    {
     "name": "stdout",
     "output_type": "stream",
     "text": [
      "Computed similarity for 'ID_338': 0.7147\n",
      "\n",
      "Processing resume file: 'Resume_of_ID_339.pdf'\n",
      "Extracted resume ID: '339'\n"
     ]
    },
    {
     "name": "stderr",
     "output_type": "stream",
     "text": [
      "Batches: 100%|██████████| 1/1 [00:00<00:00,  8.04it/s]\n",
      "Batches: 100%|██████████| 1/1 [00:00<00:00,  8.58it/s]\n"
     ]
    },
    {
     "name": "stdout",
     "output_type": "stream",
     "text": [
      "Computed similarity for 'ID_339': 0.7357\n",
      "\n",
      "Processing resume file: 'Resume_of_ID_34.pdf'\n",
      "Extracted resume ID: '34'\n"
     ]
    },
    {
     "name": "stderr",
     "output_type": "stream",
     "text": [
      "Batches: 100%|██████████| 1/1 [00:00<00:00, 12.10it/s]\n",
      "Batches: 100%|██████████| 1/1 [00:00<00:00, 14.43it/s]\n"
     ]
    },
    {
     "name": "stdout",
     "output_type": "stream",
     "text": [
      "Computed similarity for 'ID_34': 0.5057\n",
      "\n",
      "Processing resume file: 'Resume_of_ID_340.pdf'\n",
      "Extracted resume ID: '340'\n"
     ]
    },
    {
     "name": "stderr",
     "output_type": "stream",
     "text": [
      "Batches: 100%|██████████| 1/1 [00:00<00:00, 12.02it/s]\n",
      "Batches: 100%|██████████| 1/1 [00:00<00:00, 12.02it/s]\n"
     ]
    },
    {
     "name": "stdout",
     "output_type": "stream",
     "text": [
      "Computed similarity for 'ID_340': 0.6393\n",
      "\n",
      "Processing resume file: 'Resume_of_ID_341.pdf'\n",
      "Extracted resume ID: '341'\n"
     ]
    },
    {
     "name": "stderr",
     "output_type": "stream",
     "text": [
      "Batches: 100%|██████████| 1/1 [00:00<00:00, 10.92it/s]\n",
      "Batches: 100%|██████████| 1/1 [00:00<00:00, 12.05it/s]\n"
     ]
    },
    {
     "name": "stdout",
     "output_type": "stream",
     "text": [
      "Computed similarity for 'ID_341': 0.6073\n",
      "\n",
      "Processing resume file: 'Resume_of_ID_342.pdf'\n",
      "Extracted resume ID: '342'\n"
     ]
    },
    {
     "name": "stderr",
     "output_type": "stream",
     "text": [
      "Batches: 100%|██████████| 1/1 [00:00<00:00,  9.98it/s]\n",
      "Batches: 100%|██████████| 1/1 [00:00<00:00, 10.00it/s]\n"
     ]
    },
    {
     "name": "stdout",
     "output_type": "stream",
     "text": [
      "Computed similarity for 'ID_342': 0.6778\n",
      "\n",
      "Processing resume file: 'Resume_of_ID_343.pdf'\n",
      "Extracted resume ID: '343'\n"
     ]
    },
    {
     "name": "stderr",
     "output_type": "stream",
     "text": [
      "Batches: 100%|██████████| 1/1 [00:00<00:00, 11.98it/s]\n",
      "Batches: 100%|██████████| 1/1 [00:00<00:00, 10.00it/s]\n"
     ]
    },
    {
     "name": "stdout",
     "output_type": "stream",
     "text": [
      "Computed similarity for 'ID_343': 0.7823\n",
      "\n",
      "Processing resume file: 'Resume_of_ID_344.pdf'\n",
      "Extracted resume ID: '344'\n"
     ]
    },
    {
     "name": "stderr",
     "output_type": "stream",
     "text": [
      "Batches: 100%|██████████| 1/1 [00:00<00:00, 10.00it/s]\n",
      "Batches: 100%|██████████| 1/1 [00:00<00:00, 15.04it/s]\n"
     ]
    },
    {
     "name": "stdout",
     "output_type": "stream",
     "text": [
      "Computed similarity for 'ID_344': 0.7047\n",
      "\n",
      "Processing resume file: 'Resume_of_ID_345.pdf'\n",
      "Extracted resume ID: '345'\n"
     ]
    },
    {
     "name": "stderr",
     "output_type": "stream",
     "text": [
      "Batches: 100%|██████████| 1/1 [00:00<00:00, 11.31it/s]\n",
      "Batches: 100%|██████████| 1/1 [00:00<00:00, 10.98it/s]\n"
     ]
    },
    {
     "name": "stdout",
     "output_type": "stream",
     "text": [
      "Computed similarity for 'ID_345': 0.5996\n",
      "\n",
      "Processing resume file: 'Resume_of_ID_346.pdf'\n",
      "Extracted resume ID: '346'\n"
     ]
    },
    {
     "name": "stderr",
     "output_type": "stream",
     "text": [
      "Batches: 100%|██████████| 1/1 [00:00<00:00,  8.60it/s]\n",
      "Batches: 100%|██████████| 1/1 [00:00<00:00, 10.87it/s]\n"
     ]
    },
    {
     "name": "stdout",
     "output_type": "stream",
     "text": [
      "Computed similarity for 'ID_346': 0.6462\n",
      "\n",
      "Processing resume file: 'Resume_of_ID_347.pdf'\n",
      "Extracted resume ID: '347'\n"
     ]
    },
    {
     "name": "stderr",
     "output_type": "stream",
     "text": [
      "Batches: 100%|██████████| 1/1 [00:00<00:00,  8.55it/s]\n",
      "Batches: 100%|██████████| 1/1 [00:00<00:00, 10.24it/s]\n"
     ]
    },
    {
     "name": "stdout",
     "output_type": "stream",
     "text": [
      "Computed similarity for 'ID_347': 0.5732\n",
      "\n",
      "Processing resume file: 'Resume_of_ID_348.pdf'\n",
      "Extracted resume ID: '348'\n"
     ]
    },
    {
     "name": "stderr",
     "output_type": "stream",
     "text": [
      "Batches: 100%|██████████| 1/1 [00:00<00:00, 10.92it/s]\n",
      "Batches: 100%|██████████| 1/1 [00:00<00:00, 10.95it/s]\n"
     ]
    },
    {
     "name": "stdout",
     "output_type": "stream",
     "text": [
      "Computed similarity for 'ID_348': 0.3795\n",
      "\n",
      "Processing resume file: 'Resume_of_ID_349.pdf'\n",
      "Extracted resume ID: '349'\n"
     ]
    },
    {
     "name": "stderr",
     "output_type": "stream",
     "text": [
      "Batches: 100%|██████████| 1/1 [00:00<00:00,  8.73it/s]\n",
      "Batches: 100%|██████████| 1/1 [00:00<00:00, 16.59it/s]\n"
     ]
    },
    {
     "name": "stdout",
     "output_type": "stream",
     "text": [
      "Computed similarity for 'ID_349': 0.5831\n",
      "\n",
      "Processing resume file: 'Resume_of_ID_35.pdf'\n",
      "Extracted resume ID: '35'\n"
     ]
    },
    {
     "name": "stderr",
     "output_type": "stream",
     "text": [
      "Batches: 100%|██████████| 1/1 [00:00<00:00,  9.04it/s]\n",
      "Batches: 100%|██████████| 1/1 [00:00<00:00, 15.02it/s]\n"
     ]
    },
    {
     "name": "stdout",
     "output_type": "stream",
     "text": [
      "Computed similarity for 'ID_35': 0.7486\n",
      "\n",
      "Processing resume file: 'Resume_of_ID_350.pdf'\n",
      "Extracted resume ID: '350'\n"
     ]
    },
    {
     "name": "stderr",
     "output_type": "stream",
     "text": [
      "Batches: 100%|██████████| 1/1 [00:00<00:00, 10.03it/s]\n",
      "Batches: 100%|██████████| 1/1 [00:00<00:00, 12.04it/s]\n"
     ]
    },
    {
     "name": "stdout",
     "output_type": "stream",
     "text": [
      "Computed similarity for 'ID_350': 0.7362\n",
      "\n",
      "Processing resume file: 'Resume_of_ID_351.pdf'\n",
      "Extracted resume ID: '351'\n"
     ]
    },
    {
     "name": "stderr",
     "output_type": "stream",
     "text": [
      "Batches: 100%|██████████| 1/1 [00:00<00:00, 10.04it/s]\n",
      "Batches: 100%|██████████| 1/1 [00:00<00:00,  9.95it/s]\n"
     ]
    },
    {
     "name": "stdout",
     "output_type": "stream",
     "text": [
      "Computed similarity for 'ID_351': 0.5326\n",
      "\n",
      "Processing resume file: 'Resume_of_ID_352.pdf'\n",
      "Extracted resume ID: '352'\n"
     ]
    },
    {
     "name": "stderr",
     "output_type": "stream",
     "text": [
      "Batches: 100%|██████████| 1/1 [00:00<00:00,  8.58it/s]\n",
      "Batches: 100%|██████████| 1/1 [00:00<00:00, 11.99it/s]\n"
     ]
    },
    {
     "name": "stdout",
     "output_type": "stream",
     "text": [
      "Computed similarity for 'ID_352': 0.4098\n",
      "\n",
      "Processing resume file: 'Resume_of_ID_353.pdf'\n",
      "Extracted resume ID: '353'\n"
     ]
    },
    {
     "name": "stderr",
     "output_type": "stream",
     "text": [
      "Batches: 100%|██████████| 1/1 [00:00<00:00,  8.62it/s]\n",
      "Batches: 100%|██████████| 1/1 [00:00<00:00,  9.08it/s]\n"
     ]
    },
    {
     "name": "stdout",
     "output_type": "stream",
     "text": [
      "Computed similarity for 'ID_353': 0.6841\n",
      "\n",
      "Processing resume file: 'Resume_of_ID_354.pdf'\n",
      "Extracted resume ID: '354'\n"
     ]
    },
    {
     "name": "stderr",
     "output_type": "stream",
     "text": [
      "Batches: 100%|██████████| 1/1 [00:00<00:00, 12.00it/s]\n",
      "Batches: 100%|██████████| 1/1 [00:00<00:00, 10.96it/s]\n"
     ]
    },
    {
     "name": "stdout",
     "output_type": "stream",
     "text": [
      "Computed similarity for 'ID_354': 0.8011\n",
      "\n",
      "Processing resume file: 'Resume_of_ID_355.pdf'\n",
      "Extracted resume ID: '355'\n"
     ]
    },
    {
     "name": "stderr",
     "output_type": "stream",
     "text": [
      "Batches: 100%|██████████| 1/1 [00:00<00:00, 12.47it/s]\n",
      "Batches: 100%|██████████| 1/1 [00:00<00:00,  9.18it/s]\n"
     ]
    },
    {
     "name": "stdout",
     "output_type": "stream",
     "text": [
      "Computed similarity for 'ID_355': 0.5313\n",
      "\n",
      "Processing resume file: 'Resume_of_ID_356.pdf'\n",
      "Extracted resume ID: '356'\n"
     ]
    },
    {
     "name": "stderr",
     "output_type": "stream",
     "text": [
      "Batches: 100%|██████████| 1/1 [00:00<00:00, 10.05it/s]\n",
      "Batches: 100%|██████████| 1/1 [00:00<00:00, 11.02it/s]\n"
     ]
    },
    {
     "name": "stdout",
     "output_type": "stream",
     "text": [
      "Computed similarity for 'ID_356': 0.836\n",
      "\n",
      "Processing resume file: 'Resume_of_ID_357.pdf'\n",
      "Extracted resume ID: '357'\n"
     ]
    },
    {
     "name": "stderr",
     "output_type": "stream",
     "text": [
      "Batches: 100%|██████████| 1/1 [00:00<00:00, 13.44it/s]\n",
      "Batches: 100%|██████████| 1/1 [00:00<00:00, 15.03it/s]\n"
     ]
    },
    {
     "name": "stdout",
     "output_type": "stream",
     "text": [
      "Computed similarity for 'ID_357': 0.7861\n",
      "\n",
      "Processing resume file: 'Resume_of_ID_358.pdf'\n",
      "Extracted resume ID: '358'\n"
     ]
    },
    {
     "name": "stderr",
     "output_type": "stream",
     "text": [
      "Batches: 100%|██████████| 1/1 [00:00<00:00, 13.37it/s]\n",
      "Batches: 100%|██████████| 1/1 [00:00<00:00, 10.89it/s]\n"
     ]
    },
    {
     "name": "stdout",
     "output_type": "stream",
     "text": [
      "Computed similarity for 'ID_358': 0.761\n",
      "\n",
      "Processing resume file: 'Resume_of_ID_359.pdf'\n",
      "Extracted resume ID: '359'\n"
     ]
    },
    {
     "name": "stderr",
     "output_type": "stream",
     "text": [
      "Batches: 100%|██████████| 1/1 [00:00<00:00,  9.27it/s]\n",
      "Batches: 100%|██████████| 1/1 [00:00<00:00,  9.30it/s]\n"
     ]
    },
    {
     "name": "stdout",
     "output_type": "stream",
     "text": [
      "Computed similarity for 'ID_359': 0.5768\n",
      "\n",
      "Processing resume file: 'Resume_of_ID_36.pdf'\n",
      "Extracted resume ID: '36'\n"
     ]
    },
    {
     "name": "stderr",
     "output_type": "stream",
     "text": [
      "Batches: 100%|██████████| 1/1 [00:00<00:00, 10.00it/s]\n",
      "Batches: 100%|██████████| 1/1 [00:00<00:00, 17.31it/s]\n"
     ]
    },
    {
     "name": "stdout",
     "output_type": "stream",
     "text": [
      "Computed similarity for 'ID_36': 0.5801\n",
      "\n",
      "Processing resume file: 'Resume_of_ID_360.pdf'\n",
      "Extracted resume ID: '360'\n"
     ]
    },
    {
     "name": "stderr",
     "output_type": "stream",
     "text": [
      "Batches: 100%|██████████| 1/1 [00:00<00:00,  9.24it/s]\n",
      "Batches: 100%|██████████| 1/1 [00:00<00:00, 20.06it/s]\n"
     ]
    },
    {
     "name": "stdout",
     "output_type": "stream",
     "text": [
      "Computed similarity for 'ID_360': 0.4304\n",
      "\n",
      "Processing resume file: 'Resume_of_ID_361.pdf'\n",
      "Extracted resume ID: '361'\n"
     ]
    },
    {
     "name": "stderr",
     "output_type": "stream",
     "text": [
      "Batches: 100%|██████████| 1/1 [00:00<00:00, 13.46it/s]\n",
      "Batches: 100%|██████████| 1/1 [00:00<00:00, 11.98it/s]\n"
     ]
    },
    {
     "name": "stdout",
     "output_type": "stream",
     "text": [
      "Computed similarity for 'ID_361': 0.7296\n",
      "\n",
      "Processing resume file: 'Resume_of_ID_362.pdf'\n",
      "Extracted resume ID: '362'\n"
     ]
    },
    {
     "name": "stderr",
     "output_type": "stream",
     "text": [
      "Batches: 100%|██████████| 1/1 [00:00<00:00,  9.70it/s]\n",
      "Batches: 100%|██████████| 1/1 [00:00<00:00, 13.51it/s]\n"
     ]
    },
    {
     "name": "stdout",
     "output_type": "stream",
     "text": [
      "Computed similarity for 'ID_362': 0.6728\n",
      "\n",
      "Processing resume file: 'Resume_of_ID_363.pdf'\n",
      "Extracted resume ID: '363'\n"
     ]
    },
    {
     "name": "stderr",
     "output_type": "stream",
     "text": [
      "Batches: 100%|██████████| 1/1 [00:00<00:00, 11.59it/s]\n",
      "Batches: 100%|██████████| 1/1 [00:00<00:00, 17.86it/s]\n"
     ]
    },
    {
     "name": "stdout",
     "output_type": "stream",
     "text": [
      "Computed similarity for 'ID_363': 0.6102\n",
      "\n",
      "Processing resume file: 'Resume_of_ID_364.pdf'\n",
      "Extracted resume ID: '364'\n"
     ]
    },
    {
     "name": "stderr",
     "output_type": "stream",
     "text": [
      "Batches: 100%|██████████| 1/1 [00:00<00:00,  9.32it/s]\n",
      "Batches: 100%|██████████| 1/1 [00:00<00:00, 14.77it/s]\n"
     ]
    },
    {
     "name": "stdout",
     "output_type": "stream",
     "text": [
      "Computed similarity for 'ID_364': 0.7368\n",
      "\n",
      "Processing resume file: 'Resume_of_ID_365.pdf'\n",
      "Extracted resume ID: '365'\n"
     ]
    },
    {
     "name": "stderr",
     "output_type": "stream",
     "text": [
      "Batches: 100%|██████████| 1/1 [00:00<00:00, 11.83it/s]\n",
      "Batches: 100%|██████████| 1/1 [00:00<00:00, 13.52it/s]\n"
     ]
    },
    {
     "name": "stdout",
     "output_type": "stream",
     "text": [
      "Computed similarity for 'ID_365': 0.5907\n",
      "\n",
      "Processing resume file: 'Resume_of_ID_366.pdf'\n",
      "Extracted resume ID: '366'\n"
     ]
    },
    {
     "name": "stderr",
     "output_type": "stream",
     "text": [
      "Batches: 100%|██████████| 1/1 [00:00<00:00,  8.92it/s]\n",
      "Batches: 100%|██████████| 1/1 [00:00<00:00, 12.54it/s]\n"
     ]
    },
    {
     "name": "stdout",
     "output_type": "stream",
     "text": [
      "Computed similarity for 'ID_366': 0.7116\n",
      "\n",
      "Processing resume file: 'Resume_of_ID_367.pdf'\n",
      "Extracted resume ID: '367'\n"
     ]
    },
    {
     "name": "stderr",
     "output_type": "stream",
     "text": [
      "Batches: 100%|██████████| 1/1 [00:00<00:00,  9.01it/s]\n",
      "Batches: 100%|██████████| 1/1 [00:00<00:00, 10.62it/s]\n"
     ]
    },
    {
     "name": "stdout",
     "output_type": "stream",
     "text": [
      "Computed similarity for 'ID_367': 0.4677\n",
      "\n",
      "Processing resume file: 'Resume_of_ID_368.pdf'\n",
      "Extracted resume ID: '368'\n"
     ]
    },
    {
     "name": "stderr",
     "output_type": "stream",
     "text": [
      "Batches: 100%|██████████| 1/1 [00:00<00:00,  8.83it/s]\n",
      "Batches: 100%|██████████| 1/1 [00:00<00:00, 10.71it/s]\n"
     ]
    },
    {
     "name": "stdout",
     "output_type": "stream",
     "text": [
      "Computed similarity for 'ID_368': 0.6237\n",
      "\n",
      "Processing resume file: 'Resume_of_ID_369.pdf'\n",
      "Extracted resume ID: '369'\n"
     ]
    },
    {
     "name": "stderr",
     "output_type": "stream",
     "text": [
      "Batches: 100%|██████████| 1/1 [00:00<00:00, 12.55it/s]\n",
      "Batches: 100%|██████████| 1/1 [00:00<00:00,  9.89it/s]\n"
     ]
    },
    {
     "name": "stdout",
     "output_type": "stream",
     "text": [
      "Computed similarity for 'ID_369': 0.7784\n",
      "\n",
      "Processing resume file: 'Resume_of_ID_37.pdf'\n",
      "Extracted resume ID: '37'\n"
     ]
    },
    {
     "name": "stderr",
     "output_type": "stream",
     "text": [
      "Batches: 100%|██████████| 1/1 [00:00<00:00, 10.02it/s]\n",
      "Batches: 100%|██████████| 1/1 [00:00<00:00, 13.40it/s]\n"
     ]
    },
    {
     "name": "stdout",
     "output_type": "stream",
     "text": [
      "Computed similarity for 'ID_37': 0.6773\n",
      "\n",
      "Processing resume file: 'Resume_of_ID_370.pdf'\n",
      "Extracted resume ID: '370'\n"
     ]
    },
    {
     "name": "stderr",
     "output_type": "stream",
     "text": [
      "Batches: 100%|██████████| 1/1 [00:00<00:00, 14.06it/s]\n",
      "Batches: 100%|██████████| 1/1 [00:00<00:00, 13.73it/s]\n"
     ]
    },
    {
     "name": "stdout",
     "output_type": "stream",
     "text": [
      "Computed similarity for 'ID_370': 0.7449\n",
      "\n",
      "Processing resume file: 'Resume_of_ID_371.pdf'\n",
      "Extracted resume ID: '371'\n"
     ]
    },
    {
     "name": "stderr",
     "output_type": "stream",
     "text": [
      "Batches: 100%|██████████| 1/1 [00:00<00:00, 10.53it/s]\n",
      "Batches: 100%|██████████| 1/1 [00:00<00:00, 12.03it/s]\n"
     ]
    },
    {
     "name": "stdout",
     "output_type": "stream",
     "text": [
      "Computed similarity for 'ID_371': 0.6758\n",
      "\n",
      "Processing resume file: 'Resume_of_ID_372.pdf'\n",
      "Extracted resume ID: '372'\n"
     ]
    },
    {
     "name": "stderr",
     "output_type": "stream",
     "text": [
      "Batches: 100%|██████████| 1/1 [00:00<00:00,  8.58it/s]\n",
      "Batches: 100%|██████████| 1/1 [00:00<00:00, 11.00it/s]\n"
     ]
    },
    {
     "name": "stdout",
     "output_type": "stream",
     "text": [
      "Computed similarity for 'ID_372': 0.7179\n",
      "\n",
      "Processing resume file: 'Resume_of_ID_373.pdf'\n",
      "Extracted resume ID: '373'\n",
      "Skipping similarity computation for '373' due to empty recommendation letters.\n",
      "\n",
      "Processing resume file: 'Resume_of_ID_374.pdf'\n",
      "Extracted resume ID: '374'\n"
     ]
    },
    {
     "name": "stderr",
     "output_type": "stream",
     "text": [
      "Batches: 100%|██████████| 1/1 [00:00<00:00,  8.25it/s]\n",
      "Batches: 100%|██████████| 1/1 [00:00<00:00,  9.68it/s]\n"
     ]
    },
    {
     "name": "stdout",
     "output_type": "stream",
     "text": [
      "Computed similarity for 'ID_374': 0.6519\n",
      "\n",
      "Processing resume file: 'Resume_of_ID_375.pdf'\n",
      "Extracted resume ID: '375'\n"
     ]
    },
    {
     "name": "stderr",
     "output_type": "stream",
     "text": [
      "Batches: 100%|██████████| 1/1 [00:00<00:00,  8.72it/s]\n",
      "Batches: 100%|██████████| 1/1 [00:00<00:00,  9.89it/s]\n"
     ]
    },
    {
     "name": "stdout",
     "output_type": "stream",
     "text": [
      "Computed similarity for 'ID_375': 0.7983\n",
      "\n",
      "Processing resume file: 'Resume_of_ID_376.pdf'\n",
      "Extracted resume ID: '376'\n"
     ]
    },
    {
     "name": "stderr",
     "output_type": "stream",
     "text": [
      "Batches: 100%|██████████| 1/1 [00:00<00:00,  9.02it/s]\n",
      "Batches: 100%|██████████| 1/1 [00:00<00:00,  8.80it/s]\n"
     ]
    },
    {
     "name": "stdout",
     "output_type": "stream",
     "text": [
      "Computed similarity for 'ID_376': 0.6196\n",
      "\n",
      "Processing resume file: 'Resume_of_ID_377.pdf'\n",
      "Extracted resume ID: '377'\n"
     ]
    },
    {
     "name": "stderr",
     "output_type": "stream",
     "text": [
      "Batches: 100%|██████████| 1/1 [00:00<00:00,  8.17it/s]\n",
      "Batches: 100%|██████████| 1/1 [00:00<00:00,  9.08it/s]\n"
     ]
    },
    {
     "name": "stdout",
     "output_type": "stream",
     "text": [
      "Computed similarity for 'ID_377': 0.7117\n",
      "\n",
      "Processing resume file: 'Resume_of_ID_378.pdf'\n",
      "Extracted resume ID: '378'\n"
     ]
    },
    {
     "name": "stderr",
     "output_type": "stream",
     "text": [
      "Batches: 100%|██████████| 1/1 [00:00<00:00,  9.17it/s]\n",
      "Batches: 100%|██████████| 1/1 [00:00<00:00,  9.01it/s]\n"
     ]
    },
    {
     "name": "stdout",
     "output_type": "stream",
     "text": [
      "Computed similarity for 'ID_378': 0.6798\n",
      "\n",
      "Processing resume file: 'Resume_of_ID_379.pdf'\n",
      "Extracted resume ID: '379'\n"
     ]
    },
    {
     "name": "stderr",
     "output_type": "stream",
     "text": [
      "Batches: 100%|██████████| 1/1 [00:00<00:00,  7.70it/s]\n",
      "Batches: 100%|██████████| 1/1 [00:00<00:00, 10.72it/s]\n"
     ]
    },
    {
     "name": "stdout",
     "output_type": "stream",
     "text": [
      "Computed similarity for 'ID_379': 0.7417\n",
      "\n",
      "Processing resume file: 'Resume_of_ID_38.pdf'\n",
      "Extracted resume ID: '38'\n"
     ]
    },
    {
     "name": "stderr",
     "output_type": "stream",
     "text": [
      "Batches: 100%|██████████| 1/1 [00:00<00:00, 11.93it/s]\n",
      "Batches: 100%|██████████| 1/1 [00:00<00:00, 11.94it/s]\n"
     ]
    },
    {
     "name": "stdout",
     "output_type": "stream",
     "text": [
      "Computed similarity for 'ID_38': 0.5226\n",
      "\n",
      "Processing resume file: 'Resume_of_ID_380.pdf'\n",
      "Extracted resume ID: '380'\n"
     ]
    },
    {
     "name": "stderr",
     "output_type": "stream",
     "text": [
      "Batches: 100%|██████████| 1/1 [00:00<00:00,  7.87it/s]\n",
      "Batches: 100%|██████████| 1/1 [00:00<00:00,  9.21it/s]\n"
     ]
    },
    {
     "name": "stdout",
     "output_type": "stream",
     "text": [
      "Computed similarity for 'ID_380': 0.4104\n",
      "\n",
      "Processing resume file: 'Resume_of_ID_381.pdf'\n",
      "Extracted resume ID: '381'\n"
     ]
    },
    {
     "name": "stderr",
     "output_type": "stream",
     "text": [
      "Batches: 100%|██████████| 1/1 [00:00<00:00,  8.57it/s]\n",
      "Batches: 100%|██████████| 1/1 [00:00<00:00,  9.45it/s]\n"
     ]
    },
    {
     "name": "stdout",
     "output_type": "stream",
     "text": [
      "Computed similarity for 'ID_381': 0.6561\n",
      "\n",
      "Processing resume file: 'Resume_of_ID_382.pdf'\n",
      "Extracted resume ID: '382'\n"
     ]
    },
    {
     "name": "stderr",
     "output_type": "stream",
     "text": [
      "Batches: 100%|██████████| 1/1 [00:00<00:00,  8.77it/s]\n",
      "Batches: 100%|██████████| 1/1 [00:00<00:00, 11.76it/s]\n"
     ]
    },
    {
     "name": "stdout",
     "output_type": "stream",
     "text": [
      "Computed similarity for 'ID_382': 0.5192\n",
      "\n",
      "Processing resume file: 'Resume_of_ID_383.pdf'\n",
      "Extracted resume ID: '383'\n"
     ]
    },
    {
     "name": "stderr",
     "output_type": "stream",
     "text": [
      "Batches: 100%|██████████| 1/1 [00:00<00:00,  9.57it/s]\n",
      "Batches: 100%|██████████| 1/1 [00:00<00:00, 12.30it/s]\n"
     ]
    },
    {
     "name": "stdout",
     "output_type": "stream",
     "text": [
      "Computed similarity for 'ID_383': 0.4655\n",
      "\n",
      "Processing resume file: 'Resume_of_ID_384.pdf'\n",
      "Extracted resume ID: '384'\n"
     ]
    },
    {
     "name": "stderr",
     "output_type": "stream",
     "text": [
      "Batches: 100%|██████████| 1/1 [00:00<00:00, 10.76it/s]\n",
      "Batches: 100%|██████████| 1/1 [00:00<00:00, 11.52it/s]\n"
     ]
    },
    {
     "name": "stdout",
     "output_type": "stream",
     "text": [
      "Computed similarity for 'ID_384': 0.7095\n",
      "\n",
      "Processing resume file: 'Resume_of_ID_385.pdf'\n",
      "Extracted resume ID: '385'\n"
     ]
    },
    {
     "name": "stderr",
     "output_type": "stream",
     "text": [
      "Batches: 100%|██████████| 1/1 [00:00<00:00,  9.56it/s]\n",
      "Batches: 100%|██████████| 1/1 [00:00<00:00,  9.52it/s]\n"
     ]
    },
    {
     "name": "stdout",
     "output_type": "stream",
     "text": [
      "Computed similarity for 'ID_385': 0.5984\n",
      "\n",
      "Processing resume file: 'Resume_of_ID_386.pdf'\n",
      "Extracted resume ID: '386'\n"
     ]
    },
    {
     "name": "stderr",
     "output_type": "stream",
     "text": [
      "Batches: 100%|██████████| 1/1 [00:00<00:00,  9.27it/s]\n",
      "Batches: 100%|██████████| 1/1 [00:00<00:00, 11.07it/s]\n"
     ]
    },
    {
     "name": "stdout",
     "output_type": "stream",
     "text": [
      "Computed similarity for 'ID_386': 0.6819\n",
      "\n",
      "Processing resume file: 'Resume_of_ID_387.pdf'\n",
      "Extracted resume ID: '387'\n"
     ]
    },
    {
     "name": "stderr",
     "output_type": "stream",
     "text": [
      "Batches: 100%|██████████| 1/1 [00:00<00:00, 10.92it/s]\n",
      "Batches: 100%|██████████| 1/1 [00:00<00:00,  9.25it/s]\n"
     ]
    },
    {
     "name": "stdout",
     "output_type": "stream",
     "text": [
      "Computed similarity for 'ID_387': 0.5959\n",
      "\n",
      "Processing resume file: 'Resume_of_ID_388.pdf'\n",
      "Extracted resume ID: '388'\n"
     ]
    },
    {
     "name": "stderr",
     "output_type": "stream",
     "text": [
      "Batches: 100%|██████████| 1/1 [00:00<00:00, 10.00it/s]\n",
      "Batches: 100%|██████████| 1/1 [00:00<00:00, 13.29it/s]\n"
     ]
    },
    {
     "name": "stdout",
     "output_type": "stream",
     "text": [
      "Computed similarity for 'ID_388': 0.714\n",
      "\n",
      "Processing resume file: 'Resume_of_ID_389.pdf'\n",
      "Extracted resume ID: '389'\n"
     ]
    },
    {
     "name": "stderr",
     "output_type": "stream",
     "text": [
      "Batches: 100%|██████████| 1/1 [00:00<00:00,  9.99it/s]\n",
      "Batches: 100%|██████████| 1/1 [00:00<00:00, 11.93it/s]\n"
     ]
    },
    {
     "name": "stdout",
     "output_type": "stream",
     "text": [
      "Computed similarity for 'ID_389': 0.7085\n",
      "\n",
      "Processing resume file: 'Resume_of_ID_39.pdf'\n",
      "Extracted resume ID: '39'\n"
     ]
    },
    {
     "name": "stderr",
     "output_type": "stream",
     "text": [
      "Batches: 100%|██████████| 1/1 [00:00<00:00,  8.57it/s]\n",
      "Batches: 100%|██████████| 1/1 [00:00<00:00, 10.02it/s]\n"
     ]
    },
    {
     "name": "stdout",
     "output_type": "stream",
     "text": [
      "Computed similarity for 'ID_39': 0.5982\n",
      "\n",
      "Processing resume file: 'Resume_of_ID_390.pdf'\n",
      "Extracted resume ID: '390'\n"
     ]
    },
    {
     "name": "stderr",
     "output_type": "stream",
     "text": [
      "Batches: 100%|██████████| 1/1 [00:00<00:00,  9.18it/s]\n",
      "Batches: 100%|██████████| 1/1 [00:00<00:00,  9.30it/s]\n"
     ]
    },
    {
     "name": "stdout",
     "output_type": "stream",
     "text": [
      "Computed similarity for 'ID_390': 0.6213\n",
      "\n",
      "Processing resume file: 'Resume_of_ID_391.pdf'\n",
      "Extracted resume ID: '391'\n"
     ]
    },
    {
     "name": "stderr",
     "output_type": "stream",
     "text": [
      "Batches: 100%|██████████| 1/1 [00:00<00:00,  8.43it/s]\n",
      "Batches: 100%|██████████| 1/1 [00:00<00:00, 10.96it/s]\n"
     ]
    },
    {
     "name": "stdout",
     "output_type": "stream",
     "text": [
      "Computed similarity for 'ID_391': 0.5489\n",
      "\n",
      "Processing resume file: 'Resume_of_ID_392.pdf'\n",
      "Extracted resume ID: '392'\n"
     ]
    },
    {
     "name": "stderr",
     "output_type": "stream",
     "text": [
      "Batches: 100%|██████████| 1/1 [00:00<00:00, 10.49it/s]\n",
      "Batches: 100%|██████████| 1/1 [00:00<00:00, 10.87it/s]\n"
     ]
    },
    {
     "name": "stdout",
     "output_type": "stream",
     "text": [
      "Computed similarity for 'ID_392': 0.6733\n",
      "\n",
      "Processing resume file: 'Resume_of_ID_393.pdf'\n",
      "Extracted resume ID: '393'\n"
     ]
    },
    {
     "name": "stderr",
     "output_type": "stream",
     "text": [
      "Batches: 100%|██████████| 1/1 [00:00<00:00, 12.88it/s]\n",
      "Batches: 100%|██████████| 1/1 [00:00<00:00, 15.07it/s]\n"
     ]
    },
    {
     "name": "stdout",
     "output_type": "stream",
     "text": [
      "Computed similarity for 'ID_393': 0.5955\n",
      "\n",
      "Processing resume file: 'Resume_of_ID_394.pdf'\n",
      "Extracted resume ID: '394'\n"
     ]
    },
    {
     "name": "stderr",
     "output_type": "stream",
     "text": [
      "Batches: 100%|██████████| 1/1 [00:00<00:00,  9.27it/s]\n",
      "Batches: 100%|██████████| 1/1 [00:00<00:00, 10.00it/s]\n"
     ]
    },
    {
     "name": "stdout",
     "output_type": "stream",
     "text": [
      "Computed similarity for 'ID_394': 0.5968\n",
      "\n",
      "Processing resume file: 'Resume_of_ID_395.pdf'\n",
      "Extracted resume ID: '395'\n"
     ]
    },
    {
     "name": "stderr",
     "output_type": "stream",
     "text": [
      "Batches: 100%|██████████| 1/1 [00:00<00:00,  8.59it/s]\n",
      "Batches: 100%|██████████| 1/1 [00:00<00:00, 10.08it/s]\n"
     ]
    },
    {
     "name": "stdout",
     "output_type": "stream",
     "text": [
      "Computed similarity for 'ID_395': 0.62\n",
      "\n",
      "Processing resume file: 'Resume_of_ID_396.pdf'\n",
      "Extracted resume ID: '396'\n"
     ]
    },
    {
     "name": "stderr",
     "output_type": "stream",
     "text": [
      "Batches: 100%|██████████| 1/1 [00:00<00:00, 10.98it/s]\n",
      "Batches: 100%|██████████| 1/1 [00:00<00:00, 13.29it/s]\n"
     ]
    },
    {
     "name": "stdout",
     "output_type": "stream",
     "text": [
      "Computed similarity for 'ID_396': 0.6852\n",
      "\n",
      "Processing resume file: 'Resume_of_ID_397.pdf'\n",
      "Extracted resume ID: '397'\n"
     ]
    },
    {
     "name": "stderr",
     "output_type": "stream",
     "text": [
      "Batches: 100%|██████████| 1/1 [00:00<00:00,  9.95it/s]\n",
      "Batches: 100%|██████████| 1/1 [00:00<00:00,  9.99it/s]\n"
     ]
    },
    {
     "name": "stdout",
     "output_type": "stream",
     "text": [
      "Computed similarity for 'ID_397': 0.591\n",
      "\n",
      "Processing resume file: 'Resume_of_ID_398.pdf'\n",
      "Extracted resume ID: '398'\n"
     ]
    },
    {
     "name": "stderr",
     "output_type": "stream",
     "text": [
      "Batches: 100%|██████████| 1/1 [00:00<00:00,  8.55it/s]\n",
      "Batches: 100%|██████████| 1/1 [00:00<00:00,  9.29it/s]\n"
     ]
    },
    {
     "name": "stdout",
     "output_type": "stream",
     "text": [
      "Computed similarity for 'ID_398': 0.7377\n",
      "\n",
      "Processing resume file: 'Resume_of_ID_399.pdf'\n",
      "Extracted resume ID: '399'\n"
     ]
    },
    {
     "name": "stderr",
     "output_type": "stream",
     "text": [
      "Batches: 100%|██████████| 1/1 [00:00<00:00,  8.55it/s]\n",
      "Batches: 100%|██████████| 1/1 [00:00<00:00, 11.97it/s]\n"
     ]
    },
    {
     "name": "stdout",
     "output_type": "stream",
     "text": [
      "Computed similarity for 'ID_399': 0.5828\n",
      "\n",
      "Processing resume file: 'Resume_of_ID_4.pdf'\n",
      "Extracted resume ID: '4'\n"
     ]
    },
    {
     "name": "stderr",
     "output_type": "stream",
     "text": [
      "Batches: 100%|██████████| 1/1 [00:00<00:00, 11.95it/s]\n",
      "Batches: 100%|██████████| 1/1 [00:00<00:00, 10.68it/s]\n"
     ]
    },
    {
     "name": "stdout",
     "output_type": "stream",
     "text": [
      "Computed similarity for 'ID_4': 0.6715\n",
      "\n",
      "Processing resume file: 'Resume_of_ID_40.pdf'\n",
      "Extracted resume ID: '40'\n"
     ]
    },
    {
     "name": "stderr",
     "output_type": "stream",
     "text": [
      "Batches: 100%|██████████| 1/1 [00:00<00:00,  9.97it/s]\n",
      "Batches: 100%|██████████| 1/1 [00:00<00:00, 10.94it/s]\n"
     ]
    },
    {
     "name": "stdout",
     "output_type": "stream",
     "text": [
      "Computed similarity for 'ID_40': 0.6677\n",
      "\n",
      "Processing resume file: 'Resume_of_ID_400.pdf'\n",
      "Extracted resume ID: '400'\n"
     ]
    },
    {
     "name": "stderr",
     "output_type": "stream",
     "text": [
      "Batches: 100%|██████████| 1/1 [00:00<00:00, 11.03it/s]\n",
      "Batches: 100%|██████████| 1/1 [00:00<00:00, 16.04it/s]\n"
     ]
    },
    {
     "name": "stdout",
     "output_type": "stream",
     "text": [
      "Computed similarity for 'ID_400': 0.7052\n",
      "\n",
      "Processing resume file: 'Resume_of_ID_401.pdf'\n",
      "Extracted resume ID: '401'\n"
     ]
    },
    {
     "name": "stderr",
     "output_type": "stream",
     "text": [
      "Batches: 100%|██████████| 1/1 [00:00<00:00, 10.09it/s]\n",
      "Batches: 100%|██████████| 1/1 [00:00<00:00, 11.48it/s]\n"
     ]
    },
    {
     "name": "stdout",
     "output_type": "stream",
     "text": [
      "Computed similarity for 'ID_401': 0.5004\n",
      "\n",
      "Processing resume file: 'Resume_of_ID_402.pdf'\n",
      "Extracted resume ID: '402'\n"
     ]
    },
    {
     "name": "stderr",
     "output_type": "stream",
     "text": [
      "Batches: 100%|██████████| 1/1 [00:00<00:00, 10.81it/s]\n",
      "Batches: 100%|██████████| 1/1 [00:00<00:00, 10.84it/s]\n"
     ]
    },
    {
     "name": "stdout",
     "output_type": "stream",
     "text": [
      "Computed similarity for 'ID_402': 0.7479\n",
      "\n",
      "Processing resume file: 'Resume_of_ID_403.pdf'\n",
      "Extracted resume ID: '403'\n"
     ]
    },
    {
     "name": "stderr",
     "output_type": "stream",
     "text": [
      "Batches: 100%|██████████| 1/1 [00:00<00:00, 10.05it/s]\n",
      "Batches: 100%|██████████| 1/1 [00:00<00:00,  8.56it/s]\n"
     ]
    },
    {
     "name": "stdout",
     "output_type": "stream",
     "text": [
      "Computed similarity for 'ID_403': 0.7427\n",
      "\n",
      "Processing resume file: 'Resume_of_ID_404.pdf'\n",
      "Extracted resume ID: '404'\n"
     ]
    },
    {
     "name": "stderr",
     "output_type": "stream",
     "text": [
      "Batches: 100%|██████████| 1/1 [00:00<00:00, 10.22it/s]\n",
      "Batches: 100%|██████████| 1/1 [00:00<00:00,  9.84it/s]\n"
     ]
    },
    {
     "name": "stdout",
     "output_type": "stream",
     "text": [
      "Computed similarity for 'ID_404': 0.7302\n",
      "\n",
      "Processing resume file: 'Resume_of_ID_405.pdf'\n",
      "Extracted resume ID: '405'\n"
     ]
    },
    {
     "name": "stderr",
     "output_type": "stream",
     "text": [
      "Batches: 100%|██████████| 1/1 [00:00<00:00,  9.94it/s]\n",
      "Batches: 100%|██████████| 1/1 [00:00<00:00, 10.82it/s]\n"
     ]
    },
    {
     "name": "stdout",
     "output_type": "stream",
     "text": [
      "Computed similarity for 'ID_405': 0.5298\n",
      "\n",
      "Processing resume file: 'Resume_of_ID_406.pdf'\n",
      "Extracted resume ID: '406'\n"
     ]
    },
    {
     "name": "stderr",
     "output_type": "stream",
     "text": [
      "Batches: 100%|██████████| 1/1 [00:00<00:00,  9.26it/s]\n",
      "Batches: 100%|██████████| 1/1 [00:00<00:00, 13.01it/s]\n"
     ]
    },
    {
     "name": "stdout",
     "output_type": "stream",
     "text": [
      "Computed similarity for 'ID_406': 0.7838\n",
      "\n",
      "Processing resume file: 'Resume_of_ID_407.pdf'\n",
      "Extracted resume ID: '407'\n"
     ]
    },
    {
     "name": "stderr",
     "output_type": "stream",
     "text": [
      "Batches: 100%|██████████| 1/1 [00:00<00:00, 13.25it/s]\n",
      "Batches: 100%|██████████| 1/1 [00:00<00:00, 10.01it/s]\n"
     ]
    },
    {
     "name": "stdout",
     "output_type": "stream",
     "text": [
      "Computed similarity for 'ID_407': 0.7462\n",
      "\n",
      "Processing resume file: 'Resume_of_ID_408.pdf'\n",
      "Extracted resume ID: '408'\n"
     ]
    },
    {
     "name": "stderr",
     "output_type": "stream",
     "text": [
      "Batches: 100%|██████████| 1/1 [00:00<00:00, 10.03it/s]\n",
      "Batches: 100%|██████████| 1/1 [00:00<00:00,  8.62it/s]\n"
     ]
    },
    {
     "name": "stdout",
     "output_type": "stream",
     "text": [
      "Computed similarity for 'ID_408': 0.6228\n",
      "\n",
      "Processing resume file: 'Resume_of_ID_409.pdf'\n",
      "Extracted resume ID: '409'\n"
     ]
    },
    {
     "name": "stderr",
     "output_type": "stream",
     "text": [
      "Batches: 100%|██████████| 1/1 [00:00<00:00,  8.56it/s]\n",
      "Batches: 100%|██████████| 1/1 [00:00<00:00,  8.57it/s]\n"
     ]
    },
    {
     "name": "stdout",
     "output_type": "stream",
     "text": [
      "Computed similarity for 'ID_409': 0.6806\n",
      "\n",
      "Processing resume file: 'Resume_of_ID_41.pdf'\n",
      "Extracted resume ID: '41'\n"
     ]
    },
    {
     "name": "stderr",
     "output_type": "stream",
     "text": [
      "Batches: 100%|██████████| 1/1 [00:00<00:00,  9.38it/s]\n",
      "Batches: 100%|██████████| 1/1 [00:00<00:00, 11.01it/s]\n"
     ]
    },
    {
     "name": "stdout",
     "output_type": "stream",
     "text": [
      "Computed similarity for 'ID_41': 0.6327\n",
      "\n",
      "Processing resume file: 'Resume_of_ID_410.pdf'\n",
      "Extracted resume ID: '410'\n"
     ]
    },
    {
     "name": "stderr",
     "output_type": "stream",
     "text": [
      "Batches: 100%|██████████| 1/1 [00:00<00:00,  9.24it/s]\n",
      "Batches: 100%|██████████| 1/1 [00:00<00:00, 12.06it/s]\n"
     ]
    },
    {
     "name": "stdout",
     "output_type": "stream",
     "text": [
      "Computed similarity for 'ID_410': 0.6633\n",
      "\n",
      "Processing resume file: 'Resume_of_ID_411.pdf'\n",
      "Extracted resume ID: '411'\n"
     ]
    },
    {
     "name": "stderr",
     "output_type": "stream",
     "text": [
      "Batches: 100%|██████████| 1/1 [00:00<00:00,  8.63it/s]\n",
      "Batches: 100%|██████████| 1/1 [00:00<00:00, 10.00it/s]\n"
     ]
    },
    {
     "name": "stdout",
     "output_type": "stream",
     "text": [
      "Computed similarity for 'ID_411': 0.5055\n",
      "\n",
      "Processing resume file: 'Resume_of_ID_412.pdf'\n",
      "Extracted resume ID: '412'\n"
     ]
    },
    {
     "name": "stderr",
     "output_type": "stream",
     "text": [
      "Batches: 100%|██████████| 1/1 [00:00<00:00,  8.00it/s]\n",
      "Batches: 100%|██████████| 1/1 [00:00<00:00, 10.09it/s]\n"
     ]
    },
    {
     "name": "stdout",
     "output_type": "stream",
     "text": [
      "Computed similarity for 'ID_412': 0.5105\n",
      "\n",
      "Processing resume file: 'Resume_of_ID_413.pdf'\n",
      "Extracted resume ID: '413'\n"
     ]
    },
    {
     "name": "stderr",
     "output_type": "stream",
     "text": [
      "Batches: 100%|██████████| 1/1 [00:00<00:00,  8.62it/s]\n",
      "Batches: 100%|██████████| 1/1 [00:00<00:00, 10.06it/s]\n"
     ]
    },
    {
     "name": "stdout",
     "output_type": "stream",
     "text": [
      "Computed similarity for 'ID_413': 0.6986\n",
      "\n",
      "Processing resume file: 'Resume_of_ID_414.pdf'\n",
      "Extracted resume ID: '414'\n"
     ]
    },
    {
     "name": "stderr",
     "output_type": "stream",
     "text": [
      "Batches: 100%|██████████| 1/1 [00:00<00:00, 11.54it/s]\n",
      "Batches: 100%|██████████| 1/1 [00:00<00:00, 10.99it/s]\n"
     ]
    },
    {
     "name": "stdout",
     "output_type": "stream",
     "text": [
      "Computed similarity for 'ID_414': 0.6923\n",
      "\n",
      "Processing resume file: 'Resume_of_ID_415.pdf'\n",
      "Extracted resume ID: '415'\n"
     ]
    },
    {
     "name": "stderr",
     "output_type": "stream",
     "text": [
      "Batches: 100%|██████████| 1/1 [00:00<00:00, 12.08it/s]\n",
      "Batches: 100%|██████████| 1/1 [00:00<00:00, 17.24it/s]\n"
     ]
    },
    {
     "name": "stdout",
     "output_type": "stream",
     "text": [
      "Computed similarity for 'ID_415': 0.5619\n",
      "\n",
      "Processing resume file: 'Resume_of_ID_416.pdf'\n",
      "Extracted resume ID: '416'\n"
     ]
    },
    {
     "name": "stderr",
     "output_type": "stream",
     "text": [
      "Batches: 100%|██████████| 1/1 [00:00<00:00, 10.02it/s]\n",
      "Batches: 100%|██████████| 1/1 [00:00<00:00, 12.04it/s]\n"
     ]
    },
    {
     "name": "stdout",
     "output_type": "stream",
     "text": [
      "Computed similarity for 'ID_416': 0.6356\n",
      "\n",
      "Processing resume file: 'Resume_of_ID_417.pdf'\n",
      "Extracted resume ID: '417'\n"
     ]
    },
    {
     "name": "stderr",
     "output_type": "stream",
     "text": [
      "Batches: 100%|██████████| 1/1 [00:00<00:00,  9.25it/s]\n",
      "Batches: 100%|██████████| 1/1 [00:00<00:00, 11.94it/s]\n"
     ]
    },
    {
     "name": "stdout",
     "output_type": "stream",
     "text": [
      "Computed similarity for 'ID_417': 0.5516\n",
      "\n",
      "Processing resume file: 'Resume_of_ID_418.pdf'\n",
      "Extracted resume ID: '418'\n"
     ]
    },
    {
     "name": "stderr",
     "output_type": "stream",
     "text": [
      "Batches: 100%|██████████| 1/1 [00:00<00:00, 10.02it/s]\n",
      "Batches: 100%|██████████| 1/1 [00:00<00:00, 11.97it/s]\n"
     ]
    },
    {
     "name": "stdout",
     "output_type": "stream",
     "text": [
      "Computed similarity for 'ID_418': 0.6785\n",
      "\n",
      "Processing resume file: 'Resume_of_ID_419.pdf'\n",
      "Extracted resume ID: '419'\n"
     ]
    },
    {
     "name": "stderr",
     "output_type": "stream",
     "text": [
      "Batches: 100%|██████████| 1/1 [00:00<00:00, 10.02it/s]\n",
      "Batches: 100%|██████████| 1/1 [00:00<00:00, 11.99it/s]\n"
     ]
    },
    {
     "name": "stdout",
     "output_type": "stream",
     "text": [
      "Computed similarity for 'ID_419': 0.5538\n",
      "\n",
      "Processing resume file: 'Resume_of_ID_42.pdf'\n",
      "Extracted resume ID: '42'\n"
     ]
    },
    {
     "name": "stderr",
     "output_type": "stream",
     "text": [
      "Batches: 100%|██████████| 1/1 [00:00<00:00, 10.85it/s]\n",
      "Batches: 100%|██████████| 1/1 [00:00<00:00, 14.94it/s]\n"
     ]
    },
    {
     "name": "stdout",
     "output_type": "stream",
     "text": [
      "Computed similarity for 'ID_42': 0.732\n",
      "\n",
      "Processing resume file: 'Resume_of_ID_420.pdf'\n",
      "Extracted resume ID: '420'\n"
     ]
    },
    {
     "name": "stderr",
     "output_type": "stream",
     "text": [
      "Batches: 100%|██████████| 1/1 [00:00<00:00,  9.25it/s]\n",
      "Batches: 100%|██████████| 1/1 [00:00<00:00, 13.26it/s]\n"
     ]
    },
    {
     "name": "stdout",
     "output_type": "stream",
     "text": [
      "Computed similarity for 'ID_420': 0.7165\n",
      "\n",
      "Processing resume file: 'Resume_of_ID_421.pdf'\n",
      "Extracted resume ID: '421'\n"
     ]
    },
    {
     "name": "stderr",
     "output_type": "stream",
     "text": [
      "Batches: 100%|██████████| 1/1 [00:00<00:00, 13.43it/s]\n",
      "Batches: 100%|██████████| 1/1 [00:00<00:00, 14.94it/s]\n"
     ]
    },
    {
     "name": "stdout",
     "output_type": "stream",
     "text": [
      "Computed similarity for 'ID_421': 0.4826\n",
      "\n",
      "Processing resume file: 'Resume_of_ID_422.pdf'\n",
      "Extracted resume ID: '422'\n"
     ]
    },
    {
     "name": "stderr",
     "output_type": "stream",
     "text": [
      "Batches: 100%|██████████| 1/1 [00:00<00:00,  9.77it/s]\n",
      "Batches: 100%|██████████| 1/1 [00:00<00:00,  7.97it/s]\n"
     ]
    },
    {
     "name": "stdout",
     "output_type": "stream",
     "text": [
      "Computed similarity for 'ID_422': 0.6864\n",
      "\n",
      "Processing resume file: 'Resume_of_ID_423.pdf'\n",
      "Extracted resume ID: '423'\n"
     ]
    },
    {
     "name": "stderr",
     "output_type": "stream",
     "text": [
      "Batches: 100%|██████████| 1/1 [00:00<00:00,  8.56it/s]\n",
      "Batches: 100%|██████████| 1/1 [00:00<00:00, 11.38it/s]\n"
     ]
    },
    {
     "name": "stdout",
     "output_type": "stream",
     "text": [
      "Computed similarity for 'ID_423': 0.6972\n",
      "\n",
      "Processing resume file: 'Resume_of_ID_424.pdf'\n",
      "Extracted resume ID: '424'\n"
     ]
    },
    {
     "name": "stderr",
     "output_type": "stream",
     "text": [
      "Batches: 100%|██████████| 1/1 [00:00<00:00, 10.98it/s]\n",
      "Batches: 100%|██████████| 1/1 [00:00<00:00, 16.89it/s]\n"
     ]
    },
    {
     "name": "stdout",
     "output_type": "stream",
     "text": [
      "Computed similarity for 'ID_424': 0.6372\n",
      "\n",
      "Processing resume file: 'Resume_of_ID_425.pdf'\n",
      "Extracted resume ID: '425'\n"
     ]
    },
    {
     "name": "stderr",
     "output_type": "stream",
     "text": [
      "Batches: 100%|██████████| 1/1 [00:00<00:00,  9.20it/s]\n",
      "Batches: 100%|██████████| 1/1 [00:00<00:00, 10.00it/s]\n"
     ]
    },
    {
     "name": "stdout",
     "output_type": "stream",
     "text": [
      "Computed similarity for 'ID_425': 0.6686\n",
      "\n",
      "Processing resume file: 'Resume_of_ID_426.pdf'\n",
      "Extracted resume ID: '426'\n"
     ]
    },
    {
     "name": "stderr",
     "output_type": "stream",
     "text": [
      "Batches: 100%|██████████| 1/1 [00:00<00:00,  9.23it/s]\n",
      "Batches: 100%|██████████| 1/1 [00:00<00:00, 10.85it/s]\n"
     ]
    },
    {
     "name": "stdout",
     "output_type": "stream",
     "text": [
      "Computed similarity for 'ID_426': 0.6846\n",
      "\n",
      "Processing resume file: 'Resume_of_ID_427.pdf'\n",
      "Extracted resume ID: '427'\n"
     ]
    },
    {
     "name": "stderr",
     "output_type": "stream",
     "text": [
      "Batches: 100%|██████████| 1/1 [00:00<00:00,  8.56it/s]\n",
      "Batches: 100%|██████████| 1/1 [00:00<00:00, 10.94it/s]\n"
     ]
    },
    {
     "name": "stdout",
     "output_type": "stream",
     "text": [
      "Computed similarity for 'ID_427': 0.7742\n",
      "\n",
      "Processing resume file: 'Resume_of_ID_428.pdf'\n",
      "Extracted resume ID: '428'\n"
     ]
    },
    {
     "name": "stderr",
     "output_type": "stream",
     "text": [
      "Batches: 100%|██████████| 1/1 [00:00<00:00, 10.00it/s]\n",
      "Batches: 100%|██████████| 1/1 [00:00<00:00, 12.09it/s]\n"
     ]
    },
    {
     "name": "stdout",
     "output_type": "stream",
     "text": [
      "Computed similarity for 'ID_428': 0.6298\n",
      "\n",
      "Processing resume file: 'Resume_of_ID_429.pdf'\n",
      "Extracted resume ID: '429'\n"
     ]
    },
    {
     "name": "stderr",
     "output_type": "stream",
     "text": [
      "Batches: 100%|██████████| 1/1 [00:00<00:00, 10.34it/s]\n",
      "Batches: 100%|██████████| 1/1 [00:00<00:00,  9.94it/s]\n"
     ]
    },
    {
     "name": "stdout",
     "output_type": "stream",
     "text": [
      "Computed similarity for 'ID_429': 0.5536\n",
      "\n",
      "Processing resume file: 'Resume_of_ID_43.pdf'\n",
      "Extracted resume ID: '43'\n"
     ]
    },
    {
     "name": "stderr",
     "output_type": "stream",
     "text": [
      "Batches: 100%|██████████| 1/1 [00:00<00:00,  9.24it/s]\n",
      "Batches: 100%|██████████| 1/1 [00:00<00:00, 10.82it/s]\n"
     ]
    },
    {
     "name": "stdout",
     "output_type": "stream",
     "text": [
      "Computed similarity for 'ID_43': 0.8048\n",
      "\n",
      "Processing resume file: 'Resume_of_ID_430.pdf'\n",
      "Extracted resume ID: '430'\n"
     ]
    },
    {
     "name": "stderr",
     "output_type": "stream",
     "text": [
      "Batches: 100%|██████████| 1/1 [00:00<00:00, 11.97it/s]\n",
      "Batches: 100%|██████████| 1/1 [00:00<00:00, 11.95it/s]\n"
     ]
    },
    {
     "name": "stdout",
     "output_type": "stream",
     "text": [
      "Computed similarity for 'ID_430': 0.7288\n",
      "\n",
      "Processing resume file: 'Resume_of_ID_431.pdf'\n",
      "Extracted resume ID: '431'\n"
     ]
    },
    {
     "name": "stderr",
     "output_type": "stream",
     "text": [
      "Batches: 100%|██████████| 1/1 [00:00<00:00, 10.02it/s]\n",
      "Batches: 100%|██████████| 1/1 [00:00<00:00, 13.21it/s]\n"
     ]
    },
    {
     "name": "stdout",
     "output_type": "stream",
     "text": [
      "Computed similarity for 'ID_431': 0.6441\n",
      "\n",
      "Processing resume file: 'Resume_of_ID_432.pdf'\n",
      "Extracted resume ID: '432'\n"
     ]
    },
    {
     "name": "stderr",
     "output_type": "stream",
     "text": [
      "Batches: 100%|██████████| 1/1 [00:00<00:00,  8.57it/s]\n",
      "Batches: 100%|██████████| 1/1 [00:00<00:00,  9.19it/s]\n"
     ]
    },
    {
     "name": "stdout",
     "output_type": "stream",
     "text": [
      "Computed similarity for 'ID_432': 0.5209\n",
      "\n",
      "Processing resume file: 'Resume_of_ID_433.pdf'\n",
      "Extracted resume ID: '433'\n"
     ]
    },
    {
     "name": "stderr",
     "output_type": "stream",
     "text": [
      "Batches: 100%|██████████| 1/1 [00:00<00:00, 11.17it/s]\n",
      "Batches: 100%|██████████| 1/1 [00:00<00:00, 13.88it/s]\n"
     ]
    },
    {
     "name": "stdout",
     "output_type": "stream",
     "text": [
      "Computed similarity for 'ID_433': 0.5197\n",
      "\n",
      "Processing resume file: 'Resume_of_ID_434.pdf'\n",
      "Extracted resume ID: '434'\n"
     ]
    },
    {
     "name": "stderr",
     "output_type": "stream",
     "text": [
      "Batches: 100%|██████████| 1/1 [00:00<00:00,  9.76it/s]\n",
      "Batches: 100%|██████████| 1/1 [00:00<00:00,  9.50it/s]\n"
     ]
    },
    {
     "name": "stdout",
     "output_type": "stream",
     "text": [
      "Computed similarity for 'ID_434': 0.6796\n",
      "\n",
      "Processing resume file: 'Resume_of_ID_435.pdf'\n",
      "Extracted resume ID: '435'\n"
     ]
    },
    {
     "name": "stderr",
     "output_type": "stream",
     "text": [
      "Batches: 100%|██████████| 1/1 [00:00<00:00, 10.01it/s]\n",
      "Batches: 100%|██████████| 1/1 [00:00<00:00,  9.31it/s]\n"
     ]
    },
    {
     "name": "stdout",
     "output_type": "stream",
     "text": [
      "Computed similarity for 'ID_435': 0.6848\n",
      "\n",
      "Processing resume file: 'Resume_of_ID_436.pdf'\n",
      "Extracted resume ID: '436'\n"
     ]
    },
    {
     "name": "stderr",
     "output_type": "stream",
     "text": [
      "Batches: 100%|██████████| 1/1 [00:00<00:00, 13.63it/s]\n",
      "Batches: 100%|██████████| 1/1 [00:00<00:00, 15.40it/s]\n"
     ]
    },
    {
     "name": "stdout",
     "output_type": "stream",
     "text": [
      "Computed similarity for 'ID_436': 0.7278\n",
      "\n",
      "Processing resume file: 'Resume_of_ID_437.pdf'\n",
      "Extracted resume ID: '437'\n"
     ]
    },
    {
     "name": "stderr",
     "output_type": "stream",
     "text": [
      "Batches: 100%|██████████| 1/1 [00:00<00:00,  9.51it/s]\n",
      "Batches: 100%|██████████| 1/1 [00:00<00:00,  8.56it/s]\n"
     ]
    },
    {
     "name": "stdout",
     "output_type": "stream",
     "text": [
      "Computed similarity for 'ID_437': 0.6908\n",
      "\n",
      "Processing resume file: 'Resume_of_ID_438.pdf'\n",
      "Extracted resume ID: '438'\n"
     ]
    },
    {
     "name": "stderr",
     "output_type": "stream",
     "text": [
      "Batches: 100%|██████████| 1/1 [00:00<00:00,  9.48it/s]\n",
      "Batches: 100%|██████████| 1/1 [00:00<00:00, 13.37it/s]\n"
     ]
    },
    {
     "name": "stdout",
     "output_type": "stream",
     "text": [
      "Computed similarity for 'ID_438': 0.6041\n",
      "\n",
      "Processing resume file: 'Resume_of_ID_439.pdf'\n",
      "Extracted resume ID: '439'\n"
     ]
    },
    {
     "name": "stderr",
     "output_type": "stream",
     "text": [
      "Batches: 100%|██████████| 1/1 [00:00<00:00,  8.53it/s]\n",
      "Batches: 100%|██████████| 1/1 [00:00<00:00, 10.39it/s]\n"
     ]
    },
    {
     "name": "stdout",
     "output_type": "stream",
     "text": [
      "Computed similarity for 'ID_439': 0.7319\n",
      "\n",
      "Processing resume file: 'Resume_of_ID_44.pdf'\n",
      "Extracted resume ID: '44'\n"
     ]
    },
    {
     "name": "stderr",
     "output_type": "stream",
     "text": [
      "Batches: 100%|██████████| 1/1 [00:00<00:00,  8.93it/s]\n",
      "Batches: 100%|██████████| 1/1 [00:00<00:00, 10.62it/s]\n"
     ]
    },
    {
     "name": "stdout",
     "output_type": "stream",
     "text": [
      "Computed similarity for 'ID_44': 0.5407\n",
      "\n",
      "Processing resume file: 'Resume_of_ID_440.pdf'\n",
      "Extracted resume ID: '440'\n"
     ]
    },
    {
     "name": "stderr",
     "output_type": "stream",
     "text": [
      "Batches: 100%|██████████| 1/1 [00:00<00:00,  9.67it/s]\n",
      "Batches: 100%|██████████| 1/1 [00:00<00:00, 11.94it/s]\n"
     ]
    },
    {
     "name": "stdout",
     "output_type": "stream",
     "text": [
      "Computed similarity for 'ID_440': 0.5363\n",
      "\n",
      "Processing resume file: 'Resume_of_ID_441.pdf'\n",
      "Extracted resume ID: '441'\n"
     ]
    },
    {
     "name": "stderr",
     "output_type": "stream",
     "text": [
      "Batches: 100%|██████████| 1/1 [00:00<00:00, 10.03it/s]\n",
      "Batches: 100%|██████████| 1/1 [00:00<00:00, 10.82it/s]\n"
     ]
    },
    {
     "name": "stdout",
     "output_type": "stream",
     "text": [
      "Computed similarity for 'ID_441': 0.6476\n",
      "\n",
      "Processing resume file: 'Resume_of_ID_442.pdf'\n",
      "Extracted resume ID: '442'\n"
     ]
    },
    {
     "name": "stderr",
     "output_type": "stream",
     "text": [
      "Batches: 100%|██████████| 1/1 [00:00<00:00, 12.08it/s]\n",
      "Batches: 100%|██████████| 1/1 [00:00<00:00, 13.33it/s]\n"
     ]
    },
    {
     "name": "stdout",
     "output_type": "stream",
     "text": [
      "Computed similarity for 'ID_442': 0.6562\n",
      "\n",
      "Processing resume file: 'Resume_of_ID_443.pdf'\n",
      "Extracted resume ID: '443'\n"
     ]
    },
    {
     "name": "stderr",
     "output_type": "stream",
     "text": [
      "Batches: 100%|██████████| 1/1 [00:00<00:00,  9.88it/s]\n",
      "Batches: 100%|██████████| 1/1 [00:00<00:00, 12.16it/s]\n"
     ]
    },
    {
     "name": "stdout",
     "output_type": "stream",
     "text": [
      "Computed similarity for 'ID_443': 0.7511\n",
      "\n",
      "Processing resume file: 'Resume_of_ID_444.pdf'\n",
      "Extracted resume ID: '444'\n"
     ]
    },
    {
     "name": "stderr",
     "output_type": "stream",
     "text": [
      "Batches: 100%|██████████| 1/1 [00:00<00:00,  8.98it/s]\n",
      "Batches: 100%|██████████| 1/1 [00:00<00:00, 14.55it/s]\n"
     ]
    },
    {
     "name": "stdout",
     "output_type": "stream",
     "text": [
      "Computed similarity for 'ID_444': 0.6825\n",
      "\n",
      "Processing resume file: 'Resume_of_ID_445.pdf'\n",
      "Extracted resume ID: '445'\n"
     ]
    },
    {
     "name": "stderr",
     "output_type": "stream",
     "text": [
      "Batches: 100%|██████████| 1/1 [00:00<00:00,  8.48it/s]\n",
      "Batches: 100%|██████████| 1/1 [00:00<00:00, 10.68it/s]\n"
     ]
    },
    {
     "name": "stdout",
     "output_type": "stream",
     "text": [
      "Computed similarity for 'ID_445': 0.5784\n",
      "\n",
      "Processing resume file: 'Resume_of_ID_446.pdf'\n",
      "Extracted resume ID: '446'\n"
     ]
    },
    {
     "name": "stderr",
     "output_type": "stream",
     "text": [
      "Batches: 100%|██████████| 1/1 [00:00<00:00,  9.62it/s]\n",
      "Batches: 100%|██████████| 1/1 [00:00<00:00, 10.23it/s]\n"
     ]
    },
    {
     "name": "stdout",
     "output_type": "stream",
     "text": [
      "Computed similarity for 'ID_446': 0.8038\n",
      "\n",
      "Processing resume file: 'Resume_of_ID_447.pdf'\n",
      "Extracted resume ID: '447'\n"
     ]
    },
    {
     "name": "stderr",
     "output_type": "stream",
     "text": [
      "Batches: 100%|██████████| 1/1 [00:00<00:00,  9.28it/s]\n",
      "Batches: 100%|██████████| 1/1 [00:00<00:00, 13.33it/s]\n"
     ]
    },
    {
     "name": "stdout",
     "output_type": "stream",
     "text": [
      "Computed similarity for 'ID_447': 0.5905\n",
      "\n",
      "Processing resume file: 'Resume_of_ID_448.pdf'\n",
      "Extracted resume ID: '448'\n"
     ]
    },
    {
     "name": "stderr",
     "output_type": "stream",
     "text": [
      "Batches: 100%|██████████| 1/1 [00:00<00:00, 10.74it/s]\n",
      "Batches: 100%|██████████| 1/1 [00:00<00:00, 12.32it/s]\n"
     ]
    },
    {
     "name": "stdout",
     "output_type": "stream",
     "text": [
      "Computed similarity for 'ID_448': 0.6452\n",
      "\n",
      "Processing resume file: 'Resume_of_ID_449.pdf'\n",
      "Extracted resume ID: '449'\n"
     ]
    },
    {
     "name": "stderr",
     "output_type": "stream",
     "text": [
      "Batches: 100%|██████████| 1/1 [00:00<00:00, 10.25it/s]\n",
      "Batches: 100%|██████████| 1/1 [00:00<00:00, 10.54it/s]\n"
     ]
    },
    {
     "name": "stdout",
     "output_type": "stream",
     "text": [
      "Computed similarity for 'ID_449': 0.6423\n",
      "\n",
      "Processing resume file: 'Resume_of_ID_45.pdf'\n",
      "Extracted resume ID: '45'\n"
     ]
    },
    {
     "name": "stderr",
     "output_type": "stream",
     "text": [
      "Batches: 100%|██████████| 1/1 [00:00<00:00, 13.41it/s]\n",
      "Batches: 100%|██████████| 1/1 [00:00<00:00, 17.11it/s]\n"
     ]
    },
    {
     "name": "stdout",
     "output_type": "stream",
     "text": [
      "Computed similarity for 'ID_45': 0.4375\n",
      "\n",
      "Processing resume file: 'Resume_of_ID_450.pdf'\n",
      "Extracted resume ID: '450'\n"
     ]
    },
    {
     "name": "stderr",
     "output_type": "stream",
     "text": [
      "Batches: 100%|██████████| 1/1 [00:00<00:00, 13.24it/s]\n",
      "Batches: 100%|██████████| 1/1 [00:00<00:00, 15.79it/s]\n"
     ]
    },
    {
     "name": "stdout",
     "output_type": "stream",
     "text": [
      "Computed similarity for 'ID_450': 0.6115\n",
      "\n",
      "Processing resume file: 'Resume_of_ID_451.pdf'\n",
      "Extracted resume ID: '451'\n",
      "Skipping similarity computation for '451' due to empty recommendation letters.\n",
      "\n",
      "Processing resume file: 'Resume_of_ID_452.pdf'\n",
      "Extracted resume ID: '452'\n"
     ]
    },
    {
     "name": "stderr",
     "output_type": "stream",
     "text": [
      "Batches: 100%|██████████| 1/1 [00:00<00:00, 16.36it/s]\n",
      "Batches: 100%|██████████| 1/1 [00:00<00:00, 15.19it/s]\n"
     ]
    },
    {
     "name": "stdout",
     "output_type": "stream",
     "text": [
      "Computed similarity for 'ID_452': 0.5915\n",
      "\n",
      "Processing resume file: 'Resume_of_ID_453.pdf'\n",
      "Extracted resume ID: '453'\n"
     ]
    },
    {
     "name": "stderr",
     "output_type": "stream",
     "text": [
      "Batches: 100%|██████████| 1/1 [00:00<00:00,  9.23it/s]\n",
      "Batches: 100%|██████████| 1/1 [00:00<00:00, 14.95it/s]\n"
     ]
    },
    {
     "name": "stdout",
     "output_type": "stream",
     "text": [
      "Computed similarity for 'ID_453': 0.5266\n",
      "\n",
      "Processing resume file: 'Resume_of_ID_454.pdf'\n",
      "Extracted resume ID: '454'\n"
     ]
    },
    {
     "name": "stderr",
     "output_type": "stream",
     "text": [
      "Batches: 100%|██████████| 1/1 [00:00<00:00, 10.78it/s]\n",
      "Batches: 100%|██████████| 1/1 [00:00<00:00, 15.22it/s]\n"
     ]
    },
    {
     "name": "stdout",
     "output_type": "stream",
     "text": [
      "Computed similarity for 'ID_454': 0.6866\n",
      "\n",
      "Processing resume file: 'Resume_of_ID_455.pdf'\n",
      "Extracted resume ID: '455'\n"
     ]
    },
    {
     "name": "stderr",
     "output_type": "stream",
     "text": [
      "Batches: 100%|██████████| 1/1 [00:00<00:00,  9.91it/s]\n",
      "Batches: 100%|██████████| 1/1 [00:00<00:00, 12.03it/s]\n"
     ]
    },
    {
     "name": "stdout",
     "output_type": "stream",
     "text": [
      "Computed similarity for 'ID_455': 0.5959\n",
      "\n",
      "Processing resume file: 'Resume_of_ID_456.pdf'\n",
      "Extracted resume ID: '456'\n"
     ]
    },
    {
     "name": "stderr",
     "output_type": "stream",
     "text": [
      "Batches: 100%|██████████| 1/1 [00:00<00:00,  8.68it/s]\n",
      "Batches: 100%|██████████| 1/1 [00:00<00:00, 19.98it/s]\n"
     ]
    },
    {
     "name": "stdout",
     "output_type": "stream",
     "text": [
      "Computed similarity for 'ID_456': 0.5515\n",
      "\n",
      "Processing resume file: 'Resume_of_ID_457.pdf'\n",
      "Extracted resume ID: '457'\n"
     ]
    },
    {
     "name": "stderr",
     "output_type": "stream",
     "text": [
      "Batches: 100%|██████████| 1/1 [00:00<00:00, 11.70it/s]\n",
      "Batches: 100%|██████████| 1/1 [00:00<00:00, 17.50it/s]\n"
     ]
    },
    {
     "name": "stdout",
     "output_type": "stream",
     "text": [
      "Computed similarity for 'ID_457': 0.6759\n",
      "\n",
      "Processing resume file: 'Resume_of_ID_458.pdf'\n",
      "Extracted resume ID: '458'\n"
     ]
    },
    {
     "name": "stderr",
     "output_type": "stream",
     "text": [
      "Batches: 100%|██████████| 1/1 [00:00<00:00, 11.57it/s]\n",
      "Batches: 100%|██████████| 1/1 [00:00<00:00, 12.48it/s]\n"
     ]
    },
    {
     "name": "stdout",
     "output_type": "stream",
     "text": [
      "Computed similarity for 'ID_458': 0.7453\n",
      "\n",
      "Processing resume file: 'Resume_of_ID_459.pdf'\n",
      "Extracted resume ID: '459'\n"
     ]
    },
    {
     "name": "stderr",
     "output_type": "stream",
     "text": [
      "Batches: 100%|██████████| 1/1 [00:00<00:00,  9.25it/s]\n",
      "Batches: 100%|██████████| 1/1 [00:00<00:00, 10.39it/s]\n"
     ]
    },
    {
     "name": "stdout",
     "output_type": "stream",
     "text": [
      "Computed similarity for 'ID_459': 0.8317\n",
      "\n",
      "Processing resume file: 'Resume_of_ID_46.pdf'\n",
      "Extracted resume ID: '46'\n"
     ]
    },
    {
     "name": "stderr",
     "output_type": "stream",
     "text": [
      "Batches: 100%|██████████| 1/1 [00:00<00:00, 10.63it/s]\n",
      "Batches: 100%|██████████| 1/1 [00:00<00:00, 12.00it/s]\n"
     ]
    },
    {
     "name": "stdout",
     "output_type": "stream",
     "text": [
      "Computed similarity for 'ID_46': 0.5822\n",
      "\n",
      "Processing resume file: 'Resume_of_ID_460.pdf'\n",
      "Extracted resume ID: '460'\n"
     ]
    },
    {
     "name": "stderr",
     "output_type": "stream",
     "text": [
      "Batches: 100%|██████████| 1/1 [00:00<00:00, 10.89it/s]\n",
      "Batches: 100%|██████████| 1/1 [00:00<00:00, 11.74it/s]\n"
     ]
    },
    {
     "name": "stdout",
     "output_type": "stream",
     "text": [
      "Computed similarity for 'ID_460': 0.542\n",
      "\n",
      "Processing resume file: 'Resume_of_ID_461.pdf'\n",
      "Extracted resume ID: '461'\n"
     ]
    },
    {
     "name": "stderr",
     "output_type": "stream",
     "text": [
      "Batches: 100%|██████████| 1/1 [00:00<00:00, 11.02it/s]\n",
      "Batches: 100%|██████████| 1/1 [00:00<00:00, 17.25it/s]\n"
     ]
    },
    {
     "name": "stdout",
     "output_type": "stream",
     "text": [
      "Computed similarity for 'ID_461': 0.675\n",
      "\n",
      "Processing resume file: 'Resume_of_ID_462.pdf'\n",
      "Extracted resume ID: '462'\n"
     ]
    },
    {
     "name": "stderr",
     "output_type": "stream",
     "text": [
      "Batches: 100%|██████████| 1/1 [00:00<00:00,  8.59it/s]\n",
      "Batches: 100%|██████████| 1/1 [00:00<00:00, 11.01it/s]\n"
     ]
    },
    {
     "name": "stdout",
     "output_type": "stream",
     "text": [
      "Computed similarity for 'ID_462': 0.7793\n",
      "\n",
      "Processing resume file: 'Resume_of_ID_463.pdf'\n",
      "Extracted resume ID: '463'\n"
     ]
    },
    {
     "name": "stderr",
     "output_type": "stream",
     "text": [
      "Batches: 100%|██████████| 1/1 [00:00<00:00, 10.90it/s]\n",
      "Batches: 100%|██████████| 1/1 [00:00<00:00, 10.81it/s]\n"
     ]
    },
    {
     "name": "stdout",
     "output_type": "stream",
     "text": [
      "Computed similarity for 'ID_463': 0.3784\n",
      "\n",
      "Processing resume file: 'Resume_of_ID_464.pdf'\n",
      "Extracted resume ID: '464'\n"
     ]
    },
    {
     "name": "stderr",
     "output_type": "stream",
     "text": [
      "Batches: 100%|██████████| 1/1 [00:00<00:00, 10.92it/s]\n",
      "Batches: 100%|██████████| 1/1 [00:00<00:00,  9.92it/s]\n"
     ]
    },
    {
     "name": "stdout",
     "output_type": "stream",
     "text": [
      "Computed similarity for 'ID_464': 0.5897\n",
      "\n",
      "Processing resume file: 'Resume_of_ID_465.pdf'\n",
      "Extracted resume ID: '465'\n"
     ]
    },
    {
     "name": "stderr",
     "output_type": "stream",
     "text": [
      "Batches: 100%|██████████| 1/1 [00:00<00:00,  7.87it/s]\n",
      "Batches: 100%|██████████| 1/1 [00:00<00:00, 12.24it/s]\n"
     ]
    },
    {
     "name": "stdout",
     "output_type": "stream",
     "text": [
      "Computed similarity for 'ID_465': 0.6152\n",
      "\n",
      "Processing resume file: 'Resume_of_ID_466.pdf'\n",
      "Extracted resume ID: '466'\n"
     ]
    },
    {
     "name": "stderr",
     "output_type": "stream",
     "text": [
      "Batches: 100%|██████████| 1/1 [00:00<00:00, 10.84it/s]\n",
      "Batches: 100%|██████████| 1/1 [00:00<00:00, 11.06it/s]\n"
     ]
    },
    {
     "name": "stdout",
     "output_type": "stream",
     "text": [
      "Computed similarity for 'ID_466': 0.7032\n",
      "\n",
      "Processing resume file: 'Resume_of_ID_467.pdf'\n",
      "Extracted resume ID: '467'\n"
     ]
    },
    {
     "name": "stderr",
     "output_type": "stream",
     "text": [
      "Batches: 100%|██████████| 1/1 [00:00<00:00,  9.19it/s]\n",
      "Batches: 100%|██████████| 1/1 [00:00<00:00, 10.87it/s]\n"
     ]
    },
    {
     "name": "stdout",
     "output_type": "stream",
     "text": [
      "Computed similarity for 'ID_467': 0.6589\n",
      "\n",
      "Processing resume file: 'Resume_of_ID_468.pdf'\n",
      "Extracted resume ID: '468'\n"
     ]
    },
    {
     "name": "stderr",
     "output_type": "stream",
     "text": [
      "Batches: 100%|██████████| 1/1 [00:00<00:00, 10.89it/s]\n",
      "Batches: 100%|██████████| 1/1 [00:00<00:00, 12.00it/s]\n"
     ]
    },
    {
     "name": "stdout",
     "output_type": "stream",
     "text": [
      "Computed similarity for 'ID_468': 0.6348\n",
      "\n",
      "Processing resume file: 'Resume_of_ID_469.pdf'\n",
      "Extracted resume ID: '469'\n"
     ]
    },
    {
     "name": "stderr",
     "output_type": "stream",
     "text": [
      "Batches: 100%|██████████| 1/1 [00:00<00:00,  8.52it/s]\n",
      "Batches: 100%|██████████| 1/1 [00:00<00:00, 10.05it/s]\n"
     ]
    },
    {
     "name": "stdout",
     "output_type": "stream",
     "text": [
      "Computed similarity for 'ID_469': 0.5096\n",
      "\n",
      "Processing resume file: 'Resume_of_ID_47.pdf'\n",
      "Extracted resume ID: '47'\n"
     ]
    },
    {
     "name": "stderr",
     "output_type": "stream",
     "text": [
      "Batches: 100%|██████████| 1/1 [00:00<00:00, 11.21it/s]\n",
      "Batches: 100%|██████████| 1/1 [00:00<00:00, 11.59it/s]\n"
     ]
    },
    {
     "name": "stdout",
     "output_type": "stream",
     "text": [
      "Computed similarity for 'ID_47': 0.6943\n",
      "\n",
      "Processing resume file: 'Resume_of_ID_470.pdf'\n",
      "Extracted resume ID: '470'\n"
     ]
    },
    {
     "name": "stderr",
     "output_type": "stream",
     "text": [
      "Batches: 100%|██████████| 1/1 [00:00<00:00,  9.22it/s]\n",
      "Batches: 100%|██████████| 1/1 [00:00<00:00, 11.90it/s]\n"
     ]
    },
    {
     "name": "stdout",
     "output_type": "stream",
     "text": [
      "Computed similarity for 'ID_470': 0.7045\n",
      "\n",
      "Processing resume file: 'Resume_of_ID_471.pdf'\n",
      "Extracted resume ID: '471'\n"
     ]
    },
    {
     "name": "stderr",
     "output_type": "stream",
     "text": [
      "Batches: 100%|██████████| 1/1 [00:00<00:00, 10.86it/s]\n",
      "Batches: 100%|██████████| 1/1 [00:00<00:00, 14.99it/s]\n"
     ]
    },
    {
     "name": "stdout",
     "output_type": "stream",
     "text": [
      "Computed similarity for 'ID_471': 0.6617\n",
      "\n",
      "Processing resume file: 'Resume_of_ID_472.pdf'\n",
      "Extracted resume ID: '472'\n"
     ]
    },
    {
     "name": "stderr",
     "output_type": "stream",
     "text": [
      "Batches: 100%|██████████| 1/1 [00:00<00:00, 12.44it/s]\n",
      "Batches: 100%|██████████| 1/1 [00:00<00:00, 11.74it/s]\n"
     ]
    },
    {
     "name": "stdout",
     "output_type": "stream",
     "text": [
      "Computed similarity for 'ID_472': 0.6197\n",
      "\n",
      "Processing resume file: 'Resume_of_ID_473.pdf'\n",
      "Extracted resume ID: '473'\n"
     ]
    },
    {
     "name": "stderr",
     "output_type": "stream",
     "text": [
      "Batches: 100%|██████████| 1/1 [00:00<00:00,  7.79it/s]\n",
      "Batches: 100%|██████████| 1/1 [00:00<00:00, 12.16it/s]\n"
     ]
    },
    {
     "name": "stdout",
     "output_type": "stream",
     "text": [
      "Computed similarity for 'ID_473': 0.7397\n",
      "\n",
      "Processing resume file: 'Resume_of_ID_474.pdf'\n",
      "Extracted resume ID: '474'\n",
      "Skipping similarity computation for '474' due to empty recommendation letters.\n",
      "\n",
      "Processing resume file: 'Resume_of_ID_475.pdf'\n",
      "Extracted resume ID: '475'\n"
     ]
    },
    {
     "name": "stderr",
     "output_type": "stream",
     "text": [
      "Batches: 100%|██████████| 1/1 [00:00<00:00,  8.63it/s]\n",
      "Batches: 100%|██████████| 1/1 [00:00<00:00, 11.95it/s]\n"
     ]
    },
    {
     "name": "stdout",
     "output_type": "stream",
     "text": [
      "Computed similarity for 'ID_475': 0.69\n",
      "\n",
      "Processing resume file: 'Resume_of_ID_476.pdf'\n",
      "Extracted resume ID: '476'\n"
     ]
    },
    {
     "name": "stderr",
     "output_type": "stream",
     "text": [
      "Batches: 100%|██████████| 1/1 [00:00<00:00,  9.99it/s]\n",
      "Batches: 100%|██████████| 1/1 [00:00<00:00, 10.30it/s]\n"
     ]
    },
    {
     "name": "stdout",
     "output_type": "stream",
     "text": [
      "Computed similarity for 'ID_476': 0.5309\n",
      "\n",
      "Processing resume file: 'Resume_of_ID_477.pdf'\n",
      "Extracted resume ID: '477'\n"
     ]
    },
    {
     "name": "stderr",
     "output_type": "stream",
     "text": [
      "Batches: 100%|██████████| 1/1 [00:00<00:00, 10.48it/s]\n",
      "Batches: 100%|██████████| 1/1 [00:00<00:00, 14.23it/s]\n"
     ]
    },
    {
     "name": "stdout",
     "output_type": "stream",
     "text": [
      "Computed similarity for 'ID_477': 0.6124\n",
      "\n",
      "Processing resume file: 'Resume_of_ID_478.pdf'\n",
      "Extracted resume ID: '478'\n"
     ]
    },
    {
     "name": "stderr",
     "output_type": "stream",
     "text": [
      "Batches: 100%|██████████| 1/1 [00:00<00:00,  8.55it/s]\n",
      "Batches: 100%|██████████| 1/1 [00:00<00:00, 11.03it/s]\n"
     ]
    },
    {
     "name": "stdout",
     "output_type": "stream",
     "text": [
      "Computed similarity for 'ID_478': 0.5945\n",
      "\n",
      "Processing resume file: 'Resume_of_ID_479.pdf'\n",
      "Extracted resume ID: '479'\n"
     ]
    },
    {
     "name": "stderr",
     "output_type": "stream",
     "text": [
      "Batches: 100%|██████████| 1/1 [00:00<00:00,  9.96it/s]\n",
      "Batches: 100%|██████████| 1/1 [00:00<00:00, 10.06it/s]\n"
     ]
    },
    {
     "name": "stdout",
     "output_type": "stream",
     "text": [
      "Computed similarity for 'ID_479': 0.772\n",
      "\n",
      "Processing resume file: 'Resume_of_ID_48.pdf'\n",
      "Extracted resume ID: '48'\n"
     ]
    },
    {
     "name": "stderr",
     "output_type": "stream",
     "text": [
      "Batches: 100%|██████████| 1/1 [00:00<00:00,  8.50it/s]\n",
      "Batches: 100%|██████████| 1/1 [00:00<00:00, 10.84it/s]\n"
     ]
    },
    {
     "name": "stdout",
     "output_type": "stream",
     "text": [
      "Computed similarity for 'ID_48': 0.5211\n",
      "\n",
      "Processing resume file: 'Resume_of_ID_480.pdf'\n",
      "Extracted resume ID: '480'\n"
     ]
    },
    {
     "name": "stderr",
     "output_type": "stream",
     "text": [
      "Batches: 100%|██████████| 1/1 [00:00<00:00,  9.14it/s]\n",
      "Batches: 100%|██████████| 1/1 [00:00<00:00, 13.53it/s]\n"
     ]
    },
    {
     "name": "stdout",
     "output_type": "stream",
     "text": [
      "Computed similarity for 'ID_480': 0.6471\n",
      "\n",
      "Processing resume file: 'Resume_of_ID_481.pdf'\n",
      "Extracted resume ID: '481'\n"
     ]
    },
    {
     "name": "stderr",
     "output_type": "stream",
     "text": [
      "Batches: 100%|██████████| 1/1 [00:00<00:00, 11.67it/s]\n",
      "Batches: 100%|██████████| 1/1 [00:00<00:00, 13.30it/s]\n"
     ]
    },
    {
     "name": "stdout",
     "output_type": "stream",
     "text": [
      "Computed similarity for 'ID_481': 0.6018\n",
      "\n",
      "Processing resume file: 'Resume_of_ID_482.pdf'\n",
      "Extracted resume ID: '482'\n"
     ]
    },
    {
     "name": "stderr",
     "output_type": "stream",
     "text": [
      "Batches: 100%|██████████| 1/1 [00:00<00:00,  9.20it/s]\n",
      "Batches: 100%|██████████| 1/1 [00:00<00:00,  8.57it/s]\n"
     ]
    },
    {
     "name": "stdout",
     "output_type": "stream",
     "text": [
      "Computed similarity for 'ID_482': 0.739\n",
      "\n",
      "Processing resume file: 'Resume_of_ID_483.pdf'\n",
      "Extracted resume ID: '483'\n"
     ]
    },
    {
     "name": "stderr",
     "output_type": "stream",
     "text": [
      "Batches: 100%|██████████| 1/1 [00:00<00:00, 12.05it/s]\n",
      "Batches: 100%|██████████| 1/1 [00:00<00:00, 11.50it/s]\n"
     ]
    },
    {
     "name": "stdout",
     "output_type": "stream",
     "text": [
      "Computed similarity for 'ID_483': 0.7151\n",
      "\n",
      "Processing resume file: 'Resume_of_ID_484.pdf'\n",
      "Extracted resume ID: '484'\n"
     ]
    },
    {
     "name": "stderr",
     "output_type": "stream",
     "text": [
      "Batches: 100%|██████████| 1/1 [00:00<00:00,  8.67it/s]\n",
      "Batches: 100%|██████████| 1/1 [00:00<00:00, 13.35it/s]\n"
     ]
    },
    {
     "name": "stdout",
     "output_type": "stream",
     "text": [
      "Computed similarity for 'ID_484': 0.6672\n",
      "\n",
      "Processing resume file: 'Resume_of_ID_485.pdf'\n",
      "Extracted resume ID: '485'\n"
     ]
    },
    {
     "name": "stderr",
     "output_type": "stream",
     "text": [
      "Batches: 100%|██████████| 1/1 [00:00<00:00, 10.88it/s]\n",
      "Batches: 100%|██████████| 1/1 [00:00<00:00, 20.12it/s]\n"
     ]
    },
    {
     "name": "stdout",
     "output_type": "stream",
     "text": [
      "Computed similarity for 'ID_485': 0.5753\n",
      "\n",
      "Processing resume file: 'Resume_of_ID_486.pdf'\n",
      "Extracted resume ID: '486'\n"
     ]
    },
    {
     "name": "stderr",
     "output_type": "stream",
     "text": [
      "Batches: 100%|██████████| 1/1 [00:00<00:00, 10.85it/s]\n",
      "Batches: 100%|██████████| 1/1 [00:00<00:00, 14.32it/s]\n"
     ]
    },
    {
     "name": "stdout",
     "output_type": "stream",
     "text": [
      "Computed similarity for 'ID_486': 0.6506\n",
      "\n",
      "Processing resume file: 'Resume_of_ID_487.pdf'\n",
      "Extracted resume ID: '487'\n"
     ]
    },
    {
     "name": "stderr",
     "output_type": "stream",
     "text": [
      "Batches: 100%|██████████| 1/1 [00:00<00:00, 12.02it/s]\n",
      "Batches: 100%|██████████| 1/1 [00:00<00:00, 11.97it/s]\n"
     ]
    },
    {
     "name": "stdout",
     "output_type": "stream",
     "text": [
      "Computed similarity for 'ID_487': 0.5379\n",
      "\n",
      "Processing resume file: 'Resume_of_ID_488.pdf'\n",
      "Extracted resume ID: '488'\n"
     ]
    },
    {
     "name": "stderr",
     "output_type": "stream",
     "text": [
      "Batches: 100%|██████████| 1/1 [00:00<00:00, 13.42it/s]\n",
      "Batches: 100%|██████████| 1/1 [00:00<00:00, 16.93it/s]\n"
     ]
    },
    {
     "name": "stdout",
     "output_type": "stream",
     "text": [
      "Computed similarity for 'ID_488': 0.6438\n",
      "\n",
      "Processing resume file: 'Resume_of_ID_489.pdf'\n",
      "Extracted resume ID: '489'\n"
     ]
    },
    {
     "name": "stderr",
     "output_type": "stream",
     "text": [
      "Batches: 100%|██████████| 1/1 [00:00<00:00, 11.91it/s]\n",
      "Batches: 100%|██████████| 1/1 [00:00<00:00, 19.98it/s]\n"
     ]
    },
    {
     "name": "stdout",
     "output_type": "stream",
     "text": [
      "Computed similarity for 'ID_489': 0.7117\n",
      "\n",
      "Processing resume file: 'Resume_of_ID_49.pdf'\n",
      "Extracted resume ID: '49'\n"
     ]
    },
    {
     "name": "stderr",
     "output_type": "stream",
     "text": [
      "Batches: 100%|██████████| 1/1 [00:00<00:00,  6.79it/s]\n",
      "Batches: 100%|██████████| 1/1 [00:00<00:00,  3.03it/s]\n"
     ]
    },
    {
     "name": "stdout",
     "output_type": "stream",
     "text": [
      "Computed similarity for 'ID_49': 0.7307\n",
      "\n",
      "Processing resume file: 'Resume_of_ID_490.pdf'\n",
      "Extracted resume ID: '490'\n"
     ]
    },
    {
     "name": "stderr",
     "output_type": "stream",
     "text": [
      "Batches: 100%|██████████| 1/1 [00:00<00:00,  8.43it/s]\n",
      "Batches: 100%|██████████| 1/1 [00:00<00:00,  9.24it/s]\n"
     ]
    },
    {
     "name": "stdout",
     "output_type": "stream",
     "text": [
      "Computed similarity for 'ID_490': 0.5421\n",
      "\n",
      "Processing resume file: 'Resume_of_ID_491.pdf'\n",
      "Extracted resume ID: '491'\n"
     ]
    },
    {
     "name": "stderr",
     "output_type": "stream",
     "text": [
      "Batches: 100%|██████████| 1/1 [00:00<00:00,  9.22it/s]\n",
      "Batches: 100%|██████████| 1/1 [00:00<00:00, 12.04it/s]\n"
     ]
    },
    {
     "name": "stdout",
     "output_type": "stream",
     "text": [
      "Computed similarity for 'ID_491': 0.6364\n",
      "\n",
      "Processing resume file: 'Resume_of_ID_492.pdf'\n",
      "Extracted resume ID: '492'\n"
     ]
    },
    {
     "name": "stderr",
     "output_type": "stream",
     "text": [
      "Batches: 100%|██████████| 1/1 [00:00<00:00, 10.04it/s]\n",
      "Batches: 100%|██████████| 1/1 [00:00<00:00,  9.98it/s]\n"
     ]
    },
    {
     "name": "stdout",
     "output_type": "stream",
     "text": [
      "Computed similarity for 'ID_492': 0.6176\n",
      "\n",
      "Processing resume file: 'Resume_of_ID_493.pdf'\n",
      "Extracted resume ID: '493'\n"
     ]
    },
    {
     "name": "stderr",
     "output_type": "stream",
     "text": [
      "Batches: 100%|██████████| 1/1 [00:00<00:00,  9.27it/s]\n",
      "Batches: 100%|██████████| 1/1 [00:00<00:00, 10.04it/s]\n"
     ]
    },
    {
     "name": "stdout",
     "output_type": "stream",
     "text": [
      "Computed similarity for 'ID_493': 0.6328\n",
      "\n",
      "Processing resume file: 'Resume_of_ID_494.pdf'\n",
      "Extracted resume ID: '494'\n"
     ]
    },
    {
     "name": "stderr",
     "output_type": "stream",
     "text": [
      "Batches: 100%|██████████| 1/1 [00:00<00:00, 10.04it/s]\n",
      "Batches: 100%|██████████| 1/1 [00:00<00:00, 10.89it/s]\n"
     ]
    },
    {
     "name": "stdout",
     "output_type": "stream",
     "text": [
      "Computed similarity for 'ID_494': 0.6298\n",
      "\n",
      "Processing resume file: 'Resume_of_ID_495.pdf'\n",
      "Extracted resume ID: '495'\n"
     ]
    },
    {
     "name": "stderr",
     "output_type": "stream",
     "text": [
      "Batches: 100%|██████████| 1/1 [00:00<00:00, 12.77it/s]\n",
      "Batches: 100%|██████████| 1/1 [00:00<00:00, 11.90it/s]\n"
     ]
    },
    {
     "name": "stdout",
     "output_type": "stream",
     "text": [
      "Computed similarity for 'ID_495': 0.6674\n",
      "\n",
      "Processing resume file: 'Resume_of_ID_496.pdf'\n",
      "Extracted resume ID: '496'\n"
     ]
    },
    {
     "name": "stderr",
     "output_type": "stream",
     "text": [
      "Batches: 100%|██████████| 1/1 [00:00<00:00, 15.08it/s]\n",
      "Batches: 100%|██████████| 1/1 [00:00<00:00, 17.11it/s]\n"
     ]
    },
    {
     "name": "stdout",
     "output_type": "stream",
     "text": [
      "Computed similarity for 'ID_496': 0.8032\n",
      "\n",
      "Processing resume file: 'Resume_of_ID_497.pdf'\n",
      "Extracted resume ID: '497'\n"
     ]
    },
    {
     "name": "stderr",
     "output_type": "stream",
     "text": [
      "Batches: 100%|██████████| 1/1 [00:00<00:00, 12.02it/s]\n",
      "Batches: 100%|██████████| 1/1 [00:00<00:00, 11.93it/s]\n"
     ]
    },
    {
     "name": "stdout",
     "output_type": "stream",
     "text": [
      "Computed similarity for 'ID_497': 0.7035\n",
      "\n",
      "Processing resume file: 'Resume_of_ID_498.pdf'\n",
      "Extracted resume ID: '498'\n"
     ]
    },
    {
     "name": "stderr",
     "output_type": "stream",
     "text": [
      "Batches: 100%|██████████| 1/1 [00:00<00:00, 11.99it/s]\n",
      "Batches: 100%|██████████| 1/1 [00:00<00:00, 10.94it/s]\n"
     ]
    },
    {
     "name": "stdout",
     "output_type": "stream",
     "text": [
      "Computed similarity for 'ID_498': 0.7252\n",
      "\n",
      "Processing resume file: 'Resume_of_ID_499.pdf'\n",
      "Extracted resume ID: '499'\n"
     ]
    },
    {
     "name": "stderr",
     "output_type": "stream",
     "text": [
      "Batches: 100%|██████████| 1/1 [00:00<00:00,  8.58it/s]\n",
      "Batches: 100%|██████████| 1/1 [00:00<00:00, 10.81it/s]\n"
     ]
    },
    {
     "name": "stdout",
     "output_type": "stream",
     "text": [
      "Computed similarity for 'ID_499': 0.5423\n",
      "\n",
      "Processing resume file: 'Resume_of_ID_5.pdf'\n",
      "Extracted resume ID: '5'\n"
     ]
    },
    {
     "name": "stderr",
     "output_type": "stream",
     "text": [
      "Batches: 100%|██████████| 1/1 [00:00<00:00, 10.88it/s]\n",
      "Batches: 100%|██████████| 1/1 [00:00<00:00,  9.21it/s]\n"
     ]
    },
    {
     "name": "stdout",
     "output_type": "stream",
     "text": [
      "Computed similarity for 'ID_5': 0.6891\n",
      "\n",
      "Processing resume file: 'Resume_of_ID_50.pdf'\n",
      "Extracted resume ID: '50'\n"
     ]
    },
    {
     "name": "stderr",
     "output_type": "stream",
     "text": [
      "Batches: 100%|██████████| 1/1 [00:00<00:00, 12.28it/s]\n",
      "Batches: 100%|██████████| 1/1 [00:00<00:00, 15.20it/s]\n"
     ]
    },
    {
     "name": "stdout",
     "output_type": "stream",
     "text": [
      "Computed similarity for 'ID_50': 0.6499\n",
      "\n",
      "Processing resume file: 'Resume_of_ID_500.pdf'\n",
      "Extracted resume ID: '500'\n"
     ]
    },
    {
     "name": "stderr",
     "output_type": "stream",
     "text": [
      "Batches: 100%|██████████| 1/1 [00:00<00:00, 10.82it/s]\n",
      "Batches: 100%|██████████| 1/1 [00:00<00:00,  9.94it/s]\n"
     ]
    },
    {
     "name": "stdout",
     "output_type": "stream",
     "text": [
      "Computed similarity for 'ID_500': 0.7674\n",
      "\n",
      "Processing resume file: 'Resume_of_ID_501.pdf'\n",
      "Extracted resume ID: '501'\n"
     ]
    },
    {
     "name": "stderr",
     "output_type": "stream",
     "text": [
      "Batches: 100%|██████████| 1/1 [00:00<00:00, 10.93it/s]\n",
      "Batches: 100%|██████████| 1/1 [00:00<00:00, 11.99it/s]\n"
     ]
    },
    {
     "name": "stdout",
     "output_type": "stream",
     "text": [
      "Computed similarity for 'ID_501': 0.5469\n",
      "\n",
      "Processing resume file: 'Resume_of_ID_502.pdf'\n",
      "Extracted resume ID: '502'\n"
     ]
    },
    {
     "name": "stderr",
     "output_type": "stream",
     "text": [
      "Batches: 100%|██████████| 1/1 [00:00<00:00,  9.25it/s]\n",
      "Batches: 100%|██████████| 1/1 [00:00<00:00,  9.99it/s]\n"
     ]
    },
    {
     "name": "stdout",
     "output_type": "stream",
     "text": [
      "Computed similarity for 'ID_502': 0.7845\n",
      "\n",
      "Processing resume file: 'Resume_of_ID_503.pdf'\n",
      "Extracted resume ID: '503'\n"
     ]
    },
    {
     "name": "stderr",
     "output_type": "stream",
     "text": [
      "Batches: 100%|██████████| 1/1 [00:00<00:00, 10.97it/s]\n",
      "Batches: 100%|██████████| 1/1 [00:00<00:00, 11.99it/s]\n"
     ]
    },
    {
     "name": "stdout",
     "output_type": "stream",
     "text": [
      "Computed similarity for 'ID_503': 0.5882\n",
      "\n",
      "Processing resume file: 'Resume_of_ID_504.pdf'\n",
      "Extracted resume ID: '504'\n"
     ]
    },
    {
     "name": "stderr",
     "output_type": "stream",
     "text": [
      "Batches: 100%|██████████| 1/1 [00:00<00:00,  8.73it/s]\n",
      "Batches: 100%|██████████| 1/1 [00:00<00:00, 17.33it/s]\n"
     ]
    },
    {
     "name": "stdout",
     "output_type": "stream",
     "text": [
      "Computed similarity for 'ID_504': 0.3998\n",
      "\n",
      "Processing resume file: 'Resume_of_ID_505.pdf'\n",
      "Extracted resume ID: '505'\n"
     ]
    },
    {
     "name": "stderr",
     "output_type": "stream",
     "text": [
      "Batches: 100%|██████████| 1/1 [00:00<00:00,  9.99it/s]\n",
      "Batches: 100%|██████████| 1/1 [00:00<00:00, 10.10it/s]\n"
     ]
    },
    {
     "name": "stdout",
     "output_type": "stream",
     "text": [
      "Computed similarity for 'ID_505': 0.7413\n",
      "\n",
      "Processing resume file: 'Resume_of_ID_506.pdf'\n",
      "Extracted resume ID: '506'\n"
     ]
    },
    {
     "name": "stderr",
     "output_type": "stream",
     "text": [
      "Batches: 100%|██████████| 1/1 [00:00<00:00, 10.74it/s]\n",
      "Batches: 100%|██████████| 1/1 [00:00<00:00, 12.06it/s]\n"
     ]
    },
    {
     "name": "stdout",
     "output_type": "stream",
     "text": [
      "Computed similarity for 'ID_506': 0.7091\n",
      "\n",
      "Processing resume file: 'Resume_of_ID_507.pdf'\n",
      "Extracted resume ID: '507'\n"
     ]
    },
    {
     "name": "stderr",
     "output_type": "stream",
     "text": [
      "Batches: 100%|██████████| 1/1 [00:00<00:00,  9.28it/s]\n",
      "Batches: 100%|██████████| 1/1 [00:00<00:00, 10.89it/s]\n"
     ]
    },
    {
     "name": "stdout",
     "output_type": "stream",
     "text": [
      "Computed similarity for 'ID_507': 0.7378\n",
      "\n",
      "Processing resume file: 'Resume_of_ID_508.pdf'\n",
      "Extracted resume ID: '508'\n"
     ]
    },
    {
     "name": "stderr",
     "output_type": "stream",
     "text": [
      "Batches: 100%|██████████| 1/1 [00:00<00:00,  9.29it/s]\n",
      "Batches: 100%|██████████| 1/1 [00:00<00:00, 11.97it/s]\n"
     ]
    },
    {
     "name": "stdout",
     "output_type": "stream",
     "text": [
      "Computed similarity for 'ID_508': 0.7592\n",
      "\n",
      "Processing resume file: 'Resume_of_ID_509.pdf'\n",
      "Extracted resume ID: '509'\n"
     ]
    },
    {
     "name": "stderr",
     "output_type": "stream",
     "text": [
      "Batches: 100%|██████████| 1/1 [00:00<00:00,  9.37it/s]\n",
      "Batches: 100%|██████████| 1/1 [00:00<00:00, 15.16it/s]\n"
     ]
    },
    {
     "name": "stdout",
     "output_type": "stream",
     "text": [
      "Computed similarity for 'ID_509': 0.7182\n",
      "\n",
      "Processing resume file: 'Resume_of_ID_51.pdf'\n",
      "Extracted resume ID: '51'\n"
     ]
    },
    {
     "name": "stderr",
     "output_type": "stream",
     "text": [
      "Batches: 100%|██████████| 1/1 [00:00<00:00, 13.32it/s]\n",
      "Batches: 100%|██████████| 1/1 [00:00<00:00, 13.36it/s]\n"
     ]
    },
    {
     "name": "stdout",
     "output_type": "stream",
     "text": [
      "Computed similarity for 'ID_51': 0.6295\n",
      "\n",
      "Processing resume file: 'Resume_of_ID_510.pdf'\n",
      "Extracted resume ID: '510'\n"
     ]
    },
    {
     "name": "stderr",
     "output_type": "stream",
     "text": [
      "Batches: 100%|██████████| 1/1 [00:00<00:00, 10.75it/s]\n",
      "Batches: 100%|██████████| 1/1 [00:00<00:00,  9.36it/s]\n"
     ]
    },
    {
     "name": "stdout",
     "output_type": "stream",
     "text": [
      "Computed similarity for 'ID_510': 0.5156\n",
      "\n",
      "Processing resume file: 'Resume_of_ID_511.pdf'\n",
      "Extracted resume ID: '511'\n"
     ]
    },
    {
     "name": "stderr",
     "output_type": "stream",
     "text": [
      "Batches: 100%|██████████| 1/1 [00:00<00:00, 10.99it/s]\n",
      "Batches: 100%|██████████| 1/1 [00:00<00:00,  9.91it/s]\n"
     ]
    },
    {
     "name": "stdout",
     "output_type": "stream",
     "text": [
      "Computed similarity for 'ID_511': 0.6054\n",
      "\n",
      "Processing resume file: 'Resume_of_ID_512.pdf'\n",
      "Extracted resume ID: '512'\n"
     ]
    },
    {
     "name": "stderr",
     "output_type": "stream",
     "text": [
      "Batches: 100%|██████████| 1/1 [00:00<00:00,  9.22it/s]\n",
      "Batches: 100%|██████████| 1/1 [00:00<00:00,  9.29it/s]\n"
     ]
    },
    {
     "name": "stdout",
     "output_type": "stream",
     "text": [
      "Computed similarity for 'ID_512': 0.6223\n",
      "\n",
      "Processing resume file: 'Resume_of_ID_513.pdf'\n",
      "Extracted resume ID: '513'\n"
     ]
    },
    {
     "name": "stderr",
     "output_type": "stream",
     "text": [
      "Batches: 100%|██████████| 1/1 [00:00<00:00, 10.96it/s]\n",
      "Batches: 100%|██████████| 1/1 [00:00<00:00, 10.83it/s]\n"
     ]
    },
    {
     "name": "stdout",
     "output_type": "stream",
     "text": [
      "Computed similarity for 'ID_513': 0.7396\n",
      "\n",
      "Processing resume file: 'Resume_of_ID_514.pdf'\n",
      "Extracted resume ID: '514'\n"
     ]
    },
    {
     "name": "stderr",
     "output_type": "stream",
     "text": [
      "Batches: 100%|██████████| 1/1 [00:00<00:00, 10.82it/s]\n",
      "Batches: 100%|██████████| 1/1 [00:00<00:00, 12.69it/s]\n"
     ]
    },
    {
     "name": "stdout",
     "output_type": "stream",
     "text": [
      "Computed similarity for 'ID_514': 0.6419\n",
      "\n",
      "Processing resume file: 'Resume_of_ID_515.pdf'\n",
      "Extracted resume ID: '515'\n"
     ]
    },
    {
     "name": "stderr",
     "output_type": "stream",
     "text": [
      "Batches: 100%|██████████| 1/1 [00:00<00:00,  9.71it/s]\n",
      "Batches: 100%|██████████| 1/1 [00:00<00:00, 10.61it/s]\n"
     ]
    },
    {
     "name": "stdout",
     "output_type": "stream",
     "text": [
      "Computed similarity for 'ID_515': 0.675\n",
      "\n",
      "Processing resume file: 'Resume_of_ID_516.pdf'\n",
      "Extracted resume ID: '516'\n"
     ]
    },
    {
     "name": "stderr",
     "output_type": "stream",
     "text": [
      "Batches: 100%|██████████| 1/1 [00:00<00:00, 10.43it/s]\n",
      "Batches: 100%|██████████| 1/1 [00:00<00:00, 10.57it/s]\n"
     ]
    },
    {
     "name": "stdout",
     "output_type": "stream",
     "text": [
      "Computed similarity for 'ID_516': 0.6817\n",
      "\n",
      "Processing resume file: 'Resume_of_ID_517.pdf'\n",
      "Extracted resume ID: '517'\n"
     ]
    },
    {
     "name": "stderr",
     "output_type": "stream",
     "text": [
      "Batches: 100%|██████████| 1/1 [00:00<00:00, 10.33it/s]\n",
      "Batches: 100%|██████████| 1/1 [00:00<00:00, 15.44it/s]\n"
     ]
    },
    {
     "name": "stdout",
     "output_type": "stream",
     "text": [
      "Computed similarity for 'ID_517': 0.61\n",
      "\n",
      "Processing resume file: 'Resume_of_ID_518.pdf'\n",
      "Extracted resume ID: '518'\n"
     ]
    },
    {
     "name": "stderr",
     "output_type": "stream",
     "text": [
      "Batches: 100%|██████████| 1/1 [00:00<00:00, 10.81it/s]\n",
      "Batches: 100%|██████████| 1/1 [00:00<00:00, 12.34it/s]\n"
     ]
    },
    {
     "name": "stdout",
     "output_type": "stream",
     "text": [
      "Computed similarity for 'ID_518': 0.6834\n",
      "\n",
      "Processing resume file: 'Resume_of_ID_519.pdf'\n",
      "Extracted resume ID: '519'\n"
     ]
    },
    {
     "name": "stderr",
     "output_type": "stream",
     "text": [
      "Batches: 100%|██████████| 1/1 [00:00<00:00, 10.68it/s]\n",
      "Batches: 100%|██████████| 1/1 [00:00<00:00, 13.82it/s]\n"
     ]
    },
    {
     "name": "stdout",
     "output_type": "stream",
     "text": [
      "Computed similarity for 'ID_519': 0.638\n",
      "\n",
      "Processing resume file: 'Resume_of_ID_52.pdf'\n",
      "Extracted resume ID: '52'\n"
     ]
    },
    {
     "name": "stderr",
     "output_type": "stream",
     "text": [
      "Batches: 100%|██████████| 1/1 [00:00<00:00, 10.04it/s]\n",
      "Batches: 100%|██████████| 1/1 [00:00<00:00, 14.96it/s]\n"
     ]
    },
    {
     "name": "stdout",
     "output_type": "stream",
     "text": [
      "Computed similarity for 'ID_52': 0.6858\n",
      "\n",
      "Processing resume file: 'Resume_of_ID_520.pdf'\n",
      "Extracted resume ID: '520'\n"
     ]
    },
    {
     "name": "stderr",
     "output_type": "stream",
     "text": [
      "Batches: 100%|██████████| 1/1 [00:00<00:00,  9.96it/s]\n",
      "Batches: 100%|██████████| 1/1 [00:00<00:00, 10.97it/s]\n"
     ]
    },
    {
     "name": "stdout",
     "output_type": "stream",
     "text": [
      "Computed similarity for 'ID_520': 0.5755\n",
      "\n",
      "Processing resume file: 'Resume_of_ID_521.pdf'\n",
      "Extracted resume ID: '521'\n"
     ]
    },
    {
     "name": "stderr",
     "output_type": "stream",
     "text": [
      "Batches: 100%|██████████| 1/1 [00:00<00:00,  9.64it/s]\n",
      "Batches: 100%|██████████| 1/1 [00:00<00:00, 11.75it/s]\n"
     ]
    },
    {
     "name": "stdout",
     "output_type": "stream",
     "text": [
      "Computed similarity for 'ID_521': 0.6922\n",
      "\n",
      "Processing resume file: 'Resume_of_ID_522.pdf'\n",
      "Extracted resume ID: '522'\n"
     ]
    },
    {
     "name": "stderr",
     "output_type": "stream",
     "text": [
      "Batches: 100%|██████████| 1/1 [00:00<00:00,  9.06it/s]\n",
      "Batches: 100%|██████████| 1/1 [00:00<00:00, 12.79it/s]\n"
     ]
    },
    {
     "name": "stdout",
     "output_type": "stream",
     "text": [
      "Computed similarity for 'ID_522': 0.6511\n",
      "\n",
      "Processing resume file: 'Resume_of_ID_523.pdf'\n",
      "Extracted resume ID: '523'\n"
     ]
    },
    {
     "name": "stderr",
     "output_type": "stream",
     "text": [
      "Batches: 100%|██████████| 1/1 [00:00<00:00, 11.41it/s]\n",
      "Batches: 100%|██████████| 1/1 [00:00<00:00, 13.32it/s]\n"
     ]
    },
    {
     "name": "stdout",
     "output_type": "stream",
     "text": [
      "Computed similarity for 'ID_523': 0.4237\n",
      "\n",
      "Processing resume file: 'Resume_of_ID_524.pdf'\n",
      "Extracted resume ID: '524'\n"
     ]
    },
    {
     "name": "stderr",
     "output_type": "stream",
     "text": [
      "Batches: 100%|██████████| 1/1 [00:00<00:00, 10.01it/s]\n",
      "Batches: 100%|██████████| 1/1 [00:00<00:00, 11.01it/s]\n"
     ]
    },
    {
     "name": "stdout",
     "output_type": "stream",
     "text": [
      "Computed similarity for 'ID_524': 0.562\n",
      "\n",
      "Processing resume file: 'Resume_of_ID_525.pdf'\n",
      "Extracted resume ID: '525'\n"
     ]
    },
    {
     "name": "stderr",
     "output_type": "stream",
     "text": [
      "Batches: 100%|██████████| 1/1 [00:00<00:00, 10.82it/s]\n",
      "Batches: 100%|██████████| 1/1 [00:00<00:00, 12.27it/s]\n"
     ]
    },
    {
     "name": "stdout",
     "output_type": "stream",
     "text": [
      "Computed similarity for 'ID_525': 0.6829\n",
      "\n",
      "Processing resume file: 'Resume_of_ID_526.pdf'\n",
      "Extracted resume ID: '526'\n"
     ]
    },
    {
     "name": "stderr",
     "output_type": "stream",
     "text": [
      "Batches: 100%|██████████| 1/1 [00:00<00:00, 10.08it/s]\n",
      "Batches: 100%|██████████| 1/1 [00:00<00:00, 10.85it/s]\n"
     ]
    },
    {
     "name": "stdout",
     "output_type": "stream",
     "text": [
      "Computed similarity for 'ID_526': 0.7468\n",
      "\n",
      "Processing resume file: 'Resume_of_ID_527.pdf'\n",
      "Extracted resume ID: '527'\n"
     ]
    },
    {
     "name": "stderr",
     "output_type": "stream",
     "text": [
      "Batches: 100%|██████████| 1/1 [00:00<00:00,  8.53it/s]\n",
      "Batches: 100%|██████████| 1/1 [00:00<00:00, 13.37it/s]\n"
     ]
    },
    {
     "name": "stdout",
     "output_type": "stream",
     "text": [
      "Computed similarity for 'ID_527': 0.7217\n",
      "\n",
      "Processing resume file: 'Resume_of_ID_528.pdf'\n",
      "Extracted resume ID: '528'\n"
     ]
    },
    {
     "name": "stderr",
     "output_type": "stream",
     "text": [
      "Batches: 100%|██████████| 1/1 [00:00<00:00, 11.99it/s]\n",
      "Batches: 100%|██████████| 1/1 [00:00<00:00, 11.27it/s]\n"
     ]
    },
    {
     "name": "stdout",
     "output_type": "stream",
     "text": [
      "Computed similarity for 'ID_528': 0.6928\n",
      "\n",
      "Processing resume file: 'Resume_of_ID_529.pdf'\n",
      "Extracted resume ID: '529'\n"
     ]
    },
    {
     "name": "stderr",
     "output_type": "stream",
     "text": [
      "Batches: 100%|██████████| 1/1 [00:00<00:00, 10.03it/s]\n",
      "Batches: 100%|██████████| 1/1 [00:00<00:00, 11.90it/s]\n"
     ]
    },
    {
     "name": "stdout",
     "output_type": "stream",
     "text": [
      "Computed similarity for 'ID_529': 0.7353\n",
      "\n",
      "Processing resume file: 'Resume_of_ID_53.pdf'\n",
      "Extracted resume ID: '53'\n"
     ]
    },
    {
     "name": "stderr",
     "output_type": "stream",
     "text": [
      "Batches: 100%|██████████| 1/1 [00:00<00:00, 10.76it/s]\n",
      "Batches: 100%|██████████| 1/1 [00:00<00:00, 13.60it/s]\n"
     ]
    },
    {
     "name": "stdout",
     "output_type": "stream",
     "text": [
      "Computed similarity for 'ID_53': 0.6213\n",
      "\n",
      "Processing resume file: 'Resume_of_ID_530.pdf'\n",
      "Extracted resume ID: '530'\n"
     ]
    },
    {
     "name": "stderr",
     "output_type": "stream",
     "text": [
      "Batches: 100%|██████████| 1/1 [00:00<00:00,  9.27it/s]\n",
      "Batches: 100%|██████████| 1/1 [00:00<00:00, 10.82it/s]\n"
     ]
    },
    {
     "name": "stdout",
     "output_type": "stream",
     "text": [
      "Computed similarity for 'ID_530': 0.8229\n",
      "\n",
      "Processing resume file: 'Resume_of_ID_531.pdf'\n",
      "Extracted resume ID: '531'\n"
     ]
    },
    {
     "name": "stderr",
     "output_type": "stream",
     "text": [
      "Batches: 100%|██████████| 1/1 [00:00<00:00,  8.71it/s]\n",
      "Batches: 100%|██████████| 1/1 [00:00<00:00, 14.86it/s]\n"
     ]
    },
    {
     "name": "stdout",
     "output_type": "stream",
     "text": [
      "Computed similarity for 'ID_531': 0.7186\n",
      "\n",
      "Processing resume file: 'Resume_of_ID_532.pdf'\n",
      "Extracted resume ID: '532'\n"
     ]
    },
    {
     "name": "stderr",
     "output_type": "stream",
     "text": [
      "Batches: 100%|██████████| 1/1 [00:00<00:00,  9.17it/s]\n",
      "Batches: 100%|██████████| 1/1 [00:00<00:00, 10.95it/s]\n"
     ]
    },
    {
     "name": "stdout",
     "output_type": "stream",
     "text": [
      "Computed similarity for 'ID_532': 0.7326\n",
      "\n",
      "Processing resume file: 'Resume_of_ID_533.pdf'\n",
      "Extracted resume ID: '533'\n"
     ]
    },
    {
     "name": "stderr",
     "output_type": "stream",
     "text": [
      "Batches: 100%|██████████| 1/1 [00:00<00:00,  9.26it/s]\n",
      "Batches: 100%|██████████| 1/1 [00:00<00:00, 10.92it/s]\n"
     ]
    },
    {
     "name": "stdout",
     "output_type": "stream",
     "text": [
      "Computed similarity for 'ID_533': 0.2956\n",
      "\n",
      "Processing resume file: 'Resume_of_ID_534.pdf'\n",
      "Extracted resume ID: '534'\n"
     ]
    },
    {
     "name": "stderr",
     "output_type": "stream",
     "text": [
      "Batches: 100%|██████████| 1/1 [00:00<00:00, 10.03it/s]\n",
      "Batches: 100%|██████████| 1/1 [00:00<00:00, 10.96it/s]\n"
     ]
    },
    {
     "name": "stdout",
     "output_type": "stream",
     "text": [
      "Computed similarity for 'ID_534': 0.5202\n",
      "\n",
      "Processing resume file: 'Resume_of_ID_535.pdf'\n",
      "Extracted resume ID: '535'\n"
     ]
    },
    {
     "name": "stderr",
     "output_type": "stream",
     "text": [
      "Batches: 100%|██████████| 1/1 [00:00<00:00, 11.17it/s]\n",
      "Batches: 100%|██████████| 1/1 [00:00<00:00, 13.15it/s]\n"
     ]
    },
    {
     "name": "stdout",
     "output_type": "stream",
     "text": [
      "Computed similarity for 'ID_535': 0.6689\n",
      "\n",
      "Processing resume file: 'Resume_of_ID_536.pdf'\n",
      "Extracted resume ID: '536'\n"
     ]
    },
    {
     "name": "stderr",
     "output_type": "stream",
     "text": [
      "Batches: 100%|██████████| 1/1 [00:00<00:00, 15.04it/s]\n",
      "Batches: 100%|██████████| 1/1 [00:00<00:00, 19.72it/s]\n"
     ]
    },
    {
     "name": "stdout",
     "output_type": "stream",
     "text": [
      "Computed similarity for 'ID_536': 0.6829\n",
      "\n",
      "Processing resume file: 'Resume_of_ID_537.pdf'\n",
      "Extracted resume ID: '537'\n"
     ]
    },
    {
     "name": "stderr",
     "output_type": "stream",
     "text": [
      "Batches: 100%|██████████| 1/1 [00:00<00:00, 16.00it/s]\n",
      "Batches: 100%|██████████| 1/1 [00:00<00:00, 18.96it/s]\n"
     ]
    },
    {
     "name": "stdout",
     "output_type": "stream",
     "text": [
      "Computed similarity for 'ID_537': 0.5182\n",
      "\n",
      "Processing resume file: 'Resume_of_ID_538.pdf'\n",
      "Extracted resume ID: '538'\n"
     ]
    },
    {
     "name": "stderr",
     "output_type": "stream",
     "text": [
      "Batches: 100%|██████████| 1/1 [00:00<00:00, 13.43it/s]\n",
      "Batches: 100%|██████████| 1/1 [00:00<00:00, 17.55it/s]\n"
     ]
    },
    {
     "name": "stdout",
     "output_type": "stream",
     "text": [
      "Computed similarity for 'ID_538': 0.6424\n",
      "\n",
      "Processing resume file: 'Resume_of_ID_539.pdf'\n",
      "Extracted resume ID: '539'\n"
     ]
    },
    {
     "name": "stderr",
     "output_type": "stream",
     "text": [
      "Batches: 100%|██████████| 1/1 [00:00<00:00,  9.30it/s]\n",
      "Batches: 100%|██████████| 1/1 [00:00<00:00, 11.78it/s]\n"
     ]
    },
    {
     "name": "stdout",
     "output_type": "stream",
     "text": [
      "Computed similarity for 'ID_539': 0.7718\n",
      "\n",
      "Processing resume file: 'Resume_of_ID_54.pdf'\n",
      "Extracted resume ID: '54'\n"
     ]
    },
    {
     "name": "stderr",
     "output_type": "stream",
     "text": [
      "Batches: 100%|██████████| 1/1 [00:00<00:00,  9.69it/s]\n",
      "Batches: 100%|██████████| 1/1 [00:00<00:00, 15.14it/s]\n"
     ]
    },
    {
     "name": "stdout",
     "output_type": "stream",
     "text": [
      "Computed similarity for 'ID_54': 0.6602\n",
      "\n",
      "Processing resume file: 'Resume_of_ID_540.pdf'\n",
      "Extracted resume ID: '540'\n"
     ]
    },
    {
     "name": "stderr",
     "output_type": "stream",
     "text": [
      "Batches: 100%|██████████| 1/1 [00:00<00:00, 13.22it/s]\n",
      "Batches: 100%|██████████| 1/1 [00:00<00:00, 15.04it/s]\n"
     ]
    },
    {
     "name": "stdout",
     "output_type": "stream",
     "text": [
      "Computed similarity for 'ID_540': 0.5228\n",
      "\n",
      "Processing resume file: 'Resume_of_ID_541.pdf'\n",
      "Extracted resume ID: '541'\n"
     ]
    },
    {
     "name": "stderr",
     "output_type": "stream",
     "text": [
      "Batches: 100%|██████████| 1/1 [00:00<00:00, 12.32it/s]\n",
      "Batches: 100%|██████████| 1/1 [00:00<00:00,  9.86it/s]\n"
     ]
    },
    {
     "name": "stdout",
     "output_type": "stream",
     "text": [
      "Computed similarity for 'ID_541': 0.5038\n",
      "\n",
      "Processing resume file: 'Resume_of_ID_542.pdf'\n",
      "Extracted resume ID: '542'\n"
     ]
    },
    {
     "name": "stderr",
     "output_type": "stream",
     "text": [
      "Batches: 100%|██████████| 1/1 [00:00<00:00, 11.30it/s]\n",
      "Batches: 100%|██████████| 1/1 [00:00<00:00, 14.40it/s]\n"
     ]
    },
    {
     "name": "stdout",
     "output_type": "stream",
     "text": [
      "Computed similarity for 'ID_542': 0.6769\n",
      "\n",
      "Processing resume file: 'Resume_of_ID_543.pdf'\n",
      "Extracted resume ID: '543'\n"
     ]
    },
    {
     "name": "stderr",
     "output_type": "stream",
     "text": [
      "Batches: 100%|██████████| 1/1 [00:00<00:00, 11.10it/s]\n",
      "Batches: 100%|██████████| 1/1 [00:00<00:00, 17.77it/s]\n"
     ]
    },
    {
     "name": "stdout",
     "output_type": "stream",
     "text": [
      "Computed similarity for 'ID_543': 0.6835\n",
      "\n",
      "Processing resume file: 'Resume_of_ID_544.pdf'\n",
      "Extracted resume ID: '544'\n"
     ]
    },
    {
     "name": "stderr",
     "output_type": "stream",
     "text": [
      "Batches: 100%|██████████| 1/1 [00:00<00:00, 10.95it/s]\n",
      "Batches: 100%|██████████| 1/1 [00:00<00:00, 13.01it/s]\n"
     ]
    },
    {
     "name": "stdout",
     "output_type": "stream",
     "text": [
      "Computed similarity for 'ID_544': 0.6101\n",
      "\n",
      "Processing resume file: 'Resume_of_ID_545.pdf'\n",
      "Extracted resume ID: '545'\n"
     ]
    },
    {
     "name": "stderr",
     "output_type": "stream",
     "text": [
      "Batches: 100%|██████████| 1/1 [00:00<00:00, 12.27it/s]\n",
      "Batches: 100%|██████████| 1/1 [00:00<00:00, 12.78it/s]\n"
     ]
    },
    {
     "name": "stdout",
     "output_type": "stream",
     "text": [
      "Computed similarity for 'ID_545': 0.6173\n",
      "\n",
      "Processing resume file: 'Resume_of_ID_546.pdf'\n",
      "Extracted resume ID: '546'\n"
     ]
    },
    {
     "name": "stderr",
     "output_type": "stream",
     "text": [
      "Batches: 100%|██████████| 1/1 [00:00<00:00, 10.00it/s]\n",
      "Batches: 100%|██████████| 1/1 [00:00<00:00, 12.18it/s]\n"
     ]
    },
    {
     "name": "stdout",
     "output_type": "stream",
     "text": [
      "Computed similarity for 'ID_546': 0.7548\n",
      "\n",
      "Processing resume file: 'Resume_of_ID_547.pdf'\n",
      "Extracted resume ID: '547'\n"
     ]
    },
    {
     "name": "stderr",
     "output_type": "stream",
     "text": [
      "Batches: 100%|██████████| 1/1 [00:00<00:00, 11.98it/s]\n",
      "Batches: 100%|██████████| 1/1 [00:00<00:00, 12.33it/s]\n"
     ]
    },
    {
     "name": "stdout",
     "output_type": "stream",
     "text": [
      "Computed similarity for 'ID_547': 0.7507\n",
      "\n",
      "Processing resume file: 'Resume_of_ID_548.pdf'\n",
      "Extracted resume ID: '548'\n"
     ]
    },
    {
     "name": "stderr",
     "output_type": "stream",
     "text": [
      "Batches: 100%|██████████| 1/1 [00:00<00:00, 10.66it/s]\n",
      "Batches: 100%|██████████| 1/1 [00:00<00:00, 11.18it/s]\n"
     ]
    },
    {
     "name": "stdout",
     "output_type": "stream",
     "text": [
      "Computed similarity for 'ID_548': 0.6218\n",
      "\n",
      "Processing resume file: 'Resume_of_ID_549.pdf'\n",
      "Extracted resume ID: '549'\n"
     ]
    },
    {
     "name": "stderr",
     "output_type": "stream",
     "text": [
      "Batches: 100%|██████████| 1/1 [00:00<00:00, 11.17it/s]\n",
      "Batches: 100%|██████████| 1/1 [00:00<00:00, 12.32it/s]\n"
     ]
    },
    {
     "name": "stdout",
     "output_type": "stream",
     "text": [
      "Computed similarity for 'ID_549': 0.7086\n",
      "\n",
      "Processing resume file: 'Resume_of_ID_55.pdf'\n",
      "Extracted resume ID: '55'\n"
     ]
    },
    {
     "name": "stderr",
     "output_type": "stream",
     "text": [
      "Batches: 100%|██████████| 1/1 [00:00<00:00, 10.86it/s]\n",
      "Batches: 100%|██████████| 1/1 [00:00<00:00, 12.64it/s]\n"
     ]
    },
    {
     "name": "stdout",
     "output_type": "stream",
     "text": [
      "Computed similarity for 'ID_55': 0.7734\n",
      "\n",
      "Processing resume file: 'Resume_of_ID_550.pdf'\n",
      "Extracted resume ID: '550'\n"
     ]
    },
    {
     "name": "stderr",
     "output_type": "stream",
     "text": [
      "Batches: 100%|██████████| 1/1 [00:00<00:00, 12.56it/s]\n",
      "Batches: 100%|██████████| 1/1 [00:00<00:00, 15.88it/s]\n"
     ]
    },
    {
     "name": "stdout",
     "output_type": "stream",
     "text": [
      "Computed similarity for 'ID_550': 0.6893\n",
      "\n",
      "Processing resume file: 'Resume_of_ID_551.pdf'\n",
      "Extracted resume ID: '551'\n"
     ]
    },
    {
     "name": "stderr",
     "output_type": "stream",
     "text": [
      "Batches: 100%|██████████| 1/1 [00:00<00:00,  9.27it/s]\n",
      "Batches: 100%|██████████| 1/1 [00:00<00:00,  9.52it/s]\n"
     ]
    },
    {
     "name": "stdout",
     "output_type": "stream",
     "text": [
      "Computed similarity for 'ID_551': 0.7029\n",
      "\n",
      "Processing resume file: 'Resume_of_ID_552.pdf'\n",
      "Extracted resume ID: '552'\n"
     ]
    },
    {
     "name": "stderr",
     "output_type": "stream",
     "text": [
      "Batches: 100%|██████████| 1/1 [00:00<00:00, 12.61it/s]\n",
      "Batches: 100%|██████████| 1/1 [00:00<00:00, 13.53it/s]\n"
     ]
    },
    {
     "name": "stdout",
     "output_type": "stream",
     "text": [
      "Computed similarity for 'ID_552': 0.6377\n",
      "\n",
      "Processing resume file: 'Resume_of_ID_553.pdf'\n",
      "Extracted resume ID: '553'\n"
     ]
    },
    {
     "name": "stderr",
     "output_type": "stream",
     "text": [
      "Batches: 100%|██████████| 1/1 [00:00<00:00,  9.74it/s]\n",
      "Batches: 100%|██████████| 1/1 [00:00<00:00, 10.20it/s]\n"
     ]
    },
    {
     "name": "stdout",
     "output_type": "stream",
     "text": [
      "Computed similarity for 'ID_553': 0.7846\n",
      "\n",
      "Processing resume file: 'Resume_of_ID_554.pdf'\n",
      "Extracted resume ID: '554'\n"
     ]
    },
    {
     "name": "stderr",
     "output_type": "stream",
     "text": [
      "Batches: 100%|██████████| 1/1 [00:00<00:00, 11.71it/s]\n",
      "Batches: 100%|██████████| 1/1 [00:00<00:00, 11.94it/s]\n"
     ]
    },
    {
     "name": "stdout",
     "output_type": "stream",
     "text": [
      "Computed similarity for 'ID_554': 0.4212\n",
      "\n",
      "Processing resume file: 'Resume_of_ID_555.pdf'\n",
      "Extracted resume ID: '555'\n"
     ]
    },
    {
     "name": "stderr",
     "output_type": "stream",
     "text": [
      "Batches: 100%|██████████| 1/1 [00:00<00:00, 11.25it/s]\n",
      "Batches: 100%|██████████| 1/1 [00:00<00:00, 10.48it/s]\n"
     ]
    },
    {
     "name": "stdout",
     "output_type": "stream",
     "text": [
      "Computed similarity for 'ID_555': 0.5572\n",
      "\n",
      "Processing resume file: 'Resume_of_ID_556.pdf'\n",
      "Extracted resume ID: '556'\n"
     ]
    },
    {
     "name": "stderr",
     "output_type": "stream",
     "text": [
      "Batches: 100%|██████████| 1/1 [00:00<00:00, 10.61it/s]\n",
      "Batches: 100%|██████████| 1/1 [00:00<00:00, 13.55it/s]\n"
     ]
    },
    {
     "name": "stdout",
     "output_type": "stream",
     "text": [
      "Computed similarity for 'ID_556': 0.5956\n",
      "\n",
      "Processing resume file: 'Resume_of_ID_557.pdf'\n",
      "Extracted resume ID: '557'\n"
     ]
    },
    {
     "name": "stderr",
     "output_type": "stream",
     "text": [
      "Batches: 100%|██████████| 1/1 [00:00<00:00,  9.01it/s]\n",
      "Batches: 100%|██████████| 1/1 [00:00<00:00, 14.75it/s]\n"
     ]
    },
    {
     "name": "stdout",
     "output_type": "stream",
     "text": [
      "Computed similarity for 'ID_557': 0.6788\n",
      "\n",
      "Processing resume file: 'Resume_of_ID_558.pdf'\n",
      "Extracted resume ID: '558'\n"
     ]
    },
    {
     "name": "stderr",
     "output_type": "stream",
     "text": [
      "Batches: 100%|██████████| 1/1 [00:00<00:00, 10.37it/s]\n",
      "Batches: 100%|██████████| 1/1 [00:00<00:00, 12.19it/s]\n"
     ]
    },
    {
     "name": "stdout",
     "output_type": "stream",
     "text": [
      "Computed similarity for 'ID_558': 0.6927\n",
      "\n",
      "Processing resume file: 'Resume_of_ID_559.pdf'\n",
      "Extracted resume ID: '559'\n"
     ]
    },
    {
     "name": "stderr",
     "output_type": "stream",
     "text": [
      "Batches: 100%|██████████| 1/1 [00:00<00:00, 13.00it/s]\n",
      "Batches: 100%|██████████| 1/1 [00:00<00:00, 12.17it/s]\n"
     ]
    },
    {
     "name": "stdout",
     "output_type": "stream",
     "text": [
      "Computed similarity for 'ID_559': 0.5816\n",
      "\n",
      "Processing resume file: 'Resume_of_ID_56.pdf'\n",
      "Extracted resume ID: '56'\n"
     ]
    },
    {
     "name": "stderr",
     "output_type": "stream",
     "text": [
      "Batches: 100%|██████████| 1/1 [00:00<00:00, 11.41it/s]\n",
      "Batches: 100%|██████████| 1/1 [00:00<00:00, 11.48it/s]\n"
     ]
    },
    {
     "name": "stdout",
     "output_type": "stream",
     "text": [
      "Computed similarity for 'ID_56': 0.5802\n",
      "\n",
      "Processing resume file: 'Resume_of_ID_560.pdf'\n",
      "Extracted resume ID: '560'\n"
     ]
    },
    {
     "name": "stderr",
     "output_type": "stream",
     "text": [
      "Batches: 100%|██████████| 1/1 [00:00<00:00,  9.17it/s]\n",
      "Batches: 100%|██████████| 1/1 [00:00<00:00,  9.91it/s]\n"
     ]
    },
    {
     "name": "stdout",
     "output_type": "stream",
     "text": [
      "Computed similarity for 'ID_560': 0.7322\n",
      "\n",
      "Processing resume file: 'Resume_of_ID_561.pdf'\n",
      "Extracted resume ID: '561'\n"
     ]
    },
    {
     "name": "stderr",
     "output_type": "stream",
     "text": [
      "Batches: 100%|██████████| 1/1 [00:00<00:00,  8.47it/s]\n",
      "Batches: 100%|██████████| 1/1 [00:00<00:00, 10.83it/s]\n"
     ]
    },
    {
     "name": "stdout",
     "output_type": "stream",
     "text": [
      "Computed similarity for 'ID_561': 0.6752\n",
      "\n",
      "Processing resume file: 'Resume_of_ID_562.pdf'\n",
      "Extracted resume ID: '562'\n"
     ]
    },
    {
     "name": "stderr",
     "output_type": "stream",
     "text": [
      "Batches: 100%|██████████| 1/1 [00:00<00:00, 11.42it/s]\n",
      "Batches: 100%|██████████| 1/1 [00:00<00:00, 12.63it/s]\n"
     ]
    },
    {
     "name": "stdout",
     "output_type": "stream",
     "text": [
      "Computed similarity for 'ID_562': 0.6464\n",
      "\n",
      "Processing resume file: 'Resume_of_ID_563.pdf'\n",
      "Extracted resume ID: '563'\n",
      "Skipping similarity computation for '563' due to empty recommendation letters.\n",
      "\n",
      "Processing resume file: 'Resume_of_ID_564.pdf'\n",
      "Extracted resume ID: '564'\n"
     ]
    },
    {
     "name": "stderr",
     "output_type": "stream",
     "text": [
      "Batches: 100%|██████████| 1/1 [00:00<00:00,  9.89it/s]\n",
      "Batches: 100%|██████████| 1/1 [00:00<00:00, 10.68it/s]\n"
     ]
    },
    {
     "name": "stdout",
     "output_type": "stream",
     "text": [
      "Computed similarity for 'ID_564': 0.6632\n",
      "\n",
      "Processing resume file: 'Resume_of_ID_565.pdf'\n",
      "Extracted resume ID: '565'\n"
     ]
    },
    {
     "name": "stderr",
     "output_type": "stream",
     "text": [
      "Batches: 100%|██████████| 1/1 [00:00<00:00, 10.15it/s]\n",
      "Batches: 100%|██████████| 1/1 [00:00<00:00, 10.01it/s]\n"
     ]
    },
    {
     "name": "stdout",
     "output_type": "stream",
     "text": [
      "Computed similarity for 'ID_565': 0.5482\n",
      "\n",
      "Processing resume file: 'Resume_of_ID_566.pdf'\n",
      "Extracted resume ID: '566'\n"
     ]
    },
    {
     "name": "stderr",
     "output_type": "stream",
     "text": [
      "Batches: 100%|██████████| 1/1 [00:00<00:00,  8.34it/s]\n",
      "Batches: 100%|██████████| 1/1 [00:00<00:00, 10.75it/s]\n"
     ]
    },
    {
     "name": "stdout",
     "output_type": "stream",
     "text": [
      "Computed similarity for 'ID_566': 0.6444\n",
      "\n",
      "Processing resume file: 'Resume_of_ID_567.pdf'\n",
      "Extracted resume ID: '567'\n"
     ]
    },
    {
     "name": "stderr",
     "output_type": "stream",
     "text": [
      "Batches: 100%|██████████| 1/1 [00:00<00:00, 11.59it/s]\n",
      "Batches: 100%|██████████| 1/1 [00:00<00:00, 20.08it/s]\n"
     ]
    },
    {
     "name": "stdout",
     "output_type": "stream",
     "text": [
      "Computed similarity for 'ID_567': 0.6074\n",
      "\n",
      "Processing resume file: 'Resume_of_ID_568.pdf'\n",
      "Extracted resume ID: '568'\n"
     ]
    },
    {
     "name": "stderr",
     "output_type": "stream",
     "text": [
      "Batches: 100%|██████████| 1/1 [00:00<00:00,  8.48it/s]\n",
      "Batches: 100%|██████████| 1/1 [00:00<00:00, 15.14it/s]\n"
     ]
    },
    {
     "name": "stdout",
     "output_type": "stream",
     "text": [
      "Computed similarity for 'ID_568': 0.7655\n",
      "\n",
      "Processing resume file: 'Resume_of_ID_569.pdf'\n",
      "Extracted resume ID: '569'\n"
     ]
    },
    {
     "name": "stderr",
     "output_type": "stream",
     "text": [
      "Batches: 100%|██████████| 1/1 [00:00<00:00,  9.99it/s]\n",
      "Batches: 100%|██████████| 1/1 [00:00<00:00, 12.24it/s]\n"
     ]
    },
    {
     "name": "stdout",
     "output_type": "stream",
     "text": [
      "Computed similarity for 'ID_569': 0.6862\n",
      "\n",
      "Processing resume file: 'Resume_of_ID_57.pdf'\n",
      "Extracted resume ID: '57'\n"
     ]
    },
    {
     "name": "stderr",
     "output_type": "stream",
     "text": [
      "Batches: 100%|██████████| 1/1 [00:00<00:00, 11.03it/s]\n",
      "Batches: 100%|██████████| 1/1 [00:00<00:00, 11.97it/s]\n"
     ]
    },
    {
     "name": "stdout",
     "output_type": "stream",
     "text": [
      "Computed similarity for 'ID_57': 0.616\n",
      "\n",
      "Processing resume file: 'Resume_of_ID_570.pdf'\n",
      "Extracted resume ID: '570'\n"
     ]
    },
    {
     "name": "stderr",
     "output_type": "stream",
     "text": [
      "Batches: 100%|██████████| 1/1 [00:00<00:00, 10.19it/s]\n",
      "Batches: 100%|██████████| 1/1 [00:00<00:00, 10.96it/s]\n"
     ]
    },
    {
     "name": "stdout",
     "output_type": "stream",
     "text": [
      "Computed similarity for 'ID_570': 0.5911\n",
      "\n",
      "Processing resume file: 'Resume_of_ID_571.pdf'\n",
      "Extracted resume ID: '571'\n"
     ]
    },
    {
     "name": "stderr",
     "output_type": "stream",
     "text": [
      "Batches: 100%|██████████| 1/1 [00:00<00:00, 11.67it/s]\n",
      "Batches: 100%|██████████| 1/1 [00:00<00:00, 16.36it/s]\n"
     ]
    },
    {
     "name": "stdout",
     "output_type": "stream",
     "text": [
      "Computed similarity for 'ID_571': 0.6976\n",
      "\n",
      "Processing resume file: 'Resume_of_ID_572.pdf'\n",
      "Extracted resume ID: '572'\n"
     ]
    },
    {
     "name": "stderr",
     "output_type": "stream",
     "text": [
      "Batches: 100%|██████████| 1/1 [00:00<00:00,  9.31it/s]\n",
      "Batches: 100%|██████████| 1/1 [00:00<00:00, 12.09it/s]\n"
     ]
    },
    {
     "name": "stdout",
     "output_type": "stream",
     "text": [
      "Computed similarity for 'ID_572': 0.7728\n",
      "\n",
      "Processing resume file: 'Resume_of_ID_573.pdf'\n",
      "Extracted resume ID: '573'\n",
      "Skipping similarity computation for '573' due to empty recommendation letters.\n",
      "\n",
      "Processing resume file: 'Resume_of_ID_574.pdf'\n",
      "Extracted resume ID: '574'\n"
     ]
    },
    {
     "name": "stderr",
     "output_type": "stream",
     "text": [
      "Batches: 100%|██████████| 1/1 [00:00<00:00, 12.24it/s]\n",
      "Batches: 100%|██████████| 1/1 [00:00<00:00, 15.63it/s]\n"
     ]
    },
    {
     "name": "stdout",
     "output_type": "stream",
     "text": [
      "Computed similarity for 'ID_574': 0.7267\n",
      "\n",
      "Processing resume file: 'Resume_of_ID_575.pdf'\n",
      "Extracted resume ID: '575'\n"
     ]
    },
    {
     "name": "stderr",
     "output_type": "stream",
     "text": [
      "Batches: 100%|██████████| 1/1 [00:00<00:00, 12.40it/s]\n",
      "Batches: 100%|██████████| 1/1 [00:00<00:00, 11.94it/s]\n"
     ]
    },
    {
     "name": "stdout",
     "output_type": "stream",
     "text": [
      "Computed similarity for 'ID_575': 0.6354\n",
      "\n",
      "Processing resume file: 'Resume_of_ID_576.pdf'\n",
      "Extracted resume ID: '576'\n"
     ]
    },
    {
     "name": "stderr",
     "output_type": "stream",
     "text": [
      "Batches: 100%|██████████| 1/1 [00:00<00:00, 10.35it/s]\n",
      "Batches: 100%|██████████| 1/1 [00:00<00:00, 12.83it/s]\n"
     ]
    },
    {
     "name": "stdout",
     "output_type": "stream",
     "text": [
      "Computed similarity for 'ID_576': 0.6719\n",
      "\n",
      "Processing resume file: 'Resume_of_ID_577.pdf'\n",
      "Extracted resume ID: '577'\n"
     ]
    },
    {
     "name": "stderr",
     "output_type": "stream",
     "text": [
      "Batches: 100%|██████████| 1/1 [00:00<00:00, 10.60it/s]\n",
      "Batches: 100%|██████████| 1/1 [00:00<00:00, 12.01it/s]\n"
     ]
    },
    {
     "name": "stdout",
     "output_type": "stream",
     "text": [
      "Computed similarity for 'ID_577': 0.6602\n",
      "\n",
      "Processing resume file: 'Resume_of_ID_578.pdf'\n",
      "Extracted resume ID: '578'\n"
     ]
    },
    {
     "name": "stderr",
     "output_type": "stream",
     "text": [
      "Batches: 100%|██████████| 1/1 [00:00<00:00, 10.09it/s]\n",
      "Batches: 100%|██████████| 1/1 [00:00<00:00, 14.13it/s]\n"
     ]
    },
    {
     "name": "stdout",
     "output_type": "stream",
     "text": [
      "Computed similarity for 'ID_578': 0.6561\n",
      "\n",
      "Processing resume file: 'Resume_of_ID_579.pdf'\n",
      "Extracted resume ID: '579'\n"
     ]
    },
    {
     "name": "stderr",
     "output_type": "stream",
     "text": [
      "Batches: 100%|██████████| 1/1 [00:00<00:00, 13.66it/s]\n",
      "Batches: 100%|██████████| 1/1 [00:00<00:00, 15.41it/s]\n"
     ]
    },
    {
     "name": "stdout",
     "output_type": "stream",
     "text": [
      "Computed similarity for 'ID_579': 0.7662\n",
      "\n",
      "Processing resume file: 'Resume_of_ID_58.pdf'\n",
      "Extracted resume ID: '58'\n"
     ]
    },
    {
     "name": "stderr",
     "output_type": "stream",
     "text": [
      "Batches: 100%|██████████| 1/1 [00:00<00:00, 10.10it/s]\n",
      "Batches: 100%|██████████| 1/1 [00:00<00:00, 10.94it/s]\n"
     ]
    },
    {
     "name": "stdout",
     "output_type": "stream",
     "text": [
      "Computed similarity for 'ID_58': 0.6554\n",
      "\n",
      "Processing resume file: 'Resume_of_ID_580.pdf'\n",
      "Extracted resume ID: '580'\n"
     ]
    },
    {
     "name": "stderr",
     "output_type": "stream",
     "text": [
      "Batches: 100%|██████████| 1/1 [00:00<00:00,  9.11it/s]\n",
      "Batches: 100%|██████████| 1/1 [00:00<00:00, 17.44it/s]\n"
     ]
    },
    {
     "name": "stdout",
     "output_type": "stream",
     "text": [
      "Computed similarity for 'ID_580': 0.6111\n",
      "\n",
      "Processing resume file: 'Resume_of_ID_581.pdf'\n",
      "Extracted resume ID: '581'\n"
     ]
    },
    {
     "name": "stderr",
     "output_type": "stream",
     "text": [
      "Batches: 100%|██████████| 1/1 [00:00<00:00,  9.19it/s]\n",
      "Batches: 100%|██████████| 1/1 [00:00<00:00, 10.02it/s]\n"
     ]
    },
    {
     "name": "stdout",
     "output_type": "stream",
     "text": [
      "Computed similarity for 'ID_581': 0.731\n",
      "\n",
      "Processing resume file: 'Resume_of_ID_582.pdf'\n",
      "Extracted resume ID: '582'\n"
     ]
    },
    {
     "name": "stderr",
     "output_type": "stream",
     "text": [
      "Batches: 100%|██████████| 1/1 [00:00<00:00,  9.86it/s]\n",
      "Batches: 100%|██████████| 1/1 [00:00<00:00, 15.51it/s]\n"
     ]
    },
    {
     "name": "stdout",
     "output_type": "stream",
     "text": [
      "Computed similarity for 'ID_582': 0.664\n",
      "\n",
      "Processing resume file: 'Resume_of_ID_583.pdf'\n",
      "Extracted resume ID: '583'\n"
     ]
    },
    {
     "name": "stderr",
     "output_type": "stream",
     "text": [
      "Batches: 100%|██████████| 1/1 [00:00<00:00, 14.39it/s]\n",
      "Batches: 100%|██████████| 1/1 [00:00<00:00, 12.37it/s]\n"
     ]
    },
    {
     "name": "stdout",
     "output_type": "stream",
     "text": [
      "Computed similarity for 'ID_583': 0.6891\n",
      "\n",
      "Processing resume file: 'Resume_of_ID_584.pdf'\n",
      "Extracted resume ID: '584'\n"
     ]
    },
    {
     "name": "stderr",
     "output_type": "stream",
     "text": [
      "Batches: 100%|██████████| 1/1 [00:00<00:00,  9.15it/s]\n",
      "Batches: 100%|██████████| 1/1 [00:00<00:00, 10.53it/s]\n"
     ]
    },
    {
     "name": "stdout",
     "output_type": "stream",
     "text": [
      "Computed similarity for 'ID_584': 0.7025\n",
      "\n",
      "Processing resume file: 'Resume_of_ID_585.pdf'\n",
      "Extracted resume ID: '585'\n"
     ]
    },
    {
     "name": "stderr",
     "output_type": "stream",
     "text": [
      "Batches: 100%|██████████| 1/1 [00:00<00:00,  8.19it/s]\n",
      "Batches: 100%|██████████| 1/1 [00:00<00:00, 17.56it/s]\n"
     ]
    },
    {
     "name": "stdout",
     "output_type": "stream",
     "text": [
      "Computed similarity for 'ID_585': 0.5862\n",
      "\n",
      "Processing resume file: 'Resume_of_ID_586.pdf'\n",
      "Extracted resume ID: '586'\n"
     ]
    },
    {
     "name": "stderr",
     "output_type": "stream",
     "text": [
      "Batches: 100%|██████████| 1/1 [00:00<00:00,  8.39it/s]\n",
      "Batches: 100%|██████████| 1/1 [00:00<00:00, 10.60it/s]\n"
     ]
    },
    {
     "name": "stdout",
     "output_type": "stream",
     "text": [
      "Computed similarity for 'ID_586': 0.5064\n",
      "\n",
      "Processing resume file: 'Resume_of_ID_587.pdf'\n",
      "Extracted resume ID: '587'\n"
     ]
    },
    {
     "name": "stderr",
     "output_type": "stream",
     "text": [
      "Batches: 100%|██████████| 1/1 [00:00<00:00, 11.18it/s]\n",
      "Batches: 100%|██████████| 1/1 [00:00<00:00, 15.46it/s]\n"
     ]
    },
    {
     "name": "stdout",
     "output_type": "stream",
     "text": [
      "Computed similarity for 'ID_587': 0.662\n",
      "\n",
      "Processing resume file: 'Resume_of_ID_588.pdf'\n",
      "Extracted resume ID: '588'\n"
     ]
    },
    {
     "name": "stderr",
     "output_type": "stream",
     "text": [
      "Batches: 100%|██████████| 1/1 [00:00<00:00,  9.59it/s]\n",
      "Batches: 100%|██████████| 1/1 [00:00<00:00, 13.47it/s]\n"
     ]
    },
    {
     "name": "stdout",
     "output_type": "stream",
     "text": [
      "Computed similarity for 'ID_588': 0.5718\n",
      "\n",
      "Processing resume file: 'Resume_of_ID_589.pdf'\n",
      "Extracted resume ID: '589'\n"
     ]
    },
    {
     "name": "stderr",
     "output_type": "stream",
     "text": [
      "Batches: 100%|██████████| 1/1 [00:00<00:00,  9.36it/s]\n",
      "Batches: 100%|██████████| 1/1 [00:00<00:00, 12.67it/s]\n"
     ]
    },
    {
     "name": "stdout",
     "output_type": "stream",
     "text": [
      "Computed similarity for 'ID_589': 0.6722\n",
      "\n",
      "Processing resume file: 'Resume_of_ID_59.pdf'\n",
      "Extracted resume ID: '59'\n"
     ]
    },
    {
     "name": "stderr",
     "output_type": "stream",
     "text": [
      "Batches: 100%|██████████| 1/1 [00:00<00:00,  9.35it/s]\n",
      "Batches: 100%|██████████| 1/1 [00:00<00:00, 10.43it/s]\n"
     ]
    },
    {
     "name": "stdout",
     "output_type": "stream",
     "text": [
      "Computed similarity for 'ID_59': 0.8037\n",
      "\n",
      "Processing resume file: 'Resume_of_ID_590.pdf'\n",
      "Extracted resume ID: '590'\n"
     ]
    },
    {
     "name": "stderr",
     "output_type": "stream",
     "text": [
      "Batches: 100%|██████████| 1/1 [00:00<00:00, 10.01it/s]\n",
      "Batches: 100%|██████████| 1/1 [00:00<00:00, 18.07it/s]\n"
     ]
    },
    {
     "name": "stdout",
     "output_type": "stream",
     "text": [
      "Computed similarity for 'ID_590': 0.6436\n",
      "\n",
      "Processing resume file: 'Resume_of_ID_591.pdf'\n",
      "Extracted resume ID: '591'\n"
     ]
    },
    {
     "name": "stderr",
     "output_type": "stream",
     "text": [
      "Batches: 100%|██████████| 1/1 [00:00<00:00,  8.90it/s]\n",
      "Batches: 100%|██████████| 1/1 [00:00<00:00, 12.28it/s]\n"
     ]
    },
    {
     "name": "stdout",
     "output_type": "stream",
     "text": [
      "Computed similarity for 'ID_591': 0.6892\n",
      "\n",
      "Processing resume file: 'Resume_of_ID_592.pdf'\n",
      "Extracted resume ID: '592'\n"
     ]
    },
    {
     "name": "stderr",
     "output_type": "stream",
     "text": [
      "Batches: 100%|██████████| 1/1 [00:00<00:00, 10.28it/s]\n",
      "Batches: 100%|██████████| 1/1 [00:00<00:00, 10.80it/s]\n"
     ]
    },
    {
     "name": "stdout",
     "output_type": "stream",
     "text": [
      "Computed similarity for 'ID_592': 0.5895\n",
      "\n",
      "Processing resume file: 'Resume_of_ID_593.pdf'\n",
      "Extracted resume ID: '593'\n"
     ]
    },
    {
     "name": "stderr",
     "output_type": "stream",
     "text": [
      "Batches: 100%|██████████| 1/1 [00:00<00:00, 13.43it/s]\n",
      "Batches: 100%|██████████| 1/1 [00:00<00:00, 12.73it/s]\n"
     ]
    },
    {
     "name": "stdout",
     "output_type": "stream",
     "text": [
      "Computed similarity for 'ID_593': 0.5138\n",
      "\n",
      "Processing resume file: 'Resume_of_ID_594.pdf'\n",
      "Extracted resume ID: '594'\n"
     ]
    },
    {
     "name": "stderr",
     "output_type": "stream",
     "text": [
      "Batches: 100%|██████████| 1/1 [00:00<00:00,  9.77it/s]\n",
      "Batches: 100%|██████████| 1/1 [00:00<00:00,  9.86it/s]\n"
     ]
    },
    {
     "name": "stdout",
     "output_type": "stream",
     "text": [
      "Computed similarity for 'ID_594': 0.5862\n",
      "\n",
      "Processing resume file: 'Resume_of_ID_595.pdf'\n",
      "Extracted resume ID: '595'\n"
     ]
    },
    {
     "name": "stderr",
     "output_type": "stream",
     "text": [
      "Batches: 100%|██████████| 1/1 [00:00<00:00,  8.10it/s]\n",
      "Batches: 100%|██████████| 1/1 [00:00<00:00, 10.69it/s]\n"
     ]
    },
    {
     "name": "stdout",
     "output_type": "stream",
     "text": [
      "Computed similarity for 'ID_595': 0.5273\n",
      "\n",
      "Processing resume file: 'Resume_of_ID_596.pdf'\n",
      "Extracted resume ID: '596'\n"
     ]
    },
    {
     "name": "stderr",
     "output_type": "stream",
     "text": [
      "Batches: 100%|██████████| 1/1 [00:00<00:00,  9.77it/s]\n",
      "Batches: 100%|██████████| 1/1 [00:00<00:00, 12.07it/s]\n"
     ]
    },
    {
     "name": "stdout",
     "output_type": "stream",
     "text": [
      "Computed similarity for 'ID_596': 0.6141\n",
      "\n",
      "Processing resume file: 'Resume_of_ID_597.pdf'\n",
      "Extracted resume ID: '597'\n"
     ]
    },
    {
     "name": "stderr",
     "output_type": "stream",
     "text": [
      "Batches: 100%|██████████| 1/1 [00:00<00:00, 10.04it/s]\n",
      "Batches: 100%|██████████| 1/1 [00:00<00:00, 12.30it/s]\n"
     ]
    },
    {
     "name": "stdout",
     "output_type": "stream",
     "text": [
      "Computed similarity for 'ID_597': 0.6193\n",
      "\n",
      "Processing resume file: 'Resume_of_ID_598.pdf'\n",
      "Extracted resume ID: '598'\n"
     ]
    },
    {
     "name": "stderr",
     "output_type": "stream",
     "text": [
      "Batches: 100%|██████████| 1/1 [00:00<00:00,  9.17it/s]\n",
      "Batches: 100%|██████████| 1/1 [00:00<00:00, 11.51it/s]\n"
     ]
    },
    {
     "name": "stdout",
     "output_type": "stream",
     "text": [
      "Computed similarity for 'ID_598': 0.6498\n",
      "\n",
      "Processing resume file: 'Resume_of_ID_599.pdf'\n",
      "Extracted resume ID: '599'\n"
     ]
    },
    {
     "name": "stderr",
     "output_type": "stream",
     "text": [
      "Batches: 100%|██████████| 1/1 [00:00<00:00, 10.17it/s]\n",
      "Batches: 100%|██████████| 1/1 [00:00<00:00, 11.74it/s]\n"
     ]
    },
    {
     "name": "stdout",
     "output_type": "stream",
     "text": [
      "Computed similarity for 'ID_599': 0.7544\n",
      "\n",
      "Processing resume file: 'Resume_of_ID_6.pdf'\n",
      "Extracted resume ID: '6'\n"
     ]
    },
    {
     "name": "stderr",
     "output_type": "stream",
     "text": [
      "Batches: 100%|██████████| 1/1 [00:00<00:00,  9.23it/s]\n",
      "Batches: 100%|██████████| 1/1 [00:00<00:00, 10.94it/s]\n"
     ]
    },
    {
     "name": "stdout",
     "output_type": "stream",
     "text": [
      "Computed similarity for 'ID_6': 0.7115\n",
      "\n",
      "Processing resume file: 'Resume_of_ID_60.pdf'\n",
      "Extracted resume ID: '60'\n"
     ]
    },
    {
     "name": "stderr",
     "output_type": "stream",
     "text": [
      "Batches: 100%|██████████| 1/1 [00:00<00:00, 11.92it/s]\n",
      "Batches: 100%|██████████| 1/1 [00:00<00:00, 10.63it/s]\n"
     ]
    },
    {
     "name": "stdout",
     "output_type": "stream",
     "text": [
      "Computed similarity for 'ID_60': 0.7195\n",
      "\n",
      "Processing resume file: 'Resume_of_ID_600.pdf'\n",
      "Extracted resume ID: '600'\n"
     ]
    },
    {
     "name": "stderr",
     "output_type": "stream",
     "text": [
      "Batches: 100%|██████████| 1/1 [00:00<00:00, 13.19it/s]\n",
      "Batches: 100%|██████████| 1/1 [00:00<00:00, 17.29it/s]\n"
     ]
    },
    {
     "name": "stdout",
     "output_type": "stream",
     "text": [
      "Computed similarity for 'ID_600': 0.8284\n",
      "\n",
      "Processing resume file: 'Resume_of_ID_601.pdf'\n",
      "Extracted resume ID: '601'\n"
     ]
    },
    {
     "name": "stderr",
     "output_type": "stream",
     "text": [
      "Batches: 100%|██████████| 1/1 [00:00<00:00, 13.47it/s]\n",
      "Batches: 100%|██████████| 1/1 [00:00<00:00, 13.56it/s]\n"
     ]
    },
    {
     "name": "stdout",
     "output_type": "stream",
     "text": [
      "Computed similarity for 'ID_601': 0.7551\n",
      "\n",
      "Processing resume file: 'Resume_of_ID_602.pdf'\n",
      "Extracted resume ID: '602'\n"
     ]
    },
    {
     "name": "stderr",
     "output_type": "stream",
     "text": [
      "Batches: 100%|██████████| 1/1 [00:00<00:00, 10.35it/s]\n",
      "Batches: 100%|██████████| 1/1 [00:00<00:00, 19.97it/s]\n"
     ]
    },
    {
     "name": "stdout",
     "output_type": "stream",
     "text": [
      "Computed similarity for 'ID_602': 0.6685\n",
      "\n",
      "Processing resume file: 'Resume_of_ID_603.pdf'\n",
      "Extracted resume ID: '603'\n",
      "Skipping similarity computation for '603' due to empty recommendation letters.\n",
      "\n",
      "Processing resume file: 'Resume_of_ID_604.pdf'\n",
      "Extracted resume ID: '604'\n"
     ]
    },
    {
     "name": "stderr",
     "output_type": "stream",
     "text": [
      "Batches: 100%|██████████| 1/1 [00:00<00:00, 10.00it/s]\n",
      "Batches: 100%|██████████| 1/1 [00:00<00:00, 12.48it/s]\n"
     ]
    },
    {
     "name": "stdout",
     "output_type": "stream",
     "text": [
      "Computed similarity for 'ID_604': 0.6129\n",
      "\n",
      "Processing resume file: 'Resume_of_ID_605.pdf'\n",
      "Extracted resume ID: '605'\n"
     ]
    },
    {
     "name": "stderr",
     "output_type": "stream",
     "text": [
      "Batches: 100%|██████████| 1/1 [00:00<00:00, 17.06it/s]\n",
      "Batches: 100%|██████████| 1/1 [00:00<00:00, 17.92it/s]\n"
     ]
    },
    {
     "name": "stdout",
     "output_type": "stream",
     "text": [
      "Computed similarity for 'ID_605': 0.5411\n",
      "\n",
      "Processing resume file: 'Resume_of_ID_606.pdf'\n",
      "Extracted resume ID: '606'\n"
     ]
    },
    {
     "name": "stderr",
     "output_type": "stream",
     "text": [
      "Batches: 100%|██████████| 1/1 [00:00<00:00,  9.43it/s]\n",
      "Batches: 100%|██████████| 1/1 [00:00<00:00, 12.90it/s]\n"
     ]
    },
    {
     "name": "stdout",
     "output_type": "stream",
     "text": [
      "Computed similarity for 'ID_606': 0.7509\n",
      "\n",
      "Processing resume file: 'Resume_of_ID_607.pdf'\n",
      "Extracted resume ID: '607'\n"
     ]
    },
    {
     "name": "stderr",
     "output_type": "stream",
     "text": [
      "Batches: 100%|██████████| 1/1 [00:00<00:00, 10.97it/s]\n",
      "Batches: 100%|██████████| 1/1 [00:00<00:00, 11.88it/s]\n"
     ]
    },
    {
     "name": "stdout",
     "output_type": "stream",
     "text": [
      "Computed similarity for 'ID_607': 0.7882\n",
      "\n",
      "Processing resume file: 'Resume_of_ID_608.pdf'\n",
      "Extracted resume ID: '608'\n"
     ]
    },
    {
     "name": "stderr",
     "output_type": "stream",
     "text": [
      "Batches: 100%|██████████| 1/1 [00:00<00:00,  9.53it/s]\n",
      "Batches: 100%|██████████| 1/1 [00:00<00:00, 13.52it/s]\n"
     ]
    },
    {
     "name": "stdout",
     "output_type": "stream",
     "text": [
      "Computed similarity for 'ID_608': 0.7809\n",
      "\n",
      "Processing resume file: 'Resume_of_ID_609.pdf'\n",
      "Extracted resume ID: '609'\n"
     ]
    },
    {
     "name": "stderr",
     "output_type": "stream",
     "text": [
      "Batches: 100%|██████████| 1/1 [00:00<00:00, 10.75it/s]\n",
      "Batches: 100%|██████████| 1/1 [00:00<00:00, 15.36it/s]\n"
     ]
    },
    {
     "name": "stdout",
     "output_type": "stream",
     "text": [
      "Computed similarity for 'ID_609': 0.6179\n",
      "\n",
      "Processing resume file: 'Resume_of_ID_61.pdf'\n",
      "Extracted resume ID: '61'\n"
     ]
    },
    {
     "name": "stderr",
     "output_type": "stream",
     "text": [
      "Batches: 100%|██████████| 1/1 [00:00<00:00,  8.93it/s]\n",
      "Batches: 100%|██████████| 1/1 [00:00<00:00, 12.61it/s]\n"
     ]
    },
    {
     "name": "stdout",
     "output_type": "stream",
     "text": [
      "Computed similarity for 'ID_61': 0.6561\n",
      "\n",
      "Processing resume file: 'Resume_of_ID_610.pdf'\n",
      "Extracted resume ID: '610'\n"
     ]
    },
    {
     "name": "stderr",
     "output_type": "stream",
     "text": [
      "Batches: 100%|██████████| 1/1 [00:00<00:00,  7.72it/s]\n",
      "Batches: 100%|██████████| 1/1 [00:00<00:00, 15.84it/s]\n"
     ]
    },
    {
     "name": "stdout",
     "output_type": "stream",
     "text": [
      "Computed similarity for 'ID_610': 0.6161\n",
      "\n",
      "Processing resume file: 'Resume_of_ID_611.pdf'\n",
      "Extracted resume ID: '611'\n"
     ]
    },
    {
     "name": "stderr",
     "output_type": "stream",
     "text": [
      "Batches: 100%|██████████| 1/1 [00:00<00:00,  9.44it/s]\n",
      "Batches: 100%|██████████| 1/1 [00:00<00:00, 12.00it/s]\n"
     ]
    },
    {
     "name": "stdout",
     "output_type": "stream",
     "text": [
      "Computed similarity for 'ID_611': 0.7215\n",
      "\n",
      "Processing resume file: 'Resume_of_ID_612.pdf'\n",
      "Extracted resume ID: '612'\n"
     ]
    },
    {
     "name": "stderr",
     "output_type": "stream",
     "text": [
      "Batches: 100%|██████████| 1/1 [00:00<00:00, 11.42it/s]\n",
      "Batches: 100%|██████████| 1/1 [00:00<00:00, 12.65it/s]\n"
     ]
    },
    {
     "name": "stdout",
     "output_type": "stream",
     "text": [
      "Computed similarity for 'ID_612': 0.5873\n",
      "\n",
      "Processing resume file: 'Resume_of_ID_613.pdf'\n",
      "Extracted resume ID: '613'\n"
     ]
    },
    {
     "name": "stderr",
     "output_type": "stream",
     "text": [
      "Batches: 100%|██████████| 1/1 [00:00<00:00,  9.03it/s]\n",
      "Batches: 100%|██████████| 1/1 [00:00<00:00, 12.06it/s]\n"
     ]
    },
    {
     "name": "stdout",
     "output_type": "stream",
     "text": [
      "Computed similarity for 'ID_613': 0.6721\n",
      "\n",
      "Processing resume file: 'Resume_of_ID_614.pdf'\n",
      "Extracted resume ID: '614'\n"
     ]
    },
    {
     "name": "stderr",
     "output_type": "stream",
     "text": [
      "Batches: 100%|██████████| 1/1 [00:00<00:00,  8.94it/s]\n",
      "Batches: 100%|██████████| 1/1 [00:00<00:00,  9.26it/s]\n"
     ]
    },
    {
     "name": "stdout",
     "output_type": "stream",
     "text": [
      "Computed similarity for 'ID_614': 0.6808\n",
      "\n",
      "Processing resume file: 'Resume_of_ID_615.pdf'\n",
      "Extracted resume ID: '615'\n"
     ]
    },
    {
     "name": "stderr",
     "output_type": "stream",
     "text": [
      "Batches: 100%|██████████| 1/1 [00:00<00:00, 12.42it/s]\n",
      "Batches: 100%|██████████| 1/1 [00:00<00:00, 16.48it/s]\n"
     ]
    },
    {
     "name": "stdout",
     "output_type": "stream",
     "text": [
      "Computed similarity for 'ID_615': 0.5148\n",
      "\n",
      "Processing resume file: 'Resume_of_ID_616.pdf'\n",
      "Extracted resume ID: '616'\n"
     ]
    },
    {
     "name": "stderr",
     "output_type": "stream",
     "text": [
      "Batches: 100%|██████████| 1/1 [00:00<00:00,  9.71it/s]\n",
      "Batches: 100%|██████████| 1/1 [00:00<00:00, 10.27it/s]\n"
     ]
    },
    {
     "name": "stdout",
     "output_type": "stream",
     "text": [
      "Computed similarity for 'ID_616': 0.6873\n",
      "\n",
      "Processing resume file: 'Resume_of_ID_617.pdf'\n",
      "Extracted resume ID: '617'\n"
     ]
    },
    {
     "name": "stderr",
     "output_type": "stream",
     "text": [
      "Batches: 100%|██████████| 1/1 [00:00<00:00, 11.09it/s]\n",
      "Batches: 100%|██████████| 1/1 [00:00<00:00, 12.71it/s]\n"
     ]
    },
    {
     "name": "stdout",
     "output_type": "stream",
     "text": [
      "Computed similarity for 'ID_617': 0.6174\n",
      "\n",
      "Processing resume file: 'Resume_of_ID_618.pdf'\n",
      "Extracted resume ID: '618'\n"
     ]
    },
    {
     "name": "stderr",
     "output_type": "stream",
     "text": [
      "Batches: 100%|██████████| 1/1 [00:00<00:00,  9.43it/s]\n",
      "Batches: 100%|██████████| 1/1 [00:00<00:00,  9.44it/s]\n"
     ]
    },
    {
     "name": "stdout",
     "output_type": "stream",
     "text": [
      "Computed similarity for 'ID_618': 0.7406\n",
      "\n",
      "Processing resume file: 'Resume_of_ID_619.pdf'\n",
      "Extracted resume ID: '619'\n"
     ]
    },
    {
     "name": "stderr",
     "output_type": "stream",
     "text": [
      "Batches: 100%|██████████| 1/1 [00:00<00:00,  9.00it/s]\n",
      "Batches: 100%|██████████| 1/1 [00:00<00:00, 11.00it/s]\n"
     ]
    },
    {
     "name": "stdout",
     "output_type": "stream",
     "text": [
      "Computed similarity for 'ID_619': 0.6039\n",
      "\n",
      "Processing resume file: 'Resume_of_ID_62.pdf'\n",
      "Extracted resume ID: '62'\n"
     ]
    },
    {
     "name": "stderr",
     "output_type": "stream",
     "text": [
      "Batches: 100%|██████████| 1/1 [00:00<00:00,  9.44it/s]\n",
      "Batches: 100%|██████████| 1/1 [00:00<00:00, 10.56it/s]\n"
     ]
    },
    {
     "name": "stdout",
     "output_type": "stream",
     "text": [
      "Computed similarity for 'ID_62': 0.5871\n",
      "\n",
      "Processing resume file: 'Resume_of_ID_620.pdf'\n",
      "Extracted resume ID: '620'\n"
     ]
    },
    {
     "name": "stderr",
     "output_type": "stream",
     "text": [
      "Batches: 100%|██████████| 1/1 [00:00<00:00, 10.02it/s]\n",
      "Batches: 100%|██████████| 1/1 [00:00<00:00, 12.50it/s]\n"
     ]
    },
    {
     "name": "stdout",
     "output_type": "stream",
     "text": [
      "Computed similarity for 'ID_620': 0.6267\n",
      "\n",
      "Processing resume file: 'Resume_of_ID_621.pdf'\n",
      "Extracted resume ID: '621'\n"
     ]
    },
    {
     "name": "stderr",
     "output_type": "stream",
     "text": [
      "Batches: 100%|██████████| 1/1 [00:00<00:00,  8.98it/s]\n",
      "Batches: 100%|██████████| 1/1 [00:00<00:00,  8.85it/s]\n"
     ]
    },
    {
     "name": "stdout",
     "output_type": "stream",
     "text": [
      "Computed similarity for 'ID_621': 0.6052\n",
      "\n",
      "Processing resume file: 'Resume_of_ID_622.pdf'\n",
      "Extracted resume ID: '622'\n"
     ]
    },
    {
     "name": "stderr",
     "output_type": "stream",
     "text": [
      "Batches: 100%|██████████| 1/1 [00:00<00:00, 12.40it/s]\n",
      "Batches: 100%|██████████| 1/1 [00:00<00:00, 11.48it/s]\n"
     ]
    },
    {
     "name": "stdout",
     "output_type": "stream",
     "text": [
      "Computed similarity for 'ID_622': 0.6393\n",
      "\n",
      "Processing resume file: 'Resume_of_ID_623.pdf'\n",
      "Extracted resume ID: '623'\n"
     ]
    },
    {
     "name": "stderr",
     "output_type": "stream",
     "text": [
      "Batches: 100%|██████████| 1/1 [00:00<00:00,  8.10it/s]\n",
      "Batches: 100%|██████████| 1/1 [00:00<00:00, 11.04it/s]\n"
     ]
    },
    {
     "name": "stdout",
     "output_type": "stream",
     "text": [
      "Computed similarity for 'ID_623': 0.6094\n",
      "\n",
      "Processing resume file: 'Resume_of_ID_624.pdf'\n",
      "Extracted resume ID: '624'\n"
     ]
    },
    {
     "name": "stderr",
     "output_type": "stream",
     "text": [
      "Batches: 100%|██████████| 1/1 [00:00<00:00,  9.36it/s]\n",
      "Batches: 100%|██████████| 1/1 [00:00<00:00,  8.46it/s]\n"
     ]
    },
    {
     "name": "stdout",
     "output_type": "stream",
     "text": [
      "Computed similarity for 'ID_624': 0.6126\n",
      "\n",
      "Processing resume file: 'Resume_of_ID_625.pdf'\n",
      "Extracted resume ID: '625'\n"
     ]
    },
    {
     "name": "stderr",
     "output_type": "stream",
     "text": [
      "Batches: 100%|██████████| 1/1 [00:00<00:00, 12.00it/s]\n",
      "Batches: 100%|██████████| 1/1 [00:00<00:00, 13.85it/s]\n"
     ]
    },
    {
     "name": "stdout",
     "output_type": "stream",
     "text": [
      "Computed similarity for 'ID_625': 0.7157\n",
      "\n",
      "Processing resume file: 'Resume_of_ID_626.pdf'\n",
      "Extracted resume ID: '626'\n"
     ]
    },
    {
     "name": "stderr",
     "output_type": "stream",
     "text": [
      "Batches: 100%|██████████| 1/1 [00:00<00:00,  9.50it/s]\n",
      "Batches: 100%|██████████| 1/1 [00:00<00:00, 12.17it/s]\n"
     ]
    },
    {
     "name": "stdout",
     "output_type": "stream",
     "text": [
      "Computed similarity for 'ID_626': 0.7186\n",
      "\n",
      "Processing resume file: 'Resume_of_ID_627.pdf'\n",
      "Extracted resume ID: '627'\n"
     ]
    },
    {
     "name": "stderr",
     "output_type": "stream",
     "text": [
      "Batches: 100%|██████████| 1/1 [00:00<00:00,  9.03it/s]\n",
      "Batches: 100%|██████████| 1/1 [00:00<00:00,  9.11it/s]\n"
     ]
    },
    {
     "name": "stdout",
     "output_type": "stream",
     "text": [
      "Computed similarity for 'ID_627': 0.6587\n",
      "\n",
      "Processing resume file: 'Resume_of_ID_628.pdf'\n",
      "Extracted resume ID: '628'\n"
     ]
    },
    {
     "name": "stderr",
     "output_type": "stream",
     "text": [
      "Batches: 100%|██████████| 1/1 [00:00<00:00,  9.03it/s]\n",
      "Batches: 100%|██████████| 1/1 [00:00<00:00, 10.90it/s]\n"
     ]
    },
    {
     "name": "stdout",
     "output_type": "stream",
     "text": [
      "Computed similarity for 'ID_628': 0.726\n",
      "\n",
      "Processing resume file: 'Resume_of_ID_629.pdf'\n",
      "Extracted resume ID: '629'\n"
     ]
    },
    {
     "name": "stderr",
     "output_type": "stream",
     "text": [
      "Batches: 100%|██████████| 1/1 [00:00<00:00,  8.91it/s]\n",
      "Batches: 100%|██████████| 1/1 [00:00<00:00, 10.02it/s]\n"
     ]
    },
    {
     "name": "stdout",
     "output_type": "stream",
     "text": [
      "Computed similarity for 'ID_629': 0.7244\n",
      "\n",
      "Processing resume file: 'Resume_of_ID_63.pdf'\n",
      "Extracted resume ID: '63'\n"
     ]
    },
    {
     "name": "stderr",
     "output_type": "stream",
     "text": [
      "Batches: 100%|██████████| 1/1 [00:00<00:00, 10.10it/s]\n",
      "Batches: 100%|██████████| 1/1 [00:00<00:00, 10.49it/s]\n"
     ]
    },
    {
     "name": "stdout",
     "output_type": "stream",
     "text": [
      "Computed similarity for 'ID_63': 0.4773\n",
      "\n",
      "Processing resume file: 'Resume_of_ID_630.pdf'\n",
      "Extracted resume ID: '630'\n",
      "Skipping similarity computation for '630' due to empty recommendation letters.\n",
      "\n",
      "Processing resume file: 'Resume_of_ID_631.pdf'\n",
      "Extracted resume ID: '631'\n"
     ]
    },
    {
     "name": "stderr",
     "output_type": "stream",
     "text": [
      "Batches: 100%|██████████| 1/1 [00:00<00:00,  9.91it/s]\n",
      "Batches: 100%|██████████| 1/1 [00:00<00:00, 13.33it/s]\n"
     ]
    },
    {
     "name": "stdout",
     "output_type": "stream",
     "text": [
      "Computed similarity for 'ID_631': 0.6808\n",
      "\n",
      "Processing resume file: 'Resume_of_ID_632.pdf'\n",
      "Extracted resume ID: '632'\n"
     ]
    },
    {
     "name": "stderr",
     "output_type": "stream",
     "text": [
      "Batches: 100%|██████████| 1/1 [00:00<00:00, 10.03it/s]\n",
      "Batches: 100%|██████████| 1/1 [00:00<00:00, 10.60it/s]\n"
     ]
    },
    {
     "name": "stdout",
     "output_type": "stream",
     "text": [
      "Computed similarity for 'ID_632': 0.7129\n",
      "\n",
      "Processing resume file: 'Resume_of_ID_633.pdf'\n",
      "Extracted resume ID: '633'\n"
     ]
    },
    {
     "name": "stderr",
     "output_type": "stream",
     "text": [
      "Batches: 100%|██████████| 1/1 [00:00<00:00,  9.99it/s]\n",
      "Batches: 100%|██████████| 1/1 [00:00<00:00, 10.78it/s]\n"
     ]
    },
    {
     "name": "stdout",
     "output_type": "stream",
     "text": [
      "Computed similarity for 'ID_633': 0.5299\n",
      "\n",
      "Processing resume file: 'Resume_of_ID_634.pdf'\n",
      "Extracted resume ID: '634'\n"
     ]
    },
    {
     "name": "stderr",
     "output_type": "stream",
     "text": [
      "Batches: 100%|██████████| 1/1 [00:00<00:00, 10.02it/s]\n",
      "Batches: 100%|██████████| 1/1 [00:00<00:00, 13.27it/s]\n"
     ]
    },
    {
     "name": "stdout",
     "output_type": "stream",
     "text": [
      "Computed similarity for 'ID_634': 0.669\n",
      "\n",
      "Processing resume file: 'Resume_of_ID_635.pdf'\n",
      "Extracted resume ID: '635'\n"
     ]
    },
    {
     "name": "stderr",
     "output_type": "stream",
     "text": [
      "Batches: 100%|██████████| 1/1 [00:00<00:00,  9.97it/s]\n",
      "Batches: 100%|██████████| 1/1 [00:00<00:00, 14.82it/s]\n"
     ]
    },
    {
     "name": "stdout",
     "output_type": "stream",
     "text": [
      "Computed similarity for 'ID_635': 0.6559\n",
      "\n",
      "Processing resume file: 'Resume_of_ID_636.pdf'\n",
      "Extracted resume ID: '636'\n"
     ]
    },
    {
     "name": "stderr",
     "output_type": "stream",
     "text": [
      "Batches: 100%|██████████| 1/1 [00:00<00:00,  9.24it/s]\n",
      "Batches: 100%|██████████| 1/1 [00:00<00:00, 11.96it/s]\n"
     ]
    },
    {
     "name": "stdout",
     "output_type": "stream",
     "text": [
      "Computed similarity for 'ID_636': 0.7343\n",
      "\n",
      "Processing resume file: 'Resume_of_ID_637.pdf'\n",
      "Extracted resume ID: '637'\n"
     ]
    },
    {
     "name": "stderr",
     "output_type": "stream",
     "text": [
      "Batches: 100%|██████████| 1/1 [00:00<00:00,  9.93it/s]\n",
      "Batches: 100%|██████████| 1/1 [00:00<00:00, 12.89it/s]\n"
     ]
    },
    {
     "name": "stdout",
     "output_type": "stream",
     "text": [
      "Computed similarity for 'ID_637': 0.5372\n",
      "\n",
      "Processing resume file: 'Resume_of_ID_638.pdf'\n",
      "Extracted resume ID: '638'\n"
     ]
    },
    {
     "name": "stderr",
     "output_type": "stream",
     "text": [
      "Batches: 100%|██████████| 1/1 [00:00<00:00, 10.91it/s]\n",
      "Batches: 100%|██████████| 1/1 [00:00<00:00, 11.54it/s]\n"
     ]
    },
    {
     "name": "stdout",
     "output_type": "stream",
     "text": [
      "Computed similarity for 'ID_638': 0.6042\n",
      "\n",
      "Processing resume file: 'Resume_of_ID_639.pdf'\n",
      "Extracted resume ID: '639'\n",
      "Skipping similarity computation for '639' due to empty recommendation letters.\n",
      "\n",
      "Processing resume file: 'Resume_of_ID_64.pdf'\n",
      "Extracted resume ID: '64'\n"
     ]
    },
    {
     "name": "stderr",
     "output_type": "stream",
     "text": [
      "Batches: 100%|██████████| 1/1 [00:00<00:00, 10.83it/s]\n",
      "Batches: 100%|██████████| 1/1 [00:00<00:00, 13.38it/s]\n"
     ]
    },
    {
     "name": "stdout",
     "output_type": "stream",
     "text": [
      "Computed similarity for 'ID_64': 0.8193\n",
      "\n",
      "Processing resume file: 'Resume_of_ID_640.pdf'\n",
      "Extracted resume ID: '640'\n"
     ]
    },
    {
     "name": "stderr",
     "output_type": "stream",
     "text": [
      "Batches: 100%|██████████| 1/1 [00:00<00:00,  9.21it/s]\n",
      "Batches: 100%|██████████| 1/1 [00:00<00:00, 12.10it/s]\n"
     ]
    },
    {
     "name": "stdout",
     "output_type": "stream",
     "text": [
      "Computed similarity for 'ID_640': 0.7132\n",
      "\n",
      "Processing resume file: 'Resume_of_ID_641.pdf'\n",
      "Extracted resume ID: '641'\n"
     ]
    },
    {
     "name": "stderr",
     "output_type": "stream",
     "text": [
      "Batches: 100%|██████████| 1/1 [00:00<00:00, 11.97it/s]\n",
      "Batches: 100%|██████████| 1/1 [00:00<00:00, 11.03it/s]\n"
     ]
    },
    {
     "name": "stdout",
     "output_type": "stream",
     "text": [
      "Computed similarity for 'ID_641': 0.6054\n",
      "\n",
      "Processing resume file: 'Resume_of_ID_642.pdf'\n",
      "Extracted resume ID: '642'\n"
     ]
    },
    {
     "name": "stderr",
     "output_type": "stream",
     "text": [
      "Batches: 100%|██████████| 1/1 [00:00<00:00, 10.02it/s]\n",
      "Batches: 100%|██████████| 1/1 [00:00<00:00,  9.96it/s]\n"
     ]
    },
    {
     "name": "stdout",
     "output_type": "stream",
     "text": [
      "Computed similarity for 'ID_642': 0.4609\n",
      "\n",
      "Processing resume file: 'Resume_of_ID_643.pdf'\n",
      "Extracted resume ID: '643'\n"
     ]
    },
    {
     "name": "stderr",
     "output_type": "stream",
     "text": [
      "Batches: 100%|██████████| 1/1 [00:00<00:00, 10.84it/s]\n",
      "Batches: 100%|██████████| 1/1 [00:00<00:00, 11.03it/s]\n"
     ]
    },
    {
     "name": "stdout",
     "output_type": "stream",
     "text": [
      "Computed similarity for 'ID_643': 0.6948\n",
      "\n",
      "Processing resume file: 'Resume_of_ID_644.pdf'\n",
      "Extracted resume ID: '644'\n"
     ]
    },
    {
     "name": "stderr",
     "output_type": "stream",
     "text": [
      "Batches: 100%|██████████| 1/1 [00:00<00:00,  8.59it/s]\n",
      "Batches: 100%|██████████| 1/1 [00:00<00:00,  9.29it/s]\n"
     ]
    },
    {
     "name": "stdout",
     "output_type": "stream",
     "text": [
      "Computed similarity for 'ID_644': 0.6476\n",
      "\n",
      "Processing resume file: 'Resume_of_ID_645.pdf'\n",
      "Extracted resume ID: '645'\n"
     ]
    },
    {
     "name": "stderr",
     "output_type": "stream",
     "text": [
      "Batches: 100%|██████████| 1/1 [00:00<00:00, 10.17it/s]\n",
      "Batches: 100%|██████████| 1/1 [00:00<00:00, 10.98it/s]\n"
     ]
    },
    {
     "name": "stdout",
     "output_type": "stream",
     "text": [
      "Computed similarity for 'ID_645': 0.6825\n",
      "\n",
      "Processing resume file: 'Resume_of_ID_646.pdf'\n",
      "Extracted resume ID: '646'\n"
     ]
    },
    {
     "name": "stderr",
     "output_type": "stream",
     "text": [
      "Batches: 100%|██████████| 1/1 [00:00<00:00, 10.26it/s]\n",
      "Batches: 100%|██████████| 1/1 [00:00<00:00, 12.10it/s]\n"
     ]
    },
    {
     "name": "stdout",
     "output_type": "stream",
     "text": [
      "Computed similarity for 'ID_646': 0.6986\n",
      "\n",
      "Processing resume file: 'Resume_of_ID_647.pdf'\n",
      "Extracted resume ID: '647'\n",
      "Skipping similarity computation for '647' due to empty recommendation letters.\n",
      "\n",
      "Processing resume file: 'Resume_of_ID_648.pdf'\n",
      "Extracted resume ID: '648'\n"
     ]
    },
    {
     "name": "stderr",
     "output_type": "stream",
     "text": [
      "Batches: 100%|██████████| 1/1 [00:00<00:00,  9.64it/s]\n",
      "Batches: 100%|██████████| 1/1 [00:00<00:00, 11.01it/s]\n"
     ]
    },
    {
     "name": "stdout",
     "output_type": "stream",
     "text": [
      "Computed similarity for 'ID_648': 0.7176\n",
      "\n",
      "Processing resume file: 'Resume_of_ID_649.pdf'\n",
      "Extracted resume ID: '649'\n"
     ]
    },
    {
     "name": "stderr",
     "output_type": "stream",
     "text": [
      "Batches: 100%|██████████| 1/1 [00:00<00:00, 10.88it/s]\n",
      "Batches: 100%|██████████| 1/1 [00:00<00:00,  9.19it/s]\n"
     ]
    },
    {
     "name": "stdout",
     "output_type": "stream",
     "text": [
      "Computed similarity for 'ID_649': 0.6086\n",
      "\n",
      "Processing resume file: 'Resume_of_ID_65.pdf'\n",
      "Extracted resume ID: '65'\n"
     ]
    },
    {
     "name": "stderr",
     "output_type": "stream",
     "text": [
      "Batches: 100%|██████████| 1/1 [00:00<00:00, 10.02it/s]\n",
      "Batches: 100%|██████████| 1/1 [00:00<00:00, 13.09it/s]\n"
     ]
    },
    {
     "name": "stdout",
     "output_type": "stream",
     "text": [
      "Computed similarity for 'ID_65': 0.6561\n",
      "\n",
      "Processing resume file: 'Resume_of_ID_650.pdf'\n",
      "Extracted resume ID: '650'\n"
     ]
    },
    {
     "name": "stderr",
     "output_type": "stream",
     "text": [
      "Batches: 100%|██████████| 1/1 [00:00<00:00, 10.96it/s]\n",
      "Batches: 100%|██████████| 1/1 [00:00<00:00, 13.29it/s]\n"
     ]
    },
    {
     "name": "stdout",
     "output_type": "stream",
     "text": [
      "Computed similarity for 'ID_650': 0.7777\n",
      "\n",
      "Processing resume file: 'Resume_of_ID_651.pdf'\n",
      "Extracted resume ID: '651'\n"
     ]
    },
    {
     "name": "stderr",
     "output_type": "stream",
     "text": [
      "Batches: 100%|██████████| 1/1 [00:00<00:00, 10.65it/s]\n",
      "Batches: 100%|██████████| 1/1 [00:00<00:00, 12.25it/s]\n"
     ]
    },
    {
     "name": "stdout",
     "output_type": "stream",
     "text": [
      "Computed similarity for 'ID_651': 0.7831\n",
      "\n",
      "Processing resume file: 'Resume_of_ID_652.pdf'\n",
      "Extracted resume ID: '652'\n"
     ]
    },
    {
     "name": "stderr",
     "output_type": "stream",
     "text": [
      "Batches: 100%|██████████| 1/1 [00:00<00:00, 11.24it/s]\n",
      "Batches: 100%|██████████| 1/1 [00:00<00:00, 14.93it/s]\n"
     ]
    },
    {
     "name": "stdout",
     "output_type": "stream",
     "text": [
      "Computed similarity for 'ID_652': 0.7446\n",
      "\n",
      "Processing resume file: 'Resume_of_ID_653.pdf'\n",
      "Extracted resume ID: '653'\n"
     ]
    },
    {
     "name": "stderr",
     "output_type": "stream",
     "text": [
      "Batches: 100%|██████████| 1/1 [00:00<00:00, 11.30it/s]\n",
      "Batches: 100%|██████████| 1/1 [00:00<00:00, 10.71it/s]\n"
     ]
    },
    {
     "name": "stdout",
     "output_type": "stream",
     "text": [
      "Computed similarity for 'ID_653': 0.6446\n",
      "\n",
      "Processing resume file: 'Resume_of_ID_654.pdf'\n",
      "Extracted resume ID: '654'\n"
     ]
    },
    {
     "name": "stderr",
     "output_type": "stream",
     "text": [
      "Batches: 100%|██████████| 1/1 [00:00<00:00, 10.78it/s]\n",
      "Batches: 100%|██████████| 1/1 [00:00<00:00, 12.99it/s]\n"
     ]
    },
    {
     "name": "stdout",
     "output_type": "stream",
     "text": [
      "Computed similarity for 'ID_654': 0.7144\n",
      "\n",
      "Processing resume file: 'Resume_of_ID_655.pdf'\n",
      "Extracted resume ID: '655'\n"
     ]
    },
    {
     "name": "stderr",
     "output_type": "stream",
     "text": [
      "Batches: 100%|██████████| 1/1 [00:00<00:00, 10.16it/s]\n",
      "Batches: 100%|██████████| 1/1 [00:00<00:00, 12.71it/s]\n"
     ]
    },
    {
     "name": "stdout",
     "output_type": "stream",
     "text": [
      "Computed similarity for 'ID_655': 0.6732\n",
      "\n",
      "Processing resume file: 'Resume_of_ID_656.pdf'\n",
      "Extracted resume ID: '656'\n"
     ]
    },
    {
     "name": "stderr",
     "output_type": "stream",
     "text": [
      "Batches: 100%|██████████| 1/1 [00:00<00:00,  9.71it/s]\n",
      "Batches: 100%|██████████| 1/1 [00:00<00:00, 10.62it/s]\n"
     ]
    },
    {
     "name": "stdout",
     "output_type": "stream",
     "text": [
      "Computed similarity for 'ID_656': 0.7463\n",
      "\n",
      "Processing resume file: 'Resume_of_ID_657.pdf'\n",
      "Extracted resume ID: '657'\n"
     ]
    },
    {
     "name": "stderr",
     "output_type": "stream",
     "text": [
      "Batches: 100%|██████████| 1/1 [00:00<00:00, 11.29it/s]\n",
      "Batches: 100%|██████████| 1/1 [00:00<00:00, 11.19it/s]\n"
     ]
    },
    {
     "name": "stdout",
     "output_type": "stream",
     "text": [
      "Computed similarity for 'ID_657': 0.5921\n",
      "\n",
      "Processing resume file: 'Resume_of_ID_658.pdf'\n",
      "Extracted resume ID: '658'\n"
     ]
    },
    {
     "name": "stderr",
     "output_type": "stream",
     "text": [
      "Batches: 100%|██████████| 1/1 [00:00<00:00,  7.85it/s]\n",
      "Batches: 100%|██████████| 1/1 [00:00<00:00,  7.97it/s]\n"
     ]
    },
    {
     "name": "stdout",
     "output_type": "stream",
     "text": [
      "Computed similarity for 'ID_658': 0.7525\n",
      "\n",
      "Processing resume file: 'Resume_of_ID_659.pdf'\n",
      "Extracted resume ID: '659'\n"
     ]
    },
    {
     "name": "stderr",
     "output_type": "stream",
     "text": [
      "Batches: 100%|██████████| 1/1 [00:00<00:00, 10.45it/s]\n",
      "Batches: 100%|██████████| 1/1 [00:00<00:00, 10.58it/s]\n"
     ]
    },
    {
     "name": "stdout",
     "output_type": "stream",
     "text": [
      "Computed similarity for 'ID_659': 0.7654\n",
      "\n",
      "Processing resume file: 'Resume_of_ID_66.pdf'\n",
      "Extracted resume ID: '66'\n"
     ]
    },
    {
     "name": "stderr",
     "output_type": "stream",
     "text": [
      "Batches: 100%|██████████| 1/1 [00:00<00:00,  9.05it/s]\n",
      "Batches: 100%|██████████| 1/1 [00:00<00:00, 12.75it/s]\n"
     ]
    },
    {
     "name": "stdout",
     "output_type": "stream",
     "text": [
      "Computed similarity for 'ID_66': 0.4879\n",
      "\n",
      "Processing resume file: 'Resume_of_ID_660.pdf'\n",
      "Extracted resume ID: '660'\n"
     ]
    },
    {
     "name": "stderr",
     "output_type": "stream",
     "text": [
      "Batches: 100%|██████████| 1/1 [00:00<00:00, 11.95it/s]\n",
      "Batches: 100%|██████████| 1/1 [00:00<00:00, 12.80it/s]\n"
     ]
    },
    {
     "name": "stdout",
     "output_type": "stream",
     "text": [
      "Computed similarity for 'ID_660': 0.6199\n",
      "\n",
      "Processing resume file: 'Resume_of_ID_661.pdf'\n",
      "Extracted resume ID: '661'\n"
     ]
    },
    {
     "name": "stderr",
     "output_type": "stream",
     "text": [
      "Batches: 100%|██████████| 1/1 [00:00<00:00,  9.66it/s]\n",
      "Batches: 100%|██████████| 1/1 [00:00<00:00,  9.10it/s]\n"
     ]
    },
    {
     "name": "stdout",
     "output_type": "stream",
     "text": [
      "Computed similarity for 'ID_661': 0.6663\n",
      "\n",
      "Processing resume file: 'Resume_of_ID_662.pdf'\n",
      "Extracted resume ID: '662'\n"
     ]
    },
    {
     "name": "stderr",
     "output_type": "stream",
     "text": [
      "Batches: 100%|██████████| 1/1 [00:00<00:00,  9.49it/s]\n",
      "Batches: 100%|██████████| 1/1 [00:00<00:00,  9.99it/s]\n"
     ]
    },
    {
     "name": "stdout",
     "output_type": "stream",
     "text": [
      "Computed similarity for 'ID_662': 0.7446\n",
      "\n",
      "Processing resume file: 'Resume_of_ID_663.pdf'\n",
      "Extracted resume ID: '663'\n"
     ]
    },
    {
     "name": "stderr",
     "output_type": "stream",
     "text": [
      "Batches: 100%|██████████| 1/1 [00:00<00:00,  8.24it/s]\n",
      "Batches: 100%|██████████| 1/1 [00:00<00:00, 12.73it/s]\n"
     ]
    },
    {
     "name": "stdout",
     "output_type": "stream",
     "text": [
      "Computed similarity for 'ID_663': 0.7458\n",
      "\n",
      "Processing resume file: 'Resume_of_ID_664.pdf'\n",
      "Extracted resume ID: '664'\n"
     ]
    },
    {
     "name": "stderr",
     "output_type": "stream",
     "text": [
      "Batches: 100%|██████████| 1/1 [00:00<00:00, 10.96it/s]\n",
      "Batches: 100%|██████████| 1/1 [00:00<00:00, 17.60it/s]\n"
     ]
    },
    {
     "name": "stdout",
     "output_type": "stream",
     "text": [
      "Computed similarity for 'ID_664': 0.65\n",
      "\n",
      "Processing resume file: 'Resume_of_ID_665.pdf'\n",
      "Extracted resume ID: '665'\n"
     ]
    },
    {
     "name": "stderr",
     "output_type": "stream",
     "text": [
      "Batches: 100%|██████████| 1/1 [00:00<00:00, 13.26it/s]\n",
      "Batches: 100%|██████████| 1/1 [00:00<00:00, 26.83it/s]\n"
     ]
    },
    {
     "name": "stdout",
     "output_type": "stream",
     "text": [
      "Computed similarity for 'ID_665': 0.5309\n",
      "\n",
      "Processing resume file: 'Resume_of_ID_666.pdf'\n",
      "Extracted resume ID: '666'\n"
     ]
    },
    {
     "name": "stderr",
     "output_type": "stream",
     "text": [
      "Batches: 100%|██████████| 1/1 [00:00<00:00,  9.70it/s]\n",
      "Batches: 100%|██████████| 1/1 [00:00<00:00, 11.12it/s]\n"
     ]
    },
    {
     "name": "stdout",
     "output_type": "stream",
     "text": [
      "Computed similarity for 'ID_666': 0.6335\n",
      "\n",
      "Processing resume file: 'Resume_of_ID_667.pdf'\n",
      "Extracted resume ID: '667'\n"
     ]
    },
    {
     "name": "stderr",
     "output_type": "stream",
     "text": [
      "Batches: 100%|██████████| 1/1 [00:00<00:00,  9.59it/s]\n",
      "Batches: 100%|██████████| 1/1 [00:00<00:00, 10.63it/s]\n"
     ]
    },
    {
     "name": "stdout",
     "output_type": "stream",
     "text": [
      "Computed similarity for 'ID_667': 0.6566\n",
      "\n",
      "Processing resume file: 'Resume_of_ID_668.pdf'\n",
      "Extracted resume ID: '668'\n"
     ]
    },
    {
     "name": "stderr",
     "output_type": "stream",
     "text": [
      "Batches: 100%|██████████| 1/1 [00:00<00:00, 10.02it/s]\n",
      "Batches: 100%|██████████| 1/1 [00:00<00:00,  9.64it/s]\n"
     ]
    },
    {
     "name": "stdout",
     "output_type": "stream",
     "text": [
      "Computed similarity for 'ID_668': 0.8354\n",
      "\n",
      "Processing resume file: 'Resume_of_ID_669.pdf'\n",
      "Extracted resume ID: '669'\n"
     ]
    },
    {
     "name": "stderr",
     "output_type": "stream",
     "text": [
      "Batches: 100%|██████████| 1/1 [00:00<00:00, 15.33it/s]\n",
      "Batches: 100%|██████████| 1/1 [00:00<00:00, 15.72it/s]\n"
     ]
    },
    {
     "name": "stdout",
     "output_type": "stream",
     "text": [
      "Computed similarity for 'ID_669': 0.6935\n",
      "\n",
      "Processing resume file: 'Resume_of_ID_67.pdf'\n",
      "Extracted resume ID: '67'\n"
     ]
    },
    {
     "name": "stderr",
     "output_type": "stream",
     "text": [
      "Batches: 100%|██████████| 1/1 [00:00<00:00, 11.04it/s]\n",
      "Batches: 100%|██████████| 1/1 [00:00<00:00, 11.86it/s]\n"
     ]
    },
    {
     "name": "stdout",
     "output_type": "stream",
     "text": [
      "Computed similarity for 'ID_67': 0.6859\n",
      "\n",
      "Processing resume file: 'Resume_of_ID_670.pdf'\n",
      "Extracted resume ID: '670'\n"
     ]
    },
    {
     "name": "stderr",
     "output_type": "stream",
     "text": [
      "Batches: 100%|██████████| 1/1 [00:00<00:00, 11.49it/s]\n",
      "Batches: 100%|██████████| 1/1 [00:00<00:00, 10.65it/s]\n"
     ]
    },
    {
     "name": "stdout",
     "output_type": "stream",
     "text": [
      "Computed similarity for 'ID_670': 0.6201\n",
      "\n",
      "Processing resume file: 'Resume_of_ID_671.pdf'\n",
      "Extracted resume ID: '671'\n"
     ]
    },
    {
     "name": "stderr",
     "output_type": "stream",
     "text": [
      "Batches: 100%|██████████| 1/1 [00:00<00:00,  9.65it/s]\n",
      "Batches: 100%|██████████| 1/1 [00:00<00:00, 12.72it/s]\n"
     ]
    },
    {
     "name": "stdout",
     "output_type": "stream",
     "text": [
      "Computed similarity for 'ID_671': 0.6488\n",
      "\n",
      "Processing resume file: 'Resume_of_ID_672.pdf'\n",
      "Extracted resume ID: '672'\n"
     ]
    },
    {
     "name": "stderr",
     "output_type": "stream",
     "text": [
      "Batches: 100%|██████████| 1/1 [00:00<00:00,  8.59it/s]\n",
      "Batches: 100%|██████████| 1/1 [00:00<00:00, 11.17it/s]\n"
     ]
    },
    {
     "name": "stdout",
     "output_type": "stream",
     "text": [
      "Computed similarity for 'ID_672': 0.3011\n",
      "\n",
      "Processing resume file: 'Resume_of_ID_673.pdf'\n",
      "Extracted resume ID: '673'\n"
     ]
    },
    {
     "name": "stderr",
     "output_type": "stream",
     "text": [
      "Batches: 100%|██████████| 1/1 [00:00<00:00,  9.64it/s]\n",
      "Batches: 100%|██████████| 1/1 [00:00<00:00, 12.80it/s]\n"
     ]
    },
    {
     "name": "stdout",
     "output_type": "stream",
     "text": [
      "Computed similarity for 'ID_673': 0.722\n",
      "\n",
      "Processing resume file: 'Resume_of_ID_674.pdf'\n",
      "Extracted resume ID: '674'\n"
     ]
    },
    {
     "name": "stderr",
     "output_type": "stream",
     "text": [
      "Batches: 100%|██████████| 1/1 [00:00<00:00, 11.30it/s]\n",
      "Batches: 100%|██████████| 1/1 [00:00<00:00, 14.04it/s]\n"
     ]
    },
    {
     "name": "stdout",
     "output_type": "stream",
     "text": [
      "Computed similarity for 'ID_674': 0.6234\n",
      "\n",
      "Processing resume file: 'Resume_of_ID_675.pdf'\n",
      "Extracted resume ID: '675'\n"
     ]
    },
    {
     "name": "stderr",
     "output_type": "stream",
     "text": [
      "Batches: 100%|██████████| 1/1 [00:00<00:00,  8.19it/s]\n",
      "Batches: 100%|██████████| 1/1 [00:00<00:00, 13.85it/s]\n"
     ]
    },
    {
     "name": "stdout",
     "output_type": "stream",
     "text": [
      "Computed similarity for 'ID_675': 0.6947\n",
      "\n",
      "Processing resume file: 'Resume_of_ID_676.pdf'\n",
      "Extracted resume ID: '676'\n"
     ]
    },
    {
     "name": "stderr",
     "output_type": "stream",
     "text": [
      "Batches: 100%|██████████| 1/1 [00:00<00:00, 11.27it/s]\n",
      "Batches: 100%|██████████| 1/1 [00:00<00:00, 12.73it/s]\n"
     ]
    },
    {
     "name": "stdout",
     "output_type": "stream",
     "text": [
      "Computed similarity for 'ID_676': 0.7323\n",
      "\n",
      "Processing resume file: 'Resume_of_ID_677.pdf'\n",
      "Extracted resume ID: '677'\n",
      "Skipping similarity computation for '677' due to empty recommendation letters.\n",
      "\n",
      "Processing resume file: 'Resume_of_ID_678.pdf'\n",
      "Extracted resume ID: '678'\n"
     ]
    },
    {
     "name": "stderr",
     "output_type": "stream",
     "text": [
      "Batches: 100%|██████████| 1/1 [00:00<00:00,  9.59it/s]\n",
      "Batches: 100%|██████████| 1/1 [00:00<00:00, 11.85it/s]\n"
     ]
    },
    {
     "name": "stdout",
     "output_type": "stream",
     "text": [
      "Computed similarity for 'ID_678': 0.687\n",
      "\n",
      "Processing resume file: 'Resume_of_ID_679.pdf'\n",
      "Extracted resume ID: '679'\n"
     ]
    },
    {
     "name": "stderr",
     "output_type": "stream",
     "text": [
      "Batches: 100%|██████████| 1/1 [00:00<00:00, 12.58it/s]\n",
      "Batches: 100%|██████████| 1/1 [00:00<00:00, 10.61it/s]\n"
     ]
    },
    {
     "name": "stdout",
     "output_type": "stream",
     "text": [
      "Computed similarity for 'ID_679': 0.6754\n",
      "\n",
      "Processing resume file: 'Resume_of_ID_68.pdf'\n",
      "Extracted resume ID: '68'\n"
     ]
    },
    {
     "name": "stderr",
     "output_type": "stream",
     "text": [
      "Batches: 100%|██████████| 1/1 [00:00<00:00,  9.88it/s]\n",
      "Batches: 100%|██████████| 1/1 [00:00<00:00, 10.88it/s]\n"
     ]
    },
    {
     "name": "stdout",
     "output_type": "stream",
     "text": [
      "Computed similarity for 'ID_68': 0.7559\n",
      "\n",
      "Processing resume file: 'Resume_of_ID_680.pdf'\n",
      "Extracted resume ID: '680'\n"
     ]
    },
    {
     "name": "stderr",
     "output_type": "stream",
     "text": [
      "Batches: 100%|██████████| 1/1 [00:00<00:00, 15.61it/s]\n",
      "Batches: 100%|██████████| 1/1 [00:00<00:00, 12.73it/s]\n"
     ]
    },
    {
     "name": "stdout",
     "output_type": "stream",
     "text": [
      "Computed similarity for 'ID_680': 0.4335\n",
      "\n",
      "Processing resume file: 'Resume_of_ID_681.pdf'\n",
      "Extracted resume ID: '681'\n"
     ]
    },
    {
     "name": "stderr",
     "output_type": "stream",
     "text": [
      "Batches: 100%|██████████| 1/1 [00:00<00:00,  9.53it/s]\n",
      "Batches: 100%|██████████| 1/1 [00:00<00:00, 12.51it/s]\n"
     ]
    },
    {
     "name": "stdout",
     "output_type": "stream",
     "text": [
      "Computed similarity for 'ID_681': 0.6251\n",
      "\n",
      "Processing resume file: 'Resume_of_ID_682.pdf'\n",
      "Extracted resume ID: '682'\n"
     ]
    },
    {
     "name": "stderr",
     "output_type": "stream",
     "text": [
      "Batches: 100%|██████████| 1/1 [00:00<00:00, 10.07it/s]\n",
      "Batches: 100%|██████████| 1/1 [00:00<00:00, 11.91it/s]\n"
     ]
    },
    {
     "name": "stdout",
     "output_type": "stream",
     "text": [
      "Computed similarity for 'ID_682': 0.7535\n",
      "\n",
      "Processing resume file: 'Resume_of_ID_683.pdf'\n",
      "Extracted resume ID: '683'\n"
     ]
    },
    {
     "name": "stderr",
     "output_type": "stream",
     "text": [
      "Batches: 100%|██████████| 1/1 [00:00<00:00,  9.31it/s]\n",
      "Batches: 100%|██████████| 1/1 [00:00<00:00, 10.28it/s]\n"
     ]
    },
    {
     "name": "stdout",
     "output_type": "stream",
     "text": [
      "Computed similarity for 'ID_683': 0.6334\n",
      "\n",
      "Processing resume file: 'Resume_of_ID_684.pdf'\n",
      "Extracted resume ID: '684'\n"
     ]
    },
    {
     "name": "stderr",
     "output_type": "stream",
     "text": [
      "Batches: 100%|██████████| 1/1 [00:00<00:00,  9.65it/s]\n",
      "Batches: 100%|██████████| 1/1 [00:00<00:00, 13.92it/s]\n"
     ]
    },
    {
     "name": "stdout",
     "output_type": "stream",
     "text": [
      "Computed similarity for 'ID_684': 0.5364\n",
      "\n",
      "Processing resume file: 'Resume_of_ID_685.pdf'\n",
      "Extracted resume ID: '685'\n"
     ]
    },
    {
     "name": "stderr",
     "output_type": "stream",
     "text": [
      "Batches: 100%|██████████| 1/1 [00:00<00:00, 13.29it/s]\n",
      "Batches: 100%|██████████| 1/1 [00:00<00:00,  8.97it/s]\n"
     ]
    },
    {
     "name": "stdout",
     "output_type": "stream",
     "text": [
      "Computed similarity for 'ID_685': 0.7301\n",
      "\n",
      "Processing resume file: 'Resume_of_ID_686.pdf'\n",
      "Extracted resume ID: '686'\n"
     ]
    },
    {
     "name": "stderr",
     "output_type": "stream",
     "text": [
      "Batches: 100%|██████████| 1/1 [00:00<00:00, 12.36it/s]\n",
      "Batches: 100%|██████████| 1/1 [00:00<00:00, 12.73it/s]\n"
     ]
    },
    {
     "name": "stdout",
     "output_type": "stream",
     "text": [
      "Computed similarity for 'ID_686': 0.6911\n",
      "\n",
      "Processing resume file: 'Resume_of_ID_687.pdf'\n",
      "Extracted resume ID: '687'\n"
     ]
    },
    {
     "name": "stderr",
     "output_type": "stream",
     "text": [
      "Batches: 100%|██████████| 1/1 [00:00<00:00, 10.69it/s]\n",
      "Batches: 100%|██████████| 1/1 [00:00<00:00, 17.15it/s]\n"
     ]
    },
    {
     "name": "stdout",
     "output_type": "stream",
     "text": [
      "Computed similarity for 'ID_687': 0.6241\n",
      "\n",
      "Processing resume file: 'Resume_of_ID_688.pdf'\n",
      "Extracted resume ID: '688'\n"
     ]
    },
    {
     "name": "stderr",
     "output_type": "stream",
     "text": [
      "Batches: 100%|██████████| 1/1 [00:00<00:00, 10.35it/s]\n",
      "Batches: 100%|██████████| 1/1 [00:00<00:00, 12.07it/s]\n"
     ]
    },
    {
     "name": "stdout",
     "output_type": "stream",
     "text": [
      "Computed similarity for 'ID_688': 0.8253\n",
      "\n",
      "Processing resume file: 'Resume_of_ID_689.pdf'\n",
      "Extracted resume ID: '689'\n"
     ]
    },
    {
     "name": "stderr",
     "output_type": "stream",
     "text": [
      "Batches: 100%|██████████| 1/1 [00:00<00:00, 10.36it/s]\n",
      "Batches: 100%|██████████| 1/1 [00:00<00:00,  9.79it/s]\n"
     ]
    },
    {
     "name": "stdout",
     "output_type": "stream",
     "text": [
      "Computed similarity for 'ID_689': 0.6267\n",
      "\n",
      "Processing resume file: 'Resume_of_ID_69.pdf'\n",
      "Extracted resume ID: '69'\n"
     ]
    },
    {
     "name": "stderr",
     "output_type": "stream",
     "text": [
      "Batches: 100%|██████████| 1/1 [00:00<00:00, 11.97it/s]\n",
      "Batches: 100%|██████████| 1/1 [00:00<00:00, 13.46it/s]\n"
     ]
    },
    {
     "name": "stdout",
     "output_type": "stream",
     "text": [
      "Computed similarity for 'ID_69': 0.5672\n",
      "\n",
      "Processing resume file: 'Resume_of_ID_690.pdf'\n",
      "Extracted resume ID: '690'\n"
     ]
    },
    {
     "name": "stderr",
     "output_type": "stream",
     "text": [
      "Batches: 100%|██████████| 1/1 [00:00<00:00, 11.94it/s]\n",
      "Batches: 100%|██████████| 1/1 [00:00<00:00, 19.05it/s]\n"
     ]
    },
    {
     "name": "stdout",
     "output_type": "stream",
     "text": [
      "Computed similarity for 'ID_690': 0.7444\n",
      "\n",
      "Processing resume file: 'Resume_of_ID_691.pdf'\n",
      "Extracted resume ID: '691'\n"
     ]
    },
    {
     "name": "stderr",
     "output_type": "stream",
     "text": [
      "Batches: 100%|██████████| 1/1 [00:00<00:00, 13.50it/s]\n",
      "Batches: 100%|██████████| 1/1 [00:00<00:00, 17.14it/s]\n"
     ]
    },
    {
     "name": "stdout",
     "output_type": "stream",
     "text": [
      "Computed similarity for 'ID_691': 0.7912\n",
      "\n",
      "Processing resume file: 'Resume_of_ID_692.pdf'\n",
      "Extracted resume ID: '692'\n"
     ]
    },
    {
     "name": "stderr",
     "output_type": "stream",
     "text": [
      "Batches: 100%|██████████| 1/1 [00:00<00:00, 12.47it/s]\n",
      "Batches: 100%|██████████| 1/1 [00:00<00:00, 15.30it/s]\n"
     ]
    },
    {
     "name": "stdout",
     "output_type": "stream",
     "text": [
      "Computed similarity for 'ID_692': 0.7298\n",
      "\n",
      "Processing resume file: 'Resume_of_ID_693.pdf'\n",
      "Extracted resume ID: '693'\n"
     ]
    },
    {
     "name": "stderr",
     "output_type": "stream",
     "text": [
      "Batches: 100%|██████████| 1/1 [00:00<00:00, 13.08it/s]\n",
      "Batches: 100%|██████████| 1/1 [00:00<00:00, 14.84it/s]\n"
     ]
    },
    {
     "name": "stdout",
     "output_type": "stream",
     "text": [
      "Computed similarity for 'ID_693': 0.5372\n",
      "\n",
      "Processing resume file: 'Resume_of_ID_694.pdf'\n",
      "Extracted resume ID: '694'\n"
     ]
    },
    {
     "name": "stderr",
     "output_type": "stream",
     "text": [
      "Batches: 100%|██████████| 1/1 [00:00<00:00, 10.13it/s]\n",
      "Batches: 100%|██████████| 1/1 [00:00<00:00, 11.45it/s]\n"
     ]
    },
    {
     "name": "stdout",
     "output_type": "stream",
     "text": [
      "Computed similarity for 'ID_694': 0.8127\n",
      "\n",
      "Processing resume file: 'Resume_of_ID_695.pdf'\n",
      "Extracted resume ID: '695'\n"
     ]
    },
    {
     "name": "stderr",
     "output_type": "stream",
     "text": [
      "Batches: 100%|██████████| 1/1 [00:00<00:00,  9.73it/s]\n",
      "Batches: 100%|██████████| 1/1 [00:00<00:00, 12.92it/s]\n"
     ]
    },
    {
     "name": "stdout",
     "output_type": "stream",
     "text": [
      "Computed similarity for 'ID_695': 0.7253\n",
      "\n",
      "Processing resume file: 'Resume_of_ID_696.pdf'\n",
      "Extracted resume ID: '696'\n"
     ]
    },
    {
     "name": "stderr",
     "output_type": "stream",
     "text": [
      "Batches: 100%|██████████| 1/1 [00:00<00:00, 10.58it/s]\n",
      "Batches: 100%|██████████| 1/1 [00:00<00:00, 12.74it/s]\n"
     ]
    },
    {
     "name": "stdout",
     "output_type": "stream",
     "text": [
      "Computed similarity for 'ID_696': 0.6877\n",
      "\n",
      "Processing resume file: 'Resume_of_ID_697.pdf'\n",
      "Extracted resume ID: '697'\n"
     ]
    },
    {
     "name": "stderr",
     "output_type": "stream",
     "text": [
      "Batches: 100%|██████████| 1/1 [00:00<00:00, 12.00it/s]\n",
      "Batches: 100%|██████████| 1/1 [00:00<00:00, 12.39it/s]\n"
     ]
    },
    {
     "name": "stdout",
     "output_type": "stream",
     "text": [
      "Computed similarity for 'ID_697': 0.6488\n",
      "\n",
      "Processing resume file: 'Resume_of_ID_698.pdf'\n",
      "Extracted resume ID: '698'\n",
      "Skipping similarity computation for '698' due to empty recommendation letters.\n",
      "\n",
      "Processing resume file: 'Resume_of_ID_699.pdf'\n",
      "Extracted resume ID: '699'\n",
      "Skipping similarity computation for '699' due to empty recommendation letters.\n",
      "\n",
      "Processing resume file: 'Resume_of_ID_7.pdf'\n",
      "Extracted resume ID: '7'\n"
     ]
    },
    {
     "name": "stderr",
     "output_type": "stream",
     "text": [
      "Batches: 100%|██████████| 1/1 [00:00<00:00, 10.17it/s]\n",
      "Batches: 100%|██████████| 1/1 [00:00<00:00,  9.51it/s]\n"
     ]
    },
    {
     "name": "stdout",
     "output_type": "stream",
     "text": [
      "Computed similarity for 'ID_7': 0.7114\n",
      "\n",
      "Processing resume file: 'Resume_of_ID_70.pdf'\n",
      "Extracted resume ID: '70'\n"
     ]
    },
    {
     "name": "stderr",
     "output_type": "stream",
     "text": [
      "Batches: 100%|██████████| 1/1 [00:00<00:00,  9.39it/s]\n",
      "Batches: 100%|██████████| 1/1 [00:00<00:00, 12.11it/s]\n"
     ]
    },
    {
     "name": "stdout",
     "output_type": "stream",
     "text": [
      "Computed similarity for 'ID_70': 0.6893\n",
      "\n",
      "Processing resume file: 'Resume_of_ID_700.pdf'\n",
      "Extracted resume ID: '700'\n"
     ]
    },
    {
     "name": "stderr",
     "output_type": "stream",
     "text": [
      "Batches: 100%|██████████| 1/1 [00:00<00:00, 14.02it/s]\n",
      "Batches: 100%|██████████| 1/1 [00:00<00:00, 13.19it/s]\n"
     ]
    },
    {
     "name": "stdout",
     "output_type": "stream",
     "text": [
      "Computed similarity for 'ID_700': 0.7577\n",
      "\n",
      "Processing resume file: 'Resume_of_ID_701.pdf'\n",
      "Extracted resume ID: '701'\n"
     ]
    },
    {
     "name": "stderr",
     "output_type": "stream",
     "text": [
      "Batches: 100%|██████████| 1/1 [00:00<00:00, 12.66it/s]\n",
      "Batches: 100%|██████████| 1/1 [00:00<00:00, 11.27it/s]\n"
     ]
    },
    {
     "name": "stdout",
     "output_type": "stream",
     "text": [
      "Computed similarity for 'ID_701': 0.7457\n",
      "\n",
      "Processing resume file: 'Resume_of_ID_702.pdf'\n",
      "Extracted resume ID: '702'\n"
     ]
    },
    {
     "name": "stderr",
     "output_type": "stream",
     "text": [
      "Batches: 100%|██████████| 1/1 [00:00<00:00,  8.94it/s]\n",
      "Batches: 100%|██████████| 1/1 [00:00<00:00, 12.52it/s]\n"
     ]
    },
    {
     "name": "stdout",
     "output_type": "stream",
     "text": [
      "Computed similarity for 'ID_702': 0.5716\n",
      "\n",
      "Processing resume file: 'Resume_of_ID_703.pdf'\n",
      "Extracted resume ID: '703'\n"
     ]
    },
    {
     "name": "stderr",
     "output_type": "stream",
     "text": [
      "Batches: 100%|██████████| 1/1 [00:00<00:00,  9.88it/s]\n",
      "Batches: 100%|██████████| 1/1 [00:00<00:00, 17.41it/s]\n"
     ]
    },
    {
     "name": "stdout",
     "output_type": "stream",
     "text": [
      "Computed similarity for 'ID_703': 0.7475\n",
      "\n",
      "Processing resume file: 'Resume_of_ID_704.pdf'\n",
      "Extracted resume ID: '704'\n"
     ]
    },
    {
     "name": "stderr",
     "output_type": "stream",
     "text": [
      "Batches: 100%|██████████| 1/1 [00:00<00:00,  9.49it/s]\n",
      "Batches: 100%|██████████| 1/1 [00:00<00:00, 10.35it/s]\n"
     ]
    },
    {
     "name": "stdout",
     "output_type": "stream",
     "text": [
      "Computed similarity for 'ID_704': 0.6912\n",
      "\n",
      "Processing resume file: 'Resume_of_ID_705.pdf'\n",
      "Extracted resume ID: '705'\n"
     ]
    },
    {
     "name": "stderr",
     "output_type": "stream",
     "text": [
      "Batches: 100%|██████████| 1/1 [00:00<00:00, 11.28it/s]\n",
      "Batches: 100%|██████████| 1/1 [00:00<00:00, 13.13it/s]\n"
     ]
    },
    {
     "name": "stdout",
     "output_type": "stream",
     "text": [
      "Computed similarity for 'ID_705': 0.7079\n",
      "\n",
      "Processing resume file: 'Resume_of_ID_706.pdf'\n",
      "Extracted resume ID: '706'\n"
     ]
    },
    {
     "name": "stderr",
     "output_type": "stream",
     "text": [
      "Batches: 100%|██████████| 1/1 [00:00<00:00,  8.88it/s]\n",
      "Batches: 100%|██████████| 1/1 [00:00<00:00, 16.70it/s]\n"
     ]
    },
    {
     "name": "stdout",
     "output_type": "stream",
     "text": [
      "Computed similarity for 'ID_706': 0.5914\n",
      "\n",
      "Processing resume file: 'Resume_of_ID_707.pdf'\n",
      "Extracted resume ID: '707'\n"
     ]
    },
    {
     "name": "stderr",
     "output_type": "stream",
     "text": [
      "Batches: 100%|██████████| 1/1 [00:00<00:00,  9.50it/s]\n",
      "Batches: 100%|██████████| 1/1 [00:00<00:00,  8.60it/s]\n"
     ]
    },
    {
     "name": "stdout",
     "output_type": "stream",
     "text": [
      "Computed similarity for 'ID_707': 0.5749\n",
      "\n",
      "Processing resume file: 'Resume_of_ID_708.pdf'\n",
      "Extracted resume ID: '708'\n"
     ]
    },
    {
     "name": "stderr",
     "output_type": "stream",
     "text": [
      "Batches: 100%|██████████| 1/1 [00:00<00:00, 10.01it/s]\n",
      "Batches: 100%|██████████| 1/1 [00:00<00:00, 13.71it/s]\n"
     ]
    },
    {
     "name": "stdout",
     "output_type": "stream",
     "text": [
      "Computed similarity for 'ID_708': 0.6652\n",
      "\n",
      "Processing resume file: 'Resume_of_ID_709.pdf'\n",
      "Extracted resume ID: '709'\n"
     ]
    },
    {
     "name": "stderr",
     "output_type": "stream",
     "text": [
      "Batches: 100%|██████████| 1/1 [00:00<00:00,  8.61it/s]\n",
      "Batches: 100%|██████████| 1/1 [00:00<00:00,  9.12it/s]\n"
     ]
    },
    {
     "name": "stdout",
     "output_type": "stream",
     "text": [
      "Computed similarity for 'ID_709': 0.5545\n",
      "\n",
      "Processing resume file: 'Resume_of_ID_71.pdf'\n",
      "Extracted resume ID: '71'\n"
     ]
    },
    {
     "name": "stderr",
     "output_type": "stream",
     "text": [
      "Batches: 100%|██████████| 1/1 [00:00<00:00, 10.47it/s]\n",
      "Batches: 100%|██████████| 1/1 [00:00<00:00, 13.53it/s]\n"
     ]
    },
    {
     "name": "stdout",
     "output_type": "stream",
     "text": [
      "Computed similarity for 'ID_71': 0.6544\n",
      "\n",
      "Processing resume file: 'Resume_of_ID_710.pdf'\n",
      "Extracted resume ID: '710'\n"
     ]
    },
    {
     "name": "stderr",
     "output_type": "stream",
     "text": [
      "Batches: 100%|██████████| 1/1 [00:00<00:00, 13.10it/s]\n",
      "Batches: 100%|██████████| 1/1 [00:00<00:00, 12.49it/s]\n"
     ]
    },
    {
     "name": "stdout",
     "output_type": "stream",
     "text": [
      "Computed similarity for 'ID_710': 0.7165\n",
      "\n",
      "Processing resume file: 'Resume_of_ID_711.pdf'\n",
      "Extracted resume ID: '711'\n"
     ]
    },
    {
     "name": "stderr",
     "output_type": "stream",
     "text": [
      "Batches: 100%|██████████| 1/1 [00:00<00:00, 10.55it/s]\n",
      "Batches: 100%|██████████| 1/1 [00:00<00:00, 12.74it/s]\n"
     ]
    },
    {
     "name": "stdout",
     "output_type": "stream",
     "text": [
      "Computed similarity for 'ID_711': 0.5883\n",
      "\n",
      "Processing resume file: 'Resume_of_ID_712.pdf'\n",
      "Extracted resume ID: '712'\n"
     ]
    },
    {
     "name": "stderr",
     "output_type": "stream",
     "text": [
      "Batches: 100%|██████████| 1/1 [00:00<00:00, 11.41it/s]\n",
      "Batches: 100%|██████████| 1/1 [00:00<00:00, 10.61it/s]\n"
     ]
    },
    {
     "name": "stdout",
     "output_type": "stream",
     "text": [
      "Computed similarity for 'ID_712': 0.786\n",
      "\n",
      "Processing resume file: 'Resume_of_ID_713.pdf'\n",
      "Extracted resume ID: '713'\n",
      "Skipping similarity computation for '713' due to empty recommendation letters.\n",
      "\n",
      "Processing resume file: 'Resume_of_ID_714.pdf'\n",
      "Extracted resume ID: '714'\n"
     ]
    },
    {
     "name": "stderr",
     "output_type": "stream",
     "text": [
      "Batches: 100%|██████████| 1/1 [00:00<00:00, 10.12it/s]\n",
      "Batches: 100%|██████████| 1/1 [00:00<00:00, 13.14it/s]\n"
     ]
    },
    {
     "name": "stdout",
     "output_type": "stream",
     "text": [
      "Computed similarity for 'ID_714': 0.6404\n",
      "\n",
      "Processing resume file: 'Resume_of_ID_715.pdf'\n",
      "Extracted resume ID: '715'\n"
     ]
    },
    {
     "name": "stderr",
     "output_type": "stream",
     "text": [
      "Batches: 100%|██████████| 1/1 [00:00<00:00, 10.44it/s]\n",
      "Batches: 100%|██████████| 1/1 [00:00<00:00, 11.44it/s]\n"
     ]
    },
    {
     "name": "stdout",
     "output_type": "stream",
     "text": [
      "Computed similarity for 'ID_715': 0.664\n",
      "\n",
      "Processing resume file: 'Resume_of_ID_716.pdf'\n",
      "Extracted resume ID: '716'\n"
     ]
    },
    {
     "name": "stderr",
     "output_type": "stream",
     "text": [
      "Batches: 100%|██████████| 1/1 [00:00<00:00, 12.46it/s]\n",
      "Batches: 100%|██████████| 1/1 [00:00<00:00, 12.78it/s]\n"
     ]
    },
    {
     "name": "stdout",
     "output_type": "stream",
     "text": [
      "Computed similarity for 'ID_716': 0.6261\n",
      "\n",
      "Processing resume file: 'Resume_of_ID_717.pdf'\n",
      "Extracted resume ID: '717'\n"
     ]
    },
    {
     "name": "stderr",
     "output_type": "stream",
     "text": [
      "Batches: 100%|██████████| 1/1 [00:00<00:00,  9.72it/s]\n",
      "Batches: 100%|██████████| 1/1 [00:00<00:00, 10.17it/s]\n"
     ]
    },
    {
     "name": "stdout",
     "output_type": "stream",
     "text": [
      "Computed similarity for 'ID_717': 0.4274\n",
      "\n",
      "Processing resume file: 'Resume_of_ID_718.pdf'\n",
      "Extracted resume ID: '718'\n"
     ]
    },
    {
     "name": "stderr",
     "output_type": "stream",
     "text": [
      "Batches: 100%|██████████| 1/1 [00:00<00:00,  9.56it/s]\n",
      "Batches: 100%|██████████| 1/1 [00:00<00:00, 10.50it/s]\n"
     ]
    },
    {
     "name": "stdout",
     "output_type": "stream",
     "text": [
      "Computed similarity for 'ID_718': 0.5106\n",
      "\n",
      "Processing resume file: 'Resume_of_ID_719.pdf'\n",
      "Extracted resume ID: '719'\n"
     ]
    },
    {
     "name": "stderr",
     "output_type": "stream",
     "text": [
      "Batches: 100%|██████████| 1/1 [00:00<00:00, 10.83it/s]\n",
      "Batches: 100%|██████████| 1/1 [00:00<00:00,  9.11it/s]\n"
     ]
    },
    {
     "name": "stdout",
     "output_type": "stream",
     "text": [
      "Computed similarity for 'ID_719': 0.5816\n",
      "\n",
      "Processing resume file: 'Resume_of_ID_72.pdf'\n",
      "Extracted resume ID: '72'\n"
     ]
    },
    {
     "name": "stderr",
     "output_type": "stream",
     "text": [
      "Batches: 100%|██████████| 1/1 [00:00<00:00, 13.99it/s]\n",
      "Batches: 100%|██████████| 1/1 [00:00<00:00,  9.10it/s]\n"
     ]
    },
    {
     "name": "stdout",
     "output_type": "stream",
     "text": [
      "Computed similarity for 'ID_72': 0.603\n",
      "\n",
      "Processing resume file: 'Resume_of_ID_720.pdf'\n",
      "Extracted resume ID: '720'\n"
     ]
    },
    {
     "name": "stderr",
     "output_type": "stream",
     "text": [
      "Batches: 100%|██████████| 1/1 [00:00<00:00, 11.28it/s]\n",
      "Batches: 100%|██████████| 1/1 [00:00<00:00, 11.12it/s]\n"
     ]
    },
    {
     "name": "stdout",
     "output_type": "stream",
     "text": [
      "Computed similarity for 'ID_720': 0.6939\n",
      "\n",
      "Processing resume file: 'Resume_of_ID_721.pdf'\n",
      "Extracted resume ID: '721'\n"
     ]
    },
    {
     "name": "stderr",
     "output_type": "stream",
     "text": [
      "Batches: 100%|██████████| 1/1 [00:00<00:00, 13.81it/s]\n",
      "Batches: 100%|██████████| 1/1 [00:00<00:00, 12.76it/s]\n"
     ]
    },
    {
     "name": "stdout",
     "output_type": "stream",
     "text": [
      "Computed similarity for 'ID_721': 0.3439\n",
      "\n",
      "Processing resume file: 'Resume_of_ID_722.pdf'\n",
      "Extracted resume ID: '722'\n"
     ]
    },
    {
     "name": "stderr",
     "output_type": "stream",
     "text": [
      "Batches: 100%|██████████| 1/1 [00:00<00:00,  8.85it/s]\n",
      "Batches: 100%|██████████| 1/1 [00:00<00:00, 16.00it/s]\n"
     ]
    },
    {
     "name": "stdout",
     "output_type": "stream",
     "text": [
      "Computed similarity for 'ID_722': 0.6683\n",
      "\n",
      "Processing resume file: 'Resume_of_ID_723.pdf'\n",
      "Extracted resume ID: '723'\n"
     ]
    },
    {
     "name": "stderr",
     "output_type": "stream",
     "text": [
      "Batches: 100%|██████████| 1/1 [00:00<00:00, 11.37it/s]\n",
      "Batches: 100%|██████████| 1/1 [00:00<00:00,  9.11it/s]\n"
     ]
    },
    {
     "name": "stdout",
     "output_type": "stream",
     "text": [
      "Computed similarity for 'ID_723': 0.687\n",
      "\n",
      "Processing resume file: 'Resume_of_ID_724.pdf'\n",
      "Extracted resume ID: '724'\n"
     ]
    },
    {
     "name": "stderr",
     "output_type": "stream",
     "text": [
      "Batches: 100%|██████████| 1/1 [00:00<00:00,  9.60it/s]\n",
      "Batches: 100%|██████████| 1/1 [00:00<00:00, 10.39it/s]\n"
     ]
    },
    {
     "name": "stdout",
     "output_type": "stream",
     "text": [
      "Computed similarity for 'ID_724': 0.5972\n",
      "\n",
      "Processing resume file: 'Resume_of_ID_725.pdf'\n",
      "Extracted resume ID: '725'\n"
     ]
    },
    {
     "name": "stderr",
     "output_type": "stream",
     "text": [
      "Batches: 100%|██████████| 1/1 [00:00<00:00, 10.01it/s]\n",
      "Batches: 100%|██████████| 1/1 [00:00<00:00, 12.73it/s]\n"
     ]
    },
    {
     "name": "stdout",
     "output_type": "stream",
     "text": [
      "Computed similarity for 'ID_725': 0.7502\n",
      "\n",
      "Processing resume file: 'Resume_of_ID_726.pdf'\n",
      "Extracted resume ID: '726'\n"
     ]
    },
    {
     "name": "stderr",
     "output_type": "stream",
     "text": [
      "Batches: 100%|██████████| 1/1 [00:00<00:00, 12.45it/s]\n",
      "Batches: 100%|██████████| 1/1 [00:00<00:00, 12.47it/s]\n"
     ]
    },
    {
     "name": "stdout",
     "output_type": "stream",
     "text": [
      "Computed similarity for 'ID_726': 0.6461\n",
      "\n",
      "Processing resume file: 'Resume_of_ID_727.pdf'\n",
      "Extracted resume ID: '727'\n"
     ]
    },
    {
     "name": "stderr",
     "output_type": "stream",
     "text": [
      "Batches: 100%|██████████| 1/1 [00:00<00:00, 10.27it/s]\n",
      "Batches: 100%|██████████| 1/1 [00:00<00:00, 15.98it/s]\n"
     ]
    },
    {
     "name": "stdout",
     "output_type": "stream",
     "text": [
      "Computed similarity for 'ID_727': 0.619\n",
      "\n",
      "Processing resume file: 'Resume_of_ID_728.pdf'\n",
      "Extracted resume ID: '728'\n"
     ]
    },
    {
     "name": "stderr",
     "output_type": "stream",
     "text": [
      "Batches: 100%|██████████| 1/1 [00:00<00:00,  9.24it/s]\n",
      "Batches: 100%|██████████| 1/1 [00:00<00:00, 12.73it/s]\n"
     ]
    },
    {
     "name": "stdout",
     "output_type": "stream",
     "text": [
      "Computed similarity for 'ID_728': 0.707\n",
      "\n",
      "Processing resume file: 'Resume_of_ID_729.pdf'\n",
      "Extracted resume ID: '729'\n"
     ]
    },
    {
     "name": "stderr",
     "output_type": "stream",
     "text": [
      "Batches: 100%|██████████| 1/1 [00:00<00:00, 11.44it/s]\n",
      "Batches: 100%|██████████| 1/1 [00:00<00:00, 15.64it/s]\n"
     ]
    },
    {
     "name": "stdout",
     "output_type": "stream",
     "text": [
      "Computed similarity for 'ID_729': 0.648\n",
      "\n",
      "Processing resume file: 'Resume_of_ID_73.pdf'\n",
      "Extracted resume ID: '73'\n"
     ]
    },
    {
     "name": "stderr",
     "output_type": "stream",
     "text": [
      "Batches: 100%|██████████| 1/1 [00:00<00:00, 11.07it/s]\n",
      "Batches: 100%|██████████| 1/1 [00:00<00:00, 11.47it/s]\n"
     ]
    },
    {
     "name": "stdout",
     "output_type": "stream",
     "text": [
      "Computed similarity for 'ID_73': 0.4867\n",
      "\n",
      "Processing resume file: 'Resume_of_ID_730.pdf'\n",
      "Extracted resume ID: '730'\n"
     ]
    },
    {
     "name": "stderr",
     "output_type": "stream",
     "text": [
      "Batches: 100%|██████████| 1/1 [00:00<00:00, 13.00it/s]\n",
      "Batches: 100%|██████████| 1/1 [00:00<00:00, 10.62it/s]\n"
     ]
    },
    {
     "name": "stdout",
     "output_type": "stream",
     "text": [
      "Computed similarity for 'ID_730': 0.6676\n",
      "\n",
      "Processing resume file: 'Resume_of_ID_731.pdf'\n",
      "Extracted resume ID: '731'\n"
     ]
    },
    {
     "name": "stderr",
     "output_type": "stream",
     "text": [
      "Batches: 100%|██████████| 1/1 [00:00<00:00, 11.79it/s]\n",
      "Batches: 100%|██████████| 1/1 [00:00<00:00, 10.48it/s]\n"
     ]
    },
    {
     "name": "stdout",
     "output_type": "stream",
     "text": [
      "Computed similarity for 'ID_731': 0.6506\n",
      "\n",
      "Processing resume file: 'Resume_of_ID_732.pdf'\n",
      "Extracted resume ID: '732'\n"
     ]
    },
    {
     "name": "stderr",
     "output_type": "stream",
     "text": [
      "Batches: 100%|██████████| 1/1 [00:00<00:00, 11.48it/s]\n",
      "Batches: 100%|██████████| 1/1 [00:00<00:00, 11.15it/s]\n"
     ]
    },
    {
     "name": "stdout",
     "output_type": "stream",
     "text": [
      "Computed similarity for 'ID_732': 0.7146\n",
      "\n",
      "Processing resume file: 'Resume_of_ID_733.pdf'\n",
      "Extracted resume ID: '733'\n"
     ]
    },
    {
     "name": "stderr",
     "output_type": "stream",
     "text": [
      "Batches: 100%|██████████| 1/1 [00:00<00:00,  7.80it/s]\n",
      "Batches: 100%|██████████| 1/1 [00:00<00:00,  8.94it/s]\n"
     ]
    },
    {
     "name": "stdout",
     "output_type": "stream",
     "text": [
      "Computed similarity for 'ID_733': 0.5945\n",
      "\n",
      "Processing resume file: 'Resume_of_ID_734.pdf'\n",
      "Extracted resume ID: '734'\n"
     ]
    },
    {
     "name": "stderr",
     "output_type": "stream",
     "text": [
      "Batches: 100%|██████████| 1/1 [00:00<00:00, 10.50it/s]\n",
      "Batches: 100%|██████████| 1/1 [00:00<00:00, 10.51it/s]\n"
     ]
    },
    {
     "name": "stdout",
     "output_type": "stream",
     "text": [
      "Computed similarity for 'ID_734': 0.5679\n",
      "\n",
      "Processing resume file: 'Resume_of_ID_735.pdf'\n",
      "Extracted resume ID: '735'\n"
     ]
    },
    {
     "name": "stderr",
     "output_type": "stream",
     "text": [
      "Batches: 100%|██████████| 1/1 [00:00<00:00,  8.39it/s]\n",
      "Batches: 100%|██████████| 1/1 [00:00<00:00, 10.61it/s]\n"
     ]
    },
    {
     "name": "stdout",
     "output_type": "stream",
     "text": [
      "Computed similarity for 'ID_735': 0.7059\n",
      "\n",
      "Processing resume file: 'Resume_of_ID_736.pdf'\n",
      "Extracted resume ID: '736'\n"
     ]
    },
    {
     "name": "stderr",
     "output_type": "stream",
     "text": [
      "Batches: 100%|██████████| 1/1 [00:00<00:00,  9.85it/s]\n",
      "Batches: 100%|██████████| 1/1 [00:00<00:00, 12.51it/s]\n"
     ]
    },
    {
     "name": "stdout",
     "output_type": "stream",
     "text": [
      "Computed similarity for 'ID_736': 0.6101\n",
      "\n",
      "Processing resume file: 'Resume_of_ID_737.pdf'\n",
      "Extracted resume ID: '737'\n"
     ]
    },
    {
     "name": "stderr",
     "output_type": "stream",
     "text": [
      "Batches: 100%|██████████| 1/1 [00:00<00:00, 10.45it/s]\n",
      "Batches: 100%|██████████| 1/1 [00:00<00:00, 10.62it/s]\n"
     ]
    },
    {
     "name": "stdout",
     "output_type": "stream",
     "text": [
      "Computed similarity for 'ID_737': 0.6332\n",
      "\n",
      "Processing resume file: 'Resume_of_ID_738.pdf'\n",
      "Extracted resume ID: '738'\n"
     ]
    },
    {
     "name": "stderr",
     "output_type": "stream",
     "text": [
      "Batches: 100%|██████████| 1/1 [00:00<00:00,  9.89it/s]\n",
      "Batches: 100%|██████████| 1/1 [00:00<00:00, 11.13it/s]\n"
     ]
    },
    {
     "name": "stdout",
     "output_type": "stream",
     "text": [
      "Computed similarity for 'ID_738': 0.6335\n",
      "\n",
      "Processing resume file: 'Resume_of_ID_739.pdf'\n",
      "Extracted resume ID: '739'\n"
     ]
    },
    {
     "name": "stderr",
     "output_type": "stream",
     "text": [
      "Batches: 100%|██████████| 1/1 [00:00<00:00, 11.50it/s]\n",
      "Batches: 100%|██████████| 1/1 [00:00<00:00, 10.61it/s]\n"
     ]
    },
    {
     "name": "stdout",
     "output_type": "stream",
     "text": [
      "Computed similarity for 'ID_739': 0.6305\n",
      "\n",
      "Processing resume file: 'Resume_of_ID_74.pdf'\n",
      "Extracted resume ID: '74'\n"
     ]
    },
    {
     "name": "stderr",
     "output_type": "stream",
     "text": [
      "Batches: 100%|██████████| 1/1 [00:00<00:00, 11.36it/s]\n",
      "Batches: 100%|██████████| 1/1 [00:00<00:00, 10.55it/s]\n"
     ]
    },
    {
     "name": "stdout",
     "output_type": "stream",
     "text": [
      "Computed similarity for 'ID_74': 0.7552\n",
      "\n",
      "Processing resume file: 'Resume_of_ID_740.pdf'\n",
      "Extracted resume ID: '740'\n"
     ]
    },
    {
     "name": "stderr",
     "output_type": "stream",
     "text": [
      "Batches: 100%|██████████| 1/1 [00:00<00:00, 11.87it/s]\n",
      "Batches: 100%|██████████| 1/1 [00:00<00:00, 12.64it/s]\n"
     ]
    },
    {
     "name": "stdout",
     "output_type": "stream",
     "text": [
      "Computed similarity for 'ID_740': 0.6781\n",
      "\n",
      "Processing resume file: 'Resume_of_ID_741.pdf'\n",
      "Extracted resume ID: '741'\n"
     ]
    },
    {
     "name": "stderr",
     "output_type": "stream",
     "text": [
      "Batches: 100%|██████████| 1/1 [00:00<00:00,  9.71it/s]\n",
      "Batches: 100%|██████████| 1/1 [00:00<00:00,  9.88it/s]\n"
     ]
    },
    {
     "name": "stdout",
     "output_type": "stream",
     "text": [
      "Computed similarity for 'ID_741': 0.7478\n",
      "\n",
      "Processing resume file: 'Resume_of_ID_742.pdf'\n",
      "Extracted resume ID: '742'\n"
     ]
    },
    {
     "name": "stderr",
     "output_type": "stream",
     "text": [
      "Batches: 100%|██████████| 1/1 [00:00<00:00, 17.02it/s]\n",
      "Batches: 100%|██████████| 1/1 [00:00<00:00, 12.72it/s]\n"
     ]
    },
    {
     "name": "stdout",
     "output_type": "stream",
     "text": [
      "Computed similarity for 'ID_742': 0.7495\n",
      "\n",
      "Processing resume file: 'Resume_of_ID_743.pdf'\n",
      "Extracted resume ID: '743'\n"
     ]
    },
    {
     "name": "stderr",
     "output_type": "stream",
     "text": [
      "Batches: 100%|██████████| 1/1 [00:00<00:00, 10.54it/s]\n",
      "Batches: 100%|██████████| 1/1 [00:00<00:00, 12.79it/s]\n"
     ]
    },
    {
     "name": "stdout",
     "output_type": "stream",
     "text": [
      "Computed similarity for 'ID_743': 0.7214\n",
      "\n",
      "Processing resume file: 'Resume_of_ID_744.pdf'\n",
      "Extracted resume ID: '744'\n"
     ]
    },
    {
     "name": "stderr",
     "output_type": "stream",
     "text": [
      "Batches: 100%|██████████| 1/1 [00:00<00:00, 11.35it/s]\n",
      "Batches: 100%|██████████| 1/1 [00:00<00:00, 10.62it/s]\n"
     ]
    },
    {
     "name": "stdout",
     "output_type": "stream",
     "text": [
      "Computed similarity for 'ID_744': 0.6661\n",
      "\n",
      "Processing resume file: 'Resume_of_ID_745.pdf'\n",
      "Extracted resume ID: '745'\n"
     ]
    },
    {
     "name": "stderr",
     "output_type": "stream",
     "text": [
      "Batches: 100%|██████████| 1/1 [00:00<00:00, 11.93it/s]\n",
      "Batches: 100%|██████████| 1/1 [00:00<00:00, 10.62it/s]\n"
     ]
    },
    {
     "name": "stdout",
     "output_type": "stream",
     "text": [
      "Computed similarity for 'ID_745': 0.8304\n",
      "\n",
      "Processing resume file: 'Resume_of_ID_746.pdf'\n",
      "Extracted resume ID: '746'\n"
     ]
    },
    {
     "name": "stderr",
     "output_type": "stream",
     "text": [
      "Batches: 100%|██████████| 1/1 [00:00<00:00, 13.58it/s]\n",
      "Batches: 100%|██████████| 1/1 [00:00<00:00, 16.00it/s]\n"
     ]
    },
    {
     "name": "stdout",
     "output_type": "stream",
     "text": [
      "Computed similarity for 'ID_746': 0.5571\n",
      "\n",
      "Processing resume file: 'Resume_of_ID_747.pdf'\n",
      "Extracted resume ID: '747'\n"
     ]
    },
    {
     "name": "stderr",
     "output_type": "stream",
     "text": [
      "Batches: 100%|██████████| 1/1 [00:00<00:00, 10.74it/s]\n",
      "Batches: 100%|██████████| 1/1 [00:00<00:00, 10.62it/s]\n"
     ]
    },
    {
     "name": "stdout",
     "output_type": "stream",
     "text": [
      "Computed similarity for 'ID_747': 0.7056\n",
      "\n",
      "Processing resume file: 'Resume_of_ID_748.pdf'\n",
      "Extracted resume ID: '748'\n"
     ]
    },
    {
     "name": "stderr",
     "output_type": "stream",
     "text": [
      "Batches: 100%|██████████| 1/1 [00:00<00:00,  9.71it/s]\n",
      "Batches: 100%|██████████| 1/1 [00:00<00:00, 10.62it/s]\n"
     ]
    },
    {
     "name": "stdout",
     "output_type": "stream",
     "text": [
      "Computed similarity for 'ID_748': 0.7006\n",
      "\n",
      "Processing resume file: 'Resume_of_ID_749.pdf'\n",
      "Extracted resume ID: '749'\n"
     ]
    },
    {
     "name": "stderr",
     "output_type": "stream",
     "text": [
      "Batches: 100%|██████████| 1/1 [00:00<00:00,  9.09it/s]\n",
      "Batches: 100%|██████████| 1/1 [00:00<00:00, 10.61it/s]\n"
     ]
    },
    {
     "name": "stdout",
     "output_type": "stream",
     "text": [
      "Computed similarity for 'ID_749': 0.6844\n",
      "\n",
      "Processing resume file: 'Resume_of_ID_75.pdf'\n",
      "Extracted resume ID: '75'\n"
     ]
    },
    {
     "name": "stderr",
     "output_type": "stream",
     "text": [
      "Batches: 100%|██████████| 1/1 [00:00<00:00, 11.43it/s]\n",
      "Batches: 100%|██████████| 1/1 [00:00<00:00, 10.62it/s]\n"
     ]
    },
    {
     "name": "stdout",
     "output_type": "stream",
     "text": [
      "Computed similarity for 'ID_75': 0.7086\n",
      "\n",
      "Processing resume file: 'Resume_of_ID_750.pdf'\n",
      "Extracted resume ID: '750'\n"
     ]
    },
    {
     "name": "stderr",
     "output_type": "stream",
     "text": [
      "Batches: 100%|██████████| 1/1 [00:00<00:00, 13.67it/s]\n",
      "Batches: 100%|██████████| 1/1 [00:00<00:00,  9.10it/s]\n"
     ]
    },
    {
     "name": "stdout",
     "output_type": "stream",
     "text": [
      "Computed similarity for 'ID_750': 0.6219\n",
      "\n",
      "Processing resume file: 'Resume_of_ID_751.pdf'\n",
      "Extracted resume ID: '751'\n"
     ]
    },
    {
     "name": "stderr",
     "output_type": "stream",
     "text": [
      "Batches: 100%|██████████| 1/1 [00:00<00:00, 15.84it/s]\n",
      "Batches: 100%|██████████| 1/1 [00:00<00:00, 12.74it/s]\n"
     ]
    },
    {
     "name": "stdout",
     "output_type": "stream",
     "text": [
      "Computed similarity for 'ID_751': 0.8477\n",
      "\n",
      "Processing resume file: 'Resume_of_ID_752.pdf'\n",
      "Extracted resume ID: '752'\n"
     ]
    },
    {
     "name": "stderr",
     "output_type": "stream",
     "text": [
      "Batches: 100%|██████████| 1/1 [00:00<00:00,  9.69it/s]\n",
      "Batches: 100%|██████████| 1/1 [00:00<00:00,  9.12it/s]\n"
     ]
    },
    {
     "name": "stdout",
     "output_type": "stream",
     "text": [
      "Computed similarity for 'ID_752': 0.7281\n",
      "\n",
      "Processing resume file: 'Resume_of_ID_753.pdf'\n",
      "Extracted resume ID: '753'\n"
     ]
    },
    {
     "name": "stderr",
     "output_type": "stream",
     "text": [
      "Batches: 100%|██████████| 1/1 [00:00<00:00,  8.89it/s]\n",
      "Batches: 100%|██████████| 1/1 [00:00<00:00,  7.86it/s]\n"
     ]
    },
    {
     "name": "stdout",
     "output_type": "stream",
     "text": [
      "Computed similarity for 'ID_753': 0.6147\n",
      "\n",
      "Processing resume file: 'Resume_of_ID_754.pdf'\n",
      "Extracted resume ID: '754'\n"
     ]
    },
    {
     "name": "stderr",
     "output_type": "stream",
     "text": [
      "Batches: 100%|██████████| 1/1 [00:00<00:00, 11.48it/s]\n",
      "Batches: 100%|██████████| 1/1 [00:00<00:00, 11.39it/s]\n"
     ]
    },
    {
     "name": "stdout",
     "output_type": "stream",
     "text": [
      "Computed similarity for 'ID_754': 0.5964\n",
      "\n",
      "Processing resume file: 'Resume_of_ID_755.pdf'\n",
      "Extracted resume ID: '755'\n"
     ]
    },
    {
     "name": "stderr",
     "output_type": "stream",
     "text": [
      "Batches: 100%|██████████| 1/1 [00:00<00:00,  9.17it/s]\n",
      "Batches: 100%|██████████| 1/1 [00:00<00:00, 10.30it/s]\n"
     ]
    },
    {
     "name": "stdout",
     "output_type": "stream",
     "text": [
      "Computed similarity for 'ID_755': 0.5875\n",
      "\n",
      "Processing resume file: 'Resume_of_ID_756.pdf'\n",
      "Extracted resume ID: '756'\n"
     ]
    },
    {
     "name": "stderr",
     "output_type": "stream",
     "text": [
      "Batches: 100%|██████████| 1/1 [00:00<00:00, 11.16it/s]\n",
      "Batches: 100%|██████████| 1/1 [00:00<00:00,  9.98it/s]\n"
     ]
    },
    {
     "name": "stdout",
     "output_type": "stream",
     "text": [
      "Computed similarity for 'ID_756': 0.621\n",
      "\n",
      "Processing resume file: 'Resume_of_ID_757.pdf'\n",
      "Extracted resume ID: '757'\n",
      "Skipping similarity computation for '757' due to empty recommendation letters.\n",
      "\n",
      "Processing resume file: 'Resume_of_ID_758.pdf'\n",
      "Extracted resume ID: '758'\n"
     ]
    },
    {
     "name": "stderr",
     "output_type": "stream",
     "text": [
      "Batches: 100%|██████████| 1/1 [00:00<00:00, 12.47it/s]\n",
      "Batches: 100%|██████████| 1/1 [00:00<00:00, 10.51it/s]\n"
     ]
    },
    {
     "name": "stdout",
     "output_type": "stream",
     "text": [
      "Computed similarity for 'ID_758': 0.6665\n",
      "\n",
      "Processing resume file: 'Resume_of_ID_759.pdf'\n",
      "Extracted resume ID: '759'\n"
     ]
    },
    {
     "name": "stderr",
     "output_type": "stream",
     "text": [
      "Batches: 100%|██████████| 1/1 [00:00<00:00,  9.76it/s]\n",
      "Batches: 100%|██████████| 1/1 [00:00<00:00, 10.79it/s]\n"
     ]
    },
    {
     "name": "stdout",
     "output_type": "stream",
     "text": [
      "Computed similarity for 'ID_759': 0.7006\n",
      "\n",
      "Processing resume file: 'Resume_of_ID_76.pdf'\n",
      "Extracted resume ID: '76'\n"
     ]
    },
    {
     "name": "stderr",
     "output_type": "stream",
     "text": [
      "Batches: 100%|██████████| 1/1 [00:00<00:00, 12.58it/s]\n",
      "Batches: 100%|██████████| 1/1 [00:00<00:00, 11.41it/s]\n"
     ]
    },
    {
     "name": "stdout",
     "output_type": "stream",
     "text": [
      "Computed similarity for 'ID_76': 0.7038\n",
      "\n",
      "Processing resume file: 'Resume_of_ID_760.pdf'\n",
      "Extracted resume ID: '760'\n"
     ]
    },
    {
     "name": "stderr",
     "output_type": "stream",
     "text": [
      "Batches: 100%|██████████| 1/1 [00:00<00:00, 12.82it/s]\n",
      "Batches: 100%|██████████| 1/1 [00:00<00:00, 12.45it/s]\n"
     ]
    },
    {
     "name": "stdout",
     "output_type": "stream",
     "text": [
      "Computed similarity for 'ID_760': 0.7193\n",
      "\n",
      "Processing resume file: 'Resume_of_ID_761.pdf'\n",
      "Extracted resume ID: '761'\n"
     ]
    },
    {
     "name": "stderr",
     "output_type": "stream",
     "text": [
      "Batches: 100%|██████████| 1/1 [00:00<00:00, 10.54it/s]\n",
      "Batches: 100%|██████████| 1/1 [00:00<00:00, 11.08it/s]\n"
     ]
    },
    {
     "name": "stdout",
     "output_type": "stream",
     "text": [
      "Computed similarity for 'ID_761': 0.6967\n",
      "\n",
      "Processing resume file: 'Resume_of_ID_762.pdf'\n",
      "Extracted resume ID: '762'\n"
     ]
    },
    {
     "name": "stderr",
     "output_type": "stream",
     "text": [
      "Batches: 100%|██████████| 1/1 [00:00<00:00,  9.04it/s]\n",
      "Batches: 100%|██████████| 1/1 [00:00<00:00, 12.21it/s]\n"
     ]
    },
    {
     "name": "stdout",
     "output_type": "stream",
     "text": [
      "Computed similarity for 'ID_762': 0.2977\n",
      "\n",
      "Processing resume file: 'Resume_of_ID_763.pdf'\n",
      "Extracted resume ID: '763'\n"
     ]
    },
    {
     "name": "stderr",
     "output_type": "stream",
     "text": [
      "Batches: 100%|██████████| 1/1 [00:00<00:00,  9.70it/s]\n",
      "Batches: 100%|██████████| 1/1 [00:00<00:00, 11.32it/s]\n"
     ]
    },
    {
     "name": "stdout",
     "output_type": "stream",
     "text": [
      "Computed similarity for 'ID_763': 0.7241\n",
      "\n",
      "Processing resume file: 'Resume_of_ID_764.pdf'\n",
      "Extracted resume ID: '764'\n"
     ]
    },
    {
     "name": "stderr",
     "output_type": "stream",
     "text": [
      "Batches: 100%|██████████| 1/1 [00:00<00:00, 11.45it/s]\n",
      "Batches: 100%|██████████| 1/1 [00:00<00:00, 10.54it/s]\n"
     ]
    },
    {
     "name": "stdout",
     "output_type": "stream",
     "text": [
      "Computed similarity for 'ID_764': 0.7104\n",
      "\n",
      "Processing resume file: 'Resume_of_ID_765.pdf'\n",
      "Extracted resume ID: '765'\n"
     ]
    },
    {
     "name": "stderr",
     "output_type": "stream",
     "text": [
      "Batches: 100%|██████████| 1/1 [00:00<00:00, 12.62it/s]\n",
      "Batches: 100%|██████████| 1/1 [00:00<00:00, 12.73it/s]\n"
     ]
    },
    {
     "name": "stdout",
     "output_type": "stream",
     "text": [
      "Computed similarity for 'ID_765': 0.6756\n",
      "\n",
      "Processing resume file: 'Resume_of_ID_766.pdf'\n",
      "Extracted resume ID: '766'\n"
     ]
    },
    {
     "name": "stderr",
     "output_type": "stream",
     "text": [
      "Batches: 100%|██████████| 1/1 [00:00<00:00, 10.55it/s]\n",
      "Batches: 100%|██████████| 1/1 [00:00<00:00, 12.78it/s]\n"
     ]
    },
    {
     "name": "stdout",
     "output_type": "stream",
     "text": [
      "Computed similarity for 'ID_766': 0.6283\n",
      "\n",
      "Processing resume file: 'Resume_of_ID_767.pdf'\n",
      "Extracted resume ID: '767'\n"
     ]
    },
    {
     "name": "stderr",
     "output_type": "stream",
     "text": [
      "Batches: 100%|██████████| 1/1 [00:00<00:00,  9.61it/s]\n",
      "Batches: 100%|██████████| 1/1 [00:00<00:00, 10.75it/s]\n"
     ]
    },
    {
     "name": "stdout",
     "output_type": "stream",
     "text": [
      "Computed similarity for 'ID_767': 0.7063\n",
      "\n",
      "Processing resume file: 'Resume_of_ID_768.pdf'\n",
      "Extracted resume ID: '768'\n"
     ]
    },
    {
     "name": "stderr",
     "output_type": "stream",
     "text": [
      "Batches: 100%|██████████| 1/1 [00:00<00:00, 12.42it/s]\n",
      "Batches: 100%|██████████| 1/1 [00:00<00:00, 10.53it/s]\n"
     ]
    },
    {
     "name": "stdout",
     "output_type": "stream",
     "text": [
      "Computed similarity for 'ID_768': 0.5605\n",
      "\n",
      "Processing resume file: 'Resume_of_ID_769.pdf'\n",
      "Extracted resume ID: '769'\n"
     ]
    },
    {
     "name": "stderr",
     "output_type": "stream",
     "text": [
      "Batches: 100%|██████████| 1/1 [00:00<00:00,  8.30it/s]\n",
      "Batches: 100%|██████████| 1/1 [00:00<00:00,  8.96it/s]\n"
     ]
    },
    {
     "name": "stdout",
     "output_type": "stream",
     "text": [
      "Computed similarity for 'ID_769': 0.7282\n",
      "\n",
      "Processing resume file: 'Resume_of_ID_77.pdf'\n",
      "Extracted resume ID: '77'\n"
     ]
    },
    {
     "name": "stderr",
     "output_type": "stream",
     "text": [
      "Batches: 100%|██████████| 1/1 [00:00<00:00, 10.08it/s]\n",
      "Batches: 100%|██████████| 1/1 [00:00<00:00, 10.60it/s]\n"
     ]
    },
    {
     "name": "stdout",
     "output_type": "stream",
     "text": [
      "Computed similarity for 'ID_77': 0.5985\n",
      "\n",
      "Processing resume file: 'Resume_of_ID_770.pdf'\n",
      "Extracted resume ID: '770'\n"
     ]
    },
    {
     "name": "stderr",
     "output_type": "stream",
     "text": [
      "Batches: 100%|██████████| 1/1 [00:00<00:00, 13.00it/s]\n",
      "Batches: 100%|██████████| 1/1 [00:00<00:00, 18.05it/s]\n"
     ]
    },
    {
     "name": "stdout",
     "output_type": "stream",
     "text": [
      "Computed similarity for 'ID_770': 0.6426\n",
      "\n",
      "Processing resume file: 'Resume_of_ID_771.pdf'\n",
      "Extracted resume ID: '771'\n"
     ]
    },
    {
     "name": "stderr",
     "output_type": "stream",
     "text": [
      "Batches: 100%|██████████| 1/1 [00:00<00:00, 10.55it/s]\n",
      "Batches: 100%|██████████| 1/1 [00:00<00:00,  9.28it/s]\n"
     ]
    },
    {
     "name": "stdout",
     "output_type": "stream",
     "text": [
      "Computed similarity for 'ID_771': 0.5211\n",
      "\n",
      "Processing resume file: 'Resume_of_ID_772.pdf'\n",
      "Extracted resume ID: '772'\n"
     ]
    },
    {
     "name": "stderr",
     "output_type": "stream",
     "text": [
      "Batches: 100%|██████████| 1/1 [00:00<00:00, 10.36it/s]\n",
      "Batches: 100%|██████████| 1/1 [00:00<00:00, 14.14it/s]\n"
     ]
    },
    {
     "name": "stdout",
     "output_type": "stream",
     "text": [
      "Computed similarity for 'ID_772': 0.7604\n",
      "\n",
      "Processing resume file: 'Resume_of_ID_773.pdf'\n",
      "Extracted resume ID: '773'\n"
     ]
    },
    {
     "name": "stderr",
     "output_type": "stream",
     "text": [
      "Batches: 100%|██████████| 1/1 [00:00<00:00, 10.04it/s]\n",
      "Batches: 100%|██████████| 1/1 [00:00<00:00,  9.30it/s]\n"
     ]
    },
    {
     "name": "stdout",
     "output_type": "stream",
     "text": [
      "Computed similarity for 'ID_773': 0.6389\n",
      "\n",
      "Processing resume file: 'Resume_of_ID_774.pdf'\n",
      "Extracted resume ID: '774'\n"
     ]
    },
    {
     "name": "stderr",
     "output_type": "stream",
     "text": [
      "Batches: 100%|██████████| 1/1 [00:00<00:00,  9.58it/s]\n",
      "Batches: 100%|██████████| 1/1 [00:00<00:00,  8.82it/s]\n"
     ]
    },
    {
     "name": "stdout",
     "output_type": "stream",
     "text": [
      "Computed similarity for 'ID_774': 0.6247\n",
      "\n",
      "Processing resume file: 'Resume_of_ID_775.pdf'\n",
      "Extracted resume ID: '775'\n"
     ]
    },
    {
     "name": "stderr",
     "output_type": "stream",
     "text": [
      "Batches: 100%|██████████| 1/1 [00:00<00:00, 10.28it/s]\n",
      "Batches: 100%|██████████| 1/1 [00:00<00:00, 20.30it/s]\n"
     ]
    },
    {
     "name": "stdout",
     "output_type": "stream",
     "text": [
      "Computed similarity for 'ID_775': 0.6462\n",
      "\n",
      "Processing resume file: 'Resume_of_ID_776.pdf'\n",
      "Extracted resume ID: '776'\n"
     ]
    },
    {
     "name": "stderr",
     "output_type": "stream",
     "text": [
      "Batches: 100%|██████████| 1/1 [00:00<00:00,  9.63it/s]\n",
      "Batches: 100%|██████████| 1/1 [00:00<00:00,  9.09it/s]\n"
     ]
    },
    {
     "name": "stdout",
     "output_type": "stream",
     "text": [
      "Computed similarity for 'ID_776': 0.6947\n",
      "\n",
      "Processing resume file: 'Resume_of_ID_777.pdf'\n",
      "Extracted resume ID: '777'\n"
     ]
    },
    {
     "name": "stderr",
     "output_type": "stream",
     "text": [
      "Batches: 100%|██████████| 1/1 [00:00<00:00, 10.39it/s]\n",
      "Batches: 100%|██████████| 1/1 [00:00<00:00, 16.26it/s]\n"
     ]
    },
    {
     "name": "stdout",
     "output_type": "stream",
     "text": [
      "Computed similarity for 'ID_777': 0.6102\n",
      "\n",
      "Processing resume file: 'Resume_of_ID_778.pdf'\n",
      "Extracted resume ID: '778'\n",
      "Skipping similarity computation for '778' due to empty recommendation letters.\n",
      "\n",
      "Processing resume file: 'Resume_of_ID_779.pdf'\n",
      "Extracted resume ID: '779'\n"
     ]
    },
    {
     "name": "stderr",
     "output_type": "stream",
     "text": [
      "Batches: 100%|██████████| 1/1 [00:00<00:00,  8.52it/s]\n",
      "Batches: 100%|██████████| 1/1 [00:00<00:00, 10.61it/s]\n"
     ]
    },
    {
     "name": "stdout",
     "output_type": "stream",
     "text": [
      "Computed similarity for 'ID_779': 0.6943\n",
      "\n",
      "Processing resume file: 'Resume_of_ID_78.pdf'\n",
      "Extracted resume ID: '78'\n"
     ]
    },
    {
     "name": "stderr",
     "output_type": "stream",
     "text": [
      "Batches: 100%|██████████| 1/1 [00:00<00:00,  9.17it/s]\n",
      "Batches: 100%|██████████| 1/1 [00:00<00:00, 11.30it/s]\n"
     ]
    },
    {
     "name": "stdout",
     "output_type": "stream",
     "text": [
      "Computed similarity for 'ID_78': 0.6759\n",
      "\n",
      "Processing resume file: 'Resume_of_ID_780.pdf'\n",
      "Extracted resume ID: '780'\n"
     ]
    },
    {
     "name": "stderr",
     "output_type": "stream",
     "text": [
      "Batches: 100%|██████████| 1/1 [00:00<00:00,  8.57it/s]\n",
      "Batches: 100%|██████████| 1/1 [00:00<00:00, 13.24it/s]\n"
     ]
    },
    {
     "name": "stdout",
     "output_type": "stream",
     "text": [
      "Computed similarity for 'ID_780': 0.6229\n",
      "\n",
      "Processing resume file: 'Resume_of_ID_781.pdf'\n",
      "Extracted resume ID: '781'\n"
     ]
    },
    {
     "name": "stderr",
     "output_type": "stream",
     "text": [
      "Batches: 100%|██████████| 1/1 [00:00<00:00, 10.72it/s]\n",
      "Batches: 100%|██████████| 1/1 [00:00<00:00, 12.98it/s]\n"
     ]
    },
    {
     "name": "stdout",
     "output_type": "stream",
     "text": [
      "Computed similarity for 'ID_781': 0.6266\n",
      "\n",
      "Processing resume file: 'Resume_of_ID_782.pdf'\n",
      "Extracted resume ID: '782'\n"
     ]
    },
    {
     "name": "stderr",
     "output_type": "stream",
     "text": [
      "Batches: 100%|██████████| 1/1 [00:00<00:00, 11.35it/s]\n",
      "Batches: 100%|██████████| 1/1 [00:00<00:00, 12.35it/s]\n"
     ]
    },
    {
     "name": "stdout",
     "output_type": "stream",
     "text": [
      "Computed similarity for 'ID_782': 0.7652\n",
      "\n",
      "Processing resume file: 'Resume_of_ID_783.pdf'\n",
      "Extracted resume ID: '783'\n"
     ]
    },
    {
     "name": "stderr",
     "output_type": "stream",
     "text": [
      "Batches: 100%|██████████| 1/1 [00:00<00:00, 11.85it/s]\n",
      "Batches: 100%|██████████| 1/1 [00:00<00:00, 12.37it/s]\n"
     ]
    },
    {
     "name": "stdout",
     "output_type": "stream",
     "text": [
      "Computed similarity for 'ID_783': 0.6651\n",
      "\n",
      "Processing resume file: 'Resume_of_ID_784.pdf'\n",
      "Extracted resume ID: '784'\n"
     ]
    },
    {
     "name": "stderr",
     "output_type": "stream",
     "text": [
      "Batches: 100%|██████████| 1/1 [00:00<00:00, 13.26it/s]\n",
      "Batches: 100%|██████████| 1/1 [00:00<00:00, 11.83it/s]\n"
     ]
    },
    {
     "name": "stdout",
     "output_type": "stream",
     "text": [
      "Computed similarity for 'ID_784': 0.7713\n",
      "\n",
      "Processing resume file: 'Resume_of_ID_785.pdf'\n",
      "Extracted resume ID: '785'\n"
     ]
    },
    {
     "name": "stderr",
     "output_type": "stream",
     "text": [
      "Batches: 100%|██████████| 1/1 [00:00<00:00, 10.55it/s]\n",
      "Batches: 100%|██████████| 1/1 [00:00<00:00, 11.96it/s]\n"
     ]
    },
    {
     "name": "stdout",
     "output_type": "stream",
     "text": [
      "Computed similarity for 'ID_785': 0.7206\n",
      "\n",
      "Processing resume file: 'Resume_of_ID_786.pdf'\n",
      "Extracted resume ID: '786'\n"
     ]
    },
    {
     "name": "stderr",
     "output_type": "stream",
     "text": [
      "Batches: 100%|██████████| 1/1 [00:00<00:00, 10.00it/s]\n",
      "Batches: 100%|██████████| 1/1 [00:00<00:00, 10.45it/s]\n"
     ]
    },
    {
     "name": "stdout",
     "output_type": "stream",
     "text": [
      "Computed similarity for 'ID_786': 0.6683\n",
      "\n",
      "Processing resume file: 'Resume_of_ID_787.pdf'\n",
      "Extracted resume ID: '787'\n",
      "Skipping similarity computation for '787' due to empty recommendation letters.\n",
      "\n",
      "Processing resume file: 'Resume_of_ID_788.pdf'\n",
      "Extracted resume ID: '788'\n"
     ]
    },
    {
     "name": "stderr",
     "output_type": "stream",
     "text": [
      "Batches: 100%|██████████| 1/1 [00:00<00:00,  9.23it/s]\n",
      "Batches: 100%|██████████| 1/1 [00:00<00:00, 11.49it/s]\n"
     ]
    },
    {
     "name": "stdout",
     "output_type": "stream",
     "text": [
      "Computed similarity for 'ID_788': 0.7075\n",
      "\n",
      "Processing resume file: 'Resume_of_ID_789.pdf'\n",
      "Extracted resume ID: '789'\n"
     ]
    },
    {
     "name": "stderr",
     "output_type": "stream",
     "text": [
      "Batches: 100%|██████████| 1/1 [00:00<00:00, 12.64it/s]\n",
      "Batches: 100%|██████████| 1/1 [00:00<00:00, 15.10it/s]\n"
     ]
    },
    {
     "name": "stdout",
     "output_type": "stream",
     "text": [
      "Computed similarity for 'ID_789': 0.551\n",
      "\n",
      "Processing resume file: 'Resume_of_ID_79.pdf'\n",
      "Extracted resume ID: '79'\n"
     ]
    },
    {
     "name": "stderr",
     "output_type": "stream",
     "text": [
      "Batches: 100%|██████████| 1/1 [00:00<00:00, 10.37it/s]\n",
      "Batches: 100%|██████████| 1/1 [00:00<00:00, 10.60it/s]\n"
     ]
    },
    {
     "name": "stdout",
     "output_type": "stream",
     "text": [
      "Computed similarity for 'ID_79': 0.6666\n",
      "\n",
      "Processing resume file: 'Resume_of_ID_790.pdf'\n",
      "Extracted resume ID: '790'\n"
     ]
    },
    {
     "name": "stderr",
     "output_type": "stream",
     "text": [
      "Batches: 100%|██████████| 1/1 [00:00<00:00, 10.30it/s]\n",
      "Batches: 100%|██████████| 1/1 [00:00<00:00, 12.10it/s]\n"
     ]
    },
    {
     "name": "stdout",
     "output_type": "stream",
     "text": [
      "Computed similarity for 'ID_790': 0.6637\n",
      "\n",
      "Processing resume file: 'Resume_of_ID_791.pdf'\n",
      "Extracted resume ID: '791'\n"
     ]
    },
    {
     "name": "stderr",
     "output_type": "stream",
     "text": [
      "Batches: 100%|██████████| 1/1 [00:00<00:00, 11.05it/s]\n",
      "Batches: 100%|██████████| 1/1 [00:00<00:00, 13.17it/s]\n"
     ]
    },
    {
     "name": "stdout",
     "output_type": "stream",
     "text": [
      "Computed similarity for 'ID_791': 0.5855\n",
      "\n",
      "Processing resume file: 'Resume_of_ID_792.pdf'\n",
      "Extracted resume ID: '792'\n"
     ]
    },
    {
     "name": "stderr",
     "output_type": "stream",
     "text": [
      "Batches: 100%|██████████| 1/1 [00:00<00:00, 11.85it/s]\n",
      "Batches: 100%|██████████| 1/1 [00:00<00:00, 15.09it/s]\n"
     ]
    },
    {
     "name": "stdout",
     "output_type": "stream",
     "text": [
      "Computed similarity for 'ID_792': 0.6374\n",
      "\n",
      "Processing resume file: 'Resume_of_ID_793.pdf'\n",
      "Extracted resume ID: '793'\n"
     ]
    },
    {
     "name": "stderr",
     "output_type": "stream",
     "text": [
      "Batches: 100%|██████████| 1/1 [00:00<00:00, 11.50it/s]\n",
      "Batches: 100%|██████████| 1/1 [00:00<00:00, 13.76it/s]\n"
     ]
    },
    {
     "name": "stdout",
     "output_type": "stream",
     "text": [
      "Computed similarity for 'ID_793': 0.7359\n",
      "\n",
      "Processing resume file: 'Resume_of_ID_794.pdf'\n",
      "Extracted resume ID: '794'\n"
     ]
    },
    {
     "name": "stderr",
     "output_type": "stream",
     "text": [
      "Batches: 100%|██████████| 1/1 [00:00<00:00, 12.83it/s]\n",
      "Batches: 100%|██████████| 1/1 [00:00<00:00, 15.90it/s]\n"
     ]
    },
    {
     "name": "stdout",
     "output_type": "stream",
     "text": [
      "Computed similarity for 'ID_794': 0.7205\n",
      "\n",
      "Processing resume file: 'Resume_of_ID_795.pdf'\n",
      "Extracted resume ID: '795'\n"
     ]
    },
    {
     "name": "stderr",
     "output_type": "stream",
     "text": [
      "Batches: 100%|██████████| 1/1 [00:00<00:00,  8.34it/s]\n",
      "Batches: 100%|██████████| 1/1 [00:00<00:00, 12.73it/s]\n"
     ]
    },
    {
     "name": "stdout",
     "output_type": "stream",
     "text": [
      "Computed similarity for 'ID_795': 0.6426\n",
      "\n",
      "Processing resume file: 'Resume_of_ID_796.pdf'\n",
      "Extracted resume ID: '796'\n"
     ]
    },
    {
     "name": "stderr",
     "output_type": "stream",
     "text": [
      "Batches: 100%|██████████| 1/1 [00:00<00:00, 10.36it/s]\n",
      "Batches: 100%|██████████| 1/1 [00:00<00:00,  9.99it/s]\n"
     ]
    },
    {
     "name": "stdout",
     "output_type": "stream",
     "text": [
      "Computed similarity for 'ID_796': 0.7626\n",
      "\n",
      "Processing resume file: 'Resume_of_ID_797.pdf'\n",
      "Extracted resume ID: '797'\n"
     ]
    },
    {
     "name": "stderr",
     "output_type": "stream",
     "text": [
      "Batches: 100%|██████████| 1/1 [00:00<00:00,  9.86it/s]\n",
      "Batches: 100%|██████████| 1/1 [00:00<00:00, 13.31it/s]\n"
     ]
    },
    {
     "name": "stdout",
     "output_type": "stream",
     "text": [
      "Computed similarity for 'ID_797': 0.6775\n",
      "\n",
      "Processing resume file: 'Resume_of_ID_798.pdf'\n",
      "Extracted resume ID: '798'\n"
     ]
    },
    {
     "name": "stderr",
     "output_type": "stream",
     "text": [
      "Batches: 100%|██████████| 1/1 [00:00<00:00,  8.84it/s]\n",
      "Batches: 100%|██████████| 1/1 [00:00<00:00,  8.96it/s]\n"
     ]
    },
    {
     "name": "stdout",
     "output_type": "stream",
     "text": [
      "Computed similarity for 'ID_798': 0.727\n",
      "\n",
      "Processing resume file: 'Resume_of_ID_799.pdf'\n",
      "Extracted resume ID: '799'\n"
     ]
    },
    {
     "name": "stderr",
     "output_type": "stream",
     "text": [
      "Batches: 100%|██████████| 1/1 [00:00<00:00,  9.15it/s]\n",
      "Batches: 100%|██████████| 1/1 [00:00<00:00, 12.15it/s]\n"
     ]
    },
    {
     "name": "stdout",
     "output_type": "stream",
     "text": [
      "Computed similarity for 'ID_799': 0.7611\n",
      "\n",
      "Processing resume file: 'Resume_of_ID_8.pdf'\n",
      "Extracted resume ID: '8'\n"
     ]
    },
    {
     "name": "stderr",
     "output_type": "stream",
     "text": [
      "Batches: 100%|██████████| 1/1 [00:00<00:00,  9.77it/s]\n",
      "Batches: 100%|██████████| 1/1 [00:00<00:00, 15.03it/s]\n"
     ]
    },
    {
     "name": "stdout",
     "output_type": "stream",
     "text": [
      "Computed similarity for 'ID_8': 0.7153\n",
      "\n",
      "Processing resume file: 'Resume_of_ID_80.pdf'\n",
      "Extracted resume ID: '80'\n"
     ]
    },
    {
     "name": "stderr",
     "output_type": "stream",
     "text": [
      "Batches: 100%|██████████| 1/1 [00:00<00:00,  9.53it/s]\n",
      "Batches: 100%|██████████| 1/1 [00:00<00:00, 12.61it/s]\n"
     ]
    },
    {
     "name": "stdout",
     "output_type": "stream",
     "text": [
      "Computed similarity for 'ID_80': 0.5722\n",
      "\n",
      "Processing resume file: 'Resume_of_ID_800.pdf'\n",
      "Extracted resume ID: '800'\n"
     ]
    },
    {
     "name": "stderr",
     "output_type": "stream",
     "text": [
      "Batches: 100%|██████████| 1/1 [00:00<00:00, 11.31it/s]\n",
      "Batches: 100%|██████████| 1/1 [00:00<00:00, 11.08it/s]\n"
     ]
    },
    {
     "name": "stdout",
     "output_type": "stream",
     "text": [
      "Computed similarity for 'ID_800': 0.6177\n",
      "\n",
      "Processing resume file: 'Resume_of_ID_801.pdf'\n",
      "Extracted resume ID: '801'\n"
     ]
    },
    {
     "name": "stderr",
     "output_type": "stream",
     "text": [
      "Batches: 100%|██████████| 1/1 [00:00<00:00, 12.44it/s]\n",
      "Batches: 100%|██████████| 1/1 [00:00<00:00,  8.94it/s]\n"
     ]
    },
    {
     "name": "stdout",
     "output_type": "stream",
     "text": [
      "Computed similarity for 'ID_801': 0.6825\n",
      "\n",
      "Processing resume file: 'Resume_of_ID_802.pdf'\n",
      "Extracted resume ID: '802'\n"
     ]
    },
    {
     "name": "stderr",
     "output_type": "stream",
     "text": [
      "Batches: 100%|██████████| 1/1 [00:00<00:00, 16.26it/s]\n",
      "Batches: 100%|██████████| 1/1 [00:00<00:00, 18.54it/s]\n"
     ]
    },
    {
     "name": "stdout",
     "output_type": "stream",
     "text": [
      "Computed similarity for 'ID_802': 0.6691\n",
      "\n",
      "Processing resume file: 'Resume_of_ID_803.pdf'\n",
      "Extracted resume ID: '803'\n"
     ]
    },
    {
     "name": "stderr",
     "output_type": "stream",
     "text": [
      "Batches: 100%|██████████| 1/1 [00:00<00:00, 11.29it/s]\n",
      "Batches: 100%|██████████| 1/1 [00:00<00:00, 10.87it/s]\n"
     ]
    },
    {
     "name": "stdout",
     "output_type": "stream",
     "text": [
      "Computed similarity for 'ID_803': 0.6045\n",
      "\n",
      "Processing resume file: 'Resume_of_ID_804.pdf'\n",
      "Extracted resume ID: '804'\n"
     ]
    },
    {
     "name": "stderr",
     "output_type": "stream",
     "text": [
      "Batches: 100%|██████████| 1/1 [00:00<00:00, 10.02it/s]\n",
      "Batches: 100%|██████████| 1/1 [00:00<00:00,  8.97it/s]\n"
     ]
    },
    {
     "name": "stdout",
     "output_type": "stream",
     "text": [
      "Computed similarity for 'ID_804': 0.6325\n",
      "\n",
      "Processing resume file: 'Resume_of_ID_805.pdf'\n",
      "Extracted resume ID: '805'\n",
      "Skipping similarity computation for '805' due to empty recommendation letters.\n",
      "\n",
      "Processing resume file: 'Resume_of_ID_806.pdf'\n",
      "Extracted resume ID: '806'\n"
     ]
    },
    {
     "name": "stderr",
     "output_type": "stream",
     "text": [
      "Batches: 100%|██████████| 1/1 [00:00<00:00,  9.19it/s]\n",
      "Batches: 100%|██████████| 1/1 [00:00<00:00, 12.80it/s]\n"
     ]
    },
    {
     "name": "stdout",
     "output_type": "stream",
     "text": [
      "Computed similarity for 'ID_806': 0.6181\n",
      "\n",
      "Processing resume file: 'Resume_of_ID_807.pdf'\n",
      "Extracted resume ID: '807'\n"
     ]
    },
    {
     "name": "stderr",
     "output_type": "stream",
     "text": [
      "Batches: 100%|██████████| 1/1 [00:00<00:00,  9.33it/s]\n",
      "Batches: 100%|██████████| 1/1 [00:00<00:00, 11.54it/s]\n"
     ]
    },
    {
     "name": "stdout",
     "output_type": "stream",
     "text": [
      "Computed similarity for 'ID_807': 0.5939\n",
      "\n",
      "Processing resume file: 'Resume_of_ID_808.pdf'\n",
      "Extracted resume ID: '808'\n"
     ]
    },
    {
     "name": "stderr",
     "output_type": "stream",
     "text": [
      "Batches: 100%|██████████| 1/1 [00:00<00:00, 12.13it/s]\n",
      "Batches: 100%|██████████| 1/1 [00:00<00:00, 18.24it/s]\n"
     ]
    },
    {
     "name": "stdout",
     "output_type": "stream",
     "text": [
      "Computed similarity for 'ID_808': 0.3857\n",
      "\n",
      "Processing resume file: 'Resume_of_ID_809.pdf'\n",
      "Extracted resume ID: '809'\n"
     ]
    },
    {
     "name": "stderr",
     "output_type": "stream",
     "text": [
      "Batches: 100%|██████████| 1/1 [00:00<00:00, 10.06it/s]\n",
      "Batches: 100%|██████████| 1/1 [00:00<00:00, 14.56it/s]\n"
     ]
    },
    {
     "name": "stdout",
     "output_type": "stream",
     "text": [
      "Computed similarity for 'ID_809': 0.6402\n",
      "\n",
      "Processing resume file: 'Resume_of_ID_81.pdf'\n",
      "Extracted resume ID: '81'\n"
     ]
    },
    {
     "name": "stderr",
     "output_type": "stream",
     "text": [
      "Batches: 100%|██████████| 1/1 [00:00<00:00,  9.63it/s]\n",
      "Batches: 100%|██████████| 1/1 [00:00<00:00,  9.06it/s]\n"
     ]
    },
    {
     "name": "stdout",
     "output_type": "stream",
     "text": [
      "Computed similarity for 'ID_81': 0.678\n",
      "\n",
      "Processing resume file: 'Resume_of_ID_810.pdf'\n",
      "Extracted resume ID: '810'\n"
     ]
    },
    {
     "name": "stderr",
     "output_type": "stream",
     "text": [
      "Batches: 100%|██████████| 1/1 [00:00<00:00,  9.78it/s]\n",
      "Batches: 100%|██████████| 1/1 [00:00<00:00,  8.63it/s]\n"
     ]
    },
    {
     "name": "stdout",
     "output_type": "stream",
     "text": [
      "Computed similarity for 'ID_810': 0.5219\n",
      "\n",
      "Processing resume file: 'Resume_of_ID_811.pdf'\n",
      "Extracted resume ID: '811'\n"
     ]
    },
    {
     "name": "stderr",
     "output_type": "stream",
     "text": [
      "Batches: 100%|██████████| 1/1 [00:00<00:00,  8.46it/s]\n",
      "Batches: 100%|██████████| 1/1 [00:00<00:00, 10.43it/s]\n"
     ]
    },
    {
     "name": "stdout",
     "output_type": "stream",
     "text": [
      "Computed similarity for 'ID_811': 0.587\n",
      "\n",
      "Processing resume file: 'Resume_of_ID_812.pdf'\n",
      "Extracted resume ID: '812'\n"
     ]
    },
    {
     "name": "stderr",
     "output_type": "stream",
     "text": [
      "Batches: 100%|██████████| 1/1 [00:00<00:00, 12.53it/s]\n",
      "Batches: 100%|██████████| 1/1 [00:00<00:00, 11.41it/s]\n"
     ]
    },
    {
     "name": "stdout",
     "output_type": "stream",
     "text": [
      "Computed similarity for 'ID_812': 0.5326\n",
      "\n",
      "Processing resume file: 'Resume_of_ID_813.pdf'\n",
      "Extracted resume ID: '813'\n"
     ]
    },
    {
     "name": "stderr",
     "output_type": "stream",
     "text": [
      "Batches: 100%|██████████| 1/1 [00:00<00:00, 10.10it/s]\n",
      "Batches: 100%|██████████| 1/1 [00:00<00:00, 10.94it/s]\n"
     ]
    },
    {
     "name": "stdout",
     "output_type": "stream",
     "text": [
      "Computed similarity for 'ID_813': 0.709\n",
      "\n",
      "Processing resume file: 'Resume_of_ID_814.pdf'\n",
      "Extracted resume ID: '814'\n"
     ]
    },
    {
     "name": "stderr",
     "output_type": "stream",
     "text": [
      "Batches: 100%|██████████| 1/1 [00:00<00:00, 11.27it/s]\n",
      "Batches: 100%|██████████| 1/1 [00:00<00:00,  9.11it/s]\n"
     ]
    },
    {
     "name": "stdout",
     "output_type": "stream",
     "text": [
      "Computed similarity for 'ID_814': 0.6389\n",
      "\n",
      "Processing resume file: 'Resume_of_ID_815.pdf'\n",
      "Extracted resume ID: '815'\n"
     ]
    },
    {
     "name": "stderr",
     "output_type": "stream",
     "text": [
      "Batches: 100%|██████████| 1/1 [00:00<00:00, 13.17it/s]\n",
      "Batches: 100%|██████████| 1/1 [00:00<00:00, 13.00it/s]\n"
     ]
    },
    {
     "name": "stdout",
     "output_type": "stream",
     "text": [
      "Computed similarity for 'ID_815': 0.7374\n",
      "\n",
      "Processing resume file: 'Resume_of_ID_816.pdf'\n",
      "Extracted resume ID: '816'\n"
     ]
    },
    {
     "name": "stderr",
     "output_type": "stream",
     "text": [
      "Batches: 100%|██████████| 1/1 [00:00<00:00, 10.41it/s]\n",
      "Batches: 100%|██████████| 1/1 [00:00<00:00, 12.69it/s]\n"
     ]
    },
    {
     "name": "stdout",
     "output_type": "stream",
     "text": [
      "Computed similarity for 'ID_816': 0.7325\n",
      "\n",
      "Processing resume file: 'Resume_of_ID_817.pdf'\n",
      "Extracted resume ID: '817'\n"
     ]
    },
    {
     "name": "stderr",
     "output_type": "stream",
     "text": [
      "Batches: 100%|██████████| 1/1 [00:00<00:00, 12.31it/s]\n",
      "Batches: 100%|██████████| 1/1 [00:00<00:00, 16.30it/s]\n"
     ]
    },
    {
     "name": "stdout",
     "output_type": "stream",
     "text": [
      "Computed similarity for 'ID_817': 0.5707\n",
      "\n",
      "Processing resume file: 'Resume_of_ID_818.pdf'\n",
      "Extracted resume ID: '818'\n"
     ]
    },
    {
     "name": "stderr",
     "output_type": "stream",
     "text": [
      "Batches: 100%|██████████| 1/1 [00:00<00:00, 14.98it/s]\n",
      "Batches: 100%|██████████| 1/1 [00:00<00:00, 16.67it/s]\n"
     ]
    },
    {
     "name": "stdout",
     "output_type": "stream",
     "text": [
      "Computed similarity for 'ID_818': 0.7072\n",
      "\n",
      "Processing resume file: 'Resume_of_ID_819.pdf'\n",
      "Extracted resume ID: '819'\n"
     ]
    },
    {
     "name": "stderr",
     "output_type": "stream",
     "text": [
      "Batches: 100%|██████████| 1/1 [00:00<00:00, 15.06it/s]\n",
      "Batches: 100%|██████████| 1/1 [00:00<00:00, 16.88it/s]\n"
     ]
    },
    {
     "name": "stdout",
     "output_type": "stream",
     "text": [
      "Computed similarity for 'ID_819': 0.6331\n",
      "\n",
      "Processing resume file: 'Resume_of_ID_82.pdf'\n",
      "Extracted resume ID: '82'\n"
     ]
    },
    {
     "name": "stderr",
     "output_type": "stream",
     "text": [
      "Batches: 100%|██████████| 1/1 [00:00<00:00, 10.33it/s]\n",
      "Batches: 100%|██████████| 1/1 [00:00<00:00, 12.04it/s]\n"
     ]
    },
    {
     "name": "stdout",
     "output_type": "stream",
     "text": [
      "Computed similarity for 'ID_82': 0.5063\n",
      "\n",
      "Processing resume file: 'Resume_of_ID_820.pdf'\n",
      "Extracted resume ID: '820'\n"
     ]
    },
    {
     "name": "stderr",
     "output_type": "stream",
     "text": [
      "Batches: 100%|██████████| 1/1 [00:00<00:00, 11.97it/s]\n",
      "Batches: 100%|██████████| 1/1 [00:00<00:00, 12.02it/s]\n"
     ]
    },
    {
     "name": "stdout",
     "output_type": "stream",
     "text": [
      "Computed similarity for 'ID_820': 0.7411\n",
      "\n",
      "Processing resume file: 'Resume_of_ID_821.pdf'\n",
      "Extracted resume ID: '821'\n"
     ]
    },
    {
     "name": "stderr",
     "output_type": "stream",
     "text": [
      "Batches: 100%|██████████| 1/1 [00:00<00:00, 10.01it/s]\n",
      "Batches: 100%|██████████| 1/1 [00:00<00:00, 10.61it/s]\n"
     ]
    },
    {
     "name": "stdout",
     "output_type": "stream",
     "text": [
      "Computed similarity for 'ID_821': 0.7793\n",
      "\n",
      "Processing resume file: 'Resume_of_ID_822.pdf'\n",
      "Extracted resume ID: '822'\n"
     ]
    },
    {
     "name": "stderr",
     "output_type": "stream",
     "text": [
      "Batches: 100%|██████████| 1/1 [00:00<00:00,  8.91it/s]\n",
      "Batches: 100%|██████████| 1/1 [00:00<00:00, 12.36it/s]\n"
     ]
    },
    {
     "name": "stdout",
     "output_type": "stream",
     "text": [
      "Computed similarity for 'ID_822': 0.7003\n",
      "\n",
      "Processing resume file: 'Resume_of_ID_823.pdf'\n",
      "Extracted resume ID: '823'\n"
     ]
    },
    {
     "name": "stderr",
     "output_type": "stream",
     "text": [
      "Batches: 100%|██████████| 1/1 [00:00<00:00,  8.57it/s]\n",
      "Batches: 100%|██████████| 1/1 [00:00<00:00,  8.61it/s]\n"
     ]
    },
    {
     "name": "stdout",
     "output_type": "stream",
     "text": [
      "Computed similarity for 'ID_823': 0.4481\n",
      "\n",
      "Processing resume file: 'Resume_of_ID_824.pdf'\n",
      "Extracted resume ID: '824'\n"
     ]
    },
    {
     "name": "stderr",
     "output_type": "stream",
     "text": [
      "Batches: 100%|██████████| 1/1 [00:00<00:00, 11.68it/s]\n",
      "Batches: 100%|██████████| 1/1 [00:00<00:00, 14.82it/s]\n"
     ]
    },
    {
     "name": "stdout",
     "output_type": "stream",
     "text": [
      "Computed similarity for 'ID_824': 0.5013\n",
      "\n",
      "Processing resume file: 'Resume_of_ID_825.pdf'\n",
      "Extracted resume ID: '825'\n"
     ]
    },
    {
     "name": "stderr",
     "output_type": "stream",
     "text": [
      "Batches: 100%|██████████| 1/1 [00:00<00:00,  8.91it/s]\n",
      "Batches: 100%|██████████| 1/1 [00:00<00:00, 12.52it/s]\n"
     ]
    },
    {
     "name": "stdout",
     "output_type": "stream",
     "text": [
      "Computed similarity for 'ID_825': 0.4974\n",
      "\n",
      "Processing resume file: 'Resume_of_ID_826.pdf'\n",
      "Extracted resume ID: '826'\n"
     ]
    },
    {
     "name": "stderr",
     "output_type": "stream",
     "text": [
      "Batches: 100%|██████████| 1/1 [00:00<00:00,  9.97it/s]\n",
      "Batches: 100%|██████████| 1/1 [00:00<00:00, 10.95it/s]\n"
     ]
    },
    {
     "name": "stdout",
     "output_type": "stream",
     "text": [
      "Computed similarity for 'ID_826': 0.5849\n",
      "\n",
      "Processing resume file: 'Resume_of_ID_827.pdf'\n",
      "Extracted resume ID: '827'\n"
     ]
    },
    {
     "name": "stderr",
     "output_type": "stream",
     "text": [
      "Batches: 100%|██████████| 1/1 [00:00<00:00,  9.09it/s]\n",
      "Batches: 100%|██████████| 1/1 [00:00<00:00,  9.74it/s]\n"
     ]
    },
    {
     "name": "stdout",
     "output_type": "stream",
     "text": [
      "Computed similarity for 'ID_827': 0.6276\n",
      "\n",
      "Processing resume file: 'Resume_of_ID_828.pdf'\n",
      "Extracted resume ID: '828'\n"
     ]
    },
    {
     "name": "stderr",
     "output_type": "stream",
     "text": [
      "Batches: 100%|██████████| 1/1 [00:00<00:00,  9.99it/s]\n",
      "Batches: 100%|██████████| 1/1 [00:00<00:00, 12.72it/s]\n"
     ]
    },
    {
     "name": "stdout",
     "output_type": "stream",
     "text": [
      "Computed similarity for 'ID_828': 0.7505\n",
      "\n",
      "Processing resume file: 'Resume_of_ID_829.pdf'\n",
      "Extracted resume ID: '829'\n"
     ]
    },
    {
     "name": "stderr",
     "output_type": "stream",
     "text": [
      "Batches: 100%|██████████| 1/1 [00:00<00:00, 12.13it/s]\n",
      "Batches: 100%|██████████| 1/1 [00:00<00:00, 11.89it/s]\n"
     ]
    },
    {
     "name": "stdout",
     "output_type": "stream",
     "text": [
      "Computed similarity for 'ID_829': 0.5734\n",
      "\n",
      "Processing resume file: 'Resume_of_ID_83.pdf'\n",
      "Extracted resume ID: '83'\n"
     ]
    },
    {
     "name": "stderr",
     "output_type": "stream",
     "text": [
      "Batches: 100%|██████████| 1/1 [00:00<00:00, 12.05it/s]\n",
      "Batches: 100%|██████████| 1/1 [00:00<00:00, 12.05it/s]\n"
     ]
    },
    {
     "name": "stdout",
     "output_type": "stream",
     "text": [
      "Computed similarity for 'ID_83': 0.6573\n",
      "\n",
      "Processing resume file: 'Resume_of_ID_830.pdf'\n",
      "Extracted resume ID: '830'\n"
     ]
    },
    {
     "name": "stderr",
     "output_type": "stream",
     "text": [
      "Batches: 100%|██████████| 1/1 [00:00<00:00, 11.93it/s]\n",
      "Batches: 100%|██████████| 1/1 [00:00<00:00,  9.35it/s]\n"
     ]
    },
    {
     "name": "stdout",
     "output_type": "stream",
     "text": [
      "Computed similarity for 'ID_830': 0.6708\n",
      "\n",
      "Processing resume file: 'Resume_of_ID_831.pdf'\n",
      "Extracted resume ID: '831'\n"
     ]
    },
    {
     "name": "stderr",
     "output_type": "stream",
     "text": [
      "Batches: 100%|██████████| 1/1 [00:00<00:00, 10.00it/s]\n",
      "Batches: 100%|██████████| 1/1 [00:00<00:00, 10.90it/s]\n"
     ]
    },
    {
     "name": "stdout",
     "output_type": "stream",
     "text": [
      "Computed similarity for 'ID_831': 0.7849\n",
      "\n",
      "Processing resume file: 'Resume_of_ID_832.pdf'\n",
      "Extracted resume ID: '832'\n"
     ]
    },
    {
     "name": "stderr",
     "output_type": "stream",
     "text": [
      "Batches: 100%|██████████| 1/1 [00:00<00:00, 12.04it/s]\n",
      "Batches: 100%|██████████| 1/1 [00:00<00:00, 15.03it/s]\n"
     ]
    },
    {
     "name": "stdout",
     "output_type": "stream",
     "text": [
      "Computed similarity for 'ID_832': 0.5647\n",
      "\n",
      "Processing resume file: 'Resume_of_ID_833.pdf'\n",
      "Extracted resume ID: '833'\n"
     ]
    },
    {
     "name": "stderr",
     "output_type": "stream",
     "text": [
      "Batches: 100%|██████████| 1/1 [00:00<00:00, 10.05it/s]\n",
      "Batches: 100%|██████████| 1/1 [00:00<00:00, 10.86it/s]\n"
     ]
    },
    {
     "name": "stdout",
     "output_type": "stream",
     "text": [
      "Computed similarity for 'ID_833': 0.7902\n",
      "\n",
      "Processing resume file: 'Resume_of_ID_834.pdf'\n",
      "Extracted resume ID: '834'\n"
     ]
    },
    {
     "name": "stderr",
     "output_type": "stream",
     "text": [
      "Batches: 100%|██████████| 1/1 [00:00<00:00,  9.19it/s]\n",
      "Batches: 100%|██████████| 1/1 [00:00<00:00, 11.02it/s]\n"
     ]
    },
    {
     "name": "stdout",
     "output_type": "stream",
     "text": [
      "Computed similarity for 'ID_834': 0.7382\n",
      "\n",
      "Processing resume file: 'Resume_of_ID_835.pdf'\n",
      "Extracted resume ID: '835'\n"
     ]
    },
    {
     "name": "stderr",
     "output_type": "stream",
     "text": [
      "Batches: 100%|██████████| 1/1 [00:00<00:00,  9.27it/s]\n",
      "Batches: 100%|██████████| 1/1 [00:00<00:00, 10.01it/s]\n"
     ]
    },
    {
     "name": "stdout",
     "output_type": "stream",
     "text": [
      "Computed similarity for 'ID_835': 0.6037\n",
      "\n",
      "Processing resume file: 'Resume_of_ID_836.pdf'\n",
      "Extracted resume ID: '836'\n"
     ]
    },
    {
     "name": "stderr",
     "output_type": "stream",
     "text": [
      "Batches: 100%|██████████| 1/1 [00:00<00:00, 10.95it/s]\n",
      "Batches: 100%|██████████| 1/1 [00:00<00:00, 10.93it/s]\n"
     ]
    },
    {
     "name": "stdout",
     "output_type": "stream",
     "text": [
      "Computed similarity for 'ID_836': 0.6691\n",
      "\n",
      "Processing resume file: 'Resume_of_ID_837.pdf'\n",
      "Extracted resume ID: '837'\n"
     ]
    },
    {
     "name": "stderr",
     "output_type": "stream",
     "text": [
      "Batches: 100%|██████████| 1/1 [00:00<00:00, 11.93it/s]\n",
      "Batches: 100%|██████████| 1/1 [00:00<00:00, 13.21it/s]\n"
     ]
    },
    {
     "name": "stdout",
     "output_type": "stream",
     "text": [
      "Computed similarity for 'ID_837': 0.5167\n",
      "\n",
      "Processing resume file: 'Resume_of_ID_838.pdf'\n",
      "Extracted resume ID: '838'\n"
     ]
    },
    {
     "name": "stderr",
     "output_type": "stream",
     "text": [
      "Batches: 100%|██████████| 1/1 [00:00<00:00,  9.32it/s]\n",
      "Batches: 100%|██████████| 1/1 [00:00<00:00, 13.47it/s]\n"
     ]
    },
    {
     "name": "stdout",
     "output_type": "stream",
     "text": [
      "Computed similarity for 'ID_838': 0.7868\n",
      "\n",
      "Processing resume file: 'Resume_of_ID_839.pdf'\n",
      "Extracted resume ID: '839'\n"
     ]
    },
    {
     "name": "stderr",
     "output_type": "stream",
     "text": [
      "Batches: 100%|██████████| 1/1 [00:00<00:00, 10.03it/s]\n",
      "Batches: 100%|██████████| 1/1 [00:00<00:00, 10.93it/s]\n"
     ]
    },
    {
     "name": "stdout",
     "output_type": "stream",
     "text": [
      "Computed similarity for 'ID_839': 0.6662\n",
      "\n",
      "Processing resume file: 'Resume_of_ID_84.pdf'\n",
      "Extracted resume ID: '84'\n"
     ]
    },
    {
     "name": "stderr",
     "output_type": "stream",
     "text": [
      "Batches: 100%|██████████| 1/1 [00:00<00:00,  9.20it/s]\n",
      "Batches: 100%|██████████| 1/1 [00:00<00:00, 10.81it/s]\n"
     ]
    },
    {
     "name": "stdout",
     "output_type": "stream",
     "text": [
      "Computed similarity for 'ID_84': 0.6182\n",
      "\n",
      "Processing resume file: 'Resume_of_ID_840.pdf'\n",
      "Extracted resume ID: '840'\n",
      "Skipping similarity computation for '840' due to empty recommendation letters.\n",
      "\n",
      "Processing resume file: 'Resume_of_ID_841.pdf'\n",
      "Extracted resume ID: '841'\n"
     ]
    },
    {
     "name": "stderr",
     "output_type": "stream",
     "text": [
      "Batches: 100%|██████████| 1/1 [00:00<00:00,  9.17it/s]\n",
      "Batches: 100%|██████████| 1/1 [00:00<00:00,  9.99it/s]\n"
     ]
    },
    {
     "name": "stdout",
     "output_type": "stream",
     "text": [
      "Computed similarity for 'ID_841': 0.6339\n",
      "\n",
      "Processing resume file: 'Resume_of_ID_842.pdf'\n",
      "Extracted resume ID: '842'\n"
     ]
    },
    {
     "name": "stderr",
     "output_type": "stream",
     "text": [
      "Batches: 100%|██████████| 1/1 [00:00<00:00,  9.24it/s]\n",
      "Batches: 100%|██████████| 1/1 [00:00<00:00,  9.98it/s]\n"
     ]
    },
    {
     "name": "stdout",
     "output_type": "stream",
     "text": [
      "Computed similarity for 'ID_842': 0.4897\n",
      "\n",
      "Processing resume file: 'Resume_of_ID_843.pdf'\n",
      "Extracted resume ID: '843'\n"
     ]
    },
    {
     "name": "stderr",
     "output_type": "stream",
     "text": [
      "Batches: 100%|██████████| 1/1 [00:00<00:00,  9.96it/s]\n",
      "Batches: 100%|██████████| 1/1 [00:00<00:00, 12.04it/s]\n"
     ]
    },
    {
     "name": "stdout",
     "output_type": "stream",
     "text": [
      "Computed similarity for 'ID_843': 0.68\n",
      "\n",
      "Processing resume file: 'Resume_of_ID_844.pdf'\n",
      "Extracted resume ID: '844'\n"
     ]
    },
    {
     "name": "stderr",
     "output_type": "stream",
     "text": [
      "Batches: 100%|██████████| 1/1 [00:00<00:00,  9.26it/s]\n",
      "Batches: 100%|██████████| 1/1 [00:00<00:00, 10.93it/s]\n"
     ]
    },
    {
     "name": "stdout",
     "output_type": "stream",
     "text": [
      "Computed similarity for 'ID_844': 0.652\n",
      "\n",
      "Processing resume file: 'Resume_of_ID_845.pdf'\n",
      "Extracted resume ID: '845'\n"
     ]
    },
    {
     "name": "stderr",
     "output_type": "stream",
     "text": [
      "Batches: 100%|██████████| 1/1 [00:00<00:00,  9.88it/s]\n",
      "Batches: 100%|██████████| 1/1 [00:00<00:00,  9.29it/s]\n"
     ]
    },
    {
     "name": "stdout",
     "output_type": "stream",
     "text": [
      "Computed similarity for 'ID_845': 0.6902\n",
      "\n",
      "Processing resume file: 'Resume_of_ID_846.pdf'\n",
      "Extracted resume ID: '846'\n"
     ]
    },
    {
     "name": "stderr",
     "output_type": "stream",
     "text": [
      "Batches: 100%|██████████| 1/1 [00:00<00:00, 10.06it/s]\n",
      "Batches: 100%|██████████| 1/1 [00:00<00:00, 12.03it/s]\n"
     ]
    },
    {
     "name": "stdout",
     "output_type": "stream",
     "text": [
      "Computed similarity for 'ID_846': 0.4857\n",
      "\n",
      "Processing resume file: 'Resume_of_ID_847.pdf'\n",
      "Extracted resume ID: '847'\n"
     ]
    },
    {
     "name": "stderr",
     "output_type": "stream",
     "text": [
      "Batches: 100%|██████████| 1/1 [00:00<00:00,  9.20it/s]\n",
      "Batches: 100%|██████████| 1/1 [00:00<00:00, 15.26it/s]\n"
     ]
    },
    {
     "name": "stdout",
     "output_type": "stream",
     "text": [
      "Computed similarity for 'ID_847': 0.6969\n",
      "\n",
      "Processing resume file: 'Resume_of_ID_848.pdf'\n",
      "Extracted resume ID: '848'\n"
     ]
    },
    {
     "name": "stderr",
     "output_type": "stream",
     "text": [
      "Batches: 100%|██████████| 1/1 [00:00<00:00, 11.99it/s]\n",
      "Batches: 100%|██████████| 1/1 [00:00<00:00, 13.69it/s]\n"
     ]
    },
    {
     "name": "stdout",
     "output_type": "stream",
     "text": [
      "Computed similarity for 'ID_848': 0.6503\n",
      "\n",
      "Processing resume file: 'Resume_of_ID_849.pdf'\n",
      "Extracted resume ID: '849'\n"
     ]
    },
    {
     "name": "stderr",
     "output_type": "stream",
     "text": [
      "Batches: 100%|██████████| 1/1 [00:00<00:00, 10.96it/s]\n",
      "Batches: 100%|██████████| 1/1 [00:00<00:00, 15.09it/s]\n"
     ]
    },
    {
     "name": "stdout",
     "output_type": "stream",
     "text": [
      "Computed similarity for 'ID_849': 0.7437\n",
      "\n",
      "Processing resume file: 'Resume_of_ID_85.pdf'\n",
      "Extracted resume ID: '85'\n",
      "Skipping similarity computation for '85' due to empty recommendation letters.\n",
      "\n",
      "Processing resume file: 'Resume_of_ID_850.pdf'\n",
      "Extracted resume ID: '850'\n"
     ]
    },
    {
     "name": "stderr",
     "output_type": "stream",
     "text": [
      "Batches: 100%|██████████| 1/1 [00:00<00:00,  8.77it/s]\n",
      "Batches: 100%|██████████| 1/1 [00:00<00:00, 10.56it/s]\n"
     ]
    },
    {
     "name": "stdout",
     "output_type": "stream",
     "text": [
      "Computed similarity for 'ID_850': 0.6723\n",
      "\n",
      "Processing resume file: 'Resume_of_ID_851.pdf'\n",
      "Extracted resume ID: '851'\n"
     ]
    },
    {
     "name": "stderr",
     "output_type": "stream",
     "text": [
      "Batches: 100%|██████████| 1/1 [00:00<00:00,  9.04it/s]\n",
      "Batches: 100%|██████████| 1/1 [00:00<00:00, 11.98it/s]\n"
     ]
    },
    {
     "name": "stdout",
     "output_type": "stream",
     "text": [
      "Computed similarity for 'ID_851': 0.6685\n",
      "\n",
      "Processing resume file: 'Resume_of_ID_852.pdf'\n",
      "Extracted resume ID: '852'\n"
     ]
    },
    {
     "name": "stderr",
     "output_type": "stream",
     "text": [
      "Batches: 100%|██████████| 1/1 [00:00<00:00,  9.95it/s]\n",
      "Batches: 100%|██████████| 1/1 [00:00<00:00, 11.66it/s]\n"
     ]
    },
    {
     "name": "stdout",
     "output_type": "stream",
     "text": [
      "Computed similarity for 'ID_852': 0.6517\n",
      "\n",
      "Processing resume file: 'Resume_of_ID_853.pdf'\n",
      "Extracted resume ID: '853'\n"
     ]
    },
    {
     "name": "stderr",
     "output_type": "stream",
     "text": [
      "Batches: 100%|██████████| 1/1 [00:00<00:00,  9.99it/s]\n",
      "Batches: 100%|██████████| 1/1 [00:00<00:00,  9.17it/s]\n"
     ]
    },
    {
     "name": "stdout",
     "output_type": "stream",
     "text": [
      "Computed similarity for 'ID_853': 0.4907\n",
      "\n",
      "Processing resume file: 'Resume_of_ID_854.pdf'\n",
      "Extracted resume ID: '854'\n"
     ]
    },
    {
     "name": "stderr",
     "output_type": "stream",
     "text": [
      "Batches: 100%|██████████| 1/1 [00:00<00:00,  9.79it/s]\n",
      "Batches: 100%|██████████| 1/1 [00:00<00:00, 10.04it/s]\n"
     ]
    },
    {
     "name": "stdout",
     "output_type": "stream",
     "text": [
      "Computed similarity for 'ID_854': 0.6502\n",
      "\n",
      "Processing resume file: 'Resume_of_ID_855.pdf'\n",
      "Extracted resume ID: '855'\n"
     ]
    },
    {
     "name": "stderr",
     "output_type": "stream",
     "text": [
      "Batches: 100%|██████████| 1/1 [00:00<00:00,  8.63it/s]\n",
      "Batches: 100%|██████████| 1/1 [00:00<00:00, 10.87it/s]\n"
     ]
    },
    {
     "name": "stdout",
     "output_type": "stream",
     "text": [
      "Computed similarity for 'ID_855': 0.5079\n",
      "\n",
      "Processing resume file: 'Resume_of_ID_856.pdf'\n",
      "Extracted resume ID: '856'\n"
     ]
    },
    {
     "name": "stderr",
     "output_type": "stream",
     "text": [
      "Batches: 100%|██████████| 1/1 [00:00<00:00, 10.81it/s]\n",
      "Batches: 100%|██████████| 1/1 [00:00<00:00,  9.25it/s]\n"
     ]
    },
    {
     "name": "stdout",
     "output_type": "stream",
     "text": [
      "Computed similarity for 'ID_856': 0.5285\n",
      "\n",
      "Processing resume file: 'Resume_of_ID_857.pdf'\n",
      "Extracted resume ID: '857'\n"
     ]
    },
    {
     "name": "stderr",
     "output_type": "stream",
     "text": [
      "Batches: 100%|██████████| 1/1 [00:00<00:00,  8.56it/s]\n",
      "Batches: 100%|██████████| 1/1 [00:00<00:00,  9.43it/s]\n"
     ]
    },
    {
     "name": "stdout",
     "output_type": "stream",
     "text": [
      "Computed similarity for 'ID_857': 0.6556\n",
      "\n",
      "Processing resume file: 'Resume_of_ID_858.pdf'\n",
      "Extracted resume ID: '858'\n"
     ]
    },
    {
     "name": "stderr",
     "output_type": "stream",
     "text": [
      "Batches: 100%|██████████| 1/1 [00:00<00:00,  9.17it/s]\n",
      "Batches: 100%|██████████| 1/1 [00:00<00:00, 11.23it/s]\n"
     ]
    },
    {
     "name": "stdout",
     "output_type": "stream",
     "text": [
      "Computed similarity for 'ID_858': 0.6717\n",
      "\n",
      "Processing resume file: 'Resume_of_ID_859.pdf'\n",
      "Extracted resume ID: '859'\n"
     ]
    },
    {
     "name": "stderr",
     "output_type": "stream",
     "text": [
      "Batches: 100%|██████████| 1/1 [00:00<00:00, 10.00it/s]\n",
      "Batches: 100%|██████████| 1/1 [00:00<00:00, 10.94it/s]\n"
     ]
    },
    {
     "name": "stdout",
     "output_type": "stream",
     "text": [
      "Computed similarity for 'ID_859': 0.633\n",
      "\n",
      "Processing resume file: 'Resume_of_ID_86.pdf'\n",
      "Extracted resume ID: '86'\n"
     ]
    },
    {
     "name": "stderr",
     "output_type": "stream",
     "text": [
      "Batches: 100%|██████████| 1/1 [00:00<00:00, 10.80it/s]\n",
      "Batches: 100%|██████████| 1/1 [00:00<00:00, 10.84it/s]\n"
     ]
    },
    {
     "name": "stdout",
     "output_type": "stream",
     "text": [
      "Computed similarity for 'ID_86': 0.6693\n",
      "\n",
      "Processing resume file: 'Resume_of_ID_860.pdf'\n",
      "Extracted resume ID: '860'\n"
     ]
    },
    {
     "name": "stderr",
     "output_type": "stream",
     "text": [
      "Batches: 100%|██████████| 1/1 [00:00<00:00, 13.41it/s]\n",
      "Batches: 100%|██████████| 1/1 [00:00<00:00, 11.90it/s]\n"
     ]
    },
    {
     "name": "stdout",
     "output_type": "stream",
     "text": [
      "Computed similarity for 'ID_860': 0.4622\n",
      "\n",
      "Processing resume file: 'Resume_of_ID_861.pdf'\n",
      "Extracted resume ID: '861'\n"
     ]
    },
    {
     "name": "stderr",
     "output_type": "stream",
     "text": [
      "Batches: 100%|██████████| 1/1 [00:00<00:00, 10.84it/s]\n",
      "Batches: 100%|██████████| 1/1 [00:00<00:00, 11.97it/s]\n"
     ]
    },
    {
     "name": "stdout",
     "output_type": "stream",
     "text": [
      "Computed similarity for 'ID_861': 0.5497\n",
      "\n",
      "Processing resume file: 'Resume_of_ID_862.pdf'\n",
      "Extracted resume ID: '862'\n"
     ]
    },
    {
     "name": "stderr",
     "output_type": "stream",
     "text": [
      "Batches: 100%|██████████| 1/1 [00:00<00:00,  9.20it/s]\n",
      "Batches: 100%|██████████| 1/1 [00:00<00:00, 13.46it/s]\n"
     ]
    },
    {
     "name": "stdout",
     "output_type": "stream",
     "text": [
      "Computed similarity for 'ID_862': 0.7827\n",
      "\n",
      "Processing resume file: 'Resume_of_ID_863.pdf'\n",
      "Extracted resume ID: '863'\n"
     ]
    },
    {
     "name": "stderr",
     "output_type": "stream",
     "text": [
      "Batches: 100%|██████████| 1/1 [00:00<00:00,  9.99it/s]\n",
      "Batches: 100%|██████████| 1/1 [00:00<00:00, 10.96it/s]\n"
     ]
    },
    {
     "name": "stdout",
     "output_type": "stream",
     "text": [
      "Computed similarity for 'ID_863': 0.7485\n",
      "\n",
      "Processing resume file: 'Resume_of_ID_864.pdf'\n",
      "Extracted resume ID: '864'\n"
     ]
    },
    {
     "name": "stderr",
     "output_type": "stream",
     "text": [
      "Batches: 100%|██████████| 1/1 [00:00<00:00, 11.04it/s]\n",
      "Batches: 100%|██████████| 1/1 [00:00<00:00, 13.17it/s]\n"
     ]
    },
    {
     "name": "stdout",
     "output_type": "stream",
     "text": [
      "Computed similarity for 'ID_864': 0.6838\n",
      "\n",
      "Processing resume file: 'Resume_of_ID_865.pdf'\n",
      "Extracted resume ID: '865'\n"
     ]
    },
    {
     "name": "stderr",
     "output_type": "stream",
     "text": [
      "Batches: 100%|██████████| 1/1 [00:00<00:00, 10.27it/s]\n",
      "Batches: 100%|██████████| 1/1 [00:00<00:00, 14.98it/s]\n"
     ]
    },
    {
     "name": "stdout",
     "output_type": "stream",
     "text": [
      "Computed similarity for 'ID_865': 0.7026\n",
      "\n",
      "Processing resume file: 'Resume_of_ID_866.pdf'\n",
      "Extracted resume ID: '866'\n",
      "Skipping similarity computation for '866' due to empty recommendation letters.\n",
      "\n",
      "Processing resume file: 'Resume_of_ID_867.pdf'\n",
      "Extracted resume ID: '867'\n"
     ]
    },
    {
     "name": "stderr",
     "output_type": "stream",
     "text": [
      "Batches: 100%|██████████| 1/1 [00:00<00:00, 11.65it/s]\n",
      "Batches: 100%|██████████| 1/1 [00:00<00:00, 15.52it/s]\n"
     ]
    },
    {
     "name": "stdout",
     "output_type": "stream",
     "text": [
      "Computed similarity for 'ID_867': 0.5871\n",
      "\n",
      "Processing resume file: 'Resume_of_ID_868.pdf'\n",
      "Extracted resume ID: '868'\n",
      "Skipping similarity computation for '868' due to empty recommendation letters.\n",
      "\n",
      "Processing resume file: 'Resume_of_ID_869.pdf'\n",
      "Extracted resume ID: '869'\n",
      "Skipping similarity computation for '869' due to empty recommendation letters.\n",
      "\n",
      "Processing resume file: 'Resume_of_ID_87.pdf'\n",
      "Extracted resume ID: '87'\n"
     ]
    },
    {
     "name": "stderr",
     "output_type": "stream",
     "text": [
      "Batches: 100%|██████████| 1/1 [00:00<00:00, 10.00it/s]\n",
      "Batches: 100%|██████████| 1/1 [00:00<00:00,  9.99it/s]\n"
     ]
    },
    {
     "name": "stdout",
     "output_type": "stream",
     "text": [
      "Computed similarity for 'ID_87': 0.6521\n",
      "\n",
      "Processing resume file: 'Resume_of_ID_870.pdf'\n",
      "Extracted resume ID: '870'\n"
     ]
    },
    {
     "name": "stderr",
     "output_type": "stream",
     "text": [
      "Batches: 100%|██████████| 1/1 [00:00<00:00, 10.99it/s]\n",
      "Batches: 100%|██████████| 1/1 [00:00<00:00, 10.94it/s]\n"
     ]
    },
    {
     "name": "stdout",
     "output_type": "stream",
     "text": [
      "Computed similarity for 'ID_870': 0.626\n",
      "\n",
      "Processing resume file: 'Resume_of_ID_871.pdf'\n",
      "Extracted resume ID: '871'\n",
      "Skipping similarity computation for '871' due to empty recommendation letters.\n",
      "\n",
      "Processing resume file: 'Resume_of_ID_872.pdf'\n",
      "Extracted resume ID: '872'\n"
     ]
    },
    {
     "name": "stderr",
     "output_type": "stream",
     "text": [
      "Batches: 100%|██████████| 1/1 [00:00<00:00,  9.28it/s]\n",
      "Batches: 100%|██████████| 1/1 [00:00<00:00, 11.95it/s]\n"
     ]
    },
    {
     "name": "stdout",
     "output_type": "stream",
     "text": [
      "Computed similarity for 'ID_872': 0.5805\n",
      "\n",
      "Processing resume file: 'Resume_of_ID_873.pdf'\n",
      "Extracted resume ID: '873'\n"
     ]
    },
    {
     "name": "stderr",
     "output_type": "stream",
     "text": [
      "Batches: 100%|██████████| 1/1 [00:00<00:00, 10.53it/s]\n",
      "Batches: 100%|██████████| 1/1 [00:00<00:00, 13.64it/s]\n"
     ]
    },
    {
     "name": "stdout",
     "output_type": "stream",
     "text": [
      "Computed similarity for 'ID_873': 0.6935\n",
      "\n",
      "Processing resume file: 'Resume_of_ID_874.pdf'\n",
      "Extracted resume ID: '874'\n"
     ]
    },
    {
     "name": "stderr",
     "output_type": "stream",
     "text": [
      "Batches: 100%|██████████| 1/1 [00:00<00:00, 10.72it/s]\n",
      "Batches: 100%|██████████| 1/1 [00:00<00:00, 10.60it/s]\n"
     ]
    },
    {
     "name": "stdout",
     "output_type": "stream",
     "text": [
      "Computed similarity for 'ID_874': 0.7041\n",
      "\n",
      "Processing resume file: 'Resume_of_ID_875.pdf'\n",
      "Extracted resume ID: '875'\n"
     ]
    },
    {
     "name": "stderr",
     "output_type": "stream",
     "text": [
      "Batches: 100%|██████████| 1/1 [00:00<00:00,  9.61it/s]\n",
      "Batches: 100%|██████████| 1/1 [00:00<00:00, 17.81it/s]\n"
     ]
    },
    {
     "name": "stdout",
     "output_type": "stream",
     "text": [
      "Computed similarity for 'ID_875': 0.7555\n",
      "\n",
      "Processing resume file: 'Resume_of_ID_876.pdf'\n",
      "Extracted resume ID: '876'\n",
      "Skipping similarity computation for '876' due to empty recommendation letters.\n",
      "\n",
      "Processing resume file: 'Resume_of_ID_877.pdf'\n",
      "Extracted resume ID: '877'\n"
     ]
    },
    {
     "name": "stderr",
     "output_type": "stream",
     "text": [
      "Batches: 100%|██████████| 1/1 [00:00<00:00,  9.95it/s]\n",
      "Batches: 100%|██████████| 1/1 [00:00<00:00, 10.84it/s]\n"
     ]
    },
    {
     "name": "stdout",
     "output_type": "stream",
     "text": [
      "Computed similarity for 'ID_877': 0.5483\n",
      "\n",
      "Processing resume file: 'Resume_of_ID_878.pdf'\n",
      "Extracted resume ID: '878'\n"
     ]
    },
    {
     "name": "stderr",
     "output_type": "stream",
     "text": [
      "Batches: 100%|██████████| 1/1 [00:00<00:00,  9.30it/s]\n",
      "Batches: 100%|██████████| 1/1 [00:00<00:00, 14.90it/s]\n"
     ]
    },
    {
     "name": "stdout",
     "output_type": "stream",
     "text": [
      "Computed similarity for 'ID_878': 0.5295\n",
      "\n",
      "Processing resume file: 'Resume_of_ID_879.pdf'\n",
      "Extracted resume ID: '879'\n"
     ]
    },
    {
     "name": "stderr",
     "output_type": "stream",
     "text": [
      "Batches: 100%|██████████| 1/1 [00:00<00:00, 10.04it/s]\n",
      "Batches: 100%|██████████| 1/1 [00:00<00:00, 15.30it/s]\n"
     ]
    },
    {
     "name": "stdout",
     "output_type": "stream",
     "text": [
      "Computed similarity for 'ID_879': 0.6414\n",
      "\n",
      "Processing resume file: 'Resume_of_ID_88.pdf'\n",
      "Extracted resume ID: '88'\n"
     ]
    },
    {
     "name": "stderr",
     "output_type": "stream",
     "text": [
      "Batches: 100%|██████████| 1/1 [00:00<00:00,  9.16it/s]\n",
      "Batches: 100%|██████████| 1/1 [00:00<00:00, 10.90it/s]\n"
     ]
    },
    {
     "name": "stdout",
     "output_type": "stream",
     "text": [
      "Computed similarity for 'ID_88': 0.7322\n",
      "\n",
      "Processing resume file: 'Resume_of_ID_880.pdf'\n",
      "Extracted resume ID: '880'\n"
     ]
    },
    {
     "name": "stderr",
     "output_type": "stream",
     "text": [
      "Batches: 100%|██████████| 1/1 [00:00<00:00,  9.25it/s]\n",
      "Batches: 100%|██████████| 1/1 [00:00<00:00, 10.09it/s]\n"
     ]
    },
    {
     "name": "stdout",
     "output_type": "stream",
     "text": [
      "Computed similarity for 'ID_880': 0.6087\n",
      "\n",
      "Processing resume file: 'Resume_of_ID_881.pdf'\n",
      "Extracted resume ID: '881'\n"
     ]
    },
    {
     "name": "stderr",
     "output_type": "stream",
     "text": [
      "Batches: 100%|██████████| 1/1 [00:00<00:00,  9.88it/s]\n",
      "Batches: 100%|██████████| 1/1 [00:00<00:00, 10.11it/s]\n"
     ]
    },
    {
     "name": "stdout",
     "output_type": "stream",
     "text": [
      "Computed similarity for 'ID_881': 0.6317\n",
      "\n",
      "Processing resume file: 'Resume_of_ID_882.pdf'\n",
      "Extracted resume ID: '882'\n"
     ]
    },
    {
     "name": "stderr",
     "output_type": "stream",
     "text": [
      "Batches: 100%|██████████| 1/1 [00:00<00:00, 11.85it/s]\n",
      "Batches: 100%|██████████| 1/1 [00:00<00:00, 13.30it/s]\n"
     ]
    },
    {
     "name": "stdout",
     "output_type": "stream",
     "text": [
      "Computed similarity for 'ID_882': 0.6933\n",
      "\n",
      "Processing resume file: 'Resume_of_ID_883.pdf'\n",
      "Extracted resume ID: '883'\n"
     ]
    },
    {
     "name": "stderr",
     "output_type": "stream",
     "text": [
      "Batches: 100%|██████████| 1/1 [00:00<00:00, 13.40it/s]\n",
      "Batches: 100%|██████████| 1/1 [00:00<00:00, 10.91it/s]\n"
     ]
    },
    {
     "name": "stdout",
     "output_type": "stream",
     "text": [
      "Computed similarity for 'ID_883': 0.6938\n",
      "\n",
      "Processing resume file: 'Resume_of_ID_884.pdf'\n",
      "Extracted resume ID: '884'\n"
     ]
    },
    {
     "name": "stderr",
     "output_type": "stream",
     "text": [
      "Batches: 100%|██████████| 1/1 [00:00<00:00, 10.81it/s]\n",
      "Batches: 100%|██████████| 1/1 [00:00<00:00, 12.19it/s]\n"
     ]
    },
    {
     "name": "stdout",
     "output_type": "stream",
     "text": [
      "Computed similarity for 'ID_884': 0.3034\n",
      "\n",
      "Processing resume file: 'Resume_of_ID_885.pdf'\n",
      "Extracted resume ID: '885'\n"
     ]
    },
    {
     "name": "stderr",
     "output_type": "stream",
     "text": [
      "Batches: 100%|██████████| 1/1 [00:00<00:00,  9.98it/s]\n",
      "Batches: 100%|██████████| 1/1 [00:00<00:00, 10.82it/s]\n"
     ]
    },
    {
     "name": "stdout",
     "output_type": "stream",
     "text": [
      "Computed similarity for 'ID_885': 0.443\n",
      "\n",
      "Processing resume file: 'Resume_of_ID_886.pdf'\n",
      "Extracted resume ID: '886'\n"
     ]
    },
    {
     "name": "stderr",
     "output_type": "stream",
     "text": [
      "Batches: 100%|██████████| 1/1 [00:00<00:00,  9.22it/s]\n",
      "Batches: 100%|██████████| 1/1 [00:00<00:00, 15.30it/s]\n"
     ]
    },
    {
     "name": "stdout",
     "output_type": "stream",
     "text": [
      "Computed similarity for 'ID_886': 0.458\n",
      "\n",
      "Processing resume file: 'Resume_of_ID_887.pdf'\n",
      "Extracted resume ID: '887'\n"
     ]
    },
    {
     "name": "stderr",
     "output_type": "stream",
     "text": [
      "Batches: 100%|██████████| 1/1 [00:00<00:00,  9.98it/s]\n",
      "Batches: 100%|██████████| 1/1 [00:00<00:00, 12.03it/s]\n"
     ]
    },
    {
     "name": "stdout",
     "output_type": "stream",
     "text": [
      "Computed similarity for 'ID_887': 0.7569\n",
      "\n",
      "Processing resume file: 'Resume_of_ID_888.pdf'\n",
      "Extracted resume ID: '888'\n"
     ]
    },
    {
     "name": "stderr",
     "output_type": "stream",
     "text": [
      "Batches: 100%|██████████| 1/1 [00:00<00:00,  9.15it/s]\n",
      "Batches: 100%|██████████| 1/1 [00:00<00:00,  9.99it/s]\n"
     ]
    },
    {
     "name": "stdout",
     "output_type": "stream",
     "text": [
      "Computed similarity for 'ID_888': 0.597\n",
      "\n",
      "Processing resume file: 'Resume_of_ID_889.pdf'\n",
      "Extracted resume ID: '889'\n"
     ]
    },
    {
     "name": "stderr",
     "output_type": "stream",
     "text": [
      "Batches: 100%|██████████| 1/1 [00:00<00:00,  9.89it/s]\n",
      "Batches: 100%|██████████| 1/1 [00:00<00:00, 11.30it/s]\n"
     ]
    },
    {
     "name": "stdout",
     "output_type": "stream",
     "text": [
      "Computed similarity for 'ID_889': 0.7067\n",
      "\n",
      "Processing resume file: 'Resume_of_ID_89.pdf'\n",
      "Extracted resume ID: '89'\n"
     ]
    },
    {
     "name": "stderr",
     "output_type": "stream",
     "text": [
      "Batches: 100%|██████████| 1/1 [00:00<00:00, 10.98it/s]\n",
      "Batches: 100%|██████████| 1/1 [00:00<00:00, 12.01it/s]\n"
     ]
    },
    {
     "name": "stdout",
     "output_type": "stream",
     "text": [
      "Computed similarity for 'ID_89': 0.5735\n",
      "\n",
      "Processing resume file: 'Resume_of_ID_890.pdf'\n",
      "Extracted resume ID: '890'\n"
     ]
    },
    {
     "name": "stderr",
     "output_type": "stream",
     "text": [
      "Batches: 100%|██████████| 1/1 [00:00<00:00, 10.84it/s]\n",
      "Batches: 100%|██████████| 1/1 [00:00<00:00, 10.05it/s]\n"
     ]
    },
    {
     "name": "stdout",
     "output_type": "stream",
     "text": [
      "Computed similarity for 'ID_890': 0.615\n",
      "\n",
      "Processing resume file: 'Resume_of_ID_891.pdf'\n",
      "Extracted resume ID: '891'\n"
     ]
    },
    {
     "name": "stderr",
     "output_type": "stream",
     "text": [
      "Batches: 100%|██████████| 1/1 [00:00<00:00, 10.01it/s]\n",
      "Batches: 100%|██████████| 1/1 [00:00<00:00, 10.07it/s]\n"
     ]
    },
    {
     "name": "stdout",
     "output_type": "stream",
     "text": [
      "Computed similarity for 'ID_891': 0.7474\n",
      "\n",
      "Processing resume file: 'Resume_of_ID_892.pdf'\n",
      "Extracted resume ID: '892'\n"
     ]
    },
    {
     "name": "stderr",
     "output_type": "stream",
     "text": [
      "Batches: 100%|██████████| 1/1 [00:00<00:00, 11.91it/s]\n",
      "Batches: 100%|██████████| 1/1 [00:00<00:00, 14.86it/s]\n"
     ]
    },
    {
     "name": "stdout",
     "output_type": "stream",
     "text": [
      "Computed similarity for 'ID_892': 0.6187\n",
      "\n",
      "Processing resume file: 'Resume_of_ID_893.pdf'\n",
      "Extracted resume ID: '893'\n"
     ]
    },
    {
     "name": "stderr",
     "output_type": "stream",
     "text": [
      "Batches: 100%|██████████| 1/1 [00:00<00:00, 10.08it/s]\n",
      "Batches: 100%|██████████| 1/1 [00:00<00:00, 13.47it/s]\n"
     ]
    },
    {
     "name": "stdout",
     "output_type": "stream",
     "text": [
      "Computed similarity for 'ID_893': 0.7369\n",
      "\n",
      "Processing resume file: 'Resume_of_ID_894.pdf'\n",
      "Extracted resume ID: '894'\n"
     ]
    },
    {
     "name": "stderr",
     "output_type": "stream",
     "text": [
      "Batches: 100%|██████████| 1/1 [00:00<00:00,  8.60it/s]\n",
      "Batches: 100%|██████████| 1/1 [00:00<00:00,  9.34it/s]\n"
     ]
    },
    {
     "name": "stdout",
     "output_type": "stream",
     "text": [
      "Computed similarity for 'ID_894': 0.724\n",
      "\n",
      "Processing resume file: 'Resume_of_ID_895.pdf'\n",
      "Extracted resume ID: '895'\n"
     ]
    },
    {
     "name": "stderr",
     "output_type": "stream",
     "text": [
      "Batches: 100%|██████████| 1/1 [00:00<00:00, 10.07it/s]\n",
      "Batches: 100%|██████████| 1/1 [00:00<00:00, 13.19it/s]\n"
     ]
    },
    {
     "name": "stdout",
     "output_type": "stream",
     "text": [
      "Computed similarity for 'ID_895': 0.6468\n",
      "\n",
      "Processing resume file: 'Resume_of_ID_896.pdf'\n",
      "Extracted resume ID: '896'\n"
     ]
    },
    {
     "name": "stderr",
     "output_type": "stream",
     "text": [
      "Batches: 100%|██████████| 1/1 [00:00<00:00, 13.41it/s]\n",
      "Batches: 100%|██████████| 1/1 [00:00<00:00, 13.80it/s]\n"
     ]
    },
    {
     "name": "stdout",
     "output_type": "stream",
     "text": [
      "Computed similarity for 'ID_896': 0.7325\n",
      "\n",
      "Processing resume file: 'Resume_of_ID_897.pdf'\n",
      "Extracted resume ID: '897'\n"
     ]
    },
    {
     "name": "stderr",
     "output_type": "stream",
     "text": [
      "Batches: 100%|██████████| 1/1 [00:00<00:00,  9.99it/s]\n",
      "Batches: 100%|██████████| 1/1 [00:00<00:00,  9.34it/s]\n"
     ]
    },
    {
     "name": "stdout",
     "output_type": "stream",
     "text": [
      "Computed similarity for 'ID_897': 0.7213\n",
      "\n",
      "Processing resume file: 'Resume_of_ID_898.pdf'\n",
      "Extracted resume ID: '898'\n"
     ]
    },
    {
     "name": "stderr",
     "output_type": "stream",
     "text": [
      "Batches: 100%|██████████| 1/1 [00:00<00:00, 10.39it/s]\n",
      "Batches: 100%|██████████| 1/1 [00:00<00:00, 12.36it/s]\n"
     ]
    },
    {
     "name": "stdout",
     "output_type": "stream",
     "text": [
      "Computed similarity for 'ID_898': 0.7671\n",
      "\n",
      "Processing resume file: 'Resume_of_ID_899.pdf'\n",
      "Extracted resume ID: '899'\n"
     ]
    },
    {
     "name": "stderr",
     "output_type": "stream",
     "text": [
      "Batches: 100%|██████████| 1/1 [00:00<00:00,  9.97it/s]\n",
      "Batches: 100%|██████████| 1/1 [00:00<00:00,  9.48it/s]\n"
     ]
    },
    {
     "name": "stdout",
     "output_type": "stream",
     "text": [
      "Computed similarity for 'ID_899': 0.6922\n",
      "\n",
      "Processing resume file: 'Resume_of_ID_9.pdf'\n",
      "Extracted resume ID: '9'\n"
     ]
    },
    {
     "name": "stderr",
     "output_type": "stream",
     "text": [
      "Batches: 100%|██████████| 1/1 [00:00<00:00,  9.95it/s]\n",
      "Batches: 100%|██████████| 1/1 [00:00<00:00, 11.05it/s]\n"
     ]
    },
    {
     "name": "stdout",
     "output_type": "stream",
     "text": [
      "Computed similarity for 'ID_9': 0.6203\n",
      "\n",
      "Processing resume file: 'Resume_of_ID_90.pdf'\n",
      "Extracted resume ID: '90'\n"
     ]
    },
    {
     "name": "stderr",
     "output_type": "stream",
     "text": [
      "Batches: 100%|██████████| 1/1 [00:00<00:00,  9.82it/s]\n",
      "Batches: 100%|██████████| 1/1 [00:00<00:00, 10.50it/s]\n"
     ]
    },
    {
     "name": "stdout",
     "output_type": "stream",
     "text": [
      "Computed similarity for 'ID_90': 0.6186\n",
      "\n",
      "Processing resume file: 'Resume_of_ID_900.pdf'\n",
      "Extracted resume ID: '900'\n"
     ]
    },
    {
     "name": "stderr",
     "output_type": "stream",
     "text": [
      "Batches: 100%|██████████| 1/1 [00:00<00:00,  9.98it/s]\n",
      "Batches: 100%|██████████| 1/1 [00:00<00:00, 13.30it/s]\n"
     ]
    },
    {
     "name": "stdout",
     "output_type": "stream",
     "text": [
      "Computed similarity for 'ID_900': 0.6647\n",
      "\n",
      "Processing resume file: 'Resume_of_ID_901.pdf'\n",
      "Extracted resume ID: '901'\n"
     ]
    },
    {
     "name": "stderr",
     "output_type": "stream",
     "text": [
      "Batches: 100%|██████████| 1/1 [00:00<00:00, 11.00it/s]\n",
      "Batches: 100%|██████████| 1/1 [00:00<00:00, 10.01it/s]\n"
     ]
    },
    {
     "name": "stdout",
     "output_type": "stream",
     "text": [
      "Computed similarity for 'ID_901': 0.5755\n",
      "\n",
      "Processing resume file: 'Resume_of_ID_902.pdf'\n",
      "Extracted resume ID: '902'\n"
     ]
    },
    {
     "name": "stderr",
     "output_type": "stream",
     "text": [
      "Batches: 100%|██████████| 1/1 [00:00<00:00, 10.98it/s]\n",
      "Batches: 100%|██████████| 1/1 [00:00<00:00, 13.17it/s]\n"
     ]
    },
    {
     "name": "stdout",
     "output_type": "stream",
     "text": [
      "Computed similarity for 'ID_902': 0.5421\n",
      "\n",
      "Processing resume file: 'Resume_of_ID_903.pdf'\n",
      "Extracted resume ID: '903'\n"
     ]
    },
    {
     "name": "stderr",
     "output_type": "stream",
     "text": [
      "Batches: 100%|██████████| 1/1 [00:00<00:00,  8.61it/s]\n",
      "Batches: 100%|██████████| 1/1 [00:00<00:00, 10.89it/s]\n"
     ]
    },
    {
     "name": "stdout",
     "output_type": "stream",
     "text": [
      "Computed similarity for 'ID_903': 0.7396\n",
      "\n",
      "Processing resume file: 'Resume_of_ID_904.pdf'\n",
      "Extracted resume ID: '904'\n"
     ]
    },
    {
     "name": "stderr",
     "output_type": "stream",
     "text": [
      "Batches: 100%|██████████| 1/1 [00:00<00:00,  9.28it/s]\n",
      "Batches: 100%|██████████| 1/1 [00:00<00:00, 10.83it/s]\n"
     ]
    },
    {
     "name": "stdout",
     "output_type": "stream",
     "text": [
      "Computed similarity for 'ID_904': 0.685\n",
      "\n",
      "Processing resume file: 'Resume_of_ID_905.pdf'\n",
      "Extracted resume ID: '905'\n"
     ]
    },
    {
     "name": "stderr",
     "output_type": "stream",
     "text": [
      "Batches: 100%|██████████| 1/1 [00:00<00:00, 13.67it/s]\n",
      "Batches: 100%|██████████| 1/1 [00:00<00:00, 16.91it/s]\n"
     ]
    },
    {
     "name": "stdout",
     "output_type": "stream",
     "text": [
      "Computed similarity for 'ID_905': 0.635\n",
      "\n",
      "Processing resume file: 'Resume_of_ID_906.pdf'\n",
      "Extracted resume ID: '906'\n"
     ]
    },
    {
     "name": "stderr",
     "output_type": "stream",
     "text": [
      "Batches: 100%|██████████| 1/1 [00:00<00:00, 10.83it/s]\n",
      "Batches: 100%|██████████| 1/1 [00:00<00:00,  9.31it/s]\n"
     ]
    },
    {
     "name": "stdout",
     "output_type": "stream",
     "text": [
      "Computed similarity for 'ID_906': 0.5932\n",
      "\n",
      "Processing resume file: 'Resume_of_ID_907.pdf'\n",
      "Extracted resume ID: '907'\n"
     ]
    },
    {
     "name": "stderr",
     "output_type": "stream",
     "text": [
      "Batches: 100%|██████████| 1/1 [00:00<00:00,  9.23it/s]\n",
      "Batches: 100%|██████████| 1/1 [00:00<00:00, 10.13it/s]\n"
     ]
    },
    {
     "name": "stdout",
     "output_type": "stream",
     "text": [
      "Computed similarity for 'ID_907': 0.6553\n",
      "\n",
      "Processing resume file: 'Resume_of_ID_908.pdf'\n",
      "Extracted resume ID: '908'\n"
     ]
    },
    {
     "name": "stderr",
     "output_type": "stream",
     "text": [
      "Batches: 100%|██████████| 1/1 [00:00<00:00,  9.71it/s]\n",
      "Batches: 100%|██████████| 1/1 [00:00<00:00, 11.24it/s]\n"
     ]
    },
    {
     "name": "stdout",
     "output_type": "stream",
     "text": [
      "Computed similarity for 'ID_908': 0.5008\n",
      "\n",
      "Processing resume file: 'Resume_of_ID_909.pdf'\n",
      "Extracted resume ID: '909'\n"
     ]
    },
    {
     "name": "stderr",
     "output_type": "stream",
     "text": [
      "Batches: 100%|██████████| 1/1 [00:00<00:00,  8.66it/s]\n",
      "Batches: 100%|██████████| 1/1 [00:00<00:00, 10.65it/s]\n"
     ]
    },
    {
     "name": "stdout",
     "output_type": "stream",
     "text": [
      "Computed similarity for 'ID_909': 0.6237\n",
      "\n",
      "Processing resume file: 'Resume_of_ID_91.pdf'\n",
      "Extracted resume ID: '91'\n",
      "Skipping similarity computation for '91' due to empty recommendation letters.\n",
      "\n",
      "Processing resume file: 'Resume_of_ID_910.pdf'\n",
      "Extracted resume ID: '910'\n",
      "Skipping similarity computation for '910' due to empty recommendation letters.\n",
      "\n",
      "Processing resume file: 'Resume_of_ID_911.pdf'\n",
      "Extracted resume ID: '911'\n"
     ]
    },
    {
     "name": "stderr",
     "output_type": "stream",
     "text": [
      "Batches: 100%|██████████| 1/1 [00:00<00:00,  8.61it/s]\n",
      "Batches: 100%|██████████| 1/1 [00:00<00:00,  9.68it/s]\n"
     ]
    },
    {
     "name": "stdout",
     "output_type": "stream",
     "text": [
      "Computed similarity for 'ID_911': 0.6042\n",
      "\n",
      "Processing resume file: 'Resume_of_ID_912.pdf'\n",
      "Extracted resume ID: '912'\n"
     ]
    },
    {
     "name": "stderr",
     "output_type": "stream",
     "text": [
      "Batches: 100%|██████████| 1/1 [00:00<00:00, 10.35it/s]\n",
      "Batches: 100%|██████████| 1/1 [00:00<00:00, 14.25it/s]\n"
     ]
    },
    {
     "name": "stdout",
     "output_type": "stream",
     "text": [
      "Computed similarity for 'ID_912': 0.6246\n",
      "\n",
      "Processing resume file: 'Resume_of_ID_913.pdf'\n",
      "Extracted resume ID: '913'\n"
     ]
    },
    {
     "name": "stderr",
     "output_type": "stream",
     "text": [
      "Batches: 100%|██████████| 1/1 [00:00<00:00,  9.59it/s]\n",
      "Batches: 100%|██████████| 1/1 [00:00<00:00, 10.08it/s]\n"
     ]
    },
    {
     "name": "stdout",
     "output_type": "stream",
     "text": [
      "Computed similarity for 'ID_913': 0.6057\n",
      "\n",
      "Processing resume file: 'Resume_of_ID_914.pdf'\n",
      "Extracted resume ID: '914'\n"
     ]
    },
    {
     "name": "stderr",
     "output_type": "stream",
     "text": [
      "Batches: 100%|██████████| 1/1 [00:00<00:00, 10.15it/s]\n",
      "Batches: 100%|██████████| 1/1 [00:00<00:00, 12.77it/s]\n"
     ]
    },
    {
     "name": "stdout",
     "output_type": "stream",
     "text": [
      "Computed similarity for 'ID_914': 0.7516\n",
      "\n",
      "Processing resume file: 'Resume_of_ID_915.pdf'\n",
      "Extracted resume ID: '915'\n"
     ]
    },
    {
     "name": "stderr",
     "output_type": "stream",
     "text": [
      "Batches: 100%|██████████| 1/1 [00:00<00:00, 10.36it/s]\n",
      "Batches: 100%|██████████| 1/1 [00:00<00:00, 10.55it/s]\n"
     ]
    },
    {
     "name": "stdout",
     "output_type": "stream",
     "text": [
      "Computed similarity for 'ID_915': 0.5881\n",
      "\n",
      "Processing resume file: 'Resume_of_ID_916.pdf'\n",
      "Extracted resume ID: '916'\n"
     ]
    },
    {
     "name": "stderr",
     "output_type": "stream",
     "text": [
      "Batches: 100%|██████████| 1/1 [00:00<00:00, 11.23it/s]\n",
      "Batches: 100%|██████████| 1/1 [00:00<00:00, 10.21it/s]\n"
     ]
    },
    {
     "name": "stdout",
     "output_type": "stream",
     "text": [
      "Computed similarity for 'ID_916': 0.7427\n",
      "\n",
      "Processing resume file: 'Resume_of_ID_917.pdf'\n",
      "Extracted resume ID: '917'\n"
     ]
    },
    {
     "name": "stderr",
     "output_type": "stream",
     "text": [
      "Batches: 100%|██████████| 1/1 [00:00<00:00, 13.65it/s]\n",
      "Batches: 100%|██████████| 1/1 [00:00<00:00, 14.75it/s]\n"
     ]
    },
    {
     "name": "stdout",
     "output_type": "stream",
     "text": [
      "Computed similarity for 'ID_917': 0.6619\n",
      "\n",
      "Processing resume file: 'Resume_of_ID_918.pdf'\n",
      "Extracted resume ID: '918'\n"
     ]
    },
    {
     "name": "stderr",
     "output_type": "stream",
     "text": [
      "Batches: 100%|██████████| 1/1 [00:00<00:00,  9.18it/s]\n",
      "Batches: 100%|██████████| 1/1 [00:00<00:00, 11.00it/s]\n"
     ]
    },
    {
     "name": "stdout",
     "output_type": "stream",
     "text": [
      "Computed similarity for 'ID_918': 0.5716\n",
      "\n",
      "Processing resume file: 'Resume_of_ID_919.pdf'\n",
      "Extracted resume ID: '919'\n"
     ]
    },
    {
     "name": "stderr",
     "output_type": "stream",
     "text": [
      "Batches: 100%|██████████| 1/1 [00:00<00:00, 10.02it/s]\n",
      "Batches: 100%|██████████| 1/1 [00:00<00:00,  9.20it/s]\n"
     ]
    },
    {
     "name": "stdout",
     "output_type": "stream",
     "text": [
      "Computed similarity for 'ID_919': 0.4445\n",
      "\n",
      "Processing resume file: 'Resume_of_ID_92.pdf'\n",
      "Extracted resume ID: '92'\n"
     ]
    },
    {
     "name": "stderr",
     "output_type": "stream",
     "text": [
      "Batches: 100%|██████████| 1/1 [00:00<00:00,  9.31it/s]\n",
      "Batches: 100%|██████████| 1/1 [00:00<00:00,  9.97it/s]\n"
     ]
    },
    {
     "name": "stdout",
     "output_type": "stream",
     "text": [
      "Computed similarity for 'ID_92': 0.5468\n",
      "\n",
      "Processing resume file: 'Resume_of_ID_920.pdf'\n",
      "Extracted resume ID: '920'\n"
     ]
    },
    {
     "name": "stderr",
     "output_type": "stream",
     "text": [
      "Batches: 100%|██████████| 1/1 [00:00<00:00, 10.29it/s]\n",
      "Batches: 100%|██████████| 1/1 [00:00<00:00, 13.62it/s]\n"
     ]
    },
    {
     "name": "stdout",
     "output_type": "stream",
     "text": [
      "Computed similarity for 'ID_920': 0.7116\n",
      "\n",
      "Processing resume file: 'Resume_of_ID_921.pdf'\n",
      "Extracted resume ID: '921'\n",
      "Skipping similarity computation for '921' due to empty recommendation letters.\n",
      "\n",
      "Processing resume file: 'Resume_of_ID_922.pdf'\n",
      "Extracted resume ID: '922'\n"
     ]
    },
    {
     "name": "stderr",
     "output_type": "stream",
     "text": [
      "Batches: 100%|██████████| 1/1 [00:00<00:00,  9.38it/s]\n",
      "Batches: 100%|██████████| 1/1 [00:00<00:00, 13.40it/s]\n"
     ]
    },
    {
     "name": "stdout",
     "output_type": "stream",
     "text": [
      "Computed similarity for 'ID_922': 0.3672\n",
      "\n",
      "Processing resume file: 'Resume_of_ID_923.pdf'\n",
      "Extracted resume ID: '923'\n"
     ]
    },
    {
     "name": "stderr",
     "output_type": "stream",
     "text": [
      "Batches: 100%|██████████| 1/1 [00:00<00:00, 10.18it/s]\n",
      "Batches: 100%|██████████| 1/1 [00:00<00:00, 12.12it/s]\n"
     ]
    },
    {
     "name": "stdout",
     "output_type": "stream",
     "text": [
      "Computed similarity for 'ID_923': 0.5037\n",
      "\n",
      "Processing resume file: 'Resume_of_ID_924.pdf'\n",
      "Extracted resume ID: '924'\n"
     ]
    },
    {
     "name": "stderr",
     "output_type": "stream",
     "text": [
      "Batches: 100%|██████████| 1/1 [00:00<00:00, 10.59it/s]\n",
      "Batches: 100%|██████████| 1/1 [00:00<00:00, 15.08it/s]\n"
     ]
    },
    {
     "name": "stdout",
     "output_type": "stream",
     "text": [
      "Computed similarity for 'ID_924': 0.5736\n",
      "\n",
      "Processing resume file: 'Resume_of_ID_925.pdf'\n",
      "Extracted resume ID: '925'\n"
     ]
    },
    {
     "name": "stderr",
     "output_type": "stream",
     "text": [
      "Batches: 100%|██████████| 1/1 [00:00<00:00,  9.46it/s]\n",
      "Batches: 100%|██████████| 1/1 [00:00<00:00, 12.44it/s]\n"
     ]
    },
    {
     "name": "stdout",
     "output_type": "stream",
     "text": [
      "Computed similarity for 'ID_925': 0.6069\n",
      "\n",
      "Processing resume file: 'Resume_of_ID_926.pdf'\n",
      "Extracted resume ID: '926'\n"
     ]
    },
    {
     "name": "stderr",
     "output_type": "stream",
     "text": [
      "Batches: 100%|██████████| 1/1 [00:00<00:00,  8.65it/s]\n",
      "Batches: 100%|██████████| 1/1 [00:00<00:00, 15.40it/s]\n"
     ]
    },
    {
     "name": "stdout",
     "output_type": "stream",
     "text": [
      "Computed similarity for 'ID_926': 0.7356\n",
      "\n",
      "Processing resume file: 'Resume_of_ID_927.pdf'\n",
      "Extracted resume ID: '927'\n"
     ]
    },
    {
     "name": "stderr",
     "output_type": "stream",
     "text": [
      "Batches: 100%|██████████| 1/1 [00:00<00:00, 10.39it/s]\n",
      "Batches: 100%|██████████| 1/1 [00:00<00:00, 10.85it/s]\n"
     ]
    },
    {
     "name": "stdout",
     "output_type": "stream",
     "text": [
      "Computed similarity for 'ID_927': 0.7055\n",
      "\n",
      "Processing resume file: 'Resume_of_ID_928.pdf'\n",
      "Extracted resume ID: '928'\n"
     ]
    },
    {
     "name": "stderr",
     "output_type": "stream",
     "text": [
      "Batches: 100%|██████████| 1/1 [00:00<00:00,  9.22it/s]\n",
      "Batches: 100%|██████████| 1/1 [00:00<00:00, 12.73it/s]\n"
     ]
    },
    {
     "name": "stdout",
     "output_type": "stream",
     "text": [
      "Computed similarity for 'ID_928': 0.6942\n",
      "\n",
      "Processing resume file: 'Resume_of_ID_929.pdf'\n",
      "Extracted resume ID: '929'\n"
     ]
    },
    {
     "name": "stderr",
     "output_type": "stream",
     "text": [
      "Batches: 100%|██████████| 1/1 [00:00<00:00,  8.49it/s]\n",
      "Batches: 100%|██████████| 1/1 [00:00<00:00,  9.18it/s]\n"
     ]
    },
    {
     "name": "stdout",
     "output_type": "stream",
     "text": [
      "Computed similarity for 'ID_929': 0.69\n",
      "\n",
      "Processing resume file: 'Resume_of_ID_93.pdf'\n",
      "Extracted resume ID: '93'\n"
     ]
    },
    {
     "name": "stderr",
     "output_type": "stream",
     "text": [
      "Batches: 100%|██████████| 1/1 [00:00<00:00,  9.42it/s]\n",
      "Batches: 100%|██████████| 1/1 [00:00<00:00, 10.61it/s]\n"
     ]
    },
    {
     "name": "stdout",
     "output_type": "stream",
     "text": [
      "Computed similarity for 'ID_93': 0.6643\n",
      "\n",
      "Processing resume file: 'Resume_of_ID_930.pdf'\n",
      "Extracted resume ID: '930'\n"
     ]
    },
    {
     "name": "stderr",
     "output_type": "stream",
     "text": [
      "Batches: 100%|██████████| 1/1 [00:00<00:00,  8.94it/s]\n",
      "Batches: 100%|██████████| 1/1 [00:00<00:00,  8.42it/s]\n"
     ]
    },
    {
     "name": "stdout",
     "output_type": "stream",
     "text": [
      "Computed similarity for 'ID_930': 0.6847\n",
      "\n",
      "Processing resume file: 'Resume_of_ID_931.pdf'\n",
      "Extracted resume ID: '931'\n"
     ]
    },
    {
     "name": "stderr",
     "output_type": "stream",
     "text": [
      "Batches: 100%|██████████| 1/1 [00:00<00:00, 11.69it/s]\n",
      "Batches: 100%|██████████| 1/1 [00:00<00:00, 17.68it/s]\n"
     ]
    },
    {
     "name": "stdout",
     "output_type": "stream",
     "text": [
      "Computed similarity for 'ID_931': 0.5702\n",
      "\n",
      "Processing resume file: 'Resume_of_ID_932.pdf'\n",
      "Extracted resume ID: '932'\n"
     ]
    },
    {
     "name": "stderr",
     "output_type": "stream",
     "text": [
      "Batches: 100%|██████████| 1/1 [00:00<00:00,  9.23it/s]\n",
      "Batches: 100%|██████████| 1/1 [00:00<00:00, 11.34it/s]\n"
     ]
    },
    {
     "name": "stdout",
     "output_type": "stream",
     "text": [
      "Computed similarity for 'ID_932': 0.7364\n",
      "\n",
      "Processing resume file: 'Resume_of_ID_933.pdf'\n",
      "Extracted resume ID: '933'\n"
     ]
    },
    {
     "name": "stderr",
     "output_type": "stream",
     "text": [
      "Batches: 100%|██████████| 1/1 [00:00<00:00,  9.96it/s]\n",
      "Batches: 100%|██████████| 1/1 [00:00<00:00, 12.42it/s]\n"
     ]
    },
    {
     "name": "stdout",
     "output_type": "stream",
     "text": [
      "Computed similarity for 'ID_933': 0.6213\n",
      "\n",
      "Processing resume file: 'Resume_of_ID_934.pdf'\n",
      "Extracted resume ID: '934'\n"
     ]
    },
    {
     "name": "stderr",
     "output_type": "stream",
     "text": [
      "Batches: 100%|██████████| 1/1 [00:00<00:00,  9.05it/s]\n",
      "Batches: 100%|██████████| 1/1 [00:00<00:00,  9.34it/s]\n"
     ]
    },
    {
     "name": "stdout",
     "output_type": "stream",
     "text": [
      "Computed similarity for 'ID_934': 0.7281\n",
      "\n",
      "Processing resume file: 'Resume_of_ID_935.pdf'\n",
      "Extracted resume ID: '935'\n"
     ]
    },
    {
     "name": "stderr",
     "output_type": "stream",
     "text": [
      "Batches: 100%|██████████| 1/1 [00:00<00:00,  8.58it/s]\n",
      "Batches: 100%|██████████| 1/1 [00:00<00:00, 15.17it/s]\n"
     ]
    },
    {
     "name": "stdout",
     "output_type": "stream",
     "text": [
      "Computed similarity for 'ID_935': 0.7154\n",
      "\n",
      "Processing resume file: 'Resume_of_ID_936.pdf'\n",
      "Extracted resume ID: '936'\n"
     ]
    },
    {
     "name": "stderr",
     "output_type": "stream",
     "text": [
      "Batches: 100%|██████████| 1/1 [00:00<00:00, 10.65it/s]\n",
      "Batches: 100%|██████████| 1/1 [00:00<00:00, 12.98it/s]\n"
     ]
    },
    {
     "name": "stdout",
     "output_type": "stream",
     "text": [
      "Computed similarity for 'ID_936': 0.5948\n",
      "\n",
      "Processing resume file: 'Resume_of_ID_937.pdf'\n",
      "Extracted resume ID: '937'\n"
     ]
    },
    {
     "name": "stderr",
     "output_type": "stream",
     "text": [
      "Batches: 100%|██████████| 1/1 [00:00<00:00,  8.72it/s]\n",
      "Batches: 100%|██████████| 1/1 [00:00<00:00, 16.52it/s]\n"
     ]
    },
    {
     "name": "stdout",
     "output_type": "stream",
     "text": [
      "Computed similarity for 'ID_937': 0.7405\n",
      "\n",
      "Processing resume file: 'Resume_of_ID_938.pdf'\n",
      "Extracted resume ID: '938'\n"
     ]
    },
    {
     "name": "stderr",
     "output_type": "stream",
     "text": [
      "Batches: 100%|██████████| 1/1 [00:00<00:00,  8.44it/s]\n",
      "Batches: 100%|██████████| 1/1 [00:00<00:00, 10.07it/s]\n"
     ]
    },
    {
     "name": "stdout",
     "output_type": "stream",
     "text": [
      "Computed similarity for 'ID_938': 0.7188\n",
      "\n",
      "Processing resume file: 'Resume_of_ID_939.pdf'\n",
      "Extracted resume ID: '939'\n"
     ]
    },
    {
     "name": "stderr",
     "output_type": "stream",
     "text": [
      "Batches: 100%|██████████| 1/1 [00:00<00:00, 11.24it/s]\n",
      "Batches: 100%|██████████| 1/1 [00:00<00:00,  9.02it/s]\n"
     ]
    },
    {
     "name": "stdout",
     "output_type": "stream",
     "text": [
      "Computed similarity for 'ID_939': 0.5121\n",
      "\n",
      "Processing resume file: 'Resume_of_ID_94.pdf'\n",
      "Extracted resume ID: '94'\n"
     ]
    },
    {
     "name": "stderr",
     "output_type": "stream",
     "text": [
      "Batches: 100%|██████████| 1/1 [00:00<00:00, 10.43it/s]\n",
      "Batches: 100%|██████████| 1/1 [00:00<00:00, 12.83it/s]\n"
     ]
    },
    {
     "name": "stdout",
     "output_type": "stream",
     "text": [
      "Computed similarity for 'ID_94': 0.6331\n",
      "\n",
      "Processing resume file: 'Resume_of_ID_940.pdf'\n",
      "Extracted resume ID: '940'\n"
     ]
    },
    {
     "name": "stderr",
     "output_type": "stream",
     "text": [
      "Batches: 100%|██████████| 1/1 [00:00<00:00,  8.95it/s]\n",
      "Batches: 100%|██████████| 1/1 [00:00<00:00, 11.87it/s]\n"
     ]
    },
    {
     "name": "stdout",
     "output_type": "stream",
     "text": [
      "Computed similarity for 'ID_940': 0.7837\n",
      "\n",
      "Processing resume file: 'Resume_of_ID_941.pdf'\n",
      "Extracted resume ID: '941'\n"
     ]
    },
    {
     "name": "stderr",
     "output_type": "stream",
     "text": [
      "Batches: 100%|██████████| 1/1 [00:00<00:00,  8.90it/s]\n",
      "Batches: 100%|██████████| 1/1 [00:00<00:00, 13.01it/s]\n"
     ]
    },
    {
     "name": "stdout",
     "output_type": "stream",
     "text": [
      "Computed similarity for 'ID_941': 0.6695\n",
      "\n",
      "Processing resume file: 'Resume_of_ID_942.pdf'\n",
      "Extracted resume ID: '942'\n"
     ]
    },
    {
     "name": "stderr",
     "output_type": "stream",
     "text": [
      "Batches: 100%|██████████| 1/1 [00:00<00:00,  8.32it/s]\n",
      "Batches: 100%|██████████| 1/1 [00:00<00:00, 11.51it/s]\n"
     ]
    },
    {
     "name": "stdout",
     "output_type": "stream",
     "text": [
      "Computed similarity for 'ID_942': 0.4815\n",
      "\n",
      "Processing resume file: 'Resume_of_ID_943.pdf'\n",
      "Extracted resume ID: '943'\n"
     ]
    },
    {
     "name": "stderr",
     "output_type": "stream",
     "text": [
      "Batches: 100%|██████████| 1/1 [00:00<00:00,  9.67it/s]\n",
      "Batches: 100%|██████████| 1/1 [00:00<00:00,  9.73it/s]\n"
     ]
    },
    {
     "name": "stdout",
     "output_type": "stream",
     "text": [
      "Computed similarity for 'ID_943': 0.7522\n",
      "\n",
      "Processing resume file: 'Resume_of_ID_944.pdf'\n",
      "Extracted resume ID: '944'\n",
      "Skipping similarity computation for '944' due to empty recommendation letters.\n",
      "\n",
      "Processing resume file: 'Resume_of_ID_945.pdf'\n",
      "Extracted resume ID: '945'\n"
     ]
    },
    {
     "name": "stderr",
     "output_type": "stream",
     "text": [
      "Batches: 100%|██████████| 1/1 [00:00<00:00, 10.04it/s]\n",
      "Batches: 100%|██████████| 1/1 [00:00<00:00, 11.97it/s]\n"
     ]
    },
    {
     "name": "stdout",
     "output_type": "stream",
     "text": [
      "Computed similarity for 'ID_945': 0.6689\n",
      "\n",
      "Processing resume file: 'Resume_of_ID_946.pdf'\n",
      "Extracted resume ID: '946'\n"
     ]
    },
    {
     "name": "stderr",
     "output_type": "stream",
     "text": [
      "Batches: 100%|██████████| 1/1 [00:00<00:00, 10.81it/s]\n",
      "Batches: 100%|██████████| 1/1 [00:00<00:00, 11.96it/s]\n"
     ]
    },
    {
     "name": "stdout",
     "output_type": "stream",
     "text": [
      "Computed similarity for 'ID_946': 0.5513\n",
      "\n",
      "Processing resume file: 'Resume_of_ID_947.pdf'\n",
      "Extracted resume ID: '947'\n"
     ]
    },
    {
     "name": "stderr",
     "output_type": "stream",
     "text": [
      "Batches: 100%|██████████| 1/1 [00:00<00:00,  8.57it/s]\n",
      "Batches: 100%|██████████| 1/1 [00:00<00:00, 11.01it/s]\n"
     ]
    },
    {
     "name": "stdout",
     "output_type": "stream",
     "text": [
      "Computed similarity for 'ID_947': 0.6868\n",
      "\n",
      "Processing resume file: 'Resume_of_ID_948.pdf'\n",
      "Extracted resume ID: '948'\n"
     ]
    },
    {
     "name": "stderr",
     "output_type": "stream",
     "text": [
      "Batches: 100%|██████████| 1/1 [00:00<00:00, 11.85it/s]\n",
      "Batches: 100%|██████████| 1/1 [00:00<00:00, 15.37it/s]\n"
     ]
    },
    {
     "name": "stdout",
     "output_type": "stream",
     "text": [
      "Computed similarity for 'ID_948': 0.5818\n",
      "\n",
      "Processing resume file: 'Resume_of_ID_949.pdf'\n",
      "Extracted resume ID: '949'\n"
     ]
    },
    {
     "name": "stderr",
     "output_type": "stream",
     "text": [
      "Batches: 100%|██████████| 1/1 [00:00<00:00, 12.16it/s]\n",
      "Batches: 100%|██████████| 1/1 [00:00<00:00, 11.99it/s]\n"
     ]
    },
    {
     "name": "stdout",
     "output_type": "stream",
     "text": [
      "Computed similarity for 'ID_949': 0.6516\n",
      "\n",
      "Processing resume file: 'Resume_of_ID_95.pdf'\n",
      "Extracted resume ID: '95'\n"
     ]
    },
    {
     "name": "stderr",
     "output_type": "stream",
     "text": [
      "Batches: 100%|██████████| 1/1 [00:00<00:00, 10.70it/s]\n",
      "Batches: 100%|██████████| 1/1 [00:00<00:00, 17.47it/s]\n"
     ]
    },
    {
     "name": "stdout",
     "output_type": "stream",
     "text": [
      "Computed similarity for 'ID_95': 0.5844\n",
      "\n",
      "Processing resume file: 'Resume_of_ID_950.pdf'\n",
      "Extracted resume ID: '950'\n"
     ]
    },
    {
     "name": "stderr",
     "output_type": "stream",
     "text": [
      "Batches: 100%|██████████| 1/1 [00:00<00:00,  9.24it/s]\n",
      "Batches: 100%|██████████| 1/1 [00:00<00:00,  9.20it/s]\n"
     ]
    },
    {
     "name": "stdout",
     "output_type": "stream",
     "text": [
      "Computed similarity for 'ID_950': 0.7321\n",
      "\n",
      "Processing resume file: 'Resume_of_ID_951.pdf'\n",
      "Extracted resume ID: '951'\n"
     ]
    },
    {
     "name": "stderr",
     "output_type": "stream",
     "text": [
      "Batches: 100%|██████████| 1/1 [00:00<00:00, 11.18it/s]\n",
      "Batches: 100%|██████████| 1/1 [00:00<00:00, 13.88it/s]\n"
     ]
    },
    {
     "name": "stdout",
     "output_type": "stream",
     "text": [
      "Computed similarity for 'ID_951': 0.6755\n",
      "\n",
      "Processing resume file: 'Resume_of_ID_952.pdf'\n",
      "Extracted resume ID: '952'\n"
     ]
    },
    {
     "name": "stderr",
     "output_type": "stream",
     "text": [
      "Batches: 100%|██████████| 1/1 [00:00<00:00, 10.98it/s]\n",
      "Batches: 100%|██████████| 1/1 [00:00<00:00, 11.92it/s]\n"
     ]
    },
    {
     "name": "stdout",
     "output_type": "stream",
     "text": [
      "Computed similarity for 'ID_952': 0.7516\n",
      "\n",
      "Processing resume file: 'Resume_of_ID_953.pdf'\n",
      "Extracted resume ID: '953'\n"
     ]
    },
    {
     "name": "stderr",
     "output_type": "stream",
     "text": [
      "Batches: 100%|██████████| 1/1 [00:00<00:00, 12.58it/s]\n",
      "Batches: 100%|██████████| 1/1 [00:00<00:00, 13.45it/s]\n"
     ]
    },
    {
     "name": "stdout",
     "output_type": "stream",
     "text": [
      "Computed similarity for 'ID_953': 0.6461\n",
      "\n",
      "Processing resume file: 'Resume_of_ID_954.pdf'\n",
      "Extracted resume ID: '954'\n"
     ]
    },
    {
     "name": "stderr",
     "output_type": "stream",
     "text": [
      "Batches: 100%|██████████| 1/1 [00:00<00:00, 10.02it/s]\n",
      "Batches: 100%|██████████| 1/1 [00:00<00:00, 11.94it/s]\n"
     ]
    },
    {
     "name": "stdout",
     "output_type": "stream",
     "text": [
      "Computed similarity for 'ID_954': 0.6034\n",
      "\n",
      "Processing resume file: 'Resume_of_ID_955.pdf'\n",
      "Extracted resume ID: '955'\n"
     ]
    },
    {
     "name": "stderr",
     "output_type": "stream",
     "text": [
      "Batches: 100%|██████████| 1/1 [00:00<00:00, 10.84it/s]\n",
      "Batches: 100%|██████████| 1/1 [00:00<00:00, 13.32it/s]\n"
     ]
    },
    {
     "name": "stdout",
     "output_type": "stream",
     "text": [
      "Computed similarity for 'ID_955': 0.7806\n",
      "\n",
      "Processing resume file: 'Resume_of_ID_956.pdf'\n",
      "Extracted resume ID: '956'\n"
     ]
    },
    {
     "name": "stderr",
     "output_type": "stream",
     "text": [
      "Batches: 100%|██████████| 1/1 [00:00<00:00, 10.90it/s]\n",
      "Batches: 100%|██████████| 1/1 [00:00<00:00, 15.96it/s]\n"
     ]
    },
    {
     "name": "stdout",
     "output_type": "stream",
     "text": [
      "Computed similarity for 'ID_956': 0.6407\n",
      "\n",
      "Processing resume file: 'Resume_of_ID_957.pdf'\n",
      "Extracted resume ID: '957'\n"
     ]
    },
    {
     "name": "stderr",
     "output_type": "stream",
     "text": [
      "Batches: 100%|██████████| 1/1 [00:00<00:00,  8.55it/s]\n",
      "Batches: 100%|██████████| 1/1 [00:00<00:00,  9.32it/s]\n"
     ]
    },
    {
     "name": "stdout",
     "output_type": "stream",
     "text": [
      "Computed similarity for 'ID_957': 0.7149\n",
      "\n",
      "Processing resume file: 'Resume_of_ID_958.pdf'\n",
      "Extracted resume ID: '958'\n"
     ]
    },
    {
     "name": "stderr",
     "output_type": "stream",
     "text": [
      "Batches: 100%|██████████| 1/1 [00:00<00:00,  9.94it/s]\n",
      "Batches: 100%|██████████| 1/1 [00:00<00:00, 10.84it/s]\n"
     ]
    },
    {
     "name": "stdout",
     "output_type": "stream",
     "text": [
      "Computed similarity for 'ID_958': 0.8164\n",
      "\n",
      "Processing resume file: 'Resume_of_ID_959.pdf'\n",
      "Extracted resume ID: '959'\n"
     ]
    },
    {
     "name": "stderr",
     "output_type": "stream",
     "text": [
      "Batches: 100%|██████████| 1/1 [00:00<00:00, 10.05it/s]\n",
      "Batches: 100%|██████████| 1/1 [00:00<00:00, 10.89it/s]\n"
     ]
    },
    {
     "name": "stdout",
     "output_type": "stream",
     "text": [
      "Computed similarity for 'ID_959': 0.697\n",
      "\n",
      "Processing resume file: 'Resume_of_ID_96.pdf'\n",
      "Extracted resume ID: '96'\n"
     ]
    },
    {
     "name": "stderr",
     "output_type": "stream",
     "text": [
      "Batches: 100%|██████████| 1/1 [00:00<00:00, 11.73it/s]\n",
      "Batches: 100%|██████████| 1/1 [00:00<00:00, 13.23it/s]\n"
     ]
    },
    {
     "name": "stdout",
     "output_type": "stream",
     "text": [
      "Computed similarity for 'ID_96': 0.5199\n",
      "\n",
      "Processing resume file: 'Resume_of_ID_960.pdf'\n",
      "Extracted resume ID: '960'\n"
     ]
    },
    {
     "name": "stderr",
     "output_type": "stream",
     "text": [
      "Batches: 100%|██████████| 1/1 [00:00<00:00, 10.05it/s]\n",
      "Batches: 100%|██████████| 1/1 [00:00<00:00, 20.26it/s]\n"
     ]
    },
    {
     "name": "stdout",
     "output_type": "stream",
     "text": [
      "Computed similarity for 'ID_960': 0.6416\n",
      "\n",
      "Processing resume file: 'Resume_of_ID_961.pdf'\n",
      "Extracted resume ID: '961'\n"
     ]
    },
    {
     "name": "stderr",
     "output_type": "stream",
     "text": [
      "Batches: 100%|██████████| 1/1 [00:00<00:00, 13.19it/s]\n",
      "Batches: 100%|██████████| 1/1 [00:00<00:00, 15.04it/s]\n"
     ]
    },
    {
     "name": "stdout",
     "output_type": "stream",
     "text": [
      "Computed similarity for 'ID_961': 0.7382\n",
      "\n",
      "Processing resume file: 'Resume_of_ID_962.pdf'\n",
      "Extracted resume ID: '962'\n"
     ]
    },
    {
     "name": "stderr",
     "output_type": "stream",
     "text": [
      "Batches: 100%|██████████| 1/1 [00:00<00:00, 10.82it/s]\n",
      "Batches: 100%|██████████| 1/1 [00:00<00:00, 11.88it/s]\n"
     ]
    },
    {
     "name": "stdout",
     "output_type": "stream",
     "text": [
      "Computed similarity for 'ID_962': 0.7694\n",
      "\n",
      "Processing resume file: 'Resume_of_ID_963.pdf'\n",
      "Extracted resume ID: '963'\n"
     ]
    },
    {
     "name": "stderr",
     "output_type": "stream",
     "text": [
      "Batches: 100%|██████████| 1/1 [00:00<00:00,  9.26it/s]\n",
      "Batches: 100%|██████████| 1/1 [00:00<00:00,  8.57it/s]\n"
     ]
    },
    {
     "name": "stdout",
     "output_type": "stream",
     "text": [
      "Computed similarity for 'ID_963': 0.8443\n",
      "\n",
      "Processing resume file: 'Resume_of_ID_964.pdf'\n",
      "Extracted resume ID: '964'\n"
     ]
    },
    {
     "name": "stderr",
     "output_type": "stream",
     "text": [
      "Batches: 100%|██████████| 1/1 [00:00<00:00,  9.98it/s]\n",
      "Batches: 100%|██████████| 1/1 [00:00<00:00, 11.91it/s]\n"
     ]
    },
    {
     "name": "stdout",
     "output_type": "stream",
     "text": [
      "Computed similarity for 'ID_964': 0.6141\n",
      "\n",
      "Processing resume file: 'Resume_of_ID_965.pdf'\n",
      "Extracted resume ID: '965'\n"
     ]
    },
    {
     "name": "stderr",
     "output_type": "stream",
     "text": [
      "Batches: 100%|██████████| 1/1 [00:00<00:00,  9.99it/s]\n",
      "Batches: 100%|██████████| 1/1 [00:00<00:00, 11.13it/s]\n"
     ]
    },
    {
     "name": "stdout",
     "output_type": "stream",
     "text": [
      "Computed similarity for 'ID_965': 0.6504\n",
      "\n",
      "Processing resume file: 'Resume_of_ID_966.pdf'\n",
      "Extracted resume ID: '966'\n"
     ]
    },
    {
     "name": "stderr",
     "output_type": "stream",
     "text": [
      "Batches: 100%|██████████| 1/1 [00:00<00:00, 10.03it/s]\n",
      "Batches: 100%|██████████| 1/1 [00:00<00:00, 12.36it/s]\n"
     ]
    },
    {
     "name": "stdout",
     "output_type": "stream",
     "text": [
      "Computed similarity for 'ID_966': 0.4287\n",
      "\n",
      "Processing resume file: 'Resume_of_ID_967.pdf'\n",
      "Extracted resume ID: '967'\n"
     ]
    },
    {
     "name": "stderr",
     "output_type": "stream",
     "text": [
      "Batches: 100%|██████████| 1/1 [00:00<00:00, 10.93it/s]\n",
      "Batches: 100%|██████████| 1/1 [00:00<00:00,  9.17it/s]\n"
     ]
    },
    {
     "name": "stdout",
     "output_type": "stream",
     "text": [
      "Computed similarity for 'ID_967': 0.5771\n",
      "\n",
      "Processing resume file: 'Resume_of_ID_968.pdf'\n",
      "Extracted resume ID: '968'\n"
     ]
    },
    {
     "name": "stderr",
     "output_type": "stream",
     "text": [
      "Batches: 100%|██████████| 1/1 [00:00<00:00, 10.91it/s]\n",
      "Batches: 100%|██████████| 1/1 [00:00<00:00, 10.99it/s]\n"
     ]
    },
    {
     "name": "stdout",
     "output_type": "stream",
     "text": [
      "Computed similarity for 'ID_968': 0.7686\n",
      "\n",
      "Processing resume file: 'Resume_of_ID_969.pdf'\n",
      "Extracted resume ID: '969'\n"
     ]
    },
    {
     "name": "stderr",
     "output_type": "stream",
     "text": [
      "Batches: 100%|██████████| 1/1 [00:00<00:00, 12.08it/s]\n",
      "Batches: 100%|██████████| 1/1 [00:00<00:00, 10.82it/s]\n"
     ]
    },
    {
     "name": "stdout",
     "output_type": "stream",
     "text": [
      "Computed similarity for 'ID_969': 0.6994\n",
      "\n",
      "Processing resume file: 'Resume_of_ID_97.pdf'\n",
      "Extracted resume ID: '97'\n"
     ]
    },
    {
     "name": "stderr",
     "output_type": "stream",
     "text": [
      "Batches: 100%|██████████| 1/1 [00:00<00:00,  9.98it/s]\n",
      "Batches: 100%|██████████| 1/1 [00:00<00:00, 13.30it/s]\n"
     ]
    },
    {
     "name": "stdout",
     "output_type": "stream",
     "text": [
      "Computed similarity for 'ID_97': 0.7988\n",
      "\n",
      "Processing resume file: 'Resume_of_ID_970.pdf'\n",
      "Extracted resume ID: '970'\n"
     ]
    },
    {
     "name": "stderr",
     "output_type": "stream",
     "text": [
      "Batches: 100%|██████████| 1/1 [00:00<00:00, 12.03it/s]\n",
      "Batches: 100%|██████████| 1/1 [00:00<00:00, 12.00it/s]\n"
     ]
    },
    {
     "name": "stdout",
     "output_type": "stream",
     "text": [
      "Computed similarity for 'ID_970': 0.7688\n",
      "\n",
      "Processing resume file: 'Resume_of_ID_971.pdf'\n",
      "Extracted resume ID: '971'\n"
     ]
    },
    {
     "name": "stderr",
     "output_type": "stream",
     "text": [
      "Batches: 100%|██████████| 1/1 [00:00<00:00, 12.32it/s]\n",
      "Batches: 100%|██████████| 1/1 [00:00<00:00, 12.11it/s]\n"
     ]
    },
    {
     "name": "stdout",
     "output_type": "stream",
     "text": [
      "Computed similarity for 'ID_971': 0.617\n",
      "\n",
      "Processing resume file: 'Resume_of_ID_972.pdf'\n",
      "Extracted resume ID: '972'\n"
     ]
    },
    {
     "name": "stderr",
     "output_type": "stream",
     "text": [
      "Batches: 100%|██████████| 1/1 [00:00<00:00, 11.99it/s]\n",
      "Batches: 100%|██████████| 1/1 [00:00<00:00, 10.06it/s]\n"
     ]
    },
    {
     "name": "stdout",
     "output_type": "stream",
     "text": [
      "Computed similarity for 'ID_972': 0.4773\n",
      "\n",
      "Processing resume file: 'Resume_of_ID_973.pdf'\n",
      "Extracted resume ID: '973'\n"
     ]
    },
    {
     "name": "stderr",
     "output_type": "stream",
     "text": [
      "Batches: 100%|██████████| 1/1 [00:00<00:00, 10.80it/s]\n",
      "Batches: 100%|██████████| 1/1 [00:00<00:00,  9.99it/s]\n"
     ]
    },
    {
     "name": "stdout",
     "output_type": "stream",
     "text": [
      "Computed similarity for 'ID_973': 0.4705\n",
      "\n",
      "Processing resume file: 'Resume_of_ID_974.pdf'\n",
      "Extracted resume ID: '974'\n",
      "Skipping similarity computation for '974' due to empty recommendation letters.\n",
      "\n",
      "Processing resume file: 'Resume_of_ID_975.pdf'\n",
      "Extracted resume ID: '975'\n"
     ]
    },
    {
     "name": "stderr",
     "output_type": "stream",
     "text": [
      "Batches: 100%|██████████| 1/1 [00:00<00:00,  8.60it/s]\n",
      "Batches: 100%|██████████| 1/1 [00:00<00:00, 13.22it/s]\n"
     ]
    },
    {
     "name": "stdout",
     "output_type": "stream",
     "text": [
      "Computed similarity for 'ID_975': 0.6596\n",
      "\n",
      "Processing resume file: 'Resume_of_ID_976.pdf'\n",
      "Extracted resume ID: '976'\n"
     ]
    },
    {
     "name": "stderr",
     "output_type": "stream",
     "text": [
      "Batches: 100%|██████████| 1/1 [00:00<00:00,  9.26it/s]\n",
      "Batches: 100%|██████████| 1/1 [00:00<00:00, 10.83it/s]\n"
     ]
    },
    {
     "name": "stdout",
     "output_type": "stream",
     "text": [
      "Computed similarity for 'ID_976': 0.7788\n",
      "\n",
      "Processing resume file: 'Resume_of_ID_977.pdf'\n",
      "Extracted resume ID: '977'\n"
     ]
    },
    {
     "name": "stderr",
     "output_type": "stream",
     "text": [
      "Batches: 100%|██████████| 1/1 [00:00<00:00,  9.20it/s]\n",
      "Batches: 100%|██████████| 1/1 [00:00<00:00, 10.86it/s]\n"
     ]
    },
    {
     "name": "stdout",
     "output_type": "stream",
     "text": [
      "Computed similarity for 'ID_977': 0.5962\n",
      "\n",
      "Processing resume file: 'Resume_of_ID_978.pdf'\n",
      "Extracted resume ID: '978'\n"
     ]
    },
    {
     "name": "stderr",
     "output_type": "stream",
     "text": [
      "Batches: 100%|██████████| 1/1 [00:00<00:00,  9.91it/s]\n",
      "Batches: 100%|██████████| 1/1 [00:00<00:00, 13.33it/s]\n"
     ]
    },
    {
     "name": "stdout",
     "output_type": "stream",
     "text": [
      "Computed similarity for 'ID_978': 0.6995\n",
      "\n",
      "Processing resume file: 'Resume_of_ID_979.pdf'\n",
      "Extracted resume ID: '979'\n"
     ]
    },
    {
     "name": "stderr",
     "output_type": "stream",
     "text": [
      "Batches: 100%|██████████| 1/1 [00:00<00:00,  9.25it/s]\n",
      "Batches: 100%|██████████| 1/1 [00:00<00:00, 10.05it/s]\n"
     ]
    },
    {
     "name": "stdout",
     "output_type": "stream",
     "text": [
      "Computed similarity for 'ID_979': 0.6381\n",
      "\n",
      "Processing resume file: 'Resume_of_ID_98.pdf'\n",
      "Extracted resume ID: '98'\n"
     ]
    },
    {
     "name": "stderr",
     "output_type": "stream",
     "text": [
      "Batches: 100%|██████████| 1/1 [00:00<00:00,  9.94it/s]\n",
      "Batches: 100%|██████████| 1/1 [00:00<00:00, 12.01it/s]\n"
     ]
    },
    {
     "name": "stdout",
     "output_type": "stream",
     "text": [
      "Computed similarity for 'ID_98': 0.6531\n",
      "\n",
      "Processing resume file: 'Resume_of_ID_980.pdf'\n",
      "Extracted resume ID: '980'\n"
     ]
    },
    {
     "name": "stderr",
     "output_type": "stream",
     "text": [
      "Batches: 100%|██████████| 1/1 [00:00<00:00, 10.04it/s]\n",
      "Batches: 100%|██████████| 1/1 [00:00<00:00, 12.44it/s]\n"
     ]
    },
    {
     "name": "stdout",
     "output_type": "stream",
     "text": [
      "Computed similarity for 'ID_980': 0.7798\n",
      "\n",
      "Processing resume file: 'Resume_of_ID_981.pdf'\n",
      "Extracted resume ID: '981'\n"
     ]
    },
    {
     "name": "stderr",
     "output_type": "stream",
     "text": [
      "Batches: 100%|██████████| 1/1 [00:00<00:00, 10.05it/s]\n",
      "Batches: 100%|██████████| 1/1 [00:00<00:00, 10.94it/s]\n"
     ]
    },
    {
     "name": "stdout",
     "output_type": "stream",
     "text": [
      "Computed similarity for 'ID_981': 0.7514\n",
      "\n",
      "Processing resume file: 'Resume_of_ID_982.pdf'\n",
      "Extracted resume ID: '982'\n"
     ]
    },
    {
     "name": "stderr",
     "output_type": "stream",
     "text": [
      "Batches: 100%|██████████| 1/1 [00:00<00:00,  9.98it/s]\n",
      "Batches: 100%|██████████| 1/1 [00:00<00:00, 13.33it/s]\n"
     ]
    },
    {
     "name": "stdout",
     "output_type": "stream",
     "text": [
      "Computed similarity for 'ID_982': 0.8079\n",
      "\n",
      "Processing resume file: 'Resume_of_ID_983.pdf'\n",
      "Extracted resume ID: '983'\n"
     ]
    },
    {
     "name": "stderr",
     "output_type": "stream",
     "text": [
      "Batches: 100%|██████████| 1/1 [00:00<00:00, 10.85it/s]\n",
      "Batches: 100%|██████████| 1/1 [00:00<00:00,  9.21it/s]\n"
     ]
    },
    {
     "name": "stdout",
     "output_type": "stream",
     "text": [
      "Computed similarity for 'ID_983': 0.6212\n",
      "\n",
      "Processing resume file: 'Resume_of_ID_984.pdf'\n",
      "Extracted resume ID: '984'\n"
     ]
    },
    {
     "name": "stderr",
     "output_type": "stream",
     "text": [
      "Batches: 100%|██████████| 1/1 [00:00<00:00, 12.02it/s]\n",
      "Batches: 100%|██████████| 1/1 [00:00<00:00, 12.11it/s]\n"
     ]
    },
    {
     "name": "stdout",
     "output_type": "stream",
     "text": [
      "Computed similarity for 'ID_984': 0.2805\n",
      "\n",
      "Processing resume file: 'Resume_of_ID_985.pdf'\n",
      "Extracted resume ID: '985'\n"
     ]
    },
    {
     "name": "stderr",
     "output_type": "stream",
     "text": [
      "Batches: 100%|██████████| 1/1 [00:00<00:00, 13.19it/s]\n",
      "Batches: 100%|██████████| 1/1 [00:00<00:00, 10.87it/s]\n"
     ]
    },
    {
     "name": "stdout",
     "output_type": "stream",
     "text": [
      "Computed similarity for 'ID_985': 0.7339\n",
      "\n",
      "Processing resume file: 'Resume_of_ID_986.pdf'\n",
      "Extracted resume ID: '986'\n"
     ]
    },
    {
     "name": "stderr",
     "output_type": "stream",
     "text": [
      "Batches: 100%|██████████| 1/1 [00:00<00:00, 11.02it/s]\n",
      "Batches: 100%|██████████| 1/1 [00:00<00:00, 14.09it/s]\n"
     ]
    },
    {
     "name": "stdout",
     "output_type": "stream",
     "text": [
      "Computed similarity for 'ID_986': 0.4055\n",
      "\n",
      "Processing resume file: 'Resume_of_ID_987.pdf'\n",
      "Extracted resume ID: '987'\n"
     ]
    },
    {
     "name": "stderr",
     "output_type": "stream",
     "text": [
      "Batches: 100%|██████████| 1/1 [00:00<00:00, 10.90it/s]\n",
      "Batches: 100%|██████████| 1/1 [00:00<00:00, 12.15it/s]\n"
     ]
    },
    {
     "name": "stdout",
     "output_type": "stream",
     "text": [
      "Computed similarity for 'ID_987': 0.3668\n",
      "\n",
      "Processing resume file: 'Resume_of_ID_988.pdf'\n",
      "Extracted resume ID: '988'\n"
     ]
    },
    {
     "name": "stderr",
     "output_type": "stream",
     "text": [
      "Batches: 100%|██████████| 1/1 [00:00<00:00,  8.61it/s]\n",
      "Batches: 100%|██████████| 1/1 [00:00<00:00, 11.97it/s]\n"
     ]
    },
    {
     "name": "stdout",
     "output_type": "stream",
     "text": [
      "Computed similarity for 'ID_988': 0.5367\n",
      "\n",
      "Processing resume file: 'Resume_of_ID_989.pdf'\n",
      "Extracted resume ID: '989'\n"
     ]
    },
    {
     "name": "stderr",
     "output_type": "stream",
     "text": [
      "Batches: 100%|██████████| 1/1 [00:00<00:00, 13.38it/s]\n",
      "Batches: 100%|██████████| 1/1 [00:00<00:00, 15.11it/s]\n"
     ]
    },
    {
     "name": "stdout",
     "output_type": "stream",
     "text": [
      "Computed similarity for 'ID_989': 0.7424\n",
      "\n",
      "Processing resume file: 'Resume_of_ID_99.pdf'\n",
      "Extracted resume ID: '99'\n"
     ]
    },
    {
     "name": "stderr",
     "output_type": "stream",
     "text": [
      "Batches: 100%|██████████| 1/1 [00:00<00:00,  9.22it/s]\n",
      "Batches: 100%|██████████| 1/1 [00:00<00:00, 10.10it/s]\n"
     ]
    },
    {
     "name": "stdout",
     "output_type": "stream",
     "text": [
      "Computed similarity for 'ID_99': 0.7534\n",
      "\n",
      "Processing resume file: 'Resume_of_ID_990.pdf'\n",
      "Extracted resume ID: '990'\n"
     ]
    },
    {
     "name": "stderr",
     "output_type": "stream",
     "text": [
      "Batches: 100%|██████████| 1/1 [00:00<00:00, 10.88it/s]\n",
      "Batches: 100%|██████████| 1/1 [00:00<00:00, 10.37it/s]\n"
     ]
    },
    {
     "name": "stdout",
     "output_type": "stream",
     "text": [
      "Computed similarity for 'ID_990': 0.7863\n",
      "\n",
      "Processing resume file: 'Resume_of_ID_991.pdf'\n",
      "Extracted resume ID: '991'\n"
     ]
    },
    {
     "name": "stderr",
     "output_type": "stream",
     "text": [
      "Batches: 100%|██████████| 1/1 [00:00<00:00,  9.99it/s]\n",
      "Batches: 100%|██████████| 1/1 [00:00<00:00, 10.90it/s]\n"
     ]
    },
    {
     "name": "stdout",
     "output_type": "stream",
     "text": [
      "Computed similarity for 'ID_991': 0.6204\n",
      "\n",
      "Processing resume file: 'Resume_of_ID_992.pdf'\n",
      "Extracted resume ID: '992'\n"
     ]
    },
    {
     "name": "stderr",
     "output_type": "stream",
     "text": [
      "Batches: 100%|██████████| 1/1 [00:00<00:00, 10.10it/s]\n",
      "Batches: 100%|██████████| 1/1 [00:00<00:00, 10.06it/s]\n"
     ]
    },
    {
     "name": "stdout",
     "output_type": "stream",
     "text": [
      "Computed similarity for 'ID_992': 0.7685\n",
      "\n",
      "Processing resume file: 'Resume_of_ID_993.pdf'\n",
      "Extracted resume ID: '993'\n"
     ]
    },
    {
     "name": "stderr",
     "output_type": "stream",
     "text": [
      "Batches: 100%|██████████| 1/1 [00:00<00:00, 10.00it/s]\n",
      "Batches: 100%|██████████| 1/1 [00:00<00:00, 11.91it/s]\n"
     ]
    },
    {
     "name": "stdout",
     "output_type": "stream",
     "text": [
      "Computed similarity for 'ID_993': 0.6381\n",
      "\n",
      "Processing resume file: 'Resume_of_ID_994.pdf'\n",
      "Extracted resume ID: '994'\n"
     ]
    },
    {
     "name": "stderr",
     "output_type": "stream",
     "text": [
      "Batches: 100%|██████████| 1/1 [00:00<00:00,  9.22it/s]\n",
      "Batches: 100%|██████████| 1/1 [00:00<00:00, 10.85it/s]\n"
     ]
    },
    {
     "name": "stdout",
     "output_type": "stream",
     "text": [
      "Computed similarity for 'ID_994': 0.7246\n",
      "\n",
      "Processing resume file: 'Resume_of_ID_995.pdf'\n",
      "Extracted resume ID: '995'\n"
     ]
    },
    {
     "name": "stderr",
     "output_type": "stream",
     "text": [
      "Batches: 100%|██████████| 1/1 [00:00<00:00,  9.28it/s]\n",
      "Batches: 100%|██████████| 1/1 [00:00<00:00, 12.03it/s]\n"
     ]
    },
    {
     "name": "stdout",
     "output_type": "stream",
     "text": [
      "Computed similarity for 'ID_995': 0.7182\n",
      "\n",
      "Processing resume file: 'Resume_of_ID_996.pdf'\n",
      "Extracted resume ID: '996'\n"
     ]
    },
    {
     "name": "stderr",
     "output_type": "stream",
     "text": [
      "Batches: 100%|██████████| 1/1 [00:00<00:00,  8.64it/s]\n",
      "Batches: 100%|██████████| 1/1 [00:00<00:00, 10.95it/s]\n"
     ]
    },
    {
     "name": "stdout",
     "output_type": "stream",
     "text": [
      "Computed similarity for 'ID_996': 0.6471\n",
      "\n",
      "Processing resume file: 'Resume_of_ID_997.pdf'\n",
      "Extracted resume ID: '997'\n"
     ]
    },
    {
     "name": "stderr",
     "output_type": "stream",
     "text": [
      "Batches: 100%|██████████| 1/1 [00:00<00:00,  9.98it/s]\n",
      "Batches: 100%|██████████| 1/1 [00:00<00:00, 13.23it/s]\n"
     ]
    },
    {
     "name": "stdout",
     "output_type": "stream",
     "text": [
      "Computed similarity for 'ID_997': 0.5156\n",
      "\n",
      "Processing resume file: 'Resume_of_ID_998.pdf'\n",
      "Extracted resume ID: '998'\n"
     ]
    },
    {
     "name": "stderr",
     "output_type": "stream",
     "text": [
      "Batches: 100%|██████████| 1/1 [00:00<00:00,  9.97it/s]\n",
      "Batches: 100%|██████████| 1/1 [00:00<00:00, 11.93it/s]\n"
     ]
    },
    {
     "name": "stdout",
     "output_type": "stream",
     "text": [
      "Computed similarity for 'ID_998': 0.8371\n",
      "\n",
      "Processing resume file: 'Resume_of_ID_999.pdf'\n",
      "Extracted resume ID: '999'\n"
     ]
    },
    {
     "name": "stderr",
     "output_type": "stream",
     "text": [
      "Batches: 100%|██████████| 1/1 [00:00<00:00, 11.85it/s]\n",
      "Batches: 100%|██████████| 1/1 [00:00<00:00, 12.35it/s]\n"
     ]
    },
    {
     "name": "stdout",
     "output_type": "stream",
     "text": [
      "Computed similarity for 'ID_999': 0.6968\n",
      "\n",
      "\n",
      "Collected Similarity Scores:\n",
      "{'resume_id': 'ID_0', 'similarity_score': 0.7417}\n",
      "{'resume_id': 'ID_1', 'similarity_score': 0.7324}\n",
      "{'resume_id': 'ID_10', 'similarity_score': 0.6594}\n",
      "{'resume_id': 'ID_100', 'similarity_score': 0.4572}\n",
      "{'resume_id': 'ID_101', 'similarity_score': 0.4889}\n",
      "{'resume_id': 'ID_102', 'similarity_score': 0.6944}\n",
      "{'resume_id': 'ID_103', 'similarity_score': 0.6464}\n",
      "{'resume_id': 'ID_104', 'similarity_score': 0.6247}\n",
      "{'resume_id': 'ID_105', 'similarity_score': 0.7586}\n",
      "{'resume_id': 'ID_106', 'similarity_score': 0.5832}\n",
      "{'resume_id': 'ID_107', 'similarity_score': 0.7321}\n",
      "{'resume_id': 'ID_108', 'similarity_score': 0.7533}\n",
      "{'resume_id': 'ID_109', 'similarity_score': 0.6703}\n",
      "{'resume_id': 'ID_11', 'similarity_score': 0.6276}\n",
      "{'resume_id': 'ID_110', 'similarity_score': 0.3655}\n",
      "{'resume_id': 'ID_111', 'similarity_score': 0.7335}\n",
      "{'resume_id': 'ID_112', 'similarity_score': 0.7141}\n",
      "{'resume_id': 'ID_113', 'similarity_score': 0.5379}\n",
      "{'resume_id': 'ID_114', 'similarity_score': 0.5762}\n",
      "{'resume_id': 'ID_115', 'similarity_score': 0.7111}\n",
      "{'resume_id': 'ID_116', 'similarity_score': 0.6806}\n",
      "{'resume_id': 'ID_117', 'similarity_score': 0.6388}\n",
      "{'resume_id': 'ID_118', 'similarity_score': 0.6838}\n",
      "{'resume_id': 'ID_119', 'similarity_score': 0.6821}\n",
      "{'resume_id': 'ID_12', 'similarity_score': 0.7257}\n",
      "{'resume_id': 'ID_120', 'similarity_score': 0.6082}\n",
      "{'resume_id': 'ID_121', 'similarity_score': 0.5321}\n",
      "{'resume_id': 'ID_122', 'similarity_score': 0.6979}\n",
      "{'resume_id': 'ID_123', 'similarity_score': 0.7536}\n",
      "{'resume_id': 'ID_124', 'similarity_score': 0.5999}\n",
      "{'resume_id': 'ID_125', 'similarity_score': 0.5472}\n",
      "{'resume_id': 'ID_126', 'similarity_score': 0.6574}\n",
      "{'resume_id': 'ID_127', 'similarity_score': 0.508}\n",
      "{'resume_id': 'ID_128', 'similarity_score': 0.698}\n",
      "{'resume_id': 'ID_129', 'similarity_score': 0.3216}\n",
      "{'resume_id': 'ID_13', 'similarity_score': 0.728}\n",
      "{'resume_id': 'ID_130', 'similarity_score': 0.6251}\n",
      "{'resume_id': 'ID_131', 'similarity_score': 0.562}\n",
      "{'resume_id': 'ID_132', 'similarity_score': None}\n",
      "{'resume_id': 'ID_133', 'similarity_score': 0.6992}\n",
      "{'resume_id': 'ID_134', 'similarity_score': 0.6072}\n",
      "{'resume_id': 'ID_135', 'similarity_score': 0.4713}\n",
      "{'resume_id': 'ID_136', 'similarity_score': 0.7012}\n",
      "{'resume_id': 'ID_137', 'similarity_score': 0.7357}\n",
      "{'resume_id': 'ID_138', 'similarity_score': 0.5143}\n",
      "{'resume_id': 'ID_139', 'similarity_score': 0.7479}\n",
      "{'resume_id': 'ID_14', 'similarity_score': 0.7292}\n",
      "{'resume_id': 'ID_140', 'similarity_score': 0.7101}\n",
      "{'resume_id': 'ID_141', 'similarity_score': None}\n",
      "{'resume_id': 'ID_142', 'similarity_score': 0.7379}\n",
      "{'resume_id': 'ID_143', 'similarity_score': 0.7427}\n",
      "{'resume_id': 'ID_144', 'similarity_score': 0.5022}\n",
      "{'resume_id': 'ID_145', 'similarity_score': 0.6145}\n",
      "{'resume_id': 'ID_146', 'similarity_score': 0.6099}\n",
      "{'resume_id': 'ID_147', 'similarity_score': 0.6041}\n",
      "{'resume_id': 'ID_148', 'similarity_score': 0.6362}\n",
      "{'resume_id': 'ID_149', 'similarity_score': 0.6513}\n",
      "{'resume_id': 'ID_15', 'similarity_score': 0.5958}\n",
      "{'resume_id': 'ID_150', 'similarity_score': 0.6878}\n",
      "{'resume_id': 'ID_151', 'similarity_score': 0.5345}\n",
      "{'resume_id': 'ID_152', 'similarity_score': 0.6826}\n",
      "{'resume_id': 'ID_153', 'similarity_score': 0.6073}\n",
      "{'resume_id': 'ID_154', 'similarity_score': 0.6499}\n",
      "{'resume_id': 'ID_155', 'similarity_score': 0.4639}\n",
      "{'resume_id': 'ID_156', 'similarity_score': 0.7693}\n",
      "{'resume_id': 'ID_157', 'similarity_score': 0.7012}\n",
      "{'resume_id': 'ID_158', 'similarity_score': 0.6681}\n",
      "{'resume_id': 'ID_159', 'similarity_score': 0.7269}\n",
      "{'resume_id': 'ID_16', 'similarity_score': 0.6092}\n",
      "{'resume_id': 'ID_160', 'similarity_score': 0.5919}\n",
      "{'resume_id': 'ID_161', 'similarity_score': 0.7871}\n",
      "{'resume_id': 'ID_162', 'similarity_score': 0.7278}\n",
      "{'resume_id': 'ID_163', 'similarity_score': 0.6368}\n",
      "{'resume_id': 'ID_164', 'similarity_score': 0.6575}\n",
      "{'resume_id': 'ID_165', 'similarity_score': 0.7097}\n",
      "{'resume_id': 'ID_166', 'similarity_score': 0.654}\n",
      "{'resume_id': 'ID_167', 'similarity_score': 0.6415}\n",
      "{'resume_id': 'ID_168', 'similarity_score': 0.7207}\n",
      "{'resume_id': 'ID_169', 'similarity_score': 0.3918}\n",
      "{'resume_id': 'ID_17', 'similarity_score': 0.4319}\n",
      "{'resume_id': 'ID_170', 'similarity_score': 0.5722}\n",
      "{'resume_id': 'ID_171', 'similarity_score': 0.6273}\n",
      "{'resume_id': 'ID_172', 'similarity_score': 0.6296}\n",
      "{'resume_id': 'ID_173', 'similarity_score': 0.6501}\n",
      "{'resume_id': 'ID_174', 'similarity_score': 0.7249}\n",
      "{'resume_id': 'ID_175', 'similarity_score': 0.6115}\n",
      "{'resume_id': 'ID_176', 'similarity_score': 0.4749}\n",
      "{'resume_id': 'ID_177', 'similarity_score': 0.6497}\n",
      "{'resume_id': 'ID_178', 'similarity_score': 0.6954}\n",
      "{'resume_id': 'ID_179', 'similarity_score': 0.6546}\n",
      "{'resume_id': 'ID_18', 'similarity_score': 0.7384}\n",
      "{'resume_id': 'ID_180', 'similarity_score': 0.6631}\n",
      "{'resume_id': 'ID_181', 'similarity_score': 0.7337}\n",
      "{'resume_id': 'ID_182', 'similarity_score': 0.5829}\n",
      "{'resume_id': 'ID_183', 'similarity_score': 0.6259}\n",
      "{'resume_id': 'ID_184', 'similarity_score': 0.395}\n",
      "{'resume_id': 'ID_185', 'similarity_score': 0.7955}\n",
      "{'resume_id': 'ID_186', 'similarity_score': 0.6601}\n",
      "{'resume_id': 'ID_187', 'similarity_score': 0.6617}\n",
      "{'resume_id': 'ID_188', 'similarity_score': None}\n",
      "{'resume_id': 'ID_189', 'similarity_score': 0.7473}\n",
      "{'resume_id': 'ID_19', 'similarity_score': 0.5073}\n",
      "{'resume_id': 'ID_190', 'similarity_score': 0.7797}\n",
      "{'resume_id': 'ID_191', 'similarity_score': 0.6615}\n",
      "{'resume_id': 'ID_192', 'similarity_score': 0.2435}\n",
      "{'resume_id': 'ID_193', 'similarity_score': 0.7661}\n",
      "{'resume_id': 'ID_194', 'similarity_score': 0.595}\n",
      "{'resume_id': 'ID_195', 'similarity_score': 0.5922}\n",
      "{'resume_id': 'ID_196', 'similarity_score': None}\n",
      "{'resume_id': 'ID_197', 'similarity_score': 0.738}\n",
      "{'resume_id': 'ID_198', 'similarity_score': 0.7571}\n",
      "{'resume_id': 'ID_199', 'similarity_score': 0.7046}\n",
      "{'resume_id': 'ID_2', 'similarity_score': 0.6331}\n",
      "{'resume_id': 'ID_20', 'similarity_score': 0.6795}\n",
      "{'resume_id': 'ID_200', 'similarity_score': 0.6954}\n",
      "{'resume_id': 'ID_201', 'similarity_score': 0.7148}\n",
      "{'resume_id': 'ID_202', 'similarity_score': 0.7247}\n",
      "{'resume_id': 'ID_203', 'similarity_score': 0.5786}\n",
      "{'resume_id': 'ID_204', 'similarity_score': 0.6295}\n",
      "{'resume_id': 'ID_205', 'similarity_score': 0.6218}\n",
      "{'resume_id': 'ID_206', 'similarity_score': 0.6461}\n",
      "{'resume_id': 'ID_207', 'similarity_score': 0.5975}\n",
      "{'resume_id': 'ID_208', 'similarity_score': 0.7146}\n",
      "{'resume_id': 'ID_209', 'similarity_score': 0.6503}\n",
      "{'resume_id': 'ID_21', 'similarity_score': 0.7312}\n",
      "{'resume_id': 'ID_210', 'similarity_score': 0.4898}\n",
      "{'resume_id': 'ID_211', 'similarity_score': None}\n",
      "{'resume_id': 'ID_212', 'similarity_score': 0.6461}\n",
      "{'resume_id': 'ID_213', 'similarity_score': 0.6126}\n",
      "{'resume_id': 'ID_214', 'similarity_score': 0.5882}\n",
      "{'resume_id': 'ID_215', 'similarity_score': 0.6078}\n",
      "{'resume_id': 'ID_216', 'similarity_score': 0.7479}\n",
      "{'resume_id': 'ID_217', 'similarity_score': 0.5303}\n",
      "{'resume_id': 'ID_218', 'similarity_score': 0.6917}\n",
      "{'resume_id': 'ID_219', 'similarity_score': 0.7589}\n",
      "{'resume_id': 'ID_22', 'similarity_score': 0.6477}\n",
      "{'resume_id': 'ID_220', 'similarity_score': 0.537}\n",
      "{'resume_id': 'ID_221', 'similarity_score': 0.604}\n",
      "{'resume_id': 'ID_222', 'similarity_score': 0.718}\n",
      "{'resume_id': 'ID_223', 'similarity_score': 0.6469}\n",
      "{'resume_id': 'ID_224', 'similarity_score': 0.4893}\n",
      "{'resume_id': 'ID_225', 'similarity_score': 0.761}\n",
      "{'resume_id': 'ID_226', 'similarity_score': 0.8124}\n",
      "{'resume_id': 'ID_227', 'similarity_score': 0.782}\n",
      "{'resume_id': 'ID_228', 'similarity_score': 0.7033}\n",
      "{'resume_id': 'ID_229', 'similarity_score': 0.763}\n",
      "{'resume_id': 'ID_23', 'similarity_score': 0.6557}\n",
      "{'resume_id': 'ID_230', 'similarity_score': 0.5688}\n",
      "{'resume_id': 'ID_231', 'similarity_score': None}\n",
      "{'resume_id': 'ID_232', 'similarity_score': 0.7323}\n",
      "{'resume_id': 'ID_233', 'similarity_score': 0.6356}\n",
      "{'resume_id': 'ID_234', 'similarity_score': 0.8036}\n",
      "{'resume_id': 'ID_235', 'similarity_score': 0.6512}\n",
      "{'resume_id': 'ID_236', 'similarity_score': 0.6275}\n",
      "{'resume_id': 'ID_237', 'similarity_score': 0.389}\n",
      "{'resume_id': 'ID_238', 'similarity_score': 0.7025}\n",
      "{'resume_id': 'ID_239', 'similarity_score': 0.621}\n",
      "{'resume_id': 'ID_24', 'similarity_score': 0.6716}\n",
      "{'resume_id': 'ID_240', 'similarity_score': 0.8019}\n",
      "{'resume_id': 'ID_241', 'similarity_score': 0.7247}\n",
      "{'resume_id': 'ID_242', 'similarity_score': 0.7318}\n",
      "{'resume_id': 'ID_243', 'similarity_score': 0.7166}\n",
      "{'resume_id': 'ID_244', 'similarity_score': 0.6696}\n",
      "{'resume_id': 'ID_245', 'similarity_score': 0.6045}\n",
      "{'resume_id': 'ID_246', 'similarity_score': 0.6563}\n",
      "{'resume_id': 'ID_247', 'similarity_score': 0.471}\n",
      "{'resume_id': 'ID_248', 'similarity_score': 0.6806}\n",
      "{'resume_id': 'ID_249', 'similarity_score': 0.5276}\n",
      "{'resume_id': 'ID_25', 'similarity_score': 0.5751}\n",
      "{'resume_id': 'ID_250', 'similarity_score': 0.5878}\n",
      "{'resume_id': 'ID_251', 'similarity_score': 0.5193}\n",
      "{'resume_id': 'ID_252', 'similarity_score': 0.6761}\n",
      "{'resume_id': 'ID_253', 'similarity_score': 0.611}\n",
      "{'resume_id': 'ID_254', 'similarity_score': 0.4417}\n",
      "{'resume_id': 'ID_255', 'similarity_score': 0.6937}\n",
      "{'resume_id': 'ID_256', 'similarity_score': 0.7455}\n",
      "{'resume_id': 'ID_257', 'similarity_score': 0.6998}\n",
      "{'resume_id': 'ID_258', 'similarity_score': 0.6869}\n",
      "{'resume_id': 'ID_259', 'similarity_score': 0.6237}\n",
      "{'resume_id': 'ID_26', 'similarity_score': 0.6723}\n",
      "{'resume_id': 'ID_260', 'similarity_score': 0.6018}\n",
      "{'resume_id': 'ID_261', 'similarity_score': 0.6248}\n",
      "{'resume_id': 'ID_262', 'similarity_score': 0.6965}\n",
      "{'resume_id': 'ID_263', 'similarity_score': 0.5487}\n",
      "{'resume_id': 'ID_264', 'similarity_score': 0.6429}\n",
      "{'resume_id': 'ID_265', 'similarity_score': 0.5979}\n",
      "{'resume_id': 'ID_266', 'similarity_score': 0.6647}\n",
      "{'resume_id': 'ID_267', 'similarity_score': 0.7174}\n",
      "{'resume_id': 'ID_268', 'similarity_score': 0.5345}\n",
      "{'resume_id': 'ID_269', 'similarity_score': 0.6321}\n",
      "{'resume_id': 'ID_27', 'similarity_score': 0.6136}\n",
      "{'resume_id': 'ID_270', 'similarity_score': 0.7033}\n",
      "{'resume_id': 'ID_271', 'similarity_score': 0.5708}\n",
      "{'resume_id': 'ID_272', 'similarity_score': 0.7052}\n",
      "{'resume_id': 'ID_273', 'similarity_score': 0.6657}\n",
      "{'resume_id': 'ID_274', 'similarity_score': 0.7999}\n",
      "{'resume_id': 'ID_275', 'similarity_score': 0.721}\n",
      "{'resume_id': 'ID_276', 'similarity_score': 0.7484}\n",
      "{'resume_id': 'ID_277', 'similarity_score': 0.779}\n",
      "{'resume_id': 'ID_278', 'similarity_score': None}\n",
      "{'resume_id': 'ID_279', 'similarity_score': 0.4361}\n",
      "{'resume_id': 'ID_28', 'similarity_score': 0.477}\n",
      "{'resume_id': 'ID_280', 'similarity_score': 0.6494}\n",
      "{'resume_id': 'ID_281', 'similarity_score': 0.6645}\n",
      "{'resume_id': 'ID_282', 'similarity_score': 0.7266}\n",
      "{'resume_id': 'ID_283', 'similarity_score': 0.5776}\n",
      "{'resume_id': 'ID_284', 'similarity_score': 0.786}\n",
      "{'resume_id': 'ID_285', 'similarity_score': 0.5373}\n",
      "{'resume_id': 'ID_286', 'similarity_score': 0.7583}\n",
      "{'resume_id': 'ID_287', 'similarity_score': 0.4912}\n",
      "{'resume_id': 'ID_288', 'similarity_score': 0.7095}\n",
      "{'resume_id': 'ID_289', 'similarity_score': 0.6901}\n",
      "{'resume_id': 'ID_29', 'similarity_score': 0.7701}\n",
      "{'resume_id': 'ID_290', 'similarity_score': 0.5822}\n",
      "{'resume_id': 'ID_291', 'similarity_score': 0.7901}\n",
      "{'resume_id': 'ID_292', 'similarity_score': 0.6842}\n",
      "{'resume_id': 'ID_293', 'similarity_score': 0.5947}\n",
      "{'resume_id': 'ID_294', 'similarity_score': 0.489}\n",
      "{'resume_id': 'ID_295', 'similarity_score': 0.5714}\n",
      "{'resume_id': 'ID_296', 'similarity_score': 0.5915}\n",
      "{'resume_id': 'ID_297', 'similarity_score': 0.6914}\n",
      "{'resume_id': 'ID_298', 'similarity_score': 0.6044}\n",
      "{'resume_id': 'ID_299', 'similarity_score': 0.8019}\n",
      "{'resume_id': 'ID_3', 'similarity_score': 0.693}\n",
      "{'resume_id': 'ID_30', 'similarity_score': 0.7792}\n",
      "{'resume_id': 'ID_300', 'similarity_score': 0.6469}\n",
      "{'resume_id': 'ID_301', 'similarity_score': 0.6529}\n",
      "{'resume_id': 'ID_302', 'similarity_score': 0.6143}\n",
      "{'resume_id': 'ID_303', 'similarity_score': 0.6902}\n",
      "{'resume_id': 'ID_304', 'similarity_score': 0.6261}\n",
      "{'resume_id': 'ID_305', 'similarity_score': 0.6519}\n",
      "{'resume_id': 'ID_306', 'similarity_score': 0.7142}\n",
      "{'resume_id': 'ID_307', 'similarity_score': 0.6628}\n",
      "{'resume_id': 'ID_308', 'similarity_score': 0.7387}\n",
      "{'resume_id': 'ID_309', 'similarity_score': 0.6703}\n",
      "{'resume_id': 'ID_31', 'similarity_score': 0.6331}\n",
      "{'resume_id': 'ID_310', 'similarity_score': 0.564}\n",
      "{'resume_id': 'ID_311', 'similarity_score': 0.7584}\n",
      "{'resume_id': 'ID_312', 'similarity_score': 0.5229}\n",
      "{'resume_id': 'ID_313', 'similarity_score': 0.5182}\n",
      "{'resume_id': 'ID_314', 'similarity_score': 0.3732}\n",
      "{'resume_id': 'ID_315', 'similarity_score': 0.5443}\n",
      "{'resume_id': 'ID_316', 'similarity_score': 0.492}\n",
      "{'resume_id': 'ID_317', 'similarity_score': 0.5264}\n",
      "{'resume_id': 'ID_318', 'similarity_score': 0.634}\n",
      "{'resume_id': 'ID_319', 'similarity_score': 0.6899}\n",
      "{'resume_id': 'ID_32', 'similarity_score': 0.5608}\n",
      "{'resume_id': 'ID_320', 'similarity_score': 0.6122}\n",
      "{'resume_id': 'ID_321', 'similarity_score': 0.6292}\n",
      "{'resume_id': 'ID_322', 'similarity_score': 0.6432}\n",
      "{'resume_id': 'ID_323', 'similarity_score': 0.7285}\n",
      "{'resume_id': 'ID_324', 'similarity_score': 0.6426}\n",
      "{'resume_id': 'ID_325', 'similarity_score': 0.5567}\n",
      "{'resume_id': 'ID_326', 'similarity_score': 0.742}\n",
      "{'resume_id': 'ID_327', 'similarity_score': 0.5802}\n",
      "{'resume_id': 'ID_328', 'similarity_score': 0.7645}\n",
      "{'resume_id': 'ID_329', 'similarity_score': 0.7245}\n",
      "{'resume_id': 'ID_33', 'similarity_score': 0.5859}\n",
      "{'resume_id': 'ID_330', 'similarity_score': 0.6512}\n",
      "{'resume_id': 'ID_331', 'similarity_score': 0.7358}\n",
      "{'resume_id': 'ID_332', 'similarity_score': 0.6185}\n",
      "{'resume_id': 'ID_333', 'similarity_score': 0.8249}\n",
      "{'resume_id': 'ID_334', 'similarity_score': 0.5845}\n",
      "{'resume_id': 'ID_335', 'similarity_score': 0.6261}\n",
      "{'resume_id': 'ID_336', 'similarity_score': 0.6767}\n",
      "{'resume_id': 'ID_337', 'similarity_score': 0.5524}\n",
      "{'resume_id': 'ID_338', 'similarity_score': 0.7147}\n",
      "{'resume_id': 'ID_339', 'similarity_score': 0.7357}\n",
      "{'resume_id': 'ID_34', 'similarity_score': 0.5057}\n",
      "{'resume_id': 'ID_340', 'similarity_score': 0.6393}\n",
      "{'resume_id': 'ID_341', 'similarity_score': 0.6073}\n",
      "{'resume_id': 'ID_342', 'similarity_score': 0.6778}\n",
      "{'resume_id': 'ID_343', 'similarity_score': 0.7823}\n",
      "{'resume_id': 'ID_344', 'similarity_score': 0.7047}\n",
      "{'resume_id': 'ID_345', 'similarity_score': 0.5996}\n",
      "{'resume_id': 'ID_346', 'similarity_score': 0.6462}\n",
      "{'resume_id': 'ID_347', 'similarity_score': 0.5732}\n",
      "{'resume_id': 'ID_348', 'similarity_score': 0.3795}\n",
      "{'resume_id': 'ID_349', 'similarity_score': 0.5831}\n",
      "{'resume_id': 'ID_35', 'similarity_score': 0.7486}\n",
      "{'resume_id': 'ID_350', 'similarity_score': 0.7362}\n",
      "{'resume_id': 'ID_351', 'similarity_score': 0.5326}\n",
      "{'resume_id': 'ID_352', 'similarity_score': 0.4098}\n",
      "{'resume_id': 'ID_353', 'similarity_score': 0.6841}\n",
      "{'resume_id': 'ID_354', 'similarity_score': 0.8011}\n",
      "{'resume_id': 'ID_355', 'similarity_score': 0.5313}\n",
      "{'resume_id': 'ID_356', 'similarity_score': 0.836}\n",
      "{'resume_id': 'ID_357', 'similarity_score': 0.7861}\n",
      "{'resume_id': 'ID_358', 'similarity_score': 0.761}\n",
      "{'resume_id': 'ID_359', 'similarity_score': 0.5768}\n",
      "{'resume_id': 'ID_36', 'similarity_score': 0.5801}\n",
      "{'resume_id': 'ID_360', 'similarity_score': 0.4304}\n",
      "{'resume_id': 'ID_361', 'similarity_score': 0.7296}\n",
      "{'resume_id': 'ID_362', 'similarity_score': 0.6728}\n",
      "{'resume_id': 'ID_363', 'similarity_score': 0.6102}\n",
      "{'resume_id': 'ID_364', 'similarity_score': 0.7368}\n",
      "{'resume_id': 'ID_365', 'similarity_score': 0.5907}\n",
      "{'resume_id': 'ID_366', 'similarity_score': 0.7116}\n",
      "{'resume_id': 'ID_367', 'similarity_score': 0.4677}\n",
      "{'resume_id': 'ID_368', 'similarity_score': 0.6237}\n",
      "{'resume_id': 'ID_369', 'similarity_score': 0.7784}\n",
      "{'resume_id': 'ID_37', 'similarity_score': 0.6773}\n",
      "{'resume_id': 'ID_370', 'similarity_score': 0.7449}\n",
      "{'resume_id': 'ID_371', 'similarity_score': 0.6758}\n",
      "{'resume_id': 'ID_372', 'similarity_score': 0.7179}\n",
      "{'resume_id': 'ID_373', 'similarity_score': None}\n",
      "{'resume_id': 'ID_374', 'similarity_score': 0.6519}\n",
      "{'resume_id': 'ID_375', 'similarity_score': 0.7983}\n",
      "{'resume_id': 'ID_376', 'similarity_score': 0.6196}\n",
      "{'resume_id': 'ID_377', 'similarity_score': 0.7117}\n",
      "{'resume_id': 'ID_378', 'similarity_score': 0.6798}\n",
      "{'resume_id': 'ID_379', 'similarity_score': 0.7417}\n",
      "{'resume_id': 'ID_38', 'similarity_score': 0.5226}\n",
      "{'resume_id': 'ID_380', 'similarity_score': 0.4104}\n",
      "{'resume_id': 'ID_381', 'similarity_score': 0.6561}\n",
      "{'resume_id': 'ID_382', 'similarity_score': 0.5192}\n",
      "{'resume_id': 'ID_383', 'similarity_score': 0.4655}\n",
      "{'resume_id': 'ID_384', 'similarity_score': 0.7095}\n",
      "{'resume_id': 'ID_385', 'similarity_score': 0.5984}\n",
      "{'resume_id': 'ID_386', 'similarity_score': 0.6819}\n",
      "{'resume_id': 'ID_387', 'similarity_score': 0.5959}\n",
      "{'resume_id': 'ID_388', 'similarity_score': 0.714}\n",
      "{'resume_id': 'ID_389', 'similarity_score': 0.7085}\n",
      "{'resume_id': 'ID_39', 'similarity_score': 0.5982}\n",
      "{'resume_id': 'ID_390', 'similarity_score': 0.6213}\n",
      "{'resume_id': 'ID_391', 'similarity_score': 0.5489}\n",
      "{'resume_id': 'ID_392', 'similarity_score': 0.6733}\n",
      "{'resume_id': 'ID_393', 'similarity_score': 0.5955}\n",
      "{'resume_id': 'ID_394', 'similarity_score': 0.5968}\n",
      "{'resume_id': 'ID_395', 'similarity_score': 0.62}\n",
      "{'resume_id': 'ID_396', 'similarity_score': 0.6852}\n",
      "{'resume_id': 'ID_397', 'similarity_score': 0.591}\n",
      "{'resume_id': 'ID_398', 'similarity_score': 0.7377}\n",
      "{'resume_id': 'ID_399', 'similarity_score': 0.5828}\n",
      "{'resume_id': 'ID_4', 'similarity_score': 0.6715}\n",
      "{'resume_id': 'ID_40', 'similarity_score': 0.6677}\n",
      "{'resume_id': 'ID_400', 'similarity_score': 0.7052}\n",
      "{'resume_id': 'ID_401', 'similarity_score': 0.5004}\n",
      "{'resume_id': 'ID_402', 'similarity_score': 0.7479}\n",
      "{'resume_id': 'ID_403', 'similarity_score': 0.7427}\n",
      "{'resume_id': 'ID_404', 'similarity_score': 0.7302}\n",
      "{'resume_id': 'ID_405', 'similarity_score': 0.5298}\n",
      "{'resume_id': 'ID_406', 'similarity_score': 0.7838}\n",
      "{'resume_id': 'ID_407', 'similarity_score': 0.7462}\n",
      "{'resume_id': 'ID_408', 'similarity_score': 0.6228}\n",
      "{'resume_id': 'ID_409', 'similarity_score': 0.6806}\n",
      "{'resume_id': 'ID_41', 'similarity_score': 0.6327}\n",
      "{'resume_id': 'ID_410', 'similarity_score': 0.6633}\n",
      "{'resume_id': 'ID_411', 'similarity_score': 0.5055}\n",
      "{'resume_id': 'ID_412', 'similarity_score': 0.5105}\n",
      "{'resume_id': 'ID_413', 'similarity_score': 0.6986}\n",
      "{'resume_id': 'ID_414', 'similarity_score': 0.6923}\n",
      "{'resume_id': 'ID_415', 'similarity_score': 0.5619}\n",
      "{'resume_id': 'ID_416', 'similarity_score': 0.6356}\n",
      "{'resume_id': 'ID_417', 'similarity_score': 0.5516}\n",
      "{'resume_id': 'ID_418', 'similarity_score': 0.6785}\n",
      "{'resume_id': 'ID_419', 'similarity_score': 0.5538}\n",
      "{'resume_id': 'ID_42', 'similarity_score': 0.732}\n",
      "{'resume_id': 'ID_420', 'similarity_score': 0.7165}\n",
      "{'resume_id': 'ID_421', 'similarity_score': 0.4826}\n",
      "{'resume_id': 'ID_422', 'similarity_score': 0.6864}\n",
      "{'resume_id': 'ID_423', 'similarity_score': 0.6972}\n",
      "{'resume_id': 'ID_424', 'similarity_score': 0.6372}\n",
      "{'resume_id': 'ID_425', 'similarity_score': 0.6686}\n",
      "{'resume_id': 'ID_426', 'similarity_score': 0.6846}\n",
      "{'resume_id': 'ID_427', 'similarity_score': 0.7742}\n",
      "{'resume_id': 'ID_428', 'similarity_score': 0.6298}\n",
      "{'resume_id': 'ID_429', 'similarity_score': 0.5536}\n",
      "{'resume_id': 'ID_43', 'similarity_score': 0.8048}\n",
      "{'resume_id': 'ID_430', 'similarity_score': 0.7288}\n",
      "{'resume_id': 'ID_431', 'similarity_score': 0.6441}\n",
      "{'resume_id': 'ID_432', 'similarity_score': 0.5209}\n",
      "{'resume_id': 'ID_433', 'similarity_score': 0.5197}\n",
      "{'resume_id': 'ID_434', 'similarity_score': 0.6796}\n",
      "{'resume_id': 'ID_435', 'similarity_score': 0.6848}\n",
      "{'resume_id': 'ID_436', 'similarity_score': 0.7278}\n",
      "{'resume_id': 'ID_437', 'similarity_score': 0.6908}\n",
      "{'resume_id': 'ID_438', 'similarity_score': 0.6041}\n",
      "{'resume_id': 'ID_439', 'similarity_score': 0.7319}\n",
      "{'resume_id': 'ID_44', 'similarity_score': 0.5407}\n",
      "{'resume_id': 'ID_440', 'similarity_score': 0.5363}\n",
      "{'resume_id': 'ID_441', 'similarity_score': 0.6476}\n",
      "{'resume_id': 'ID_442', 'similarity_score': 0.6562}\n",
      "{'resume_id': 'ID_443', 'similarity_score': 0.7511}\n",
      "{'resume_id': 'ID_444', 'similarity_score': 0.6825}\n",
      "{'resume_id': 'ID_445', 'similarity_score': 0.5784}\n",
      "{'resume_id': 'ID_446', 'similarity_score': 0.8038}\n",
      "{'resume_id': 'ID_447', 'similarity_score': 0.5905}\n",
      "{'resume_id': 'ID_448', 'similarity_score': 0.6452}\n",
      "{'resume_id': 'ID_449', 'similarity_score': 0.6423}\n",
      "{'resume_id': 'ID_45', 'similarity_score': 0.4375}\n",
      "{'resume_id': 'ID_450', 'similarity_score': 0.6115}\n",
      "{'resume_id': 'ID_451', 'similarity_score': None}\n",
      "{'resume_id': 'ID_452', 'similarity_score': 0.5915}\n",
      "{'resume_id': 'ID_453', 'similarity_score': 0.5266}\n",
      "{'resume_id': 'ID_454', 'similarity_score': 0.6866}\n",
      "{'resume_id': 'ID_455', 'similarity_score': 0.5959}\n",
      "{'resume_id': 'ID_456', 'similarity_score': 0.5515}\n",
      "{'resume_id': 'ID_457', 'similarity_score': 0.6759}\n",
      "{'resume_id': 'ID_458', 'similarity_score': 0.7453}\n",
      "{'resume_id': 'ID_459', 'similarity_score': 0.8317}\n",
      "{'resume_id': 'ID_46', 'similarity_score': 0.5822}\n",
      "{'resume_id': 'ID_460', 'similarity_score': 0.542}\n",
      "{'resume_id': 'ID_461', 'similarity_score': 0.675}\n",
      "{'resume_id': 'ID_462', 'similarity_score': 0.7793}\n",
      "{'resume_id': 'ID_463', 'similarity_score': 0.3784}\n",
      "{'resume_id': 'ID_464', 'similarity_score': 0.5897}\n",
      "{'resume_id': 'ID_465', 'similarity_score': 0.6152}\n",
      "{'resume_id': 'ID_466', 'similarity_score': 0.7032}\n",
      "{'resume_id': 'ID_467', 'similarity_score': 0.6589}\n",
      "{'resume_id': 'ID_468', 'similarity_score': 0.6348}\n",
      "{'resume_id': 'ID_469', 'similarity_score': 0.5096}\n",
      "{'resume_id': 'ID_47', 'similarity_score': 0.6943}\n",
      "{'resume_id': 'ID_470', 'similarity_score': 0.7045}\n",
      "{'resume_id': 'ID_471', 'similarity_score': 0.6617}\n",
      "{'resume_id': 'ID_472', 'similarity_score': 0.6197}\n",
      "{'resume_id': 'ID_473', 'similarity_score': 0.7397}\n",
      "{'resume_id': 'ID_474', 'similarity_score': None}\n",
      "{'resume_id': 'ID_475', 'similarity_score': 0.69}\n",
      "{'resume_id': 'ID_476', 'similarity_score': 0.5309}\n",
      "{'resume_id': 'ID_477', 'similarity_score': 0.6124}\n",
      "{'resume_id': 'ID_478', 'similarity_score': 0.5945}\n",
      "{'resume_id': 'ID_479', 'similarity_score': 0.772}\n",
      "{'resume_id': 'ID_48', 'similarity_score': 0.5211}\n",
      "{'resume_id': 'ID_480', 'similarity_score': 0.6471}\n",
      "{'resume_id': 'ID_481', 'similarity_score': 0.6018}\n",
      "{'resume_id': 'ID_482', 'similarity_score': 0.739}\n",
      "{'resume_id': 'ID_483', 'similarity_score': 0.7151}\n",
      "{'resume_id': 'ID_484', 'similarity_score': 0.6672}\n",
      "{'resume_id': 'ID_485', 'similarity_score': 0.5753}\n",
      "{'resume_id': 'ID_486', 'similarity_score': 0.6506}\n",
      "{'resume_id': 'ID_487', 'similarity_score': 0.5379}\n",
      "{'resume_id': 'ID_488', 'similarity_score': 0.6438}\n",
      "{'resume_id': 'ID_489', 'similarity_score': 0.7117}\n",
      "{'resume_id': 'ID_49', 'similarity_score': 0.7307}\n",
      "{'resume_id': 'ID_490', 'similarity_score': 0.5421}\n",
      "{'resume_id': 'ID_491', 'similarity_score': 0.6364}\n",
      "{'resume_id': 'ID_492', 'similarity_score': 0.6176}\n",
      "{'resume_id': 'ID_493', 'similarity_score': 0.6328}\n",
      "{'resume_id': 'ID_494', 'similarity_score': 0.6298}\n",
      "{'resume_id': 'ID_495', 'similarity_score': 0.6674}\n",
      "{'resume_id': 'ID_496', 'similarity_score': 0.8032}\n",
      "{'resume_id': 'ID_497', 'similarity_score': 0.7035}\n",
      "{'resume_id': 'ID_498', 'similarity_score': 0.7252}\n",
      "{'resume_id': 'ID_499', 'similarity_score': 0.5423}\n",
      "{'resume_id': 'ID_5', 'similarity_score': 0.6891}\n",
      "{'resume_id': 'ID_50', 'similarity_score': 0.6499}\n",
      "{'resume_id': 'ID_500', 'similarity_score': 0.7674}\n",
      "{'resume_id': 'ID_501', 'similarity_score': 0.5469}\n",
      "{'resume_id': 'ID_502', 'similarity_score': 0.7845}\n",
      "{'resume_id': 'ID_503', 'similarity_score': 0.5882}\n",
      "{'resume_id': 'ID_504', 'similarity_score': 0.3998}\n",
      "{'resume_id': 'ID_505', 'similarity_score': 0.7413}\n",
      "{'resume_id': 'ID_506', 'similarity_score': 0.7091}\n",
      "{'resume_id': 'ID_507', 'similarity_score': 0.7378}\n",
      "{'resume_id': 'ID_508', 'similarity_score': 0.7592}\n",
      "{'resume_id': 'ID_509', 'similarity_score': 0.7182}\n",
      "{'resume_id': 'ID_51', 'similarity_score': 0.6295}\n",
      "{'resume_id': 'ID_510', 'similarity_score': 0.5156}\n",
      "{'resume_id': 'ID_511', 'similarity_score': 0.6054}\n",
      "{'resume_id': 'ID_512', 'similarity_score': 0.6223}\n",
      "{'resume_id': 'ID_513', 'similarity_score': 0.7396}\n",
      "{'resume_id': 'ID_514', 'similarity_score': 0.6419}\n",
      "{'resume_id': 'ID_515', 'similarity_score': 0.675}\n",
      "{'resume_id': 'ID_516', 'similarity_score': 0.6817}\n",
      "{'resume_id': 'ID_517', 'similarity_score': 0.61}\n",
      "{'resume_id': 'ID_518', 'similarity_score': 0.6834}\n",
      "{'resume_id': 'ID_519', 'similarity_score': 0.638}\n",
      "{'resume_id': 'ID_52', 'similarity_score': 0.6858}\n",
      "{'resume_id': 'ID_520', 'similarity_score': 0.5755}\n",
      "{'resume_id': 'ID_521', 'similarity_score': 0.6922}\n",
      "{'resume_id': 'ID_522', 'similarity_score': 0.6511}\n",
      "{'resume_id': 'ID_523', 'similarity_score': 0.4237}\n",
      "{'resume_id': 'ID_524', 'similarity_score': 0.562}\n",
      "{'resume_id': 'ID_525', 'similarity_score': 0.6829}\n",
      "{'resume_id': 'ID_526', 'similarity_score': 0.7468}\n",
      "{'resume_id': 'ID_527', 'similarity_score': 0.7217}\n",
      "{'resume_id': 'ID_528', 'similarity_score': 0.6928}\n",
      "{'resume_id': 'ID_529', 'similarity_score': 0.7353}\n",
      "{'resume_id': 'ID_53', 'similarity_score': 0.6213}\n",
      "{'resume_id': 'ID_530', 'similarity_score': 0.8229}\n",
      "{'resume_id': 'ID_531', 'similarity_score': 0.7186}\n",
      "{'resume_id': 'ID_532', 'similarity_score': 0.7326}\n",
      "{'resume_id': 'ID_533', 'similarity_score': 0.2956}\n",
      "{'resume_id': 'ID_534', 'similarity_score': 0.5202}\n",
      "{'resume_id': 'ID_535', 'similarity_score': 0.6689}\n",
      "{'resume_id': 'ID_536', 'similarity_score': 0.6829}\n",
      "{'resume_id': 'ID_537', 'similarity_score': 0.5182}\n",
      "{'resume_id': 'ID_538', 'similarity_score': 0.6424}\n",
      "{'resume_id': 'ID_539', 'similarity_score': 0.7718}\n",
      "{'resume_id': 'ID_54', 'similarity_score': 0.6602}\n",
      "{'resume_id': 'ID_540', 'similarity_score': 0.5228}\n",
      "{'resume_id': 'ID_541', 'similarity_score': 0.5038}\n",
      "{'resume_id': 'ID_542', 'similarity_score': 0.6769}\n",
      "{'resume_id': 'ID_543', 'similarity_score': 0.6835}\n",
      "{'resume_id': 'ID_544', 'similarity_score': 0.6101}\n",
      "{'resume_id': 'ID_545', 'similarity_score': 0.6173}\n",
      "{'resume_id': 'ID_546', 'similarity_score': 0.7548}\n",
      "{'resume_id': 'ID_547', 'similarity_score': 0.7507}\n",
      "{'resume_id': 'ID_548', 'similarity_score': 0.6218}\n",
      "{'resume_id': 'ID_549', 'similarity_score': 0.7086}\n",
      "{'resume_id': 'ID_55', 'similarity_score': 0.7734}\n",
      "{'resume_id': 'ID_550', 'similarity_score': 0.6893}\n",
      "{'resume_id': 'ID_551', 'similarity_score': 0.7029}\n",
      "{'resume_id': 'ID_552', 'similarity_score': 0.6377}\n",
      "{'resume_id': 'ID_553', 'similarity_score': 0.7846}\n",
      "{'resume_id': 'ID_554', 'similarity_score': 0.4212}\n",
      "{'resume_id': 'ID_555', 'similarity_score': 0.5572}\n",
      "{'resume_id': 'ID_556', 'similarity_score': 0.5956}\n",
      "{'resume_id': 'ID_557', 'similarity_score': 0.6788}\n",
      "{'resume_id': 'ID_558', 'similarity_score': 0.6927}\n",
      "{'resume_id': 'ID_559', 'similarity_score': 0.5816}\n",
      "{'resume_id': 'ID_56', 'similarity_score': 0.5802}\n",
      "{'resume_id': 'ID_560', 'similarity_score': 0.7322}\n",
      "{'resume_id': 'ID_561', 'similarity_score': 0.6752}\n",
      "{'resume_id': 'ID_562', 'similarity_score': 0.6464}\n",
      "{'resume_id': 'ID_563', 'similarity_score': None}\n",
      "{'resume_id': 'ID_564', 'similarity_score': 0.6632}\n",
      "{'resume_id': 'ID_565', 'similarity_score': 0.5482}\n",
      "{'resume_id': 'ID_566', 'similarity_score': 0.6444}\n",
      "{'resume_id': 'ID_567', 'similarity_score': 0.6074}\n",
      "{'resume_id': 'ID_568', 'similarity_score': 0.7655}\n",
      "{'resume_id': 'ID_569', 'similarity_score': 0.6862}\n",
      "{'resume_id': 'ID_57', 'similarity_score': 0.616}\n",
      "{'resume_id': 'ID_570', 'similarity_score': 0.5911}\n",
      "{'resume_id': 'ID_571', 'similarity_score': 0.6976}\n",
      "{'resume_id': 'ID_572', 'similarity_score': 0.7728}\n",
      "{'resume_id': 'ID_573', 'similarity_score': None}\n",
      "{'resume_id': 'ID_574', 'similarity_score': 0.7267}\n",
      "{'resume_id': 'ID_575', 'similarity_score': 0.6354}\n",
      "{'resume_id': 'ID_576', 'similarity_score': 0.6719}\n",
      "{'resume_id': 'ID_577', 'similarity_score': 0.6602}\n",
      "{'resume_id': 'ID_578', 'similarity_score': 0.6561}\n",
      "{'resume_id': 'ID_579', 'similarity_score': 0.7662}\n",
      "{'resume_id': 'ID_58', 'similarity_score': 0.6554}\n",
      "{'resume_id': 'ID_580', 'similarity_score': 0.6111}\n",
      "{'resume_id': 'ID_581', 'similarity_score': 0.731}\n",
      "{'resume_id': 'ID_582', 'similarity_score': 0.664}\n",
      "{'resume_id': 'ID_583', 'similarity_score': 0.6891}\n",
      "{'resume_id': 'ID_584', 'similarity_score': 0.7025}\n",
      "{'resume_id': 'ID_585', 'similarity_score': 0.5862}\n",
      "{'resume_id': 'ID_586', 'similarity_score': 0.5064}\n",
      "{'resume_id': 'ID_587', 'similarity_score': 0.662}\n",
      "{'resume_id': 'ID_588', 'similarity_score': 0.5718}\n",
      "{'resume_id': 'ID_589', 'similarity_score': 0.6722}\n",
      "{'resume_id': 'ID_59', 'similarity_score': 0.8037}\n",
      "{'resume_id': 'ID_590', 'similarity_score': 0.6436}\n",
      "{'resume_id': 'ID_591', 'similarity_score': 0.6892}\n",
      "{'resume_id': 'ID_592', 'similarity_score': 0.5895}\n",
      "{'resume_id': 'ID_593', 'similarity_score': 0.5138}\n",
      "{'resume_id': 'ID_594', 'similarity_score': 0.5862}\n",
      "{'resume_id': 'ID_595', 'similarity_score': 0.5273}\n",
      "{'resume_id': 'ID_596', 'similarity_score': 0.6141}\n",
      "{'resume_id': 'ID_597', 'similarity_score': 0.6193}\n",
      "{'resume_id': 'ID_598', 'similarity_score': 0.6498}\n",
      "{'resume_id': 'ID_599', 'similarity_score': 0.7544}\n",
      "{'resume_id': 'ID_6', 'similarity_score': 0.7115}\n",
      "{'resume_id': 'ID_60', 'similarity_score': 0.7195}\n",
      "{'resume_id': 'ID_600', 'similarity_score': 0.8284}\n",
      "{'resume_id': 'ID_601', 'similarity_score': 0.7551}\n",
      "{'resume_id': 'ID_602', 'similarity_score': 0.6685}\n",
      "{'resume_id': 'ID_603', 'similarity_score': None}\n",
      "{'resume_id': 'ID_604', 'similarity_score': 0.6129}\n",
      "{'resume_id': 'ID_605', 'similarity_score': 0.5411}\n",
      "{'resume_id': 'ID_606', 'similarity_score': 0.7509}\n",
      "{'resume_id': 'ID_607', 'similarity_score': 0.7882}\n",
      "{'resume_id': 'ID_608', 'similarity_score': 0.7809}\n",
      "{'resume_id': 'ID_609', 'similarity_score': 0.6179}\n",
      "{'resume_id': 'ID_61', 'similarity_score': 0.6561}\n",
      "{'resume_id': 'ID_610', 'similarity_score': 0.6161}\n",
      "{'resume_id': 'ID_611', 'similarity_score': 0.7215}\n",
      "{'resume_id': 'ID_612', 'similarity_score': 0.5873}\n",
      "{'resume_id': 'ID_613', 'similarity_score': 0.6721}\n",
      "{'resume_id': 'ID_614', 'similarity_score': 0.6808}\n",
      "{'resume_id': 'ID_615', 'similarity_score': 0.5148}\n",
      "{'resume_id': 'ID_616', 'similarity_score': 0.6873}\n",
      "{'resume_id': 'ID_617', 'similarity_score': 0.6174}\n",
      "{'resume_id': 'ID_618', 'similarity_score': 0.7406}\n",
      "{'resume_id': 'ID_619', 'similarity_score': 0.6039}\n",
      "{'resume_id': 'ID_62', 'similarity_score': 0.5871}\n",
      "{'resume_id': 'ID_620', 'similarity_score': 0.6267}\n",
      "{'resume_id': 'ID_621', 'similarity_score': 0.6052}\n",
      "{'resume_id': 'ID_622', 'similarity_score': 0.6393}\n",
      "{'resume_id': 'ID_623', 'similarity_score': 0.6094}\n",
      "{'resume_id': 'ID_624', 'similarity_score': 0.6126}\n",
      "{'resume_id': 'ID_625', 'similarity_score': 0.7157}\n",
      "{'resume_id': 'ID_626', 'similarity_score': 0.7186}\n",
      "{'resume_id': 'ID_627', 'similarity_score': 0.6587}\n",
      "{'resume_id': 'ID_628', 'similarity_score': 0.726}\n",
      "{'resume_id': 'ID_629', 'similarity_score': 0.7244}\n",
      "{'resume_id': 'ID_63', 'similarity_score': 0.4773}\n",
      "{'resume_id': 'ID_630', 'similarity_score': None}\n",
      "{'resume_id': 'ID_631', 'similarity_score': 0.6808}\n",
      "{'resume_id': 'ID_632', 'similarity_score': 0.7129}\n",
      "{'resume_id': 'ID_633', 'similarity_score': 0.5299}\n",
      "{'resume_id': 'ID_634', 'similarity_score': 0.669}\n",
      "{'resume_id': 'ID_635', 'similarity_score': 0.6559}\n",
      "{'resume_id': 'ID_636', 'similarity_score': 0.7343}\n",
      "{'resume_id': 'ID_637', 'similarity_score': 0.5372}\n",
      "{'resume_id': 'ID_638', 'similarity_score': 0.6042}\n",
      "{'resume_id': 'ID_639', 'similarity_score': None}\n",
      "{'resume_id': 'ID_64', 'similarity_score': 0.8193}\n",
      "{'resume_id': 'ID_640', 'similarity_score': 0.7132}\n",
      "{'resume_id': 'ID_641', 'similarity_score': 0.6054}\n",
      "{'resume_id': 'ID_642', 'similarity_score': 0.4609}\n",
      "{'resume_id': 'ID_643', 'similarity_score': 0.6948}\n",
      "{'resume_id': 'ID_644', 'similarity_score': 0.6476}\n",
      "{'resume_id': 'ID_645', 'similarity_score': 0.6825}\n",
      "{'resume_id': 'ID_646', 'similarity_score': 0.6986}\n",
      "{'resume_id': 'ID_647', 'similarity_score': None}\n",
      "{'resume_id': 'ID_648', 'similarity_score': 0.7176}\n",
      "{'resume_id': 'ID_649', 'similarity_score': 0.6086}\n",
      "{'resume_id': 'ID_65', 'similarity_score': 0.6561}\n",
      "{'resume_id': 'ID_650', 'similarity_score': 0.7777}\n",
      "{'resume_id': 'ID_651', 'similarity_score': 0.7831}\n",
      "{'resume_id': 'ID_652', 'similarity_score': 0.7446}\n",
      "{'resume_id': 'ID_653', 'similarity_score': 0.6446}\n",
      "{'resume_id': 'ID_654', 'similarity_score': 0.7144}\n",
      "{'resume_id': 'ID_655', 'similarity_score': 0.6732}\n",
      "{'resume_id': 'ID_656', 'similarity_score': 0.7463}\n",
      "{'resume_id': 'ID_657', 'similarity_score': 0.5921}\n",
      "{'resume_id': 'ID_658', 'similarity_score': 0.7525}\n",
      "{'resume_id': 'ID_659', 'similarity_score': 0.7654}\n",
      "{'resume_id': 'ID_66', 'similarity_score': 0.4879}\n",
      "{'resume_id': 'ID_660', 'similarity_score': 0.6199}\n",
      "{'resume_id': 'ID_661', 'similarity_score': 0.6663}\n",
      "{'resume_id': 'ID_662', 'similarity_score': 0.7446}\n",
      "{'resume_id': 'ID_663', 'similarity_score': 0.7458}\n",
      "{'resume_id': 'ID_664', 'similarity_score': 0.65}\n",
      "{'resume_id': 'ID_665', 'similarity_score': 0.5309}\n",
      "{'resume_id': 'ID_666', 'similarity_score': 0.6335}\n",
      "{'resume_id': 'ID_667', 'similarity_score': 0.6566}\n",
      "{'resume_id': 'ID_668', 'similarity_score': 0.8354}\n",
      "{'resume_id': 'ID_669', 'similarity_score': 0.6935}\n",
      "{'resume_id': 'ID_67', 'similarity_score': 0.6859}\n",
      "{'resume_id': 'ID_670', 'similarity_score': 0.6201}\n",
      "{'resume_id': 'ID_671', 'similarity_score': 0.6488}\n",
      "{'resume_id': 'ID_672', 'similarity_score': 0.3011}\n",
      "{'resume_id': 'ID_673', 'similarity_score': 0.722}\n",
      "{'resume_id': 'ID_674', 'similarity_score': 0.6234}\n",
      "{'resume_id': 'ID_675', 'similarity_score': 0.6947}\n",
      "{'resume_id': 'ID_676', 'similarity_score': 0.7323}\n",
      "{'resume_id': 'ID_677', 'similarity_score': None}\n",
      "{'resume_id': 'ID_678', 'similarity_score': 0.687}\n",
      "{'resume_id': 'ID_679', 'similarity_score': 0.6754}\n",
      "{'resume_id': 'ID_68', 'similarity_score': 0.7559}\n",
      "{'resume_id': 'ID_680', 'similarity_score': 0.4335}\n",
      "{'resume_id': 'ID_681', 'similarity_score': 0.6251}\n",
      "{'resume_id': 'ID_682', 'similarity_score': 0.7535}\n",
      "{'resume_id': 'ID_683', 'similarity_score': 0.6334}\n",
      "{'resume_id': 'ID_684', 'similarity_score': 0.5364}\n",
      "{'resume_id': 'ID_685', 'similarity_score': 0.7301}\n",
      "{'resume_id': 'ID_686', 'similarity_score': 0.6911}\n",
      "{'resume_id': 'ID_687', 'similarity_score': 0.6241}\n",
      "{'resume_id': 'ID_688', 'similarity_score': 0.8253}\n",
      "{'resume_id': 'ID_689', 'similarity_score': 0.6267}\n",
      "{'resume_id': 'ID_69', 'similarity_score': 0.5672}\n",
      "{'resume_id': 'ID_690', 'similarity_score': 0.7444}\n",
      "{'resume_id': 'ID_691', 'similarity_score': 0.7912}\n",
      "{'resume_id': 'ID_692', 'similarity_score': 0.7298}\n",
      "{'resume_id': 'ID_693', 'similarity_score': 0.5372}\n",
      "{'resume_id': 'ID_694', 'similarity_score': 0.8127}\n",
      "{'resume_id': 'ID_695', 'similarity_score': 0.7253}\n",
      "{'resume_id': 'ID_696', 'similarity_score': 0.6877}\n",
      "{'resume_id': 'ID_697', 'similarity_score': 0.6488}\n",
      "{'resume_id': 'ID_698', 'similarity_score': None}\n",
      "{'resume_id': 'ID_699', 'similarity_score': None}\n",
      "{'resume_id': 'ID_7', 'similarity_score': 0.7114}\n",
      "{'resume_id': 'ID_70', 'similarity_score': 0.6893}\n",
      "{'resume_id': 'ID_700', 'similarity_score': 0.7577}\n",
      "{'resume_id': 'ID_701', 'similarity_score': 0.7457}\n",
      "{'resume_id': 'ID_702', 'similarity_score': 0.5716}\n",
      "{'resume_id': 'ID_703', 'similarity_score': 0.7475}\n",
      "{'resume_id': 'ID_704', 'similarity_score': 0.6912}\n",
      "{'resume_id': 'ID_705', 'similarity_score': 0.7079}\n",
      "{'resume_id': 'ID_706', 'similarity_score': 0.5914}\n",
      "{'resume_id': 'ID_707', 'similarity_score': 0.5749}\n",
      "{'resume_id': 'ID_708', 'similarity_score': 0.6652}\n",
      "{'resume_id': 'ID_709', 'similarity_score': 0.5545}\n",
      "{'resume_id': 'ID_71', 'similarity_score': 0.6544}\n",
      "{'resume_id': 'ID_710', 'similarity_score': 0.7165}\n",
      "{'resume_id': 'ID_711', 'similarity_score': 0.5883}\n",
      "{'resume_id': 'ID_712', 'similarity_score': 0.786}\n",
      "{'resume_id': 'ID_713', 'similarity_score': None}\n",
      "{'resume_id': 'ID_714', 'similarity_score': 0.6404}\n",
      "{'resume_id': 'ID_715', 'similarity_score': 0.664}\n",
      "{'resume_id': 'ID_716', 'similarity_score': 0.6261}\n",
      "{'resume_id': 'ID_717', 'similarity_score': 0.4274}\n",
      "{'resume_id': 'ID_718', 'similarity_score': 0.5106}\n",
      "{'resume_id': 'ID_719', 'similarity_score': 0.5816}\n",
      "{'resume_id': 'ID_72', 'similarity_score': 0.603}\n",
      "{'resume_id': 'ID_720', 'similarity_score': 0.6939}\n",
      "{'resume_id': 'ID_721', 'similarity_score': 0.3439}\n",
      "{'resume_id': 'ID_722', 'similarity_score': 0.6683}\n",
      "{'resume_id': 'ID_723', 'similarity_score': 0.687}\n",
      "{'resume_id': 'ID_724', 'similarity_score': 0.5972}\n",
      "{'resume_id': 'ID_725', 'similarity_score': 0.7502}\n",
      "{'resume_id': 'ID_726', 'similarity_score': 0.6461}\n",
      "{'resume_id': 'ID_727', 'similarity_score': 0.619}\n",
      "{'resume_id': 'ID_728', 'similarity_score': 0.707}\n",
      "{'resume_id': 'ID_729', 'similarity_score': 0.648}\n",
      "{'resume_id': 'ID_73', 'similarity_score': 0.4867}\n",
      "{'resume_id': 'ID_730', 'similarity_score': 0.6676}\n",
      "{'resume_id': 'ID_731', 'similarity_score': 0.6506}\n",
      "{'resume_id': 'ID_732', 'similarity_score': 0.7146}\n",
      "{'resume_id': 'ID_733', 'similarity_score': 0.5945}\n",
      "{'resume_id': 'ID_734', 'similarity_score': 0.5679}\n",
      "{'resume_id': 'ID_735', 'similarity_score': 0.7059}\n",
      "{'resume_id': 'ID_736', 'similarity_score': 0.6101}\n",
      "{'resume_id': 'ID_737', 'similarity_score': 0.6332}\n",
      "{'resume_id': 'ID_738', 'similarity_score': 0.6335}\n",
      "{'resume_id': 'ID_739', 'similarity_score': 0.6305}\n",
      "{'resume_id': 'ID_74', 'similarity_score': 0.7552}\n",
      "{'resume_id': 'ID_740', 'similarity_score': 0.6781}\n",
      "{'resume_id': 'ID_741', 'similarity_score': 0.7478}\n",
      "{'resume_id': 'ID_742', 'similarity_score': 0.7495}\n",
      "{'resume_id': 'ID_743', 'similarity_score': 0.7214}\n",
      "{'resume_id': 'ID_744', 'similarity_score': 0.6661}\n",
      "{'resume_id': 'ID_745', 'similarity_score': 0.8304}\n",
      "{'resume_id': 'ID_746', 'similarity_score': 0.5571}\n",
      "{'resume_id': 'ID_747', 'similarity_score': 0.7056}\n",
      "{'resume_id': 'ID_748', 'similarity_score': 0.7006}\n",
      "{'resume_id': 'ID_749', 'similarity_score': 0.6844}\n",
      "{'resume_id': 'ID_75', 'similarity_score': 0.7086}\n",
      "{'resume_id': 'ID_750', 'similarity_score': 0.6219}\n",
      "{'resume_id': 'ID_751', 'similarity_score': 0.8477}\n",
      "{'resume_id': 'ID_752', 'similarity_score': 0.7281}\n",
      "{'resume_id': 'ID_753', 'similarity_score': 0.6147}\n",
      "{'resume_id': 'ID_754', 'similarity_score': 0.5964}\n",
      "{'resume_id': 'ID_755', 'similarity_score': 0.5875}\n",
      "{'resume_id': 'ID_756', 'similarity_score': 0.621}\n",
      "{'resume_id': 'ID_757', 'similarity_score': None}\n",
      "{'resume_id': 'ID_758', 'similarity_score': 0.6665}\n",
      "{'resume_id': 'ID_759', 'similarity_score': 0.7006}\n",
      "{'resume_id': 'ID_76', 'similarity_score': 0.7038}\n",
      "{'resume_id': 'ID_760', 'similarity_score': 0.7193}\n",
      "{'resume_id': 'ID_761', 'similarity_score': 0.6967}\n",
      "{'resume_id': 'ID_762', 'similarity_score': 0.2977}\n",
      "{'resume_id': 'ID_763', 'similarity_score': 0.7241}\n",
      "{'resume_id': 'ID_764', 'similarity_score': 0.7104}\n",
      "{'resume_id': 'ID_765', 'similarity_score': 0.6756}\n",
      "{'resume_id': 'ID_766', 'similarity_score': 0.6283}\n",
      "{'resume_id': 'ID_767', 'similarity_score': 0.7063}\n",
      "{'resume_id': 'ID_768', 'similarity_score': 0.5605}\n",
      "{'resume_id': 'ID_769', 'similarity_score': 0.7282}\n",
      "{'resume_id': 'ID_77', 'similarity_score': 0.5985}\n",
      "{'resume_id': 'ID_770', 'similarity_score': 0.6426}\n",
      "{'resume_id': 'ID_771', 'similarity_score': 0.5211}\n",
      "{'resume_id': 'ID_772', 'similarity_score': 0.7604}\n",
      "{'resume_id': 'ID_773', 'similarity_score': 0.6389}\n",
      "{'resume_id': 'ID_774', 'similarity_score': 0.6247}\n",
      "{'resume_id': 'ID_775', 'similarity_score': 0.6462}\n",
      "{'resume_id': 'ID_776', 'similarity_score': 0.6947}\n",
      "{'resume_id': 'ID_777', 'similarity_score': 0.6102}\n",
      "{'resume_id': 'ID_778', 'similarity_score': None}\n",
      "{'resume_id': 'ID_779', 'similarity_score': 0.6943}\n",
      "{'resume_id': 'ID_78', 'similarity_score': 0.6759}\n",
      "{'resume_id': 'ID_780', 'similarity_score': 0.6229}\n",
      "{'resume_id': 'ID_781', 'similarity_score': 0.6266}\n",
      "{'resume_id': 'ID_782', 'similarity_score': 0.7652}\n",
      "{'resume_id': 'ID_783', 'similarity_score': 0.6651}\n",
      "{'resume_id': 'ID_784', 'similarity_score': 0.7713}\n",
      "{'resume_id': 'ID_785', 'similarity_score': 0.7206}\n",
      "{'resume_id': 'ID_786', 'similarity_score': 0.6683}\n",
      "{'resume_id': 'ID_787', 'similarity_score': None}\n",
      "{'resume_id': 'ID_788', 'similarity_score': 0.7075}\n",
      "{'resume_id': 'ID_789', 'similarity_score': 0.551}\n",
      "{'resume_id': 'ID_79', 'similarity_score': 0.6666}\n",
      "{'resume_id': 'ID_790', 'similarity_score': 0.6637}\n",
      "{'resume_id': 'ID_791', 'similarity_score': 0.5855}\n",
      "{'resume_id': 'ID_792', 'similarity_score': 0.6374}\n",
      "{'resume_id': 'ID_793', 'similarity_score': 0.7359}\n",
      "{'resume_id': 'ID_794', 'similarity_score': 0.7205}\n",
      "{'resume_id': 'ID_795', 'similarity_score': 0.6426}\n",
      "{'resume_id': 'ID_796', 'similarity_score': 0.7626}\n",
      "{'resume_id': 'ID_797', 'similarity_score': 0.6775}\n",
      "{'resume_id': 'ID_798', 'similarity_score': 0.727}\n",
      "{'resume_id': 'ID_799', 'similarity_score': 0.7611}\n",
      "{'resume_id': 'ID_8', 'similarity_score': 0.7153}\n",
      "{'resume_id': 'ID_80', 'similarity_score': 0.5722}\n",
      "{'resume_id': 'ID_800', 'similarity_score': 0.6177}\n",
      "{'resume_id': 'ID_801', 'similarity_score': 0.6825}\n",
      "{'resume_id': 'ID_802', 'similarity_score': 0.6691}\n",
      "{'resume_id': 'ID_803', 'similarity_score': 0.6045}\n",
      "{'resume_id': 'ID_804', 'similarity_score': 0.6325}\n",
      "{'resume_id': 'ID_805', 'similarity_score': None}\n",
      "{'resume_id': 'ID_806', 'similarity_score': 0.6181}\n",
      "{'resume_id': 'ID_807', 'similarity_score': 0.5939}\n",
      "{'resume_id': 'ID_808', 'similarity_score': 0.3857}\n",
      "{'resume_id': 'ID_809', 'similarity_score': 0.6402}\n",
      "{'resume_id': 'ID_81', 'similarity_score': 0.678}\n",
      "{'resume_id': 'ID_810', 'similarity_score': 0.5219}\n",
      "{'resume_id': 'ID_811', 'similarity_score': 0.587}\n",
      "{'resume_id': 'ID_812', 'similarity_score': 0.5326}\n",
      "{'resume_id': 'ID_813', 'similarity_score': 0.709}\n",
      "{'resume_id': 'ID_814', 'similarity_score': 0.6389}\n",
      "{'resume_id': 'ID_815', 'similarity_score': 0.7374}\n",
      "{'resume_id': 'ID_816', 'similarity_score': 0.7325}\n",
      "{'resume_id': 'ID_817', 'similarity_score': 0.5707}\n",
      "{'resume_id': 'ID_818', 'similarity_score': 0.7072}\n",
      "{'resume_id': 'ID_819', 'similarity_score': 0.6331}\n",
      "{'resume_id': 'ID_82', 'similarity_score': 0.5063}\n",
      "{'resume_id': 'ID_820', 'similarity_score': 0.7411}\n",
      "{'resume_id': 'ID_821', 'similarity_score': 0.7793}\n",
      "{'resume_id': 'ID_822', 'similarity_score': 0.7003}\n",
      "{'resume_id': 'ID_823', 'similarity_score': 0.4481}\n",
      "{'resume_id': 'ID_824', 'similarity_score': 0.5013}\n",
      "{'resume_id': 'ID_825', 'similarity_score': 0.4974}\n",
      "{'resume_id': 'ID_826', 'similarity_score': 0.5849}\n",
      "{'resume_id': 'ID_827', 'similarity_score': 0.6276}\n",
      "{'resume_id': 'ID_828', 'similarity_score': 0.7505}\n",
      "{'resume_id': 'ID_829', 'similarity_score': 0.5734}\n",
      "{'resume_id': 'ID_83', 'similarity_score': 0.6573}\n",
      "{'resume_id': 'ID_830', 'similarity_score': 0.6708}\n",
      "{'resume_id': 'ID_831', 'similarity_score': 0.7849}\n",
      "{'resume_id': 'ID_832', 'similarity_score': 0.5647}\n",
      "{'resume_id': 'ID_833', 'similarity_score': 0.7902}\n",
      "{'resume_id': 'ID_834', 'similarity_score': 0.7382}\n",
      "{'resume_id': 'ID_835', 'similarity_score': 0.6037}\n",
      "{'resume_id': 'ID_836', 'similarity_score': 0.6691}\n",
      "{'resume_id': 'ID_837', 'similarity_score': 0.5167}\n",
      "{'resume_id': 'ID_838', 'similarity_score': 0.7868}\n",
      "{'resume_id': 'ID_839', 'similarity_score': 0.6662}\n",
      "{'resume_id': 'ID_84', 'similarity_score': 0.6182}\n",
      "{'resume_id': 'ID_840', 'similarity_score': None}\n",
      "{'resume_id': 'ID_841', 'similarity_score': 0.6339}\n",
      "{'resume_id': 'ID_842', 'similarity_score': 0.4897}\n",
      "{'resume_id': 'ID_843', 'similarity_score': 0.68}\n",
      "{'resume_id': 'ID_844', 'similarity_score': 0.652}\n",
      "{'resume_id': 'ID_845', 'similarity_score': 0.6902}\n",
      "{'resume_id': 'ID_846', 'similarity_score': 0.4857}\n",
      "{'resume_id': 'ID_847', 'similarity_score': 0.6969}\n",
      "{'resume_id': 'ID_848', 'similarity_score': 0.6503}\n",
      "{'resume_id': 'ID_849', 'similarity_score': 0.7437}\n",
      "{'resume_id': 'ID_85', 'similarity_score': None}\n",
      "{'resume_id': 'ID_850', 'similarity_score': 0.6723}\n",
      "{'resume_id': 'ID_851', 'similarity_score': 0.6685}\n",
      "{'resume_id': 'ID_852', 'similarity_score': 0.6517}\n",
      "{'resume_id': 'ID_853', 'similarity_score': 0.4907}\n",
      "{'resume_id': 'ID_854', 'similarity_score': 0.6502}\n",
      "{'resume_id': 'ID_855', 'similarity_score': 0.5079}\n",
      "{'resume_id': 'ID_856', 'similarity_score': 0.5285}\n",
      "{'resume_id': 'ID_857', 'similarity_score': 0.6556}\n",
      "{'resume_id': 'ID_858', 'similarity_score': 0.6717}\n",
      "{'resume_id': 'ID_859', 'similarity_score': 0.633}\n",
      "{'resume_id': 'ID_86', 'similarity_score': 0.6693}\n",
      "{'resume_id': 'ID_860', 'similarity_score': 0.4622}\n",
      "{'resume_id': 'ID_861', 'similarity_score': 0.5497}\n",
      "{'resume_id': 'ID_862', 'similarity_score': 0.7827}\n",
      "{'resume_id': 'ID_863', 'similarity_score': 0.7485}\n",
      "{'resume_id': 'ID_864', 'similarity_score': 0.6838}\n",
      "{'resume_id': 'ID_865', 'similarity_score': 0.7026}\n",
      "{'resume_id': 'ID_866', 'similarity_score': None}\n",
      "{'resume_id': 'ID_867', 'similarity_score': 0.5871}\n",
      "{'resume_id': 'ID_868', 'similarity_score': None}\n",
      "{'resume_id': 'ID_869', 'similarity_score': None}\n",
      "{'resume_id': 'ID_87', 'similarity_score': 0.6521}\n",
      "{'resume_id': 'ID_870', 'similarity_score': 0.626}\n",
      "{'resume_id': 'ID_871', 'similarity_score': None}\n",
      "{'resume_id': 'ID_872', 'similarity_score': 0.5805}\n",
      "{'resume_id': 'ID_873', 'similarity_score': 0.6935}\n",
      "{'resume_id': 'ID_874', 'similarity_score': 0.7041}\n",
      "{'resume_id': 'ID_875', 'similarity_score': 0.7555}\n",
      "{'resume_id': 'ID_876', 'similarity_score': None}\n",
      "{'resume_id': 'ID_877', 'similarity_score': 0.5483}\n",
      "{'resume_id': 'ID_878', 'similarity_score': 0.5295}\n",
      "{'resume_id': 'ID_879', 'similarity_score': 0.6414}\n",
      "{'resume_id': 'ID_88', 'similarity_score': 0.7322}\n",
      "{'resume_id': 'ID_880', 'similarity_score': 0.6087}\n",
      "{'resume_id': 'ID_881', 'similarity_score': 0.6317}\n",
      "{'resume_id': 'ID_882', 'similarity_score': 0.6933}\n",
      "{'resume_id': 'ID_883', 'similarity_score': 0.6938}\n",
      "{'resume_id': 'ID_884', 'similarity_score': 0.3034}\n",
      "{'resume_id': 'ID_885', 'similarity_score': 0.443}\n",
      "{'resume_id': 'ID_886', 'similarity_score': 0.458}\n",
      "{'resume_id': 'ID_887', 'similarity_score': 0.7569}\n",
      "{'resume_id': 'ID_888', 'similarity_score': 0.597}\n",
      "{'resume_id': 'ID_889', 'similarity_score': 0.7067}\n",
      "{'resume_id': 'ID_89', 'similarity_score': 0.5735}\n",
      "{'resume_id': 'ID_890', 'similarity_score': 0.615}\n",
      "{'resume_id': 'ID_891', 'similarity_score': 0.7474}\n",
      "{'resume_id': 'ID_892', 'similarity_score': 0.6187}\n",
      "{'resume_id': 'ID_893', 'similarity_score': 0.7369}\n",
      "{'resume_id': 'ID_894', 'similarity_score': 0.724}\n",
      "{'resume_id': 'ID_895', 'similarity_score': 0.6468}\n",
      "{'resume_id': 'ID_896', 'similarity_score': 0.7325}\n",
      "{'resume_id': 'ID_897', 'similarity_score': 0.7213}\n",
      "{'resume_id': 'ID_898', 'similarity_score': 0.7671}\n",
      "{'resume_id': 'ID_899', 'similarity_score': 0.6922}\n",
      "{'resume_id': 'ID_9', 'similarity_score': 0.6203}\n",
      "{'resume_id': 'ID_90', 'similarity_score': 0.6186}\n",
      "{'resume_id': 'ID_900', 'similarity_score': 0.6647}\n",
      "{'resume_id': 'ID_901', 'similarity_score': 0.5755}\n",
      "{'resume_id': 'ID_902', 'similarity_score': 0.5421}\n",
      "{'resume_id': 'ID_903', 'similarity_score': 0.7396}\n",
      "{'resume_id': 'ID_904', 'similarity_score': 0.685}\n",
      "{'resume_id': 'ID_905', 'similarity_score': 0.635}\n",
      "{'resume_id': 'ID_906', 'similarity_score': 0.5932}\n",
      "{'resume_id': 'ID_907', 'similarity_score': 0.6553}\n",
      "{'resume_id': 'ID_908', 'similarity_score': 0.5008}\n",
      "{'resume_id': 'ID_909', 'similarity_score': 0.6237}\n",
      "{'resume_id': 'ID_91', 'similarity_score': None}\n",
      "{'resume_id': 'ID_910', 'similarity_score': None}\n",
      "{'resume_id': 'ID_911', 'similarity_score': 0.6042}\n",
      "{'resume_id': 'ID_912', 'similarity_score': 0.6246}\n",
      "{'resume_id': 'ID_913', 'similarity_score': 0.6057}\n",
      "{'resume_id': 'ID_914', 'similarity_score': 0.7516}\n",
      "{'resume_id': 'ID_915', 'similarity_score': 0.5881}\n",
      "{'resume_id': 'ID_916', 'similarity_score': 0.7427}\n",
      "{'resume_id': 'ID_917', 'similarity_score': 0.6619}\n",
      "{'resume_id': 'ID_918', 'similarity_score': 0.5716}\n",
      "{'resume_id': 'ID_919', 'similarity_score': 0.4445}\n",
      "{'resume_id': 'ID_92', 'similarity_score': 0.5468}\n",
      "{'resume_id': 'ID_920', 'similarity_score': 0.7116}\n",
      "{'resume_id': 'ID_921', 'similarity_score': None}\n",
      "{'resume_id': 'ID_922', 'similarity_score': 0.3672}\n",
      "{'resume_id': 'ID_923', 'similarity_score': 0.5037}\n",
      "{'resume_id': 'ID_924', 'similarity_score': 0.5736}\n",
      "{'resume_id': 'ID_925', 'similarity_score': 0.6069}\n",
      "{'resume_id': 'ID_926', 'similarity_score': 0.7356}\n",
      "{'resume_id': 'ID_927', 'similarity_score': 0.7055}\n",
      "{'resume_id': 'ID_928', 'similarity_score': 0.6942}\n",
      "{'resume_id': 'ID_929', 'similarity_score': 0.69}\n",
      "{'resume_id': 'ID_93', 'similarity_score': 0.6643}\n",
      "{'resume_id': 'ID_930', 'similarity_score': 0.6847}\n",
      "{'resume_id': 'ID_931', 'similarity_score': 0.5702}\n",
      "{'resume_id': 'ID_932', 'similarity_score': 0.7364}\n",
      "{'resume_id': 'ID_933', 'similarity_score': 0.6213}\n",
      "{'resume_id': 'ID_934', 'similarity_score': 0.7281}\n",
      "{'resume_id': 'ID_935', 'similarity_score': 0.7154}\n",
      "{'resume_id': 'ID_936', 'similarity_score': 0.5948}\n",
      "{'resume_id': 'ID_937', 'similarity_score': 0.7405}\n",
      "{'resume_id': 'ID_938', 'similarity_score': 0.7188}\n",
      "{'resume_id': 'ID_939', 'similarity_score': 0.5121}\n",
      "{'resume_id': 'ID_94', 'similarity_score': 0.6331}\n",
      "{'resume_id': 'ID_940', 'similarity_score': 0.7837}\n",
      "{'resume_id': 'ID_941', 'similarity_score': 0.6695}\n",
      "{'resume_id': 'ID_942', 'similarity_score': 0.4815}\n",
      "{'resume_id': 'ID_943', 'similarity_score': 0.7522}\n",
      "{'resume_id': 'ID_944', 'similarity_score': None}\n",
      "{'resume_id': 'ID_945', 'similarity_score': 0.6689}\n",
      "{'resume_id': 'ID_946', 'similarity_score': 0.5513}\n",
      "{'resume_id': 'ID_947', 'similarity_score': 0.6868}\n",
      "{'resume_id': 'ID_948', 'similarity_score': 0.5818}\n",
      "{'resume_id': 'ID_949', 'similarity_score': 0.6516}\n",
      "{'resume_id': 'ID_95', 'similarity_score': 0.5844}\n",
      "{'resume_id': 'ID_950', 'similarity_score': 0.7321}\n",
      "{'resume_id': 'ID_951', 'similarity_score': 0.6755}\n",
      "{'resume_id': 'ID_952', 'similarity_score': 0.7516}\n",
      "{'resume_id': 'ID_953', 'similarity_score': 0.6461}\n",
      "{'resume_id': 'ID_954', 'similarity_score': 0.6034}\n",
      "{'resume_id': 'ID_955', 'similarity_score': 0.7806}\n",
      "{'resume_id': 'ID_956', 'similarity_score': 0.6407}\n",
      "{'resume_id': 'ID_957', 'similarity_score': 0.7149}\n",
      "{'resume_id': 'ID_958', 'similarity_score': 0.8164}\n",
      "{'resume_id': 'ID_959', 'similarity_score': 0.697}\n",
      "{'resume_id': 'ID_96', 'similarity_score': 0.5199}\n",
      "{'resume_id': 'ID_960', 'similarity_score': 0.6416}\n",
      "{'resume_id': 'ID_961', 'similarity_score': 0.7382}\n",
      "{'resume_id': 'ID_962', 'similarity_score': 0.7694}\n",
      "{'resume_id': 'ID_963', 'similarity_score': 0.8443}\n",
      "{'resume_id': 'ID_964', 'similarity_score': 0.6141}\n",
      "{'resume_id': 'ID_965', 'similarity_score': 0.6504}\n",
      "{'resume_id': 'ID_966', 'similarity_score': 0.4287}\n",
      "{'resume_id': 'ID_967', 'similarity_score': 0.5771}\n",
      "{'resume_id': 'ID_968', 'similarity_score': 0.7686}\n",
      "{'resume_id': 'ID_969', 'similarity_score': 0.6994}\n",
      "{'resume_id': 'ID_97', 'similarity_score': 0.7988}\n",
      "{'resume_id': 'ID_970', 'similarity_score': 0.7688}\n",
      "{'resume_id': 'ID_971', 'similarity_score': 0.617}\n",
      "{'resume_id': 'ID_972', 'similarity_score': 0.4773}\n",
      "{'resume_id': 'ID_973', 'similarity_score': 0.4705}\n",
      "{'resume_id': 'ID_974', 'similarity_score': None}\n",
      "{'resume_id': 'ID_975', 'similarity_score': 0.6596}\n",
      "{'resume_id': 'ID_976', 'similarity_score': 0.7788}\n",
      "{'resume_id': 'ID_977', 'similarity_score': 0.5962}\n",
      "{'resume_id': 'ID_978', 'similarity_score': 0.6995}\n",
      "{'resume_id': 'ID_979', 'similarity_score': 0.6381}\n",
      "{'resume_id': 'ID_98', 'similarity_score': 0.6531}\n",
      "{'resume_id': 'ID_980', 'similarity_score': 0.7798}\n",
      "{'resume_id': 'ID_981', 'similarity_score': 0.7514}\n",
      "{'resume_id': 'ID_982', 'similarity_score': 0.8079}\n",
      "{'resume_id': 'ID_983', 'similarity_score': 0.6212}\n",
      "{'resume_id': 'ID_984', 'similarity_score': 0.2805}\n",
      "{'resume_id': 'ID_985', 'similarity_score': 0.7339}\n",
      "{'resume_id': 'ID_986', 'similarity_score': 0.4055}\n",
      "{'resume_id': 'ID_987', 'similarity_score': 0.3668}\n",
      "{'resume_id': 'ID_988', 'similarity_score': 0.5367}\n",
      "{'resume_id': 'ID_989', 'similarity_score': 0.7424}\n",
      "{'resume_id': 'ID_99', 'similarity_score': 0.7534}\n",
      "{'resume_id': 'ID_990', 'similarity_score': 0.7863}\n",
      "{'resume_id': 'ID_991', 'similarity_score': 0.6204}\n",
      "{'resume_id': 'ID_992', 'similarity_score': 0.7685}\n",
      "{'resume_id': 'ID_993', 'similarity_score': 0.6381}\n",
      "{'resume_id': 'ID_994', 'similarity_score': 0.7246}\n",
      "{'resume_id': 'ID_995', 'similarity_score': 0.7182}\n",
      "{'resume_id': 'ID_996', 'similarity_score': 0.6471}\n",
      "{'resume_id': 'ID_997', 'similarity_score': 0.5156}\n",
      "{'resume_id': 'ID_998', 'similarity_score': 0.8371}\n",
      "{'resume_id': 'ID_999', 'similarity_score': 0.6968}\n",
      "\n",
      "Creating DataFrame...\n",
      "DataFrame created with columns: ['resume_id', 'similarity_score']\n",
      "\n",
      "Handling missing similarity scores...\n",
      "Dropped 36 entries with missing similarity scores.\n",
      "\n",
      "Similarity scores successfully saved to 'similarity_scores.csv'.\n"
     ]
    }
   ],
   "source": [
    "# Configure logging\n",
    "logging.basicConfig(\n",
    "    filename='similarity_script.log',\n",
    "    filemode='a',  # Append to existing log\n",
    "    level=logging.INFO,\n",
    "    format='%(asctime)s - %(levelname)s - %(message)s'\n",
    ")\n",
    "\n",
    "def read_text_file(file_path):\n",
    "    \"\"\"\n",
    "    Reads text from a given .txt file path, trying utf-8 and then latin1 encodings.\n",
    "    Optionally, detects encoding using chardet.\n",
    "    \"\"\"\n",
    "    try:\n",
    "        # Option 1: Attempt with utf-8 and fallback to latin1\n",
    "        with open(file_path, 'r', encoding='utf-8') as file:\n",
    "            content = file.read().strip()\n",
    "            if not content:\n",
    "                logging.warning(f\"The file '{file_path}' is empty.\")\n",
    "            return content\n",
    "    except UnicodeDecodeError:\n",
    "        logging.warning(f\"UnicodeDecodeError: Attempting to read '{file_path}' with 'latin1' encoding.\")\n",
    "        try:\n",
    "            with open(file_path, 'r', encoding='latin1') as file:\n",
    "                content = file.read().strip()\n",
    "                if not content:\n",
    "                    logging.warning(f\"The file '{file_path}' is empty.\")\n",
    "                return content\n",
    "        except Exception as e:\n",
    "            logging.error(f\"Error reading '{file_path}' with 'latin1' encoding: {e}\")\n",
    "            return \"\"\n",
    "    except Exception as e:\n",
    "        logging.error(f\"Error reading '{file_path}': {e}\")\n",
    "        return \"\"\n",
    "\n",
    "    # Option 2: Use chardet for encoding detection\n",
    "    # Uncomment below if you prefer encoding detection\n",
    "    \"\"\"\n",
    "    try:\n",
    "        with open(file_path, 'rb') as file:\n",
    "            raw_data = file.read()\n",
    "            result = chardet.detect(raw_data)\n",
    "            encoding = result['encoding']\n",
    "            confidence = result['confidence']\n",
    "            if encoding is None or confidence < 0.5:\n",
    "                logging.warning(f\"Low confidence in encoding detection for '{file_path}'. Using 'utf-8' as fallback.\")\n",
    "                encoding = 'utf-8'\n",
    "            text = raw_data.decode(encoding).strip()\n",
    "            if not text:\n",
    "                logging.warning(f\"The file '{file_path}' is empty.\")\n",
    "            return text\n",
    "    except Exception as e:\n",
    "        logging.error(f\"Error reading '{file_path}': {e}\")\n",
    "        return \"\"\n",
    "    \"\"\"\n",
    "\n",
    "def read_pdf_file(file_path):\n",
    "    \"\"\"\n",
    "    Extracts text from a given .pdf file path using PyPDF2.\n",
    "    Handles encrypted and non-text PDFs.\n",
    "    \"\"\"\n",
    "    try:\n",
    "        with open(file_path, 'rb') as file:\n",
    "            reader = PyPDF2.PdfReader(file)\n",
    "            \n",
    "            # Check if PDF is encrypted\n",
    "            if reader.is_encrypted:\n",
    "                try:\n",
    "                    reader.decrypt(\"\")  # Attempt to decrypt with an empty password\n",
    "                    logging.info(f\"Decrypted '{file_path}' with empty password.\")\n",
    "                except PdfReadError:\n",
    "                    logging.error(f\"Cannot decrypt '{file_path}'. It may require a password.\")\n",
    "                    return \"\"\n",
    "            \n",
    "            text = \"\"\n",
    "            for page_num, page in enumerate(reader.pages):\n",
    "                try:\n",
    "                    page_text = page.extract_text()\n",
    "                    if page_text:\n",
    "                        text += page_text.strip() + \" \"\n",
    "                    else:\n",
    "                        logging.warning(f\"No text found on page {page_num + 1} of '{file_path}'.\")\n",
    "                except Exception as e:\n",
    "                    logging.error(f\"Error extracting text from page {page_num + 1} of '{file_path}': {e}\")\n",
    "            if not text.strip():\n",
    "                logging.warning(f\"The PDF '{file_path}' contains no extractable text.\")\n",
    "            return text.strip()\n",
    "    except PdfReadError as e:\n",
    "        logging.error(f\"Unable to read '{file_path}': {e}\")\n",
    "        return \"\"\n",
    "    except Exception as e:\n",
    "        logging.error(f\"Error reading '{file_path}': {e}\")\n",
    "        return \"\"\n",
    "\n",
    "def read_recommendation_letters(letters_dir):\n",
    "    \"\"\"\n",
    "    Reads and concatenates all recommendation letters for a given resume_id.\n",
    "    Handles only .txt files.\n",
    "    \"\"\"\n",
    "    letters = []\n",
    "    if not os.path.exists(letters_dir):\n",
    "        logging.warning(f\"Recommendation letters directory '{letters_dir}' does not exist.\")\n",
    "        return ' '.join(letters)\n",
    "    \n",
    "    letters_files = [f for f in os.listdir(letters_dir) if f.lower().endswith('.txt')]\n",
    "    if not letters_files:\n",
    "        logging.warning(f\"No .txt recommendation letters found in '{letters_dir}'.\")\n",
    "        return ' '.join(letters)\n",
    "    \n",
    "    for filename in letters_files:\n",
    "        letter_path = os.path.join(letters_dir, filename)\n",
    "        letter_content = read_text_file(letter_path)\n",
    "        if letter_content:\n",
    "            letters.append(letter_content)\n",
    "        else:\n",
    "            logging.warning(f\"Recommendation letter '{letter_path}' is empty or could not be read.\")\n",
    "    \n",
    "    if not letters:\n",
    "        logging.warning(f\"No valid recommendation letters found in '{letters_dir}'.\")\n",
    "    \n",
    "    return ' '.join(letters)\n",
    "\n",
    "def main():\n",
    "    # Initialize the Sentence-BERT model\n",
    "    try:\n",
    "        logging.info(\"Loading Sentence-BERT model...\")\n",
    "        print(\"Loading Sentence-BERT model...\")\n",
    "        model = SentenceTransformer('all-MiniLM-L6-v2')  # You can choose other models as needed\n",
    "        logging.info(\"Model loaded successfully.\\n\")\n",
    "        print(\"Model loaded successfully.\\n\")\n",
    "    except Exception as e:\n",
    "        logging.error(f\"Error loading Sentence-BERT model: {e}\")\n",
    "        print(f\"Error loading Sentence-BERT model: {e}\")\n",
    "        return\n",
    "\n",
    "    # Define paths\n",
    "    resumes_folder = 'Final_Resumes'\n",
    "    letters_folder = 'Final_Recommendation_Letters'\n",
    "    output_csv = 'similarity_scores.csv'\n",
    "\n",
    "    # Check if directories exist\n",
    "    if not os.path.isdir(resumes_folder):\n",
    "        logging.error(f\"Resumes folder '{resumes_folder}' does not exist.\")\n",
    "        print(f\"Error: Resumes folder '{resumes_folder}' does not exist.\")\n",
    "        return\n",
    "    if not os.path.isdir(letters_folder):\n",
    "        logging.error(f\"Recommendation letters folder '{letters_folder}' does not exist.\")\n",
    "        print(f\"Error: Recommendation letters folder '{letters_folder}' does not exist.\")\n",
    "        return\n",
    "\n",
    "    # Initialize list to store results\n",
    "    similarity_scores = []\n",
    "\n",
    "    # Process each resume\n",
    "    logging.info(\"Processing resumes and recommendation letters...\")\n",
    "    print(\"Processing resumes and recommendation letters...\")\n",
    "    resumes_list = os.listdir(resumes_folder)\n",
    "    print(f\"Found {len(resumes_list)} file(s) in '{resumes_folder}'.\\n\")\n",
    "    logging.info(f\"Found {len(resumes_list)} file(s) in '{resumes_folder}'.\")\n",
    "\n",
    "    for resume_file in resumes_list:\n",
    "        file_lower = resume_file.lower()\n",
    "        if file_lower.endswith('.txt') or file_lower.endswith('.pdf'):\n",
    "            logging.info(f\"Processing resume file: '{resume_file}'\")\n",
    "            print(f\"Processing resume file: '{resume_file}'\")\n",
    "            \n",
    "            # Extract resume_id by removing the prefix and extension\n",
    "            prefix = 'Resume_of_ID_'\n",
    "            if resume_file.startswith(prefix):\n",
    "                resume_id = os.path.splitext(resume_file)[0].replace(prefix, '')\n",
    "                logging.info(f\"Extracted resume ID: '{resume_id}'\")\n",
    "                print(f\"Extracted resume ID: '{resume_id}'\")\n",
    "            else:\n",
    "                logging.warning(f\"Resume file '{resume_file}' does not follow the naming convention. Skipping.\\n\")\n",
    "                print(f\"Warning: Resume file '{resume_file}' does not follow the naming convention. Skipping.\\n\")\n",
    "                continue  # Skip files that don't follow the naming convention\n",
    "\n",
    "            resume_path = os.path.join(resumes_folder, resume_file)\n",
    "            letters_dir = os.path.join(letters_folder, f\"Recommendation_Letters_of_ID_{resume_id}\")\n",
    "\n",
    "            # Read resume text based on file type\n",
    "            if file_lower.endswith('.txt'):\n",
    "                resume_text = read_text_file(resume_path)\n",
    "            elif file_lower.endswith('.pdf'):\n",
    "                resume_text = read_pdf_file(resume_path)\n",
    "            else:\n",
    "                logging.warning(f\"Unsupported file format for '{resume_file}'. Skipping.\\n\")\n",
    "                print(f\"Warning: Unsupported file format for '{resume_file}'. Skipping.\\n\")\n",
    "                resume_text = \"\"\n",
    "\n",
    "            if not resume_text:\n",
    "                logging.warning(f\"Skipping resume '{resume_id}' due to empty content.\\n\")\n",
    "                print(f\"Skipping resume '{resume_id}' due to empty content.\\n\")\n",
    "                similarity = None\n",
    "            else:\n",
    "                # Read recommendation letters\n",
    "                letters_text = read_recommendation_letters(letters_dir)\n",
    "                if not letters_text:\n",
    "                    logging.warning(f\"Skipping similarity computation for '{resume_id}' due to empty recommendation letters.\\n\")\n",
    "                    print(f\"Skipping similarity computation for '{resume_id}' due to empty recommendation letters.\\n\")\n",
    "                    similarity = None\n",
    "                else:\n",
    "                    try:\n",
    "                        # Encode texts\n",
    "                        embedding_resume = model.encode(resume_text, convert_to_tensor=True)\n",
    "                        embedding_letters = model.encode(letters_text, convert_to_tensor=True)\n",
    "\n",
    "                        # Compute cosine similarity\n",
    "                        cosine_similarity = util.cos_sim(embedding_resume, embedding_letters).item()\n",
    "                        similarity = round(cosine_similarity, 4)\n",
    "                        logging.info(f\"Computed similarity for 'ID_{resume_id}': {similarity}\\n\")\n",
    "                        print(f\"Computed similarity for 'ID_{resume_id}': {similarity}\\n\")\n",
    "                    except Exception as e:\n",
    "                        logging.error(f\"Error computing similarity for 'ID_{resume_id}': {e}\\n\")\n",
    "                        print(f\"Error computing similarity for 'ID_{resume_id}': {e}\\n\")\n",
    "                        similarity = None\n",
    "\n",
    "            # Append result\n",
    "            similarity_scores.append({\n",
    "                'resume_id': f\"ID_{resume_id}\",\n",
    "                'similarity_score': similarity\n",
    "            })\n",
    "        else:\n",
    "            logging.info(f\"Skipping unsupported file type: '{resume_file}'\\n\")\n",
    "            print(f\"Skipping unsupported file type: '{resume_file}'\\n\")\n",
    "\n",
    "    # Debug: Print similarity_scores list\n",
    "    logging.info(\"Collected Similarity Scores:\")\n",
    "    for score in similarity_scores:\n",
    "        logging.info(score)\n",
    "    print(\"\\nCollected Similarity Scores:\")\n",
    "    for score in similarity_scores:\n",
    "        print(score)\n",
    "\n",
    "    # Create DataFrame\n",
    "    logging.info(\"\\nCreating DataFrame...\")\n",
    "    print(\"\\nCreating DataFrame...\")\n",
    "    df = pd.DataFrame(similarity_scores)\n",
    "    print(f\"DataFrame created with columns: {df.columns.tolist()}\\n\")\n",
    "    logging.info(f\"DataFrame created with columns: {df.columns.tolist()}\")\n",
    "\n",
    "    # Check if 'similarity_score' column exists\n",
    "    if 'similarity_score' not in df.columns:\n",
    "        logging.error(\"Error: 'similarity_score' column is missing from the DataFrame.\")\n",
    "        print(\"Error: 'similarity_score' column is missing from the DataFrame.\")\n",
    "        print(\"DataFrame content:\")\n",
    "        print(df.head())\n",
    "        return\n",
    "\n",
    "    # Handle missing similarity scores\n",
    "    logging.info(\"Handling missing similarity scores...\")\n",
    "    print(\"Handling missing similarity scores...\")\n",
    "    initial_count = len(df)\n",
    "    df_clean = df.dropna(subset=['similarity_score'])\n",
    "    final_count = len(df_clean)\n",
    "    dropped = initial_count - final_count\n",
    "    if dropped > 0:\n",
    "        logging.info(f\"Dropped {dropped} entr{'y' if dropped == 1 else 'ies'} with missing similarity scores.\\n\")\n",
    "        print(f\"Dropped {dropped} entr{'y' if dropped == 1 else 'ies'} with missing similarity scores.\\n\")\n",
    "    else:\n",
    "        logging.info(\"No missing similarity scores found.\\n\")\n",
    "        print(\"No missing similarity scores found.\\n\")\n",
    "\n",
    "    # Save to CSV\n",
    "    try:\n",
    "        df_clean.to_csv(output_csv, index=False)\n",
    "        logging.info(f\"Similarity scores successfully saved to '{output_csv}'.\")\n",
    "        print(f\"Similarity scores successfully saved to '{output_csv}'.\")\n",
    "    except Exception as e:\n",
    "        logging.error(f\"Error saving to CSV: {e}\")\n",
    "        print(f\"Error saving to CSV: {e}\")\n",
    "\n",
    "if __name__ == \"__main__\":\n",
    "    main()\n"
   ]
  },
  {
   "cell_type": "markdown",
   "metadata": {},
   "source": [
    "Vague Word Score"
   ]
  },
  {
   "cell_type": "code",
   "execution_count": null,
   "metadata": {},
   "outputs": [],
   "source": [
    "import os\n",
    "import csv\n",
    "import PyPDF2\n",
    "from sklearn.feature_extraction.text import TfidfVectorizer\n",
    "from sklearn.metrics.pairwise import cosine_similarity"
   ]
  },
  {
   "cell_type": "code",
   "execution_count": null,
   "metadata": {},
   "outputs": [],
   "source": [
    "# List of vague phrases\n",
    "vague_phrases = [\n",
    "    \"great potential\", \"incredible enthusiasm\", \"hardworking\", \"team player\", \"passionate\",\n",
    "    \"very capable\", \"strong work ethic\", \"dedicated\", \"motivated\", \"results-oriented\",\n",
    "    \"natural leader\", \"fast learner\", \"self-starter\", \"committed\", \"detail-oriented\",\n",
    "    \"talented\", \"highly skilled\", \"exceptional communication skills\", \"problem solver\",\n",
    "    \"driven\", \"high energy\", \"go-getter\", \"creative thinker\", \"innovative\", \"outstanding\",\n",
    "    \"reliable\", \"solid performer\", \"highly motivated\", \"positive attitude\", \"dynamic\",\n",
    "    \"goal-oriented\", \"consistently delivers\", \"proactive\", \"works well independently\",\n",
    "    \"works well under pressure\", \"strong leadership qualities\", \"well-rounded\",\n",
    "    \"always willing to help\", \"effective team member\", \"people person\", \"self-motivated\",\n",
    "    \"charismatic\", \"results-driven\", \"enthusiastic contributor\", \"strong interpersonal skills\",\n",
    "    \"thinks outside the box\", \"takes initiative\", \"resourceful\", \"client-focused\",\n",
    "    \"organized\", \"able to multitask\", \"quick thinker\", \"excellent listener\", \"highly adaptable\",\n",
    "    \"strong presentation skills\", \"strategic thinker\", \"goal-driven\", \"efficient\", \"high integrity\",\n",
    "    \"enthusiastic worker\", \"influential\", \"versatile\", \"solution-oriented\", \n",
    "    \"consistently exceeds expectations\", \"strong analytical skills\", \"highly dependable\",\n",
    "    \"driven by passion\", \"strong team player\", \"approachable\", \"eager to learn\",\n",
    "    \"solid understanding\", \"professional demeanor\", \"good problem-solving skills\",\n",
    "    \"good judgment\", \"ability to work independently\", \"confident communicator\",\n",
    "    \"passion for excellence\", \"flexible\", \"takes ownership\", \"strong commitment to success\",\n",
    "    \"excellent collaboration skills\", \"always delivers\", \"quick learner\", \"thinks ahead\",\n",
    "    \"able to prioritize\", \"calm under pressure\", \"handles challenges well\",\n",
    "    \"strong decision-making skills\", \"persistent\", \"committed to continuous improvement\",\n",
    "    \"has vision\", \"high performer\", \"strong planning skills\", \"well-organized\",\n",
    "    \"client-centered\", \"trusted advisor\", \"actively participates\", \"thrives in a fast-paced environment\",\n",
    "    \"focused\", \"strong attention to detail\"\n",
    "]\n",
    "\n",
    "def detect_vague_phrases(text, vague_phrases):\n",
    "    \"\"\"\n",
    "    Detects the number of vague phrases in the given text.\n",
    "\n",
    "    Args:\n",
    "        text (str): The text to analyze.\n",
    "        vague_phrases (list): List of vague phrases to look for.\n",
    "\n",
    "    Returns:\n",
    "        int: The count of vague phrases found.\n",
    "    \"\"\"\n",
    "    text_lower = text.lower()\n",
    "    score = 0\n",
    "    for phrase in vague_phrases:\n",
    "        if phrase.lower() in text_lower:\n",
    "            score += 1\n",
    "    return score\n",
    "\n",
    "def extract_text_from_pdf(pdf_path):\n",
    "    \"\"\"\n",
    "    Extracts text from a PDF file.\n",
    "\n",
    "    Args:\n",
    "        pdf_path (str): Path to the PDF file.\n",
    "\n",
    "    Returns:\n",
    "        str: Extracted text.\n",
    "    \"\"\"\n",
    "    text = \"\"\n",
    "    try:\n",
    "        with open(pdf_path, 'rb') as file:\n",
    "            reader = PyPDF2.PdfReader(file)\n",
    "            for page_num in range(len(reader.pages)):\n",
    "                page = reader.pages[page_num]\n",
    "                page_text = page.extract_text()\n",
    "                if page_text:\n",
    "                    text += page_text + \" \"\n",
    "    except Exception as e:\n",
    "        print(f\"Error reading {pdf_path}: {e}\")\n",
    "    return text\n",
    "\n",
    "def cosine_similarity_score(text, generic_text):\n",
    "    \"\"\"\n",
    "    Calculates the cosine similarity between two texts.\n",
    "\n",
    "    Args:\n",
    "        text (str): The first text (e.g., resume text).\n",
    "        generic_text (str): The second text (e.g., generic vague phrases).\n",
    "\n",
    "    Returns:\n",
    "        float: Cosine similarity score between 0 and 1.\n",
    "    \"\"\"\n",
    "    try:\n",
    "        vectorizer = TfidfVectorizer().fit_transform([text, generic_text])\n",
    "        vectors = vectorizer.toarray()\n",
    "        cosine_sim = cosine_similarity(vectors)[0][1]\n",
    "        return cosine_sim\n",
    "    except Exception as e:\n",
    "        print(f\"Error calculating cosine similarity: {e}\")\n",
    "        return 0.0\n",
    "\n",
    "def process_resumes(resumes_dir, output_csv, vague_phrases):\n",
    "    \"\"\"\n",
    "    Processes all PDF resumes in a directory, calculates vague scores and cosine similarity scores, and writes to CSV.\n",
    "\n",
    "    Args:\n",
    "        resumes_dir (str): Directory containing resume PDF files.\n",
    "        output_csv (str): Path to the output CSV file.\n",
    "        vague_phrases (list): List of vague phrases to detect.\n",
    "    \"\"\"\n",
    "    # List to store results\n",
    "    results = []\n",
    "\n",
    "    # Create a generic text by joining all vague phrases\n",
    "    generic_text = \" \".join(vague_phrases).lower()\n",
    "\n",
    "    # Iterate over all files in the resumes directory\n",
    "    for filename in os.listdir(resumes_dir):\n",
    "        if filename.lower().endswith('.pdf'):\n",
    "            pdf_path = os.path.join(resumes_dir, filename)\n",
    "            print(f\"Processing: {filename}\")\n",
    "            text = extract_text_from_pdf(pdf_path)\n",
    "            if text:\n",
    "                vague_score = detect_vague_phrases(text, vague_phrases)\n",
    "                cosine_score = cosine_similarity_score(text.lower(), generic_text)\n",
    "            else:\n",
    "                vague_score = 0\n",
    "                cosine_score = 0.0\n",
    "                print(f\"No text extracted from {filename}. Setting vague score and cosine similarity to 0.\")\n",
    "            results.append({\n",
    "                'Filename': filename,\n",
    "                'Vague Score': vague_score,\n",
    "                'Cosine Similarity': round(cosine_score, 4)  # Rounded for readability\n",
    "            })\n",
    "\n",
    "    # Write results to CSV\n",
    "    try:\n",
    "        with open(output_csv, 'w', newline='', encoding='utf-8') as csvfile:\n",
    "            fieldnames = ['Filename', 'Vague Score', 'Cosine Similarity']\n",
    "            writer = csv.DictWriter(csvfile, fieldnames=fieldnames)\n",
    "\n",
    "            writer.writeheader()\n",
    "            for result in results:\n",
    "                writer.writerow(result)\n",
    "        print(f\"Vague scores and cosine similarity scores have been written to {output_csv}\")\n",
    "    except Exception as e:\n",
    "        print(f\"Error writing to CSV: {e}\")\n",
    "\n",
    "if __name__ == \"__main__\":\n",
    "    # Directory containing resume PDFs\n",
    "    resumes_directory = 'Final_Resumes'  # Change this if your directory is named differently\n",
    "\n",
    "    # Output CSV file\n",
    "    output_csv_file = 'vague_scores.csv'\n",
    "\n",
    "    # Process resumes and generate CSV\n",
    "    process_resumes(resumes_directory, output_csv_file, vague_phrases)"
   ]
  },
  {
   "cell_type": "markdown",
   "metadata": {},
   "source": [
    "Reciprocal Detection"
   ]
  },
  {
   "cell_type": "code",
   "execution_count": null,
   "metadata": {},
   "outputs": [],
   "source": [
    "import os\n",
    "import pandas as pd"
   ]
  },
  {
   "cell_type": "code",
   "execution_count": null,
   "metadata": {},
   "outputs": [],
   "source": [
    "df_main=pd.DataFrame()\n",
    "\n",
    "path=r\"C:\\Users\\manav\\Python_Jupyter\\IITD_Eightfold_AI_Hackathon\\Dataset\\Final_Recommendation_Letters\"\n",
    "\n",
    "for filename in os.listdir(path):\n",
    "    person_id=filename.split(\"_\")[4]\n",
    "    a={\"person_id\":person_id,\"recommender_id\":\"\"}\n",
    "    reco_text=\"\"\n",
    "    for reco in os.listdir(os.path.join(path,filename)):\n",
    "        recommender_id=reco.split(\"_\")[3].split(\".\")[0]\n",
    "        if a[\"recommender_id\"]==\"\":\n",
    "            a[\"recommender_id\"]=recommender_id\n",
    "        else: a[\"recommender_id\"]=','.join((recommender_id,a[\"recommender_id\"]))\n",
    "        with open(os.path.join(path, filename, reco), 'r', encoding='latin1') as file:\n",
    "            text_sub = file.read()\n",
    "        reco_text=reco_text+text_sub+\"\\n\"\n",
    "    a[\"reco_text\"]=reco_text\n",
    "    df=pd.DataFrame([a])  # Wrap the dictionary in a list\n",
    "    df_main=pd.concat([df_main,df],ignore_index=True)\n",
    "\n",
    "df_main\n",
    "df_main.to_excel(\"reco_df.xlsx\")\n",
    "df_main.iloc[1][\"reco_text\"]"
   ]
  },
  {
   "cell_type": "code",
   "execution_count": null,
   "metadata": {},
   "outputs": [],
   "source": [
    "#Graphing\n",
    "\n",
    "n=len(df_main)\n",
    "g={}\n",
    "\n",
    "for i in range(n):\n",
    "    candidate_id=int(df_main.iloc[i][\"person_id\"])\n",
    "    recommender_ids=df_main.iloc[i][\"recommender_id\"].split(\",\")\n",
    "    recommender_ids=[int(x) for x in recommender_ids]\n",
    "    edges=[]\n",
    "    for j in recommender_ids:\n",
    "        edges.append(j)\n",
    "    g[candidate_id]=edges\n",
    "\n",
    "reciprocal_scores={}\n",
    "N=1000\n",
    "\n",
    "for i in range(N):\n",
    "    reciprocal_scores[i] = 0\n",
    "    if i in g:\n",
    "        for j in g[i]:\n",
    "            if j in g and i in g[j]:\n",
    "                reciprocal_scores[i] += 1\n",
    "\n",
    "pd.DataFrame(reciprocal_scores.items(), columns=['person_id', 'reciprocal_score']).to_excel(\"reciprocal_scores.xlsx\")\n",
    "flagged_candidates = {}\n",
    "\n",
    "for i in range(N):\n",
    "    if reciprocal_scores[i] >=1:\n",
    "        flagged_candidates[i] = 1\n",
    "    else:\n",
    "        flagged_candidates[i] = 0\n",
    "\n",
    "\n",
    "\n",
    "p=pd.DataFrame(flagged_candidates.items(), columns=['person_id', 'flagged'])\n",
    "                                                    \n",
    "\n",
    "p[\"flagged\"].sum()\n",
    "p.to_excel(\"flagged_candidates.xlsx\")\n",
    "\n",
    "from sklearn.feature_extraction.text import TfidfVectorizer\n",
    "from sklearn.metrics.pairwise import cosine_similarity\n",
    "import numpy as np\n",
    "\n",
    "similarity_scores_dict = {}\n",
    "fraud_flag_dict = {}\n",
    "\n",
    "# Function to compute similarity scores between resumes and recommendation letters\n",
    "def compute_similarity(resumes_df_path, filename):\n",
    "    # Extract candidate ID (page_id) from the filename\n",
    "    page_id = filename.split(\"_\")[3]\n",
    "    \n",
    "    # Read the resume text\n",
    "    with open(resumes_df_path, 'r', encoding='latin1') as file:\n",
    "        resume_text = file.read()\n",
    "\n",
    "    try:\n",
    "        # Get the corresponding recommendation text using the candidate ID (page_id)\n",
    "        reco_text = df_main[df_main[\"person_id\"] == page_id][\"reco_text\"].values[0]\n",
    "    except IndexError:\n",
    "        # If recommendation text is not found, assign similarity score as 0\n",
    "        similarity_scores_dict[page_id] = 0\n",
    "        fraud_flag_dict[page_id] = 1  # Flag as potential fraud if no recommendation is found\n",
    "        return\n",
    "\n",
    "    # Compute TF-IDF vectors for resume and recommendation text\n",
    "    vectorizer = TfidfVectorizer(stop_words='english')\n",
    "    tfidf_matrix = vectorizer.fit_transform([resume_text, reco_text])\n",
    "\n",
    "    # Calculate Cosine Similarity between resume and recommendation letter text\n",
    "    similarity_scores = cosine_similarity(tfidf_matrix)\n",
    "\n",
    "    # Cosine similarity between the two documents is the off-diagonal value\n",
    "    similarity_score = np.mean([similarity_scores[i, i] for i in range(similarity_scores.shape[0])])\n",
    "    similarity_scores_dict[page_id] = similarity_score\n",
    "\n",
    "    # Flag as potential fraud if similarity score is below a threshold (e.g., 0.5)\n",
    "    fraud_flag_dict[page_id] = 1 if similarity_score < 0.5 else 0\n",
    "\n",
    "\n",
    "file_path=r\"C:\\Users\\manav\\Python_Jupyter\\IITD_Eightfold_AI_Hackathon\\Dataset\\Final_Resumes\"\n",
    "\n",
    "for filename in os.listdir(file_path):\n",
    "    compute_similarity(os.path.join(file_path,filename),filename.split(\".\")[0])\n",
    "\n",
    "\n",
    "sims=pd.DataFrame(similarity_scores_dict.items(), columns=['person_id', 'similarity_score'])\n",
    "sims.to_excel(\"similarity_scores.xlsx\")"
   ]
  },
  {
   "cell_type": "code",
   "execution_count": null,
   "metadata": {},
   "outputs": [],
   "source": [
    "#Marginalising Connection Scores\n",
    "d=pd.read_excel(\"Network connection score.xlsx\")\n",
    "\n",
    "# Load the Excel file\n",
    "file_path = \"Network connection score.xlsx\"  # Adjust your file path accordingly\n",
    "df = pd.read_excel(file_path)\n",
    "\n",
    "# Define a function to classify the network connection score\n",
    "def classify_score(score):\n",
    "    if score < 0.3:\n",
    "        return \"Weak\"\n",
    "    elif 0.3 <= score < 0.5:\n",
    "        return \"Fair\"\n",
    "    else:\n",
    "        return \"Strong\"\n",
    "\n",
    "# Apply the function to create a new column 'Connection_Strength'\n",
    "df['Connection_Strength'] = df['Network_connection_score'].apply(classify_score)\n",
    "\n",
    "# Save the updated DataFrame back to an Excel file\n",
    "output_path = \"Updated_Network_Connection_Score.xlsx\"\n",
    "df.to_excel(output_path, index=False)\n",
    "\n",
    "print(f\"Updated file saved at: {output_path}\")"
   ]
  },
  {
   "cell_type": "markdown",
   "metadata": {},
   "source": [
    "Normalization of the scores"
   ]
  },
  {
   "cell_type": "code",
   "execution_count": null,
   "metadata": {},
   "outputs": [],
   "source": [
    "# Importing the CSV file\n",
    "df = pd.read_csv(\"risk_score.csv\")\n",
    "\n",
    "# Normalizing the Vague_Score between 0 and 1\n",
    "df['normalized_vague_score'] = (df['Vague_Score'] - df['Vague_Score'].min()) / (df['Vague_Score'].max() - df['Vague_Score'].min())\n",
    "\n",
    "# Normalizing the Similarity_score between 0 and 1\n",
    "df['normalized_similarity_score'] = (df['Similarity_Score'] - df['Similarity_Score'].min()) / (df['Similarity_Score'].max() - df['Similarity_Score'].min())\n",
    "\n",
    "# Saving the updated DataFrame back to a CSV file\n",
    "df.to_csv(\"risk_score.csv\", index=False)  # Change this to the original file name if you want to overwrite\n",
    "\n",
    "# # Optionally, display the updated DataFrame\n",
    "# print(df)\n"
   ]
  },
  {
   "cell_type": "markdown",
   "metadata": {},
   "source": [
    "Risk Score"
   ]
  },
  {
   "cell_type": "code",
   "execution_count": null,
   "metadata": {},
   "outputs": [],
   "source": [
    "# Importing the CSV file\n",
    "df = pd.read_csv(\"risk_score.csv\")\n",
    "\n",
    "# Assuming the necessary columns are already in the CSV:\n",
    "# 'normalized_vague_score', 'normalized_similarity_score', and 'reciprocal_score'\n",
    "\n",
    "# Calculating the risk_score\n",
    "df['risk_score'] = (1 - df['normalized_similarity_score']) * 0.5 + df['normalized_vague_score'] * 0.3 + df['reciprocal_score'] * 0.2\n",
    "\n",
    "# Saving the updated DataFrame to a new CSV file\n",
    "df.to_csv(\"risk_score.csv\", index=False)  # This will create a new file named 'risk_scores.csv'\n",
    "\n",
    "# # Optionally, display the updated DataFrame\n",
    "# print(df)"
   ]
  },
  {
   "cell_type": "markdown",
   "metadata": {},
   "source": [
    "Plots"
   ]
  },
  {
   "cell_type": "code",
   "execution_count": 3,
   "metadata": {},
   "outputs": [
    {
     "data": {
      "image/png": "[encoded data removed]",
      "text/plain": [
       "<Figure size 1500x1000 with 6 Axes>"
      ]
     },
     "metadata": {},
     "output_type": "display_data"
    }
   ],
   "source": [
    "import pandas as pd\n",
    "import matplotlib.pyplot as plt\n",
    "import seaborn as sns\n",
    "\n",
    "# Load the dataset\n",
    "file_path = 'risk_score.csv'  # Update this to your CSV file path\n",
    "data = pd.read_csv(file_path)\n",
    "\n",
    "# Set up the visualization style\n",
    "sns.set(style=\"whitegrid\")\n",
    "\n",
    "# Plotting distributions for the scores\n",
    "plt.figure(figsize=(15, 10))\n",
    "\n",
    "# Similarity Score Distribution\n",
    "plt.subplot(3, 2, 1)\n",
    "sns.histplot(data['similarity_score'], bins=30, kde=True)\n",
    "plt.title('Distribution of Similarity Score')\n",
    "\n",
    "# Vague Score Distribution\n",
    "plt.subplot(3, 2, 2)\n",
    "sns.histplot(data['Vague_Score'], bins=30, kde=True)\n",
    "plt.title('Distribution of Vague Score')\n",
    "\n",
    "# Risk Score Distribution\n",
    "plt.subplot(3, 2, 3)\n",
    "sns.histplot(data['risk_score'], bins=30, kde=True)\n",
    "plt.title('Distribution of Risk Score')\n",
    "\n",
    "# Boxplot for Scores\n",
    "plt.subplot(3, 2, 4)\n",
    "sns.boxplot(data=data[['similarity_score', 'Vague_Score', 'risk_score']])\n",
    "plt.title('Boxplot of Scores')\n",
    "\n",
    "# Correlation Heatmap\n",
    "plt.subplot(3, 2, 5)\n",
    "correlation = data[['similarity_score', 'Vague_Score', 'reciprocal_score', 'risk_score']].corr()\n",
    "sns.heatmap(correlation, annot=True, cmap='coolwarm', fmt='.2f')\n",
    "plt.title('Correlation Heatmap')\n",
    "\n",
    "plt.tight_layout()\n",
    "plt.show()\n",
    "\n",
    "# Function to detect outliers using the IQR method\n",
    "def detect_outliers_iqr(df, column):\n",
    "    Q1 = df[column].quantile(0.25)\n",
    "    Q3 = df[column].quantile(0.75)\n",
    "    IQR = Q3 - Q1\n",
    "    lower_bound = Q1 - 1.5 * IQR\n",
    "    upper_bound = Q3 + 1.5 * IQR\n",
    "    return df[(df[column] < lower_bound) | (df[column] > upper_bound)]\n",
    "\n",
    "# Adding an outlier column for each relevant metric\n",
    "data['similarity_outlier'] = data['similarity_score'].apply(lambda x: 1 if (x < (data['similarity_score'].quantile(0.25) - 1.5 * (data['similarity_score'].quantile(0.75) - data['similarity_score'].quantile(0.25))) or\n",
    "                                                                       (x > (data['similarity_score'].quantile(0.75) + 1.5 * (data['similarity_score'].quantile(0.75) - data['similarity_score'].quantile(0.25))))) else 0)\n",
    "\n",
    "data['vague_outlier'] = data['Vague_Score'].apply(lambda x: 1 if (x < (data['Vague_Score'].quantile(0.25) - 1.5 * (data['Vague_Score'].quantile(0.75) - data['Vague_Score'].quantile(0.25))) or\n",
    "                                                                  (x > (data['Vague_Score'].quantile(0.75) + 1.5 * (data['Vague_Score'].quantile(0.75) - data['Vague_Score'].quantile(0.25))))) else 0)\n",
    "\n",
    "data['risk_outlier'] = data['risk_score'].apply(lambda x: 1 if (x < (data['risk_score'].quantile(0.25) - 1.5 * (data['risk_score'].quantile(0.75) - data['risk_score'].quantile(0.25))) or\n",
    "                                                                (x > (data['risk_score'].quantile(0.75) + 1.5 * (data['risk_score'].quantile(0.75) - data['risk_score'].quantile(0.25))))) else 0)\n",
    "\n",
    "# Save the updated DataFrame to a new CSV file\n",
    "output_file_path = 'risk_score_with_outliers.csv'  # Update this to your desired output path\n",
    "data.to_csv(output_file_path, index=False)\n"
   ]
  },
  {
   "cell_type": "markdown",
   "metadata": {},
   "source": [
    "# Data Analysis"
   ]
  },
  {
   "cell_type": "code",
   "execution_count": 4,
   "metadata": {},
   "outputs": [],
   "source": [
    "import pandas as pd\n",
    "import networkx as nx\n",
    "import matplotlib.pyplot as plt\n",
    "import seaborn as sns\n",
    "import matplotlib.colors as mcolors\n",
    "import ast\n",
    "from collections import defaultdict\n",
    "import community as community_louvain"
   ]
  },
  {
   "cell_type": "code",
   "execution_count": null,
   "metadata": {},
   "outputs": [],
   "source": [
    "# -----------------------------\n",
    "# 1. Load and Preprocess Data\n",
    "# -----------------------------\n",
    "\n",
    "# Load the dataset\n",
    "train_df = pd.read_csv('train.csv')\n",
    "\n",
    "# Display the first few rows to verify\n",
    "print(\"Initial DataFrame:\")\n",
    "print(train_df.head())\n",
    "\n",
    "# Function to parse recommender_ids from string to list\n",
    "def parse_recommenders(recommender_str):\n",
    "    \"\"\"\n",
    "    Parses the recommender_ids string into a list of integers.\n",
    "    \n",
    "    Parameters:\n",
    "    - recommender_str (str): String representation of a list (e.g., \"[412, 869, 233, 289]\").\n",
    "    \n",
    "    Returns:\n",
    "    - List[int]: List of recommender IDs.\n",
    "    \"\"\"\n",
    "    try:\n",
    "        # Safely evaluate the string to a Python list\n",
    "        recommenders = ast.literal_eval(recommender_str)\n",
    "        # Ensure the result is a list\n",
    "        if isinstance(recommenders, list):\n",
    "            # Filter out any non-integer values\n",
    "            return [int(r) for r in recommenders if isinstance(r, int)]\n",
    "        else:\n",
    "            return []\n",
    "    except (ValueError, SyntaxError):\n",
    "        # In case of malformed data, return an empty list\n",
    "        return []\n",
    "\n",
    "# Apply the parsing function to create a new column\n",
    "train_df['recommender_list'] = train_df['recommender_ids'].apply(parse_recommenders)\n",
    "\n",
    "# Verify the transformation\n",
    "print(\"\\nDataFrame after parsing recommender_ids:\")\n",
    "print(train_df[['id', 'recommender_ids', 'recommender_list']].head())\n",
    "\n",
    "# ----------------------------------\n",
    "# 2. Build the Recommendation Graph\n",
    "# ----------------------------------\n",
    "\n",
    "def build_recommendation_graph(df, total_nodes=1000):\n",
    "    \"\"\"\n",
    "    Builds a directed graph from the recommendation data.\n",
    "    \n",
    "    Parameters:\n",
    "    - df (pd.DataFrame): DataFrame containing 'id' and 'recommender_list'.\n",
    "    - total_nodes (int): Total number of nodes in the graph.\n",
    "    \n",
    "    Returns:\n",
    "    - G (nx.DiGraph): Directed graph representing the recommendation network.\n",
    "    \"\"\"\n",
    "    G = nx.DiGraph()\n",
    "    \n",
    "    # Add all nodes (0 to total_nodes-1)\n",
    "    G.add_nodes_from(range(total_nodes), type='candidate')\n",
    "    \n",
    "    # Add edges based on recommendations\n",
    "    for _, row in df.iterrows():\n",
    "        candidate = row['id']\n",
    "        recommenders = row['recommender_list']\n",
    "        for recommender in recommenders:\n",
    "            if 0 <= recommender < total_nodes and recommender != candidate:\n",
    "                G.add_edge(recommender, candidate)\n",
    "            else:\n",
    "                print(f\"Invalid recommender ID {recommender} for candidate {candidate}. Skipping.\")\n",
    "    \n",
    "    return G\n",
    "\n",
    "# Build the graph\n",
    "G = build_recommendation_graph(train_df, total_nodes=1000)\n",
    "\n",
    "# Summary of the graph\n",
    "print(\"\\nGraph Summary:\")\n",
    "# print(nx.info(G))\n",
    "\n",
    "# -----------------------------------\n",
    "# 3. Compute Centrality Scores\n",
    "# -----------------------------------\n",
    "\n",
    "def compute_centrality_scores(G):\n",
    "    \"\"\"\n",
    "    Computes centrality scores for each node in the graph.\n",
    "    \n",
    "    Parameters:\n",
    "    - G (nx.DiGraph): Directed graph.\n",
    "    \n",
    "    Returns:\n",
    "    - centrality_df (pd.DataFrame): DataFrame containing centrality scores.\n",
    "    \"\"\"\n",
    "    # Degree Centrality (in-degree and out-degree)\n",
    "    in_degree_centrality = nx.in_degree_centrality(G)\n",
    "    out_degree_centrality = nx.out_degree_centrality(G)\n",
    "    \n",
    "    # Betweenness Centrality\n",
    "    betweenness_centrality = nx.betweenness_centrality(G)\n",
    "    \n",
    "    # Closeness Centrality\n",
    "    closeness_centrality = nx.closeness_centrality(G)\n",
    "    \n",
    "    # PageRank\n",
    "    pagerank = nx.pagerank(G, alpha=0.85)\n",
    "    \n",
    "    # Create a DataFrame\n",
    "    centrality_df = pd.DataFrame({\n",
    "        'id': list(G.nodes()),\n",
    "        'in_degree_centrality': [in_degree_centrality[node] for node in G.nodes()],\n",
    "        'out_degree_centrality': [out_degree_centrality[node] for node in G.nodes()],\n",
    "        'betweenness_centrality': [betweenness_centrality[node] for node in G.nodes()],\n",
    "        'closeness_centrality': [closeness_centrality[node] for node in G.nodes()],\n",
    "        'pagerank': [pagerank[node] for node in G.nodes()]\n",
    "    })\n",
    "    \n",
    "    return centrality_df\n",
    "\n",
    "# Compute centrality scores\n",
    "centrality_df = compute_centrality_scores(G)\n",
    "\n",
    "# Merge centrality scores with the original DataFrame\n",
    "train_df = train_df.merge(centrality_df, on='id')\n",
    "\n",
    "print(\"\\nDataFrame with Centrality Scores:\")\n",
    "print(train_df.head())\n",
    "\n",
    "# -----------------------------------\n",
    "# 4. Detect Communities\n",
    "# -----------------------------------\n",
    "\n",
    "def detect_communities(G):\n",
    "    \"\"\"\n",
    "    Detects communities in the graph using the Louvain Method.\n",
    "    \n",
    "    Parameters:\n",
    "    - G (nx.DiGraph): Directed graph.\n",
    "    \n",
    "    Returns:\n",
    "    - partition (dict): Dictionary mapping node to its community.\n",
    "    \"\"\"\n",
    "    # Convert to undirected graph for community detection\n",
    "    undirected_G = G.to_undirected()\n",
    "    \n",
    "    # Compute the best partition\n",
    "    partition = community_louvain.best_partition(undirected_G)\n",
    "    \n",
    "    return partition\n",
    "\n",
    "# Detect communities\n",
    "partition = detect_communities(G)\n",
    "\n",
    "# Assign community information to the DataFrame\n",
    "train_df['community'] = train_df['id'].map(partition)\n",
    "\n",
    "# Display community assignments\n",
    "print(\"\\nCommunity Assignments:\")\n",
    "print(train_df[['id', 'community']].head())\n",
    "\n",
    "# -----------------------------------\n",
    "# 5. Visualize the Graph\n",
    "# -----------------------------------\n",
    "\n",
    "def visualize_graph(G, partition, centrality_df, plot_type='full'):\n",
    "    \"\"\"\n",
    "    Visualizes the graph with nodes colored by community and sized by centrality.\n",
    "    \n",
    "    Parameters:\n",
    "    - G (nx.DiGraph): Directed graph.\n",
    "    - partition (dict): Dictionary mapping node to its community.\n",
    "    - centrality_df (pd.DataFrame): DataFrame containing centrality scores.\n",
    "    - plot_type (str): 'full' to plot the entire graph, 'largest' to plot the largest community.\n",
    "    \"\"\"\n",
    "    # Define a color palette\n",
    "    num_communities = len(set(partition.values()))\n",
    "    palette = sns.color_palette(\"hsv\", num_communities)\n",
    "    color_map = {comm: palette[i] for i, comm in enumerate(sorted(set(partition.values())))}\n",
    "    \n",
    "    if plot_type == 'full':\n",
    "        nodes = G.nodes()\n",
    "        # Assign colors based on community\n",
    "        node_colors = [color_map[partition[node]] for node in nodes]\n",
    "        # Assign node sizes based on betweenness centrality\n",
    "        node_sizes = [centrality_df.loc[centrality_df['id'] == node, 'betweenness_centrality'].values[0]*1000 for node in nodes]\n",
    "        \n",
    "        # Generate layout\n",
    "        print(\"Generating layout for the full graph...\")\n",
    "        pos = nx.spring_layout(G, k=0.1, iterations=50, seed=42)\n",
    "        \n",
    "        plt.figure(figsize=(20, 15))\n",
    "        nx.draw_networkx_nodes(G, pos,\n",
    "                               node_color=node_colors,\n",
    "                               node_size=node_sizes,\n",
    "                               alpha=0.7,\n",
    "                               linewidths=0.5,\n",
    "                               edgecolors='grey')\n",
    "        \n",
    "        nx.draw_networkx_edges(G, pos,\n",
    "                               alpha=0.1,\n",
    "                               width=0.5)\n",
    "        \n",
    "        plt.title('Employee Recommendation Network with Communities')\n",
    "        plt.axis('off')\n",
    "        \n",
    "        # Create a legend for communities\n",
    "        for comm, color in color_map.items():\n",
    "            plt.scatter([], [], c=[color], label=f'Community {comm}')\n",
    "        \n",
    "        plt.legend(scatterpoints=1, frameon=False, labelspacing=1, loc='upper right', title='Communities')\n",
    "        plt.show()\n",
    "    \n",
    "    elif plot_type == 'largest':\n",
    "        # Identify the largest community\n",
    "        community_counts = pd.Series(partition).value_counts()\n",
    "        largest_comm = community_counts.idxmax()\n",
    "        print(f\"\\nLargest Community: {largest_comm} with {community_counts.max()} candidates\")\n",
    "        \n",
    "        # Extract nodes in the largest community\n",
    "        nodes_in_largest_comm = [node for node, comm in partition.items() if comm == largest_comm]\n",
    "        \n",
    "        # Create a subgraph\n",
    "        subgraph = G.subgraph(nodes_in_largest_comm)\n",
    "        \n",
    "        # Assign colors and sizes\n",
    "        sub_node_colors = [color_map[partition[node]] for node in subgraph.nodes()]\n",
    "        sub_node_sizes = [centrality_df.loc[centrality_df['id'] == node, 'betweenness_centrality'].values[0]*1000 for node in subgraph.nodes()]\n",
    "        \n",
    "        # Generate layout\n",
    "        print(\"Generating layout for the largest community...\")\n",
    "        pos_sub = nx.spring_layout(subgraph, k=0.15, iterations=50, seed=42)\n",
    "        \n",
    "        plt.figure(figsize=(15, 10))\n",
    "        nx.draw_networkx_nodes(subgraph, pos_sub,\n",
    "                               node_color=sub_node_colors,\n",
    "                               node_size=sub_node_sizes,\n",
    "                               alpha=0.8,\n",
    "                               linewidths=0.5,\n",
    "                               edgecolors='grey')\n",
    "        \n",
    "        nx.draw_networkx_edges(subgraph, pos_sub,\n",
    "                               alpha=0.2,\n",
    "                               width=0.5)\n",
    "        \n",
    "        plt.title(f'Largest Community (Community {largest_comm}) Recommendation Network')\n",
    "        plt.axis('off')\n",
    "        plt.show()\n",
    "\n",
    "# Visualize the full graph (can be cluttered for 1000 nodes)\n",
    "# Uncomment the following line to plot the full graph\n",
    "# visualize_graph(G, partition, centrality_df, plot_type='full')\n",
    "\n",
    "# Visualize the largest community\n",
    "visualize_graph(G, partition, centrality_df, plot_type='largest')\n",
    "\n",
    "# -----------------------------------\n",
    "# 6. Save the Results\n",
    "# -----------------------------------\n",
    "\n",
    "def save_updated_dataframe(df, filename='train_updated.csv'):\n",
    "    \"\"\"\n",
    "    Saves the updated DataFrame with centrality and community scores to a CSV file.\n",
    "    \n",
    "    Parameters:\n",
    "    - df (pd.DataFrame): Updated DataFrame.\n",
    "    - filename (str): Name of the output CSV file.\n",
    "    \"\"\"\n",
    "    df.to_csv(filename, index=False)\n",
    "    print(f\"\\nUpdated DataFrame saved to '{filename}'\")\n",
    "\n",
    "# Save the updated DataFrame\n",
    "save_updated_dataframe(train_df, filename='train_updated.csv')\n",
    "\n",
    "# Optionally, save similarity scores if needed\n",
    "def save_similarity_scores(similarity_df, filename='similarity_scores.csv'):\n",
    "    \"\"\"\n",
    "    Saves the similarity scores DataFrame to a CSV file.\n",
    "    \n",
    "    Parameters:\n",
    "    - similarity_df (pd.DataFrame): DataFrame containing similarity scores.\n",
    "    - filename (str): Name of the output CSV file.\n",
    "    \"\"\"\n",
    "    similarity_df.to_csv(filename, index=False)\n",
    "    print(f\"Similarity scores saved to '{filename}'\")\n",
    "\n",
    "# Uncomment the following line to save similarity scores\n",
    "# save_similarity_scores(similarity_df, filename='similarity_scores.csv')\n",
    "\n",
    "# -----------------------------------\n",
    "# End of Script\n",
    "# -----------------------------------"
   ]
  },
  {
   "cell_type": "markdown",
   "metadata": {},
   "source": [
    "# HR Dashboard"
   ]
  },
  {
   "cell_type": "markdown",
   "metadata": {},
   "source": [
    "Candidate Ranking System"
   ]
  },
  {
   "cell_type": "code",
   "execution_count": null,
   "metadata": {},
   "outputs": [],
   "source": [
    "import pandas as pd\n",
    "import networkx as nx\n",
    "import matplotlib.pyplot as plt\n",
    "import seaborn as sns\n",
    "import matplotlib.colors as mcolors\n",
    "import ast\n",
    "from collections import defaultdict\n",
    "import community as community_louvain"
   ]
  },
  {
   "cell_type": "code",
   "execution_count": null,
   "metadata": {},
   "outputs": [],
   "source": [
    "# -----------------------------\n",
    "# 1. Load and Preprocess Data\n",
    "# -----------------------------\n",
    "\n",
    "# Load the dataset\n",
    "train_df = pd.read_csv('train.csv')\n",
    "\n",
    "# Display the first few rows to verify\n",
    "print(\"Initial DataFrame:\")\n",
    "print(train_df.head())\n",
    "\n",
    "# Function to parse recommender_ids from string to list\n",
    "def parse_recommenders(recommender_str):\n",
    "    \"\"\"\n",
    "    Parses the recommender_ids string into a list of integers.\n",
    "    \n",
    "    Parameters:\n",
    "    - recommender_str (str): String representation of a list (e.g., \"[412, 869, 233, 289]\").\n",
    "    \n",
    "    Returns:\n",
    "    - List[int]: List of recommender IDs.\n",
    "    \"\"\"\n",
    "    try:\n",
    "        # Safely evaluate the string to a Python list\n",
    "        recommenders = ast.literal_eval(recommender_str)\n",
    "        # Ensure the result is a list\n",
    "        if isinstance(recommenders, list):\n",
    "            # Filter out any non-integer values\n",
    "            return [int(r) for r in recommenders if isinstance(r, int)]\n",
    "        else:\n",
    "            return []\n",
    "    except (ValueError, SyntaxError):\n",
    "        # In case of malformed data, return an empty list\n",
    "        return []\n",
    "\n",
    "# Apply the parsing function to create a new column\n",
    "train_df['recommender_list'] = train_df['recommender_ids'].apply(parse_recommenders)\n",
    "\n",
    "# Verify the transformation\n",
    "print(\"\\nDataFrame after parsing recommender_ids:\")\n",
    "print(train_df[['id', 'recommender_ids', 'recommender_list']].head())\n",
    "\n",
    "# ----------------------------------\n",
    "# 2. Build the Recommendation Graph\n",
    "# ----------------------------------\n",
    "\n",
    "def build_recommendation_graph(df, total_nodes=1000):\n",
    "    \"\"\"\n",
    "    Builds a directed graph from the recommendation data.\n",
    "    \n",
    "    Parameters:\n",
    "    - df (pd.DataFrame): DataFrame containing 'id' and 'recommender_list'.\n",
    "    - total_nodes (int): Total number of nodes in the graph.\n",
    "    \n",
    "    Returns:\n",
    "    - G (nx.DiGraph): Directed graph representing the recommendation network.\n",
    "    \"\"\"\n",
    "    G = nx.DiGraph()\n",
    "    \n",
    "    # Add all nodes (0 to total_nodes-1)\n",
    "    G.add_nodes_from(range(total_nodes), type='candidate')\n",
    "    \n",
    "    # Add edges based on recommendations\n",
    "    for _, row in df.iterrows():\n",
    "        candidate = row['id']\n",
    "        recommenders = row['recommender_list']\n",
    "        for recommender in recommenders:\n",
    "            if 0 <= recommender < total_nodes and recommender != candidate:\n",
    "                G.add_edge(recommender, candidate)\n",
    "            else:\n",
    "                print(f\"Invalid recommender ID {recommender} for candidate {candidate}. Skipping.\")\n",
    "    \n",
    "    return G\n",
    "\n",
    "# Build the graph\n",
    "G = build_recommendation_graph(train_df, total_nodes=1000)\n",
    "\n",
    "# Summary of the graph\n",
    "print(\"\\nGraph Summary:\")\n",
    "# print(nx.info(G))\n",
    "\n",
    "# -----------------------------------\n",
    "# 3. Compute Centrality Scores\n",
    "# -----------------------------------\n",
    "\n",
    "def compute_centrality_scores(G):\n",
    "    \"\"\"\n",
    "    Computes centrality scores for each node in the graph.\n",
    "    \n",
    "    Parameters:\n",
    "    - G (nx.DiGraph): Directed graph.\n",
    "    \n",
    "    Returns:\n",
    "    - centrality_df (pd.DataFrame): DataFrame containing centrality scores.\n",
    "    \"\"\"\n",
    "    # Degree Centrality (in-degree and out-degree)\n",
    "    in_degree_centrality = nx.in_degree_centrality(G)\n",
    "    out_degree_centrality = nx.out_degree_centrality(G)\n",
    "    \n",
    "    # Betweenness Centrality\n",
    "    betweenness_centrality = nx.betweenness_centrality(G)\n",
    "    \n",
    "    # Closeness Centrality\n",
    "    closeness_centrality = nx.closeness_centrality(G)\n",
    "    \n",
    "    # PageRank\n",
    "    pagerank = nx.pagerank(G, alpha=0.85)\n",
    "    \n",
    "    # Create a DataFrame\n",
    "    centrality_df = pd.DataFrame({\n",
    "        'id': list(G.nodes()),\n",
    "        'in_degree_centrality': [in_degree_centrality[node] for node in G.nodes()],\n",
    "        'out_degree_centrality': [out_degree_centrality[node] for node in G.nodes()],\n",
    "        'betweenness_centrality': [betweenness_centrality[node] for node in G.nodes()],\n",
    "        'closeness_centrality': [closeness_centrality[node] for node in G.nodes()],\n",
    "        'pagerank': [pagerank[node] for node in G.nodes()]\n",
    "    })\n",
    "    \n",
    "    return centrality_df\n",
    "\n",
    "# Compute centrality scores\n",
    "centrality_df = compute_centrality_scores(G)\n",
    "\n",
    "# Merge centrality scores with the original DataFrame\n",
    "train_df = train_df.merge(centrality_df, on='id')\n",
    "\n",
    "print(\"\\nDataFrame with Centrality Scores:\")\n",
    "print(train_df.head())\n",
    "\n",
    "# -----------------------------------\n",
    "# 4. Detect Communities\n",
    "# -----------------------------------\n",
    "\n",
    "def detect_communities(G):\n",
    "    \"\"\"\n",
    "    Detects communities in the graph using the Louvain Method.\n",
    "    \n",
    "    Parameters:\n",
    "    - G (nx.DiGraph): Directed graph.\n",
    "    \n",
    "    Returns:\n",
    "    - partition (dict): Dictionary mapping node to its community.\n",
    "    \"\"\"\n",
    "    # Convert to undirected graph for community detection\n",
    "    undirected_G = G.to_undirected()\n",
    "    \n",
    "    # Compute the best partition\n",
    "    partition = community_louvain.best_partition(undirected_G)\n",
    "    \n",
    "    return partition\n",
    "\n",
    "# Detect communities\n",
    "partition = detect_communities(G)\n",
    "\n",
    "# Assign community information to the DataFrame\n",
    "train_df['community'] = train_df['id'].map(partition)\n",
    "\n",
    "# Display community assignments\n",
    "print(\"\\nCommunity Assignments:\")\n",
    "print(train_df[['id', 'community']].head())\n",
    "\n",
    "# -----------------------------------\n",
    "# 5. Visualize the Graph\n",
    "# -----------------------------------\n",
    "\n",
    "def visualize_graph(G, partition, centrality_df, plot_type='full'):\n",
    "    \"\"\"\n",
    "    Visualizes the graph with nodes colored by community and sized by centrality.\n",
    "    \n",
    "    Parameters:\n",
    "    - G (nx.DiGraph): Directed graph.\n",
    "    - partition (dict): Dictionary mapping node to its community.\n",
    "    - centrality_df (pd.DataFrame): DataFrame containing centrality scores.\n",
    "    - plot_type (str): 'full' to plot the entire graph, 'largest' to plot the largest community.\n",
    "    \"\"\"\n",
    "    # Define a color palette\n",
    "    num_communities = len(set(partition.values()))\n",
    "    palette = sns.color_palette(\"hsv\", num_communities)\n",
    "    color_map = {comm: palette[i] for i, comm in enumerate(sorted(set(partition.values())))}\n",
    "    \n",
    "    if plot_type == 'full':\n",
    "        nodes = G.nodes()\n",
    "        # Assign colors based on community\n",
    "        node_colors = [color_map[partition[node]] for node in nodes]\n",
    "        # Assign node sizes based on betweenness centrality\n",
    "        node_sizes = [centrality_df.loc[centrality_df['id'] == node, 'betweenness_centrality'].values[0]*1000 for node in nodes]\n",
    "        \n",
    "        # Generate layout\n",
    "        print(\"Generating layout for the full graph...\")\n",
    "        pos = nx.spring_layout(G, k=0.1, iterations=50, seed=42)\n",
    "        \n",
    "        plt.figure(figsize=(20, 15))\n",
    "        nx.draw_networkx_nodes(G, pos,\n",
    "                               node_color=node_colors,\n",
    "                               node_size=node_sizes,\n",
    "                               alpha=0.7,\n",
    "                               linewidths=0.5,\n",
    "                               edgecolors='grey')\n",
    "        \n",
    "        nx.draw_networkx_edges(G, pos,\n",
    "                               alpha=0.1,\n",
    "                               width=0.5)\n",
    "        \n",
    "        plt.title('Employee Recommendation Network with Communities')\n",
    "        plt.axis('off')\n",
    "        \n",
    "        # Create a legend for communities\n",
    "        for comm, color in color_map.items():\n",
    "            plt.scatter([], [], c=[color], label=f'Community {comm}')\n",
    "        \n",
    "        plt.legend(scatterpoints=1, frameon=False, labelspacing=1, loc='upper right', title='Communities')\n",
    "        plt.show()\n",
    "    \n",
    "    elif plot_type == 'largest':\n",
    "        # Identify the largest community\n",
    "        community_counts = pd.Series(partition).value_counts()\n",
    "        largest_comm = community_counts.idxmax()\n",
    "        print(f\"\\nLargest Community: {largest_comm} with {community_counts.max()} candidates\")\n",
    "        \n",
    "        # Extract nodes in the largest community\n",
    "        nodes_in_largest_comm = [node for node, comm in partition.items() if comm == largest_comm]\n",
    "        \n",
    "        # Create a subgraph\n",
    "        subgraph = G.subgraph(nodes_in_largest_comm)\n",
    "        \n",
    "        # Assign colors and sizes\n",
    "        sub_node_colors = [color_map[partition[node]] for node in subgraph.nodes()]\n",
    "        sub_node_sizes = [centrality_df.loc[centrality_df['id'] == node, 'betweenness_centrality'].values[0]*1000 for node in subgraph.nodes()]\n",
    "        \n",
    "        # Generate layout\n",
    "        print(\"Generating layout for the largest community...\")\n",
    "        pos_sub = nx.spring_layout(subgraph, k=0.15, iterations=50, seed=42)\n",
    "        \n",
    "        plt.figure(figsize=(15, 10))\n",
    "        nx.draw_networkx_nodes(subgraph, pos_sub,\n",
    "                               node_color=sub_node_colors,\n",
    "                               node_size=sub_node_sizes,\n",
    "                               alpha=0.8,\n",
    "                               linewidths=0.5,\n",
    "                               edgecolors='grey')\n",
    "        \n",
    "        nx.draw_networkx_edges(subgraph, pos_sub,\n",
    "                               alpha=0.2,\n",
    "                               width=0.5)\n",
    "        \n",
    "        plt.title(f'Largest Community (Community {largest_comm}) Recommendation Network')\n",
    "        plt.axis('off')\n",
    "        plt.show()\n",
    "\n",
    "# Visualize the full graph (can be cluttered for 1000 nodes)\n",
    "# Uncomment the following line to plot the full graph\n",
    "# visualize_graph(G, partition, centrality_df, plot_type='full')\n",
    "\n",
    "# Visualize the largest community\n",
    "visualize_graph(G, partition, centrality_df, plot_type='largest')\n",
    "\n",
    "# -----------------------------------\n",
    "# 6. Save the Results\n",
    "# -----------------------------------\n",
    "\n",
    "def save_updated_dataframe(df, filename='train_updated.csv'):\n",
    "    \"\"\"\n",
    "    Saves the updated DataFrame with centrality and community scores to a CSV file.\n",
    "    \n",
    "    Parameters:\n",
    "    - df (pd.DataFrame): Updated DataFrame.\n",
    "    - filename (str): Name of the output CSV file.\n",
    "    \"\"\"\n",
    "    df.to_csv(filename, index=False)\n",
    "    print(f\"\\nUpdated DataFrame saved to '{filename}'\")\n",
    "\n",
    "# Save the updated DataFrame\n",
    "save_updated_dataframe(train_df, filename='train_updated.csv')\n",
    "\n",
    "# Optionally, save similarity scores if needed\n",
    "def save_similarity_scores(similarity_df, filename='similarity_scores.csv'):\n",
    "    \"\"\"\n",
    "    Saves the similarity scores DataFrame to a CSV file.\n",
    "    \n",
    "    Parameters:\n",
    "    - similarity_df (pd.DataFrame): DataFrame containing similarity scores.\n",
    "    - filename (str): Name of the output CSV file.\n",
    "    \"\"\"\n",
    "    similarity_df.to_csv(filename, index=False)\n",
    "    print(f\"Similarity scores saved to '{filename}'\")\n",
    "\n",
    "# Uncomment the following line to save similarity scores\n",
    "# save_similarity_scores(similarity_df, filename='similarity_scores.csv')\n",
    "\n",
    "# -----------------------------------\n",
    "# End of Script\n",
    "# -----------------------------------"
   ]
  }
 ],
 "metadata": {
  "kernelspec": {
   "display_name": "enviro1",
   "language": "python",
   "name": "python3"
  },
  "language_info": {
   "codemirror_mode": {
    "name": "ipython",
    "version": 3
   },
   "file_extension": ".py",
   "mimetype": "text/x-python",
   "name": "python",
   "nbconvert_exporter": "python",
   "pygments_lexer": "ipython3",
   "version": "3.9.2"
  }
 },
 "nbformat": 4,
 "nbformat_minor": 2
}
